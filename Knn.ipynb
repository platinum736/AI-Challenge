{
 "cells": [
  {
   "cell_type": "code",
   "execution_count": 71,
   "metadata": {},
   "outputs": [],
   "source": [
    "import os\n",
    "import pandas as pd\n",
    "import numpy as np\n",
    "from sklearn.model_selection import RandomizedSearchCV, GridSearchCV\n",
    "from sklearn.metrics import log_loss\n",
    "from sklearn.model_selection import StratifiedKFold\n",
    "from xgboost import XGBClassifier\n",
    "from bayes_opt import BayesianOptimization\n",
    "from sklearn.cross_validation import cross_val_score, StratifiedKFold, StratifiedShuffleSplit\n",
    "from sklearn.metrics import log_loss, matthews_corrcoef, roc_auc_score\n",
    "from sklearn.neighbors import NearestNeighbors\n",
    "from sklearn.model_selection import train_test_split\n",
    "from sklearn.neighbors import KNeighborsClassifier\n",
    "from sklearn.metrics import accuracy_score"
   ]
  },
  {
   "cell_type": "code",
   "execution_count": 72,
   "metadata": {},
   "outputs": [],
   "source": [
    "os.chdir('/aichallenge')"
   ]
  },
  {
   "cell_type": "code",
   "execution_count": 73,
   "metadata": {},
   "outputs": [
    {
     "name": "stderr",
     "output_type": "stream",
     "text": [
      "Exception ignored in: <bound method DMatrix.__del__ of <xgboost.core.DMatrix object at 0x7fadf83f13c8>>\n",
      "Traceback (most recent call last):\n",
      "  File \"/usr/lib/python3.6/site-packages/xgboost-0.7-py3.6.egg/xgboost/core.py\", line 366, in __del__\n",
      "    if self.handle is not None:\n",
      "AttributeError: 'DMatrix' object has no attribute 'handle'\n",
      "Exception ignored in: <bound method DMatrix.__del__ of <xgboost.core.DMatrix object at 0x7fade32e7c18>>\n",
      "Traceback (most recent call last):\n",
      "  File \"/usr/lib/python3.6/site-packages/xgboost-0.7-py3.6.egg/xgboost/core.py\", line 366, in __del__\n",
      "    if self.handle is not None:\n",
      "AttributeError: 'DMatrix' object has no attribute 'handle'\n",
      "/usr/lib/python3.6/site-packages/IPython/core/interactiveshell.py:2728: DtypeWarning: Columns (6,16,17,26,40,41,49,53,97,98,99,100,104,107,109,112,127,128,129,130,220,221,222) have mixed types. Specify dtype option on import or set low_memory=False.\n",
      "  interactivity=interactivity, compiler=compiler, result=result)\n",
      "/usr/lib/python3.6/site-packages/IPython/core/interactiveshell.py:2728: DtypeWarning: Columns (6,16,17,26,40,41,49,53,54,55,100,104,107,109,112,127,128,129,130,153,171,220,221,222,225,226,227) have mixed types. Specify dtype option on import or set low_memory=False.\n",
      "  interactivity=interactivity, compiler=compiler, result=result)\n"
     ]
    },
    {
     "name": "stdout",
     "output_type": "stream",
     "text": [
      "152.67506909370422\n"
     ]
    }
   ],
   "source": [
    "import time\n",
    "t1=time.time()\n",
    "train = pd.read_table('challengeData.tsv')\n",
    "test = pd.read_table('scoring_set.tsv')\n",
    "t2=time.time()\n",
    "print(t2-t1)"
   ]
  },
  {
   "cell_type": "code",
   "execution_count": 74,
   "metadata": {},
   "outputs": [
    {
     "name": "stdout",
     "output_type": "stream",
     "text": [
      "0.0017349720001220703\n"
     ]
    }
   ],
   "source": [
    "#remove data set name from columns names to make it uniform\n",
    "t1=time.time()\n",
    "columns=[]\n",
    "for col in train.columns:\n",
    "    columns.append(col.replace('challenge_data.',''))\n",
    "train.columns=columns\n",
    "columns=[]\n",
    "for col in test.columns:\n",
    "    columns.append(col.replace('scoring_set.',''))\n",
    "test.columns=columns\n",
    "t2=time.time()\n",
    "print(t2-t1)"
   ]
  },
  {
   "cell_type": "code",
   "execution_count": 76,
   "metadata": {},
   "outputs": [
    {
     "name": "stdout",
     "output_type": "stream",
     "text": [
      "0.5793604850769043\n"
     ]
    }
   ],
   "source": [
    "#remove the rows where 'challenge_data.renewed_yorn' is null in training data\n",
    "t1=time.time()\n",
    "train=train[train['renewed_yorn'].notnull()]\n",
    "t2=time.time()\n",
    "print(t2-t1)"
   ]
  },
  {
   "cell_type": "code",
   "execution_count": 78,
   "metadata": {},
   "outputs": [
    {
     "data": {
      "text/plain": [
       "(1888195, 237)"
      ]
     },
     "execution_count": 78,
     "metadata": {},
     "output_type": "execute_result"
    }
   ],
   "source": [
    "test.shape"
   ]
  },
  {
   "cell_type": "code",
   "execution_count": 47,
   "metadata": {},
   "outputs": [
    {
     "name": "stdout",
     "output_type": "stream",
     "text": [
      "4.293514966964722\n"
     ]
    }
   ],
   "source": [
    "#remove the 'challenge_data.renewed_yorn' from training and test data and move it to a seperate variable\n",
    "t1=time.time()\n",
    "train_y=train['renewed_yorn']\n",
    "train = train.drop(['renewed_yorn','zip_code'],axis=1)\n",
    "test_y=test['renewed_yorn']\n",
    "test = test.drop(['renewed_yorn','zip_code'],axis=1)\n",
    "t2=time.time()\n",
    "print(t2-t1)"
   ]
  },
  {
   "cell_type": "code",
   "execution_count": 7,
   "metadata": {},
   "outputs": [
    {
     "name": "stdout",
     "output_type": "stream",
     "text": [
      "46.40937829017639\n"
     ]
    }
   ],
   "source": [
    "#remove columns which have any null values\n",
    "t1=time.time()\n",
    "percent = (test.isnull().sum()/test.isnull().count())\n",
    "#We would ignore all these 102 columns so we are left with 135 columns\n",
    "#all_clean_columns=train.columns[percent==0]\n",
    "#train_clean=train[all_clean_columns]\n",
    "unclean_columns=test.columns[percent>0.5]\n",
    "clean_columns=test.columns[percent==0]\n",
    "train = train.drop(unclean_columns,axis=1)\n",
    "test = test.drop(unclean_columns,axis=1)\n",
    "t2=time.time()\n",
    "print(t2-t1)"
   ]
  },
  {
   "cell_type": "code",
   "execution_count": 8,
   "metadata": {},
   "outputs": [],
   "source": [
    "t1=time.time()\n",
    "percent = (test.isnull().sum()/test.isnull().count())\n",
    "target_columns=test.columns[percent>0]\n",
    "train_missing=train[target_columns]\n",
    "test_missing=test[target_columns]\n",
    "train = train.drop(target_columns,axis=1)\n",
    "test = test.drop(target_columns,axis=1)"
   ]
  },
  {
   "cell_type": "code",
   "execution_count": 9,
   "metadata": {},
   "outputs": [
    {
     "data": {
      "text/plain": [
       "36"
      ]
     },
     "execution_count": 9,
     "metadata": {},
     "output_type": "execute_result"
    }
   ],
   "source": [
    "len(unclean_columns)"
   ]
  },
  {
   "cell_type": "code",
   "execution_count": 10,
   "metadata": {},
   "outputs": [
    {
     "data": {
      "text/plain": [
       "133"
      ]
     },
     "execution_count": 10,
     "metadata": {},
     "output_type": "execute_result"
    }
   ],
   "source": [
    "len(clean_columns)"
   ]
  },
  {
   "cell_type": "code",
   "execution_count": 11,
   "metadata": {},
   "outputs": [
    {
     "data": {
      "text/plain": [
       "66"
      ]
     },
     "execution_count": 11,
     "metadata": {},
     "output_type": "execute_result"
    }
   ],
   "source": [
    "len(target_columns)"
   ]
  },
  {
   "cell_type": "code",
   "execution_count": 12,
   "metadata": {},
   "outputs": [
    {
     "name": "stdout",
     "output_type": "stream",
     "text": [
      "1.7251176834106445\n"
     ]
    }
   ],
   "source": [
    "#Remove columns which have too many categories and is string type\n",
    "t1=time.time()\n",
    "messy_columns = []\n",
    "for col in target_columns:\n",
    "    if(train_missing[col].dtype=='O' and len(train_missing[col].unique())>=10):\n",
    "        messy_columns.append(col)\n",
    "t2=time.time()\n",
    "print(t2-t1)"
   ]
  },
  {
   "cell_type": "code",
   "execution_count": 13,
   "metadata": {},
   "outputs": [
    {
     "data": {
      "text/plain": [
       "25"
      ]
     },
     "execution_count": 13,
     "metadata": {},
     "output_type": "execute_result"
    }
   ],
   "source": [
    "# 56 messy columns are removed\n",
    "len(messy_columns)"
   ]
  },
  {
   "cell_type": "code",
   "execution_count": 14,
   "metadata": {},
   "outputs": [
    {
     "name": "stdout",
     "output_type": "stream",
     "text": [
      "0.9124603271484375\n"
     ]
    }
   ],
   "source": [
    "t1=time.time()\n",
    "train_missing=train_missing.drop(messy_columns,axis=1)\n",
    "test_missing=test_missing.drop(messy_columns,axis=1)\n",
    "target_columns = train_missing.columns\n",
    "t2=time.time()\n",
    "print(t2-t1)"
   ]
  },
  {
   "cell_type": "code",
   "execution_count": 15,
   "metadata": {},
   "outputs": [
    {
     "name": "stdout",
     "output_type": "stream",
     "text": [
      "1.6354084014892578\n"
     ]
    }
   ],
   "source": [
    "#Remove columns which have too many categories and is string type\n",
    "t1=time.time()\n",
    "messy_columns = []\n",
    "for col in train.columns:\n",
    "    if(train[col].dtype=='O' and len(train[col].unique())>=10):\n",
    "        messy_columns.append(col)\n",
    "t2=time.time()\n",
    "print(t2-t1)"
   ]
  },
  {
   "cell_type": "code",
   "execution_count": 16,
   "metadata": {},
   "outputs": [
    {
     "data": {
      "text/plain": [
       "61"
      ]
     },
     "execution_count": 16,
     "metadata": {},
     "output_type": "execute_result"
    }
   ],
   "source": [
    "len(messy_columns)"
   ]
  },
  {
   "cell_type": "code",
   "execution_count": 17,
   "metadata": {},
   "outputs": [
    {
     "name": "stdout",
     "output_type": "stream",
     "text": [
      "1.9936518669128418\n"
     ]
    }
   ],
   "source": [
    "t1=time.time()\n",
    "train=train.drop(messy_columns,axis=1)\n",
    "test=test.drop(messy_columns,axis=1)\n",
    "t2=time.time()\n",
    "print(t2-t1)"
   ]
  },
  {
   "cell_type": "code",
   "execution_count": 18,
   "metadata": {},
   "outputs": [
    {
     "data": {
      "text/plain": [
       "(226140, 72)"
      ]
     },
     "execution_count": 18,
     "metadata": {},
     "output_type": "execute_result"
    }
   ],
   "source": [
    "train.shape"
   ]
  },
  {
   "cell_type": "code",
   "execution_count": 19,
   "metadata": {},
   "outputs": [
    {
     "data": {
      "text/plain": [
       "(226140, 41)"
      ]
     },
     "execution_count": 19,
     "metadata": {},
     "output_type": "execute_result"
    }
   ],
   "source": [
    "train_missing.shape"
   ]
  },
  {
   "cell_type": "code",
   "execution_count": 20,
   "metadata": {},
   "outputs": [
    {
     "name": "stdout",
     "output_type": "stream",
     "text": [
      "1.2465553283691406\n"
     ]
    }
   ],
   "source": [
    "#Remove the primary key column for data fitting\n",
    "t1=time.time()\n",
    "test_ids=test['innovation_challenge_key']\n",
    "train = train.drop('innovation_challenge_key',axis=1)\n",
    "test = test.drop('innovation_challenge_key',axis=1)\n",
    "t2=time.time()\n",
    "print(t2-t1)"
   ]
  },
  {
   "cell_type": "code",
   "execution_count": 21,
   "metadata": {},
   "outputs": [
    {
     "name": "stdout",
     "output_type": "stream",
     "text": [
      "0.012174367904663086\n"
     ]
    }
   ],
   "source": [
    "#Number of unique values in each columns\n",
    "t1=time.time()\n",
    "catcols=[]\n",
    "scalcols=[]\n",
    "for col in train.columns:\n",
    "    if (train[col].dtype !='object'):\n",
    "        if(len(train[col].unique())<=10):\n",
    "            catcols.append(col)\n",
    "        else:\n",
    "            scalcols.append(col)\n",
    "t2=time.time()\n",
    "print(t2-t1)"
   ]
  },
  {
   "cell_type": "code",
   "execution_count": 22,
   "metadata": {},
   "outputs": [
    {
     "data": {
      "text/plain": [
       "['contract_line_net_usd_amount', 'product_net_price']"
      ]
     },
     "execution_count": 22,
     "metadata": {},
     "output_type": "execute_result"
    }
   ],
   "source": [
    "scalcols"
   ]
  },
  {
   "cell_type": "code",
   "execution_count": 23,
   "metadata": {},
   "outputs": [
    {
     "data": {
      "text/plain": [
       "['product_transaction_type',\n",
       " 'contract_line_reaction_time_code',\n",
       " 'sales_hierarchy_level',\n",
       " 'service_sales_node_base_sales_hierarchy_level']"
      ]
     },
     "execution_count": 23,
     "metadata": {},
     "output_type": "execute_result"
    }
   ],
   "source": [
    "catcols"
   ]
  },
  {
   "cell_type": "code",
   "execution_count": 24,
   "metadata": {},
   "outputs": [
    {
     "name": "stdout",
     "output_type": "stream",
     "text": [
      "0.15871429443359375\n"
     ]
    }
   ],
   "source": [
    "#handle catcols\n",
    "t1=time.time()\n",
    "for col in catcols:\n",
    "    train[col]=train[col].astype('category')\n",
    "    test[col]=test[col].astype('category')\n",
    "t2=time.time()\n",
    "print(t2-t1)"
   ]
  },
  {
   "cell_type": "code",
   "execution_count": 25,
   "metadata": {},
   "outputs": [
    {
     "name": "stdout",
     "output_type": "stream",
     "text": [
      "0.6020236015319824\n"
     ]
    }
   ],
   "source": [
    "#Normalize integer data\n",
    "t1=time.time()\n",
    "from sklearn.preprocessing import StandardScaler\n",
    "scaler = StandardScaler()\n",
    "scaler = scaler.fit(train[scalcols])\n",
    "train[scalcols] = scaler.transform(train[scalcols])\n",
    "scaler = scaler.fit(test[scalcols])\n",
    "test[scalcols] = scaler.transform(test[scalcols])\n",
    "t2=time.time()\n",
    "print(t2-t1)"
   ]
  },
  {
   "cell_type": "code",
   "execution_count": 26,
   "metadata": {},
   "outputs": [
    {
     "data": {
      "text/html": [
       "<div>\n",
       "<style scoped>\n",
       "    .dataframe tbody tr th:only-of-type {\n",
       "        vertical-align: middle;\n",
       "    }\n",
       "\n",
       "    .dataframe tbody tr th {\n",
       "        vertical-align: top;\n",
       "    }\n",
       "\n",
       "    .dataframe thead th {\n",
       "        text-align: right;\n",
       "    }\n",
       "</style>\n",
       "<table border=\"1\" class=\"dataframe\">\n",
       "  <thead>\n",
       "    <tr style=\"text-align: right;\">\n",
       "      <th></th>\n",
       "      <th>contract_line_net_usd_amount</th>\n",
       "      <th>product_net_price</th>\n",
       "    </tr>\n",
       "  </thead>\n",
       "  <tbody>\n",
       "    <tr>\n",
       "      <th>count</th>\n",
       "      <td>2.261400e+05</td>\n",
       "      <td>2.261400e+05</td>\n",
       "    </tr>\n",
       "    <tr>\n",
       "      <th>mean</th>\n",
       "      <td>1.005455e-17</td>\n",
       "      <td>1.206546e-17</td>\n",
       "    </tr>\n",
       "    <tr>\n",
       "      <th>std</th>\n",
       "      <td>1.000002e+00</td>\n",
       "      <td>1.000002e+00</td>\n",
       "    </tr>\n",
       "    <tr>\n",
       "      <th>min</th>\n",
       "      <td>-1.252316e-01</td>\n",
       "      <td>-2.321716e-01</td>\n",
       "    </tr>\n",
       "    <tr>\n",
       "      <th>25%</th>\n",
       "      <td>-1.252316e-01</td>\n",
       "      <td>-2.321716e-01</td>\n",
       "    </tr>\n",
       "    <tr>\n",
       "      <th>50%</th>\n",
       "      <td>-1.252316e-01</td>\n",
       "      <td>-2.321716e-01</td>\n",
       "    </tr>\n",
       "    <tr>\n",
       "      <th>75%</th>\n",
       "      <td>-1.252316e-01</td>\n",
       "      <td>-1.584198e-01</td>\n",
       "    </tr>\n",
       "    <tr>\n",
       "      <th>max</th>\n",
       "      <td>7.774224e+01</td>\n",
       "      <td>6.648806e+01</td>\n",
       "    </tr>\n",
       "  </tbody>\n",
       "</table>\n",
       "</div>"
      ],
      "text/plain": [
       "       contract_line_net_usd_amount  product_net_price\n",
       "count                  2.261400e+05       2.261400e+05\n",
       "mean                   1.005455e-17       1.206546e-17\n",
       "std                    1.000002e+00       1.000002e+00\n",
       "min                   -1.252316e-01      -2.321716e-01\n",
       "25%                   -1.252316e-01      -2.321716e-01\n",
       "50%                   -1.252316e-01      -2.321716e-01\n",
       "75%                   -1.252316e-01      -1.584198e-01\n",
       "max                    7.774224e+01       6.648806e+01"
      ]
     },
     "execution_count": 26,
     "metadata": {},
     "output_type": "execute_result"
    }
   ],
   "source": [
    "train[scalcols].describe()"
   ]
  },
  {
   "cell_type": "code",
   "execution_count": 27,
   "metadata": {},
   "outputs": [
    {
     "data": {
      "text/plain": [
       "74"
      ]
     },
     "execution_count": 27,
     "metadata": {},
     "output_type": "execute_result"
    }
   ],
   "source": [
    "import gc\n",
    "gc.collect()"
   ]
  },
  {
   "cell_type": "code",
   "execution_count": 28,
   "metadata": {},
   "outputs": [
    {
     "name": "stdout",
     "output_type": "stream",
     "text": [
      "11.84855031967163\n"
     ]
    }
   ],
   "source": [
    "t1=time.time()\n",
    "train_objs_num = len(train)\n",
    "dataset = pd.get_dummies(pd.concat(objs=[train, test], axis=0))\n",
    "train = dataset[:train_objs_num]\n",
    "test = dataset[train_objs_num:]\n",
    "t2=time.time()\n",
    "print(t2-t1)"
   ]
  },
  {
   "cell_type": "code",
   "execution_count": 29,
   "metadata": {},
   "outputs": [
    {
     "data": {
      "text/plain": [
       "False"
      ]
     },
     "execution_count": 29,
     "metadata": {},
     "output_type": "execute_result"
    }
   ],
   "source": [
    "#check data quality now\n",
    "dataset.isnull().any().any()"
   ]
  },
  {
   "cell_type": "code",
   "execution_count": 30,
   "metadata": {},
   "outputs": [
    {
     "data": {
      "text/plain": [
       "(226140, 185)"
      ]
     },
     "execution_count": 30,
     "metadata": {},
     "output_type": "execute_result"
    }
   ],
   "source": [
    "train.shape"
   ]
  },
  {
   "cell_type": "code",
   "execution_count": 31,
   "metadata": {},
   "outputs": [
    {
     "data": {
      "text/plain": [
       "(1888195, 185)"
      ]
     },
     "execution_count": 31,
     "metadata": {},
     "output_type": "execute_result"
    }
   ],
   "source": [
    "test.shape"
   ]
  },
  {
   "cell_type": "code",
   "execution_count": 34,
   "metadata": {},
   "outputs": [],
   "source": [
    "def impute_nan(current_col):\n",
    "    t1=time.time()\n",
    "    train_test_X_index = train_missing[current_col].isnull()\n",
    "    test_test_X_index = test_missing[current_col].isnull()\n",
    "    train_X_index = train_missing[current_col].notnull()\n",
    "    train_X = train[train_X_index]\n",
    "    train_test_X = train[train_test_X_index]\n",
    "    test_test_X = test[test_test_X_index]\n",
    "    train_y = train_missing[current_col][train_X_index]\n",
    "    train_test_y = train_missing[current_col][train_test_X_index]\n",
    "    test_test_y = test_missing[current_col][test_test_X_index]\n",
    "    X_train, X_valid, y_train, y_valid = train_test_split(train_X,train_y,test_size=0.33, random_state=42)\n",
    "    neigh = KNeighborsClassifier(n_neighbors=3,n_jobs=-1)\n",
    "    neigh.fit(X_train,y_train)\n",
    "    pred = neigh.predict(X_valid)\n",
    "    acc = accuracy_score(pred,y_valid)\n",
    "    print(current_col+':'+str(acc)+':'+str(time.time()-t1))\n",
    "    pred_train =neigh.predict(train_test_X)\n",
    "    print(time.time()-t1)\n",
    "    pred_test = neigh.predict(test_test_X)\n",
    "    print(time.time()-t1)\n",
    "    t2=time.time()\n",
    "    t=t2-t1\n",
    "    return pred_train,pred_test,t,acc"
   ]
  },
  {
   "cell_type": "code",
   "execution_count": 35,
   "metadata": {},
   "outputs": [
    {
     "name": "stdout",
     "output_type": "stream",
     "text": [
      "service_contract_process_type:0.9868785265623337:263.74833059310913\n",
      "1329.9639189243317\n",
      "7004.493754386902\n"
     ]
    },
    {
     "name": "stderr",
     "output_type": "stream",
     "text": [
      "/usr/lib/python3.6/site-packages/ipykernel_launcher.py:9: SettingWithCopyWarning: \n",
      "A value is trying to be set on a copy of a slice from a DataFrame\n",
      "\n",
      "See the caveats in the documentation: http://pandas.pydata.org/pandas-docs/stable/indexing.html#indexing-view-versus-copy\n",
      "  if __name__ == '__main__':\n",
      "/usr/lib/python3.6/site-packages/ipykernel_launcher.py:10: SettingWithCopyWarning: \n",
      "A value is trying to be set on a copy of a slice from a DataFrame\n",
      "\n",
      "See the caveats in the documentation: http://pandas.pydata.org/pandas-docs/stable/indexing.html#indexing-view-versus-copy\n",
      "  # Remove the CWD from sys.path while we load stuff.\n"
     ]
    },
    {
     "name": "stdout",
     "output_type": "stream",
     "text": [
      "product_bookings_measure_transaction_type:0.9407162022394436:440.9980511665344\n",
      "707.4401526451111\n",
      "1628.951546907425\n",
      "product_adjustment_type:0.9407162022394436:455.47243547439575\n",
      "762.8271799087524\n",
      "1709.8757803440094\n",
      "product_channel_bookings_yorn:0.9910247843518406:488.44204330444336\n",
      "780.9261744022369\n",
      "1967.2491106987\n",
      "service_channel_bookings_yorn:0.9941640873205252:573.6198582649231\n",
      "615.7729716300964\n",
      "service_bookings_measure_transaction_type:0.7632092065613112:574.9788434505463\n",
      "617.1755905151367\n",
      "920.2483291625977\n",
      "scms_name:0.999312170103324:482.56986355781555\n",
      "734.0652973651886\n",
      "1705.8272213935852\n",
      "country_type:1.0:433.21938467025757\n",
      "684.4211947917938\n",
      "1664.5458834171295\n",
      "service_product_base_product_family_owner:1.0:315.519344329834\n",
      "739.5633130073547\n",
      "4072.774183034897\n",
      "service_product_base_service_brand_code:0.9810621323233137:618.2608788013458\n",
      "625.5498886108398\n",
      "645.8523187637329\n",
      "status_code:0.9806645794982733:624.5886693000793\n",
      "630.8739910125732\n",
      "720.9757895469666\n",
      "partner_country_registered_type:0.9952702793491259:549.8944585323334\n",
      "555.3992943763733\n",
      "635.3406872749329\n",
      "type_description:0.9822366741464332:552.3185591697693\n",
      "558.2957887649536\n",
      "639.7100825309753\n",
      "partner_tier:0.9933757037474974:635.1338510513306\n",
      "641.2314343452454\n",
      "727.2417063713074\n",
      "certification_description:0.9760826626177391:555.4282999038696\n",
      "561.5741646289825\n",
      "649.3195667266846\n",
      "qualification_type_description:1.0:563.395758152008\n",
      "569.6883385181427\n",
      "657.576824426651\n",
      "disadvantaged_business_yorn:0.9958614944304852:552.9007036685944\n",
      "559.1720418930054\n",
      "645.6865057945251\n",
      "minority_owned_business_yorn:0.9713663786732596:560.7903144359589\n",
      "566.8078670501709\n",
      "652.6741814613342\n",
      "woman_owned_business_yorn:0.870913561667764:503.00736141204834\n",
      "509.0010714530945\n",
      "594.5731468200684\n",
      "business_owner_ethnicity_code:0.9700232868045927:453.07122898101807\n",
      "462.71489906311035\n",
      "551.2269577980042\n",
      "hubzone_small_business_yorn:0.9962780323287156:475.74522280693054\n",
      "481.0366163253784\n",
      "556.2264533042908\n",
      "disabled_veteran_owned_business_yorn:1.0:498.2553732395172\n",
      "503.85335540771484\n",
      "581.1681079864502\n",
      "service_partner_base_status_code:0.9851438684937385:466.591379404068\n",
      "468.3569941520691\n",
      "496.15838146209717\n",
      "service_partner_base_partner_country_registered_type:0.9938859242176397:518.8625946044922\n",
      "520.9894261360168\n",
      "552.1777272224426\n",
      "service_partner_base_type_description:0.9712263012523129:532.101407289505\n",
      "534.2336711883545\n",
      "565.3887820243835\n",
      "service_partner_base_partner_tier:0.9727816363197554:540.0460646152496\n",
      "542.5074756145477\n",
      "574.4437413215637\n",
      "service_partner_base_certification_description:0.9536349253171006:536.8177983760834\n",
      "538.8344902992249\n",
      "570.4554455280304\n",
      "service_partner_base_qualification_type_description:1.0:523.2101402282715\n",
      "525.2893662452698\n",
      "556.1236569881439\n",
      "service_partner_base_disadvantaged_business_yorn:0.9960178059049101:473.4614634513855\n",
      "475.41775703430176\n",
      "504.95929503440857\n",
      "service_partner_base_minority_owned_business_yorn:0.9577109758386743:513.3727972507477\n",
      "515.4839632511139\n",
      "545.9793524742126\n",
      "service_partner_base_woman_owned_business_yorn:0.8662143680780885:470.30344438552856\n",
      "472.22366738319397\n",
      "499.52013182640076\n",
      "service_partner_base_business_owner_ethnicity_code:0.9502908229211546:530.5364143848419\n",
      "541.8795731067657\n",
      "626.4444024562836\n",
      "service_partner_base_hubzone_small_business_yorn:0.9964200477326969:518.0192799568176\n",
      "519.9594097137451\n",
      "550.1312680244446\n",
      "service_partner_base_disabled_veteran_owned_business_yorn:1.0:474.9571621417999\n",
      "476.77916741371155\n",
      "505.30691170692444\n",
      "distributor_normalized_name:1.0:489.8281981945038\n",
      "492.17700147628784\n",
      "528.8978805541992\n",
      "service_distributor_base_distributor_normalized_name:1.0:348.4284596443176\n",
      "719.6274027824402\n",
      "3703.9288444519043\n",
      "sales_node_renewal_rate:0.4443183046815872:33.28531622886658\n",
      "451.3438878059387\n",
      "1571.7060568332672\n",
      "partner_renewal_rate:0.47942942337913524:63.922688007354736\n",
      "548.5783834457397\n",
      "1235.1342177391052\n",
      "product_renewal_rate:0.41174901646996065:16.731770277023315\n",
      "318.6658236980438\n",
      "1697.0461556911469\n",
      "service_sales_node_installed_base_sales_node_renewal_rate:0.48838194787767497:89.21567153930664\n",
      "646.7742278575897\n",
      "712.3361194133759\n",
      "service_partner_installed_base_partner_renewal_rate:0.4312264943221236:76.14258527755737\n",
      "584.8881342411041\n",
      "826.2372949123383\n"
     ]
    }
   ],
   "source": [
    "accuracy=[]\n",
    "time_taken=[]\n",
    "for col in target_columns:\n",
    "    train_y,test_y,time_,acc = impute_nan(col)\n",
    "    accuracy.append(acc)\n",
    "    time_taken.append(time_)\n",
    "    train_test_X_index = train_missing[col].isnull()\n",
    "    test_test_X_index = test_missing[col].isnull()\n",
    "    train_missing[col][train_test_X_index]=train_y\n",
    "    test_missing[col][test_test_X_index]=test_y\n",
    "    gc.collect()"
   ]
  },
  {
   "cell_type": "code",
   "execution_count": 36,
   "metadata": {},
   "outputs": [
    {
     "name": "stdout",
     "output_type": "stream",
     "text": [
      "False\n",
      "False\n"
     ]
    }
   ],
   "source": [
    "print(train_missing.isnull().any().any())\n",
    "print(test_missing.isnull().any().any())"
   ]
  },
  {
   "cell_type": "code",
   "execution_count": 37,
   "metadata": {},
   "outputs": [],
   "source": [
    "train_missing.to_csv('train_imputed.csv')\n",
    "test_missing.to_csv('test_imputed.csv')"
   ]
  },
  {
   "cell_type": "code",
   "execution_count": 50,
   "metadata": {},
   "outputs": [],
   "source": [
    "def XGB_CV(\n",
    "          max_depth,\n",
    "          gamma,\n",
    "          min_child_weight,\n",
    "          max_delta_step,\n",
    "          subsample,\n",
    "          colsample_bytree\n",
    "         ):\n",
    "    global AUCbest\n",
    "    global ITERbest\n",
    "\n",
    "#\n",
    "# Define all XGboost parameters\n",
    "#\n",
    "\n",
    "    paramt = {\n",
    "        'booster' : 'gbtree',\n",
    "        'max_depth' : int(max_depth),\n",
    "        'gamma' : gamma,\n",
    "        'eta' : 0.1,\n",
    "        'objective' : 'binary:logistic',\n",
    "        'nthread' : 4,\n",
    "        'silent' : True,\n",
    "        'eval_metric': 'logloss',\n",
    "        'subsample' : max(min(subsample, 1), 0),\n",
    "        'colsample_bytree' : max(min(colsample_bytree, 1), 0),\n",
    "        'min_child_weight' : min_child_weight,\n",
    "        'max_delta_step' : int(max_delta_step),\n",
    "        'seed' : 1001\n",
    "        }\n",
    "\n",
    "    folds = 5\n",
    "    cv_score = 0\n",
    "\n",
    "    xgbc = xgb.cv(\n",
    "                    paramt,\n",
    "                    dtrain,\n",
    "                    num_boost_round = 500,\n",
    "                    stratified = True,\n",
    "                    nfold = folds,\n",
    "#                    verbose_eval = 10,\n",
    "                    early_stopping_rounds = 20,\n",
    "                    metrics = 'logloss',\n",
    "                    show_stdv = True\n",
    "               )\n",
    "\n",
    "    val_score = xgbc['test-logloss-mean'].iloc[-1]\n",
    "    train_score = xgbc['train-logloss-mean'].iloc[-1]\n",
    "    print(' Stopped after %d iterations with train-auc = %f val-auc = %f ( diff = %f ) train-gini = %f val-gini = %f' % ( len(xgbc), train_score, val_score, (train_score - val_score), (train_score*2-1),\n",
    "    (val_score*2-1)) )\n",
    "    if ( val_score > AUCbest ):\n",
    "        AUCbest = val_score\n",
    "        ITERbest = len(xgbc)\n",
    "    return (val_score*2) - 1"
   ]
  },
  {
   "cell_type": "code",
   "execution_count": 53,
   "metadata": {},
   "outputs": [],
   "source": [
    "train_objs_num = len(train_missing)\n",
    "dataset = pd.concat(objs=[train_missing, test_missing], axis=0)\n",
    "dataset = pd.get_dummies(dataset)\n",
    "train_m = dataset[:train_objs_num]\n",
    "test_m = dataset[train_objs_num:]"
   ]
  },
  {
   "cell_type": "code",
   "execution_count": 59,
   "metadata": {},
   "outputs": [
    {
     "name": "stderr",
     "output_type": "stream",
     "text": [
      "Exception ignored in: <bound method DMatrix.__del__ of <xgboost.core.DMatrix object at 0x7fadf83f14e0>>\n",
      "Traceback (most recent call last):\n",
      "  File \"/usr/lib/python3.6/site-packages/xgboost-0.7-py3.6.egg/xgboost/core.py\", line 366, in __del__\n",
      "    if self.handle is not None:\n",
      "AttributeError: 'DMatrix' object has no attribute 'handle'\n"
     ]
    }
   ],
   "source": [
    "X_train, X_valid, y_train, y_valid = train_test_split(train_m,train_y,test_size=0.33, random_state=42)"
   ]
  },
  {
   "cell_type": "code",
   "execution_count": 60,
   "metadata": {},
   "outputs": [
    {
     "data": {
      "text/plain": [
       "227682    Y\n",
       "120974    N\n",
       "48142     Y\n",
       "36978     N\n",
       "124715    N\n",
       "Name: renewed_yorn, dtype: object"
      ]
     },
     "execution_count": 60,
     "metadata": {},
     "output_type": "execute_result"
    }
   ],
   "source": [
    "y_train.head()"
   ]
  },
  {
   "cell_type": "code",
   "execution_count": 61,
   "metadata": {},
   "outputs": [],
   "source": [
    "import xgboost as xgb\n",
    "log_file = open('Porto-AUC-5fold-XGB-run-01-v1-full1.log', 'a')\n",
    "AUCbest = -1.\n",
    "ITERbest = 0\n",
    "y_dtrain=pd.get_dummies(y_train)\n",
    "dtrain = xgb.DMatrix(X_train, label = y_dtrain['Y'])"
   ]
  },
  {
   "cell_type": "code",
   "execution_count": 62,
   "metadata": {},
   "outputs": [],
   "source": [
    "from bayes_opt import BayesianOptimization\n",
    "XGB_BO = BayesianOptimization(XGB_CV, {\n",
    "                                     'max_depth': (2, 12),\n",
    "                                     'gamma': (0.001, 50.0),\n",
    "                                     'min_child_weight': (0, 20),\n",
    "                                     'max_delta_step': (0, 10),\n",
    "                                     'subsample': (0.4, 1.0),\n",
    "                                     'colsample_bytree' :(0.4, 1.0)\n",
    "                                    })"
   ]
  },
  {
   "cell_type": "code",
   "execution_count": 63,
   "metadata": {},
   "outputs": [],
   "source": [
    "XGB_BO.explore({\n",
    "              'max_depth':            [3, 8, 3, 8, 8, 3, 8, 3,5,3],\n",
    "              'gamma':                [0.5, 8, 0.2, 9, 0.5, 8, 0.2, 9,25,50],\n",
    "              'min_child_weight':     [0.2, 0.2, 0.2, 0.2, 12, 12, 12, 12,5,8],\n",
    "              'max_delta_step':       [1, 2, 2, 1, 2, 1, 1, 2,1,2],\n",
    "              'subsample':            [0.6, 0.8, 0.6, 0.8, 0.6, 0.8, 0.6, 0.8,0.8,0.8],\n",
    "              'colsample_bytree':     [0.6, 0.8, 0.6, 0.8, 0.6, 0.8, 0.6, 0.8,0.8,0.8],\n",
    "              })"
   ]
  },
  {
   "cell_type": "code",
   "execution_count": 64,
   "metadata": {},
   "outputs": [
    {
     "name": "stdout",
     "output_type": "stream",
     "text": [
      "----------------------------------------------------------------------------------------------------------------------------------\n",
      "\u001b[31mInitialization\u001b[0m\n",
      "\u001b[94m----------------------------------------------------------------------------------------------------------------------------------\u001b[0m\n",
      " Step |   Time |      Value |   colsample_bytree |     gamma |   max_delta_step |   max_depth |   min_child_weight |   subsample | \n",
      " Stopped after 500 iterations with train-auc = 0.525818 val-auc = 0.531186 ( diff = -0.005368 ) train-gini = 0.051637 val-gini = 0.062372\n",
      "    1 | 02m33s | \u001b[35m   0.06237\u001b[0m | \u001b[32m            0.6000\u001b[0m | \u001b[32m   0.5000\u001b[0m | \u001b[32m          1.0000\u001b[0m | \u001b[32m     3.0000\u001b[0m | \u001b[32m            0.2000\u001b[0m | \u001b[32m     0.6000\u001b[0m | \n",
      " Stopped after 500 iterations with train-auc = 0.404149 val-auc = 0.431698 ( diff = -0.027548 ) train-gini = -0.191702 val-gini = -0.136605\n",
      "    2 | 06m32s |   -0.13660 |             0.8000 |    8.0000 |           2.0000 |      8.0000 |             0.2000 |      0.8000 | \n",
      " Stopped after 500 iterations with train-auc = 0.523091 val-auc = 0.528836 ( diff = -0.005746 ) train-gini = 0.046181 val-gini = 0.057673\n",
      "    3 | 02m31s |    0.05767 |             0.6000 |    0.2000 |           2.0000 |      3.0000 |             0.2000 |      0.6000 | \n",
      " Stopped after 500 iterations with train-auc = 0.415572 val-auc = 0.440702 ( diff = -0.025130 ) train-gini = -0.168857 val-gini = -0.118596\n",
      "    4 | 06m34s |   -0.11860 |             0.8000 |    9.0000 |           1.0000 |      8.0000 |             0.2000 |      0.8000 | \n",
      " Stopped after 500 iterations with train-auc = 0.386022 val-auc = 0.421371 ( diff = -0.035349 ) train-gini = -0.227956 val-gini = -0.157257\n",
      "    5 | 05m59s |   -0.15726 |             0.6000 |    0.5000 |           2.0000 |      8.0000 |            12.0000 |      0.6000 | \n",
      " Stopped after 500 iterations with train-auc = 0.526553 val-auc = 0.531925 ( diff = -0.005372 ) train-gini = 0.053106 val-gini = 0.063851\n",
      "    6 | 02m44s | \u001b[35m   0.06385\u001b[0m | \u001b[32m            0.8000\u001b[0m | \u001b[32m   8.0000\u001b[0m | \u001b[32m          1.0000\u001b[0m | \u001b[32m     3.0000\u001b[0m | \u001b[32m           12.0000\u001b[0m | \u001b[32m     0.8000\u001b[0m | \n",
      " Stopped after 500 iterations with train-auc = 0.387045 val-auc = 0.422317 ( diff = -0.035272 ) train-gini = -0.225910 val-gini = -0.155366\n",
      "    7 | 05m58s |   -0.15537 |             0.6000 |    0.2000 |           1.0000 |      8.0000 |            12.0000 |      0.6000 | \n",
      " Stopped after 500 iterations with train-auc = 0.525299 val-auc = 0.530897 ( diff = -0.005598 ) train-gini = 0.050597 val-gini = 0.061794\n",
      "    8 | 02m40s |    0.06179 |             0.8000 |    9.0000 |           2.0000 |      3.0000 |            12.0000 |      0.8000 | \n",
      " Stopped after 500 iterations with train-auc = 0.511348 val-auc = 0.518093 ( diff = -0.006745 ) train-gini = 0.022696 val-gini = 0.036187\n",
      "    9 | 04m00s |    0.03619 |             0.8000 |   25.0000 |           1.0000 |      5.0000 |             5.0000 |      0.8000 | \n",
      " Stopped after 500 iterations with train-auc = 0.564844 val-auc = 0.566207 ( diff = -0.001363 ) train-gini = 0.129688 val-gini = 0.132414\n",
      "   10 | 02m35s | \u001b[35m   0.13241\u001b[0m | \u001b[32m            0.8000\u001b[0m | \u001b[32m  50.0000\u001b[0m | \u001b[32m          2.0000\u001b[0m | \u001b[32m     3.0000\u001b[0m | \u001b[32m            8.0000\u001b[0m | \u001b[32m     0.8000\u001b[0m | \n",
      " Stopped after 500 iterations with train-auc = 0.381809 val-auc = 0.416483 ( diff = -0.034674 ) train-gini = -0.236382 val-gini = -0.167035\n",
      "   11 | 06m51s |   -0.16703 |             0.6309 |    6.2088 |           5.3981 |     11.5864 |            14.1808 |      0.8433 | \n",
      " Stopped after 500 iterations with train-auc = 0.501631 val-auc = 0.509163 ( diff = -0.007531 ) train-gini = 0.003262 val-gini = 0.018325\n",
      "   12 | 06m35s |    0.01833 |             0.6185 |   37.1019 |           8.7907 |     10.6214 |             3.0174 |      0.7217 | \n",
      "\u001b[31mBayesian Optimization\u001b[0m\n",
      "\u001b[94m----------------------------------------------------------------------------------------------------------------------------------\u001b[0m\n",
      " Step |   Time |      Value |   colsample_bytree |     gamma |   max_delta_step |   max_depth |   min_child_weight |   subsample | \n",
      " Stopped after 500 iterations with train-auc = 0.511475 val-auc = 0.517687 ( diff = -0.006212 ) train-gini = 0.022951 val-gini = 0.035375\n",
      "   13 | 04m50s |    0.03537 |             0.4000 |   50.0000 |           0.0000 |     12.0000 |            20.0000 |      1.0000 | \n",
      " Stopped after 416 iterations with train-auc = 0.583939 val-auc = 0.584309 ( diff = -0.000370 ) train-gini = 0.167878 val-gini = 0.168618\n",
      "   14 | 01m27s | \u001b[35m   0.16862\u001b[0m | \u001b[32m            0.4000\u001b[0m | \u001b[32m  50.0000\u001b[0m | \u001b[32m         10.0000\u001b[0m | \u001b[32m     2.0000\u001b[0m | \u001b[32m            0.0000\u001b[0m | \u001b[32m     1.0000\u001b[0m | \n",
      " Stopped after 283 iterations with train-auc = 0.582223 val-auc = 0.582769 ( diff = -0.000546 ) train-gini = 0.164445 val-gini = 0.165537\n",
      "   15 | 01m07s |    0.16554 |             0.4000 |   39.5803 |          10.0000 |      2.0000 |            20.0000 |      1.0000 | \n",
      " Stopped after 500 iterations with train-auc = 0.567077 val-auc = 0.568380 ( diff = -0.001303 ) train-gini = 0.134155 val-gini = 0.136760\n",
      "   16 | 01m37s |    0.13676 |             0.4000 |   22.1253 |           0.0000 |      2.0000 |            20.0000 |      0.7480 | \n",
      " Stopped after 500 iterations with train-auc = 0.580609 val-auc = 0.581129 ( diff = -0.000520 ) train-gini = 0.161218 val-gini = 0.162258\n",
      "   17 | 02m37s |    0.16226 |             1.0000 |   50.0000 |          10.0000 |      2.0000 |            20.0000 |      0.7156 | \n",
      "4049.8238368034363\n"
     ]
    }
   ],
   "source": [
    "t1=time.time()\n",
    "import warnings\n",
    "print('-'*130)\n",
    "print('-'*130, file=log_file)\n",
    "log_file.flush()\n",
    "\n",
    "with warnings.catch_warnings():\n",
    "    warnings.filterwarnings('ignore')\n",
    "    XGB_BO.maximize(init_points=2, n_iter=5, acq='ei', xi=0.0)\n",
    "t2=time.time()\n",
    "print(t2-t1)"
   ]
  },
  {
   "cell_type": "code",
   "execution_count": 67,
   "metadata": {},
   "outputs": [
    {
     "name": "stdout",
     "output_type": "stream",
     "text": [
      "0.5832403342407773\n"
     ]
    },
    {
     "data": {
      "text/plain": [
       "12.724536180496216"
      ]
     },
     "execution_count": 67,
     "metadata": {},
     "output_type": "execute_result"
    }
   ],
   "source": [
    "t1=time.time()\n",
    "xgb1=xgb.XGBClassifier(max_depth=2,gamma=50,colsample_bytree=0.4,\n",
    "                       eval_metric='logloss',max_delta_step= 10.0,min_child_weight= 0.0,\n",
    "                      subsample= 0.999999999996573)\n",
    "pred=xgb1.fit(X_train,y_train).predict_proba(X_valid)\n",
    "print(log_loss(y_valid,pred[:,1]))\n",
    "t2=time.time()\n",
    "t2-t1"
   ]
  },
  {
   "cell_type": "code",
   "execution_count": 66,
   "metadata": {},
   "outputs": [
    {
     "data": {
      "text/plain": [
       "{'colsample_bytree': 0.4,\n",
       " 'gamma': 50.0,\n",
       " 'max_delta_step': 10.0,\n",
       " 'max_depth': 2.0,\n",
       " 'min_child_weight': 0.0,\n",
       " 'subsample': 0.999999999996573}"
      ]
     },
     "execution_count": 66,
     "metadata": {},
     "output_type": "execute_result"
    }
   ],
   "source": [
    "XGB_BO.res['max']['max_params']"
   ]
  },
  {
   "cell_type": "code",
   "execution_count": 70,
   "metadata": {},
   "outputs": [],
   "source": [
    "#submit the prediction score\n",
    "submit = pd.DataFrame()\n",
    "submit['INNOVATION_CHALLENGE_KEY'] = test_ids\n",
    "#RENEWAL_PROBABLIITY\n",
    "submit['RENEWAL_PROBABLIITY']=xgb1.predict_proba(test_m)[:,1]\n",
    "submit=submit.sort_values('INNOVATION_CHALLENGE_KEY')\n",
    "submit.to_csv('XGB-knn.csv',index=False)"
   ]
  },
  {
   "cell_type": "code",
   "execution_count": null,
   "metadata": {},
   "outputs": [],
   "source": []
  }
 ],
 "metadata": {
  "kernelspec": {
   "display_name": "Python 3",
   "language": "python",
   "name": "python3"
  },
  "language_info": {
   "codemirror_mode": {
    "name": "ipython",
    "version": 3
   },
   "file_extension": ".py",
   "mimetype": "text/x-python",
   "name": "python",
   "nbconvert_exporter": "python",
   "pygments_lexer": "ipython3",
   "version": "3.6.4"
  }
 },
 "nbformat": 4,
 "nbformat_minor": 2
}
