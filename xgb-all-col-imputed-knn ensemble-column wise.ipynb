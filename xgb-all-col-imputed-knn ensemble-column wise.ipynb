{
 "cells": [
  {
   "cell_type": "code",
   "execution_count": 1,
   "metadata": {},
   "outputs": [],
   "source": [
    "import os\n",
    "import pandas as pd\n",
    "import numpy as np\n",
    "import time\n",
    "from sklearn.metrics import log_loss"
   ]
  },
  {
   "cell_type": "code",
   "execution_count": 2,
   "metadata": {},
   "outputs": [],
   "source": [
    "os.chdir('/aichallenge')"
   ]
  },
  {
   "cell_type": "code",
   "execution_count": 3,
   "metadata": {
    "scrolled": true
   },
   "outputs": [
    {
     "name": "stderr",
     "output_type": "stream",
     "text": [
      "/usr/lib/python3.6/site-packages/IPython/core/interactiveshell.py:2728: DtypeWarning: Columns (6,16,17,26,40,41,49,53,97,98,99,100,104,107,109,112,127,128,129,130,220,221,222) have mixed types. Specify dtype option on import or set low_memory=False.\n",
      "  interactivity=interactivity, compiler=compiler, result=result)\n",
      "/usr/lib/python3.6/site-packages/IPython/core/interactiveshell.py:2728: DtypeWarning: Columns (6,16,17,26,40,41,49,53,54,55,100,104,107,109,112,127,128,129,130,153,171,220,221,222,225,226,227) have mixed types. Specify dtype option on import or set low_memory=False.\n",
      "  interactivity=interactivity, compiler=compiler, result=result)\n"
     ]
    },
    {
     "name": "stdout",
     "output_type": "stream",
     "text": [
      "215.79182720184326\n"
     ]
    }
   ],
   "source": [
    "import time\n",
    "t1=time.time()\n",
    "train = pd.read_table('challengeData.tsv')\n",
    "test = pd.read_table('scoring_set.tsv')\n",
    "train_imputed = pd.read_csv('train_imputed.csv')\n",
    "test_imputed = pd.read_csv('test_imputed.csv')\n",
    "t2=time.time()\n",
    "print(t2-t1)"
   ]
  },
  {
   "cell_type": "code",
   "execution_count": 4,
   "metadata": {},
   "outputs": [
    {
     "data": {
      "text/plain": [
       "(250000, 237)"
      ]
     },
     "execution_count": 4,
     "metadata": {},
     "output_type": "execute_result"
    }
   ],
   "source": [
    "train.shape"
   ]
  },
  {
   "cell_type": "code",
   "execution_count": 5,
   "metadata": {},
   "outputs": [
    {
     "data": {
      "text/plain": [
       "False"
      ]
     },
     "execution_count": 5,
     "metadata": {},
     "output_type": "execute_result"
    }
   ],
   "source": [
    "train_imputed.isnull().any().any()"
   ]
  },
  {
   "cell_type": "code",
   "execution_count": 6,
   "metadata": {},
   "outputs": [
    {
     "data": {
      "text/plain": [
       "(1888195, 42)"
      ]
     },
     "execution_count": 6,
     "metadata": {},
     "output_type": "execute_result"
    }
   ],
   "source": [
    "test_imputed.shape"
   ]
  },
  {
   "cell_type": "code",
   "execution_count": 7,
   "metadata": {},
   "outputs": [
    {
     "data": {
      "text/plain": [
       "(226140, 42)"
      ]
     },
     "execution_count": 7,
     "metadata": {},
     "output_type": "execute_result"
    }
   ],
   "source": [
    "train_imputed.shape"
   ]
  },
  {
   "cell_type": "code",
   "execution_count": 8,
   "metadata": {},
   "outputs": [],
   "source": [
    "train_imputed = train_imputed.drop('Unnamed: 0',axis=1)\n",
    "test_imputed = test_imputed.drop('Unnamed: 0',axis=1)"
   ]
  },
  {
   "cell_type": "code",
   "execution_count": 9,
   "metadata": {},
   "outputs": [
    {
     "name": "stdout",
     "output_type": "stream",
     "text": [
      "0.00121307373046875\n"
     ]
    }
   ],
   "source": [
    "#remove data set name from columns names to make it uniform\n",
    "t1=time.time()\n",
    "columns=[]\n",
    "for col in train.columns:\n",
    "    columns.append(col.replace('challenge_data.',''))\n",
    "train.columns=columns\n",
    "columns=[]\n",
    "for col in test.columns:\n",
    "    columns.append(col.replace('scoring_set.',''))\n",
    "test.columns=columns\n",
    "t2=time.time()\n",
    "print(t2-t1)"
   ]
  },
  {
   "cell_type": "code",
   "execution_count": 10,
   "metadata": {},
   "outputs": [
    {
     "data": {
      "text/plain": [
       "23860"
      ]
     },
     "execution_count": 10,
     "metadata": {},
     "output_type": "execute_result"
    }
   ],
   "source": [
    "train['renewed_yorn'].isnull().sum()"
   ]
  },
  {
   "cell_type": "code",
   "execution_count": 11,
   "metadata": {},
   "outputs": [
    {
     "name": "stdout",
     "output_type": "stream",
     "text": [
      "0.6240081787109375\n"
     ]
    }
   ],
   "source": [
    "#remove the rows where 'challenge_data.renewed_yorn' is null in training data\n",
    "t1=time.time()\n",
    "train=train[train['renewed_yorn'].notnull()]\n",
    "t2=time.time()\n",
    "print(t2-t1)"
   ]
  },
  {
   "cell_type": "code",
   "execution_count": 12,
   "metadata": {},
   "outputs": [
    {
     "name": "stdout",
     "output_type": "stream",
     "text": [
      "4.648179531097412\n"
     ]
    }
   ],
   "source": [
    "#remove the 'challenge_data.renewed_yorn' from training and test data and move it to a seperate variable\n",
    "t1=time.time()\n",
    "train_y=train['renewed_yorn']\n",
    "train = train.drop(['renewed_yorn','zip_code'],axis=1)\n",
    "test_y=test['renewed_yorn']\n",
    "test = test.drop(['renewed_yorn','zip_code'],axis=1)\n",
    "t2=time.time()\n",
    "print(t2-t1)"
   ]
  },
  {
   "cell_type": "code",
   "execution_count": 13,
   "metadata": {},
   "outputs": [
    {
     "name": "stdout",
     "output_type": "stream",
     "text": [
      "52.704150915145874\n"
     ]
    }
   ],
   "source": [
    "#remove columns which have many null values\n",
    "t1=time.time()\n",
    "percent = (test.isnull().sum()/test.isnull().count())\n",
    "test.columns[percent>0.5]\n",
    "#We would ignore all these 102 columns so we are left with 135 columns\n",
    "len(test.columns[percent>0.5])\n",
    "#all_clean_columns=train.columns[percent==0]\n",
    "#train_clean=train[all_clean_columns]\n",
    "unclean_columns=test.columns[percent>0.5]\n",
    "clean_columns=test.columns[percent==0]\n",
    "train = train.drop(unclean_columns,axis=1)\n",
    "test = test.drop(unclean_columns,axis=1)\n",
    "t2=time.time()\n",
    "print(t2-t1)"
   ]
  },
  {
   "cell_type": "code",
   "execution_count": 14,
   "metadata": {},
   "outputs": [
    {
     "data": {
      "text/plain": [
       "36"
      ]
     },
     "execution_count": 14,
     "metadata": {},
     "output_type": "execute_result"
    }
   ],
   "source": [
    "len(unclean_columns)"
   ]
  },
  {
   "cell_type": "code",
   "execution_count": 15,
   "metadata": {},
   "outputs": [
    {
     "data": {
      "text/plain": [
       "133"
      ]
     },
     "execution_count": 15,
     "metadata": {},
     "output_type": "execute_result"
    }
   ],
   "source": [
    "len(clean_columns)"
   ]
  },
  {
   "cell_type": "code",
   "execution_count": 16,
   "metadata": {},
   "outputs": [],
   "source": [
    "t1=time.time()\n",
    "percent = (test.isnull().sum()/test.isnull().count())\n",
    "target_columns=test.columns[percent>0]\n",
    "train_missing=train[target_columns]\n",
    "test_missing=test[target_columns]\n",
    "train = train.drop(target_columns,axis=1)\n",
    "test = test.drop(target_columns,axis=1)"
   ]
  },
  {
   "cell_type": "code",
   "execution_count": 17,
   "metadata": {},
   "outputs": [
    {
     "data": {
      "text/plain": [
       "66"
      ]
     },
     "execution_count": 17,
     "metadata": {},
     "output_type": "execute_result"
    }
   ],
   "source": [
    "len(target_columns)"
   ]
  },
  {
   "cell_type": "code",
   "execution_count": 18,
   "metadata": {},
   "outputs": [
    {
     "name": "stdout",
     "output_type": "stream",
     "text": [
      "1.7744455337524414\n"
     ]
    }
   ],
   "source": [
    "#Remove columns which have too many categories and is string type\n",
    "t1=time.time()\n",
    "messy_columns = []\n",
    "for col in target_columns:\n",
    "    if(train_missing[col].dtype=='O' and len(train_missing[col].unique())>=10):\n",
    "        messy_columns.append(col)\n",
    "t2=time.time()\n",
    "print(t2-t1)"
   ]
  },
  {
   "cell_type": "code",
   "execution_count": 19,
   "metadata": {},
   "outputs": [
    {
     "data": {
      "text/plain": [
       "25"
      ]
     },
     "execution_count": 19,
     "metadata": {},
     "output_type": "execute_result"
    }
   ],
   "source": [
    "# 56 messy columns are removed\n",
    "len(messy_columns)"
   ]
  },
  {
   "cell_type": "code",
   "execution_count": 20,
   "metadata": {},
   "outputs": [
    {
     "data": {
      "text/plain": [
       "66"
      ]
     },
     "execution_count": 20,
     "metadata": {},
     "output_type": "execute_result"
    }
   ],
   "source": [
    "len(train_missing.columns)"
   ]
  },
  {
   "cell_type": "code",
   "execution_count": 21,
   "metadata": {},
   "outputs": [
    {
     "name": "stdout",
     "output_type": "stream",
     "text": [
      "0.9078669548034668\n"
     ]
    }
   ],
   "source": [
    "t1=time.time()\n",
    "train_missing=train_missing.drop(messy_columns,axis=1)\n",
    "test_missing=test_missing.drop(messy_columns,axis=1)\n",
    "t2=time.time()\n",
    "print(t2-t1)"
   ]
  },
  {
   "cell_type": "code",
   "execution_count": 22,
   "metadata": {},
   "outputs": [
    {
     "name": "stdout",
     "output_type": "stream",
     "text": [
      "1.7493765354156494\n"
     ]
    }
   ],
   "source": [
    "#Remove columns which have too many categories and is string type\n",
    "t1=time.time()\n",
    "messy_columns = []\n",
    "for col in train.columns:\n",
    "    if(train[col].dtype=='O' and len(train[col].unique())>=10):\n",
    "        messy_columns.append(col)\n",
    "t2=time.time()\n",
    "print(t2-t1)"
   ]
  },
  {
   "cell_type": "code",
   "execution_count": 23,
   "metadata": {},
   "outputs": [
    {
     "data": {
      "text/plain": [
       "61"
      ]
     },
     "execution_count": 23,
     "metadata": {},
     "output_type": "execute_result"
    }
   ],
   "source": [
    "len(messy_columns)"
   ]
  },
  {
   "cell_type": "code",
   "execution_count": 24,
   "metadata": {},
   "outputs": [
    {
     "name": "stdout",
     "output_type": "stream",
     "text": [
      "1.8785974979400635\n"
     ]
    }
   ],
   "source": [
    "t1=time.time()\n",
    "train=train.drop(messy_columns,axis=1)\n",
    "test=test.drop(messy_columns,axis=1)\n",
    "t2=time.time()\n",
    "print(t2-t1)"
   ]
  },
  {
   "cell_type": "code",
   "execution_count": 25,
   "metadata": {},
   "outputs": [
    {
     "data": {
      "text/plain": [
       "(226140, 72)"
      ]
     },
     "execution_count": 25,
     "metadata": {},
     "output_type": "execute_result"
    }
   ],
   "source": [
    "train.shape"
   ]
  },
  {
   "cell_type": "code",
   "execution_count": 26,
   "metadata": {},
   "outputs": [
    {
     "data": {
      "text/plain": [
       "(226140, 41)"
      ]
     },
     "execution_count": 26,
     "metadata": {},
     "output_type": "execute_result"
    }
   ],
   "source": [
    "train_missing.shape"
   ]
  },
  {
   "cell_type": "code",
   "execution_count": 27,
   "metadata": {},
   "outputs": [
    {
     "data": {
      "text/plain": [
       "(226140, 41)"
      ]
     },
     "execution_count": 27,
     "metadata": {},
     "output_type": "execute_result"
    }
   ],
   "source": [
    "train_imputed.shape"
   ]
  },
  {
   "cell_type": "code",
   "execution_count": 28,
   "metadata": {},
   "outputs": [
    {
     "data": {
      "text/plain": [
       "False"
      ]
     },
     "execution_count": 28,
     "metadata": {},
     "output_type": "execute_result"
    }
   ],
   "source": [
    "train_imputed.isnull().any().any()"
   ]
  },
  {
   "cell_type": "code",
   "execution_count": 29,
   "metadata": {},
   "outputs": [
    {
     "data": {
      "text/plain": [
       "False"
      ]
     },
     "execution_count": 29,
     "metadata": {},
     "output_type": "execute_result"
    }
   ],
   "source": [
    "train.isnull().any().any()"
   ]
  },
  {
   "cell_type": "code",
   "execution_count": 30,
   "metadata": {},
   "outputs": [],
   "source": [
    "train_copy=train"
   ]
  },
  {
   "cell_type": "code",
   "execution_count": 33,
   "metadata": {},
   "outputs": [
    {
     "ename": "KeyError",
     "evalue": "'innovation_challenge_key'",
     "output_type": "error",
     "traceback": [
      "\u001b[0;31m---------------------------------------------------------------------------\u001b[0m",
      "\u001b[0;31mKeyError\u001b[0m                                  Traceback (most recent call last)",
      "\u001b[0;32m/usr/lib64/python3.6/site-packages/pandas/core/indexes/base.py\u001b[0m in \u001b[0;36mget_loc\u001b[0;34m(self, key, method, tolerance)\u001b[0m\n\u001b[1;32m   2524\u001b[0m             \u001b[0;32mtry\u001b[0m\u001b[0;34m:\u001b[0m\u001b[0;34m\u001b[0m\u001b[0m\n\u001b[0;32m-> 2525\u001b[0;31m                 \u001b[0;32mreturn\u001b[0m \u001b[0mself\u001b[0m\u001b[0;34m.\u001b[0m\u001b[0m_engine\u001b[0m\u001b[0;34m.\u001b[0m\u001b[0mget_loc\u001b[0m\u001b[0;34m(\u001b[0m\u001b[0mkey\u001b[0m\u001b[0;34m)\u001b[0m\u001b[0;34m\u001b[0m\u001b[0m\n\u001b[0m\u001b[1;32m   2526\u001b[0m             \u001b[0;32mexcept\u001b[0m \u001b[0mKeyError\u001b[0m\u001b[0;34m:\u001b[0m\u001b[0;34m\u001b[0m\u001b[0m\n",
      "\u001b[0;32mpandas/_libs/index.pyx\u001b[0m in \u001b[0;36mpandas._libs.index.IndexEngine.get_loc\u001b[0;34m()\u001b[0m\n",
      "\u001b[0;32mpandas/_libs/index.pyx\u001b[0m in \u001b[0;36mpandas._libs.index.IndexEngine.get_loc\u001b[0;34m()\u001b[0m\n",
      "\u001b[0;32mpandas/_libs/hashtable_class_helper.pxi\u001b[0m in \u001b[0;36mpandas._libs.hashtable.PyObjectHashTable.get_item\u001b[0;34m()\u001b[0m\n",
      "\u001b[0;32mpandas/_libs/hashtable_class_helper.pxi\u001b[0m in \u001b[0;36mpandas._libs.hashtable.PyObjectHashTable.get_item\u001b[0;34m()\u001b[0m\n",
      "\u001b[0;31mKeyError\u001b[0m: 'innovation_challenge_key'",
      "\nDuring handling of the above exception, another exception occurred:\n",
      "\u001b[0;31mKeyError\u001b[0m                                  Traceback (most recent call last)",
      "\u001b[0;32m<ipython-input-33-660f6fd75a1d>\u001b[0m in \u001b[0;36m<module>\u001b[0;34m()\u001b[0m\n\u001b[1;32m      2\u001b[0m \u001b[0mt1\u001b[0m\u001b[0;34m=\u001b[0m\u001b[0mtime\u001b[0m\u001b[0;34m.\u001b[0m\u001b[0mtime\u001b[0m\u001b[0;34m(\u001b[0m\u001b[0;34m)\u001b[0m\u001b[0;34m\u001b[0m\u001b[0m\n\u001b[1;32m      3\u001b[0m \u001b[0mtrain\u001b[0m \u001b[0;34m=\u001b[0m \u001b[0mtrain\u001b[0m\u001b[0;34m.\u001b[0m\u001b[0mdrop\u001b[0m\u001b[0;34m(\u001b[0m\u001b[0;34m'innovation_challenge_key'\u001b[0m\u001b[0;34m,\u001b[0m\u001b[0maxis\u001b[0m\u001b[0;34m=\u001b[0m\u001b[0;36m1\u001b[0m\u001b[0;34m)\u001b[0m\u001b[0;34m\u001b[0m\u001b[0m\n\u001b[0;32m----> 4\u001b[0;31m \u001b[0mtest_ids\u001b[0m\u001b[0;34m=\u001b[0m\u001b[0mtest\u001b[0m\u001b[0;34m[\u001b[0m\u001b[0;34m'innovation_challenge_key'\u001b[0m\u001b[0;34m]\u001b[0m\u001b[0;34m\u001b[0m\u001b[0m\n\u001b[0m\u001b[1;32m      5\u001b[0m \u001b[0mtest\u001b[0m \u001b[0;34m=\u001b[0m \u001b[0mtest\u001b[0m\u001b[0;34m.\u001b[0m\u001b[0mdrop\u001b[0m\u001b[0;34m(\u001b[0m\u001b[0;34m'innovation_challenge_key'\u001b[0m\u001b[0;34m,\u001b[0m\u001b[0maxis\u001b[0m\u001b[0;34m=\u001b[0m\u001b[0;36m1\u001b[0m\u001b[0;34m)\u001b[0m\u001b[0;34m\u001b[0m\u001b[0m\n\u001b[1;32m      6\u001b[0m \u001b[0mt2\u001b[0m\u001b[0;34m=\u001b[0m\u001b[0mtime\u001b[0m\u001b[0;34m.\u001b[0m\u001b[0mtime\u001b[0m\u001b[0;34m(\u001b[0m\u001b[0;34m)\u001b[0m\u001b[0;34m\u001b[0m\u001b[0m\n",
      "\u001b[0;32m/usr/lib64/python3.6/site-packages/pandas/core/frame.py\u001b[0m in \u001b[0;36m__getitem__\u001b[0;34m(self, key)\u001b[0m\n\u001b[1;32m   2137\u001b[0m             \u001b[0;32mreturn\u001b[0m \u001b[0mself\u001b[0m\u001b[0;34m.\u001b[0m\u001b[0m_getitem_multilevel\u001b[0m\u001b[0;34m(\u001b[0m\u001b[0mkey\u001b[0m\u001b[0;34m)\u001b[0m\u001b[0;34m\u001b[0m\u001b[0m\n\u001b[1;32m   2138\u001b[0m         \u001b[0;32melse\u001b[0m\u001b[0;34m:\u001b[0m\u001b[0;34m\u001b[0m\u001b[0m\n\u001b[0;32m-> 2139\u001b[0;31m             \u001b[0;32mreturn\u001b[0m \u001b[0mself\u001b[0m\u001b[0;34m.\u001b[0m\u001b[0m_getitem_column\u001b[0m\u001b[0;34m(\u001b[0m\u001b[0mkey\u001b[0m\u001b[0;34m)\u001b[0m\u001b[0;34m\u001b[0m\u001b[0m\n\u001b[0m\u001b[1;32m   2140\u001b[0m \u001b[0;34m\u001b[0m\u001b[0m\n\u001b[1;32m   2141\u001b[0m     \u001b[0;32mdef\u001b[0m \u001b[0m_getitem_column\u001b[0m\u001b[0;34m(\u001b[0m\u001b[0mself\u001b[0m\u001b[0;34m,\u001b[0m \u001b[0mkey\u001b[0m\u001b[0;34m)\u001b[0m\u001b[0;34m:\u001b[0m\u001b[0;34m\u001b[0m\u001b[0m\n",
      "\u001b[0;32m/usr/lib64/python3.6/site-packages/pandas/core/frame.py\u001b[0m in \u001b[0;36m_getitem_column\u001b[0;34m(self, key)\u001b[0m\n\u001b[1;32m   2144\u001b[0m         \u001b[0;31m# get column\u001b[0m\u001b[0;34m\u001b[0m\u001b[0;34m\u001b[0m\u001b[0m\n\u001b[1;32m   2145\u001b[0m         \u001b[0;32mif\u001b[0m \u001b[0mself\u001b[0m\u001b[0;34m.\u001b[0m\u001b[0mcolumns\u001b[0m\u001b[0;34m.\u001b[0m\u001b[0mis_unique\u001b[0m\u001b[0;34m:\u001b[0m\u001b[0;34m\u001b[0m\u001b[0m\n\u001b[0;32m-> 2146\u001b[0;31m             \u001b[0;32mreturn\u001b[0m \u001b[0mself\u001b[0m\u001b[0;34m.\u001b[0m\u001b[0m_get_item_cache\u001b[0m\u001b[0;34m(\u001b[0m\u001b[0mkey\u001b[0m\u001b[0;34m)\u001b[0m\u001b[0;34m\u001b[0m\u001b[0m\n\u001b[0m\u001b[1;32m   2147\u001b[0m \u001b[0;34m\u001b[0m\u001b[0m\n\u001b[1;32m   2148\u001b[0m         \u001b[0;31m# duplicate columns & possible reduce dimensionality\u001b[0m\u001b[0;34m\u001b[0m\u001b[0;34m\u001b[0m\u001b[0m\n",
      "\u001b[0;32m/usr/lib64/python3.6/site-packages/pandas/core/generic.py\u001b[0m in \u001b[0;36m_get_item_cache\u001b[0;34m(self, item)\u001b[0m\n\u001b[1;32m   1840\u001b[0m         \u001b[0mres\u001b[0m \u001b[0;34m=\u001b[0m \u001b[0mcache\u001b[0m\u001b[0;34m.\u001b[0m\u001b[0mget\u001b[0m\u001b[0;34m(\u001b[0m\u001b[0mitem\u001b[0m\u001b[0;34m)\u001b[0m\u001b[0;34m\u001b[0m\u001b[0m\n\u001b[1;32m   1841\u001b[0m         \u001b[0;32mif\u001b[0m \u001b[0mres\u001b[0m \u001b[0;32mis\u001b[0m \u001b[0;32mNone\u001b[0m\u001b[0;34m:\u001b[0m\u001b[0;34m\u001b[0m\u001b[0m\n\u001b[0;32m-> 1842\u001b[0;31m             \u001b[0mvalues\u001b[0m \u001b[0;34m=\u001b[0m \u001b[0mself\u001b[0m\u001b[0;34m.\u001b[0m\u001b[0m_data\u001b[0m\u001b[0;34m.\u001b[0m\u001b[0mget\u001b[0m\u001b[0;34m(\u001b[0m\u001b[0mitem\u001b[0m\u001b[0;34m)\u001b[0m\u001b[0;34m\u001b[0m\u001b[0m\n\u001b[0m\u001b[1;32m   1843\u001b[0m             \u001b[0mres\u001b[0m \u001b[0;34m=\u001b[0m \u001b[0mself\u001b[0m\u001b[0;34m.\u001b[0m\u001b[0m_box_item_values\u001b[0m\u001b[0;34m(\u001b[0m\u001b[0mitem\u001b[0m\u001b[0;34m,\u001b[0m \u001b[0mvalues\u001b[0m\u001b[0;34m)\u001b[0m\u001b[0;34m\u001b[0m\u001b[0m\n\u001b[1;32m   1844\u001b[0m             \u001b[0mcache\u001b[0m\u001b[0;34m[\u001b[0m\u001b[0mitem\u001b[0m\u001b[0;34m]\u001b[0m \u001b[0;34m=\u001b[0m \u001b[0mres\u001b[0m\u001b[0;34m\u001b[0m\u001b[0m\n",
      "\u001b[0;32m/usr/lib64/python3.6/site-packages/pandas/core/internals.py\u001b[0m in \u001b[0;36mget\u001b[0;34m(self, item, fastpath)\u001b[0m\n\u001b[1;32m   3841\u001b[0m \u001b[0;34m\u001b[0m\u001b[0m\n\u001b[1;32m   3842\u001b[0m             \u001b[0;32mif\u001b[0m \u001b[0;32mnot\u001b[0m \u001b[0misna\u001b[0m\u001b[0;34m(\u001b[0m\u001b[0mitem\u001b[0m\u001b[0;34m)\u001b[0m\u001b[0;34m:\u001b[0m\u001b[0;34m\u001b[0m\u001b[0m\n\u001b[0;32m-> 3843\u001b[0;31m                 \u001b[0mloc\u001b[0m \u001b[0;34m=\u001b[0m \u001b[0mself\u001b[0m\u001b[0;34m.\u001b[0m\u001b[0mitems\u001b[0m\u001b[0;34m.\u001b[0m\u001b[0mget_loc\u001b[0m\u001b[0;34m(\u001b[0m\u001b[0mitem\u001b[0m\u001b[0;34m)\u001b[0m\u001b[0;34m\u001b[0m\u001b[0m\n\u001b[0m\u001b[1;32m   3844\u001b[0m             \u001b[0;32melse\u001b[0m\u001b[0;34m:\u001b[0m\u001b[0;34m\u001b[0m\u001b[0m\n\u001b[1;32m   3845\u001b[0m                 \u001b[0mindexer\u001b[0m \u001b[0;34m=\u001b[0m \u001b[0mnp\u001b[0m\u001b[0;34m.\u001b[0m\u001b[0marange\u001b[0m\u001b[0;34m(\u001b[0m\u001b[0mlen\u001b[0m\u001b[0;34m(\u001b[0m\u001b[0mself\u001b[0m\u001b[0;34m.\u001b[0m\u001b[0mitems\u001b[0m\u001b[0;34m)\u001b[0m\u001b[0;34m)\u001b[0m\u001b[0;34m[\u001b[0m\u001b[0misna\u001b[0m\u001b[0;34m(\u001b[0m\u001b[0mself\u001b[0m\u001b[0;34m.\u001b[0m\u001b[0mitems\u001b[0m\u001b[0;34m)\u001b[0m\u001b[0;34m]\u001b[0m\u001b[0;34m\u001b[0m\u001b[0m\n",
      "\u001b[0;32m/usr/lib64/python3.6/site-packages/pandas/core/indexes/base.py\u001b[0m in \u001b[0;36mget_loc\u001b[0;34m(self, key, method, tolerance)\u001b[0m\n\u001b[1;32m   2525\u001b[0m                 \u001b[0;32mreturn\u001b[0m \u001b[0mself\u001b[0m\u001b[0;34m.\u001b[0m\u001b[0m_engine\u001b[0m\u001b[0;34m.\u001b[0m\u001b[0mget_loc\u001b[0m\u001b[0;34m(\u001b[0m\u001b[0mkey\u001b[0m\u001b[0;34m)\u001b[0m\u001b[0;34m\u001b[0m\u001b[0m\n\u001b[1;32m   2526\u001b[0m             \u001b[0;32mexcept\u001b[0m \u001b[0mKeyError\u001b[0m\u001b[0;34m:\u001b[0m\u001b[0;34m\u001b[0m\u001b[0m\n\u001b[0;32m-> 2527\u001b[0;31m                 \u001b[0;32mreturn\u001b[0m \u001b[0mself\u001b[0m\u001b[0;34m.\u001b[0m\u001b[0m_engine\u001b[0m\u001b[0;34m.\u001b[0m\u001b[0mget_loc\u001b[0m\u001b[0;34m(\u001b[0m\u001b[0mself\u001b[0m\u001b[0;34m.\u001b[0m\u001b[0m_maybe_cast_indexer\u001b[0m\u001b[0;34m(\u001b[0m\u001b[0mkey\u001b[0m\u001b[0;34m)\u001b[0m\u001b[0;34m)\u001b[0m\u001b[0;34m\u001b[0m\u001b[0m\n\u001b[0m\u001b[1;32m   2528\u001b[0m \u001b[0;34m\u001b[0m\u001b[0m\n\u001b[1;32m   2529\u001b[0m         \u001b[0mindexer\u001b[0m \u001b[0;34m=\u001b[0m \u001b[0mself\u001b[0m\u001b[0;34m.\u001b[0m\u001b[0mget_indexer\u001b[0m\u001b[0;34m(\u001b[0m\u001b[0;34m[\u001b[0m\u001b[0mkey\u001b[0m\u001b[0;34m]\u001b[0m\u001b[0;34m,\u001b[0m \u001b[0mmethod\u001b[0m\u001b[0;34m=\u001b[0m\u001b[0mmethod\u001b[0m\u001b[0;34m,\u001b[0m \u001b[0mtolerance\u001b[0m\u001b[0;34m=\u001b[0m\u001b[0mtolerance\u001b[0m\u001b[0;34m)\u001b[0m\u001b[0;34m\u001b[0m\u001b[0m\n",
      "\u001b[0;32mpandas/_libs/index.pyx\u001b[0m in \u001b[0;36mpandas._libs.index.IndexEngine.get_loc\u001b[0;34m()\u001b[0m\n",
      "\u001b[0;32mpandas/_libs/index.pyx\u001b[0m in \u001b[0;36mpandas._libs.index.IndexEngine.get_loc\u001b[0;34m()\u001b[0m\n",
      "\u001b[0;32mpandas/_libs/hashtable_class_helper.pxi\u001b[0m in \u001b[0;36mpandas._libs.hashtable.PyObjectHashTable.get_item\u001b[0;34m()\u001b[0m\n",
      "\u001b[0;32mpandas/_libs/hashtable_class_helper.pxi\u001b[0m in \u001b[0;36mpandas._libs.hashtable.PyObjectHashTable.get_item\u001b[0;34m()\u001b[0m\n",
      "\u001b[0;31mKeyError\u001b[0m: 'innovation_challenge_key'"
     ]
    }
   ],
   "source": [
    "#Remove the primary key column for data fitting\n",
    "t1=time.time()\n",
    "train = train.drop('innovation_challenge_key',axis=1)\n",
    "test_ids=test['innovation_challenge_key']\n",
    "test = test.drop('innovation_challenge_key',axis=1)\n",
    "t2=time.time()\n",
    "print(t2-t1)"
   ]
  },
  {
   "cell_type": "code",
   "execution_count": 32,
   "metadata": {},
   "outputs": [],
   "source": [
    "train=train_copy"
   ]
  },
  {
   "cell_type": "code",
   "execution_count": 34,
   "metadata": {},
   "outputs": [
    {
     "data": {
      "text/plain": [
       "False"
      ]
     },
     "execution_count": 34,
     "metadata": {},
     "output_type": "execute_result"
    }
   ],
   "source": [
    "train.isnull().any().any()"
   ]
  },
  {
   "cell_type": "code",
   "execution_count": 35,
   "metadata": {},
   "outputs": [],
   "source": [
    "train=train.reset_index()"
   ]
  },
  {
   "cell_type": "code",
   "execution_count": 36,
   "metadata": {},
   "outputs": [
    {
     "ename": "ValueError",
     "evalue": "labels ['innovation_challenge_key'] not contained in axis",
     "output_type": "error",
     "traceback": [
      "\u001b[0;31m---------------------------------------------------------------------------\u001b[0m",
      "\u001b[0;31mValueError\u001b[0m                                Traceback (most recent call last)",
      "\u001b[0;32m<ipython-input-36-c1f0f50ea67c>\u001b[0m in \u001b[0;36m<module>\u001b[0;34m()\u001b[0m\n\u001b[0;32m----> 1\u001b[0;31m \u001b[0mtrain\u001b[0m \u001b[0;34m=\u001b[0m \u001b[0mtrain\u001b[0m\u001b[0;34m.\u001b[0m\u001b[0mdrop\u001b[0m\u001b[0;34m(\u001b[0m\u001b[0;34m[\u001b[0m\u001b[0;34m'index'\u001b[0m\u001b[0;34m,\u001b[0m\u001b[0;34m'innovation_challenge_key'\u001b[0m\u001b[0;34m]\u001b[0m\u001b[0;34m,\u001b[0m\u001b[0maxis\u001b[0m\u001b[0;34m=\u001b[0m\u001b[0;36m1\u001b[0m\u001b[0;34m)\u001b[0m\u001b[0;34m\u001b[0m\u001b[0m\n\u001b[0m",
      "\u001b[0;32m/usr/lib64/python3.6/site-packages/pandas/core/generic.py\u001b[0m in \u001b[0;36mdrop\u001b[0;34m(self, labels, axis, index, columns, level, inplace, errors)\u001b[0m\n\u001b[1;32m   2528\u001b[0m         \u001b[0;32mfor\u001b[0m \u001b[0maxis\u001b[0m\u001b[0;34m,\u001b[0m \u001b[0mlabels\u001b[0m \u001b[0;32min\u001b[0m \u001b[0maxes\u001b[0m\u001b[0;34m.\u001b[0m\u001b[0mitems\u001b[0m\u001b[0;34m(\u001b[0m\u001b[0;34m)\u001b[0m\u001b[0;34m:\u001b[0m\u001b[0;34m\u001b[0m\u001b[0m\n\u001b[1;32m   2529\u001b[0m             \u001b[0;32mif\u001b[0m \u001b[0mlabels\u001b[0m \u001b[0;32mis\u001b[0m \u001b[0;32mnot\u001b[0m \u001b[0;32mNone\u001b[0m\u001b[0;34m:\u001b[0m\u001b[0;34m\u001b[0m\u001b[0m\n\u001b[0;32m-> 2530\u001b[0;31m                 \u001b[0mobj\u001b[0m \u001b[0;34m=\u001b[0m \u001b[0mobj\u001b[0m\u001b[0;34m.\u001b[0m\u001b[0m_drop_axis\u001b[0m\u001b[0;34m(\u001b[0m\u001b[0mlabels\u001b[0m\u001b[0;34m,\u001b[0m \u001b[0maxis\u001b[0m\u001b[0;34m,\u001b[0m \u001b[0mlevel\u001b[0m\u001b[0;34m=\u001b[0m\u001b[0mlevel\u001b[0m\u001b[0;34m,\u001b[0m \u001b[0merrors\u001b[0m\u001b[0;34m=\u001b[0m\u001b[0merrors\u001b[0m\u001b[0;34m)\u001b[0m\u001b[0;34m\u001b[0m\u001b[0m\n\u001b[0m\u001b[1;32m   2531\u001b[0m \u001b[0;34m\u001b[0m\u001b[0m\n\u001b[1;32m   2532\u001b[0m         \u001b[0;32mif\u001b[0m \u001b[0minplace\u001b[0m\u001b[0;34m:\u001b[0m\u001b[0;34m\u001b[0m\u001b[0m\n",
      "\u001b[0;32m/usr/lib64/python3.6/site-packages/pandas/core/generic.py\u001b[0m in \u001b[0;36m_drop_axis\u001b[0;34m(self, labels, axis, level, errors)\u001b[0m\n\u001b[1;32m   2560\u001b[0m                 \u001b[0mnew_axis\u001b[0m \u001b[0;34m=\u001b[0m \u001b[0maxis\u001b[0m\u001b[0;34m.\u001b[0m\u001b[0mdrop\u001b[0m\u001b[0;34m(\u001b[0m\u001b[0mlabels\u001b[0m\u001b[0;34m,\u001b[0m \u001b[0mlevel\u001b[0m\u001b[0;34m=\u001b[0m\u001b[0mlevel\u001b[0m\u001b[0;34m,\u001b[0m \u001b[0merrors\u001b[0m\u001b[0;34m=\u001b[0m\u001b[0merrors\u001b[0m\u001b[0;34m)\u001b[0m\u001b[0;34m\u001b[0m\u001b[0m\n\u001b[1;32m   2561\u001b[0m             \u001b[0;32melse\u001b[0m\u001b[0;34m:\u001b[0m\u001b[0;34m\u001b[0m\u001b[0m\n\u001b[0;32m-> 2562\u001b[0;31m                 \u001b[0mnew_axis\u001b[0m \u001b[0;34m=\u001b[0m \u001b[0maxis\u001b[0m\u001b[0;34m.\u001b[0m\u001b[0mdrop\u001b[0m\u001b[0;34m(\u001b[0m\u001b[0mlabels\u001b[0m\u001b[0;34m,\u001b[0m \u001b[0merrors\u001b[0m\u001b[0;34m=\u001b[0m\u001b[0merrors\u001b[0m\u001b[0;34m)\u001b[0m\u001b[0;34m\u001b[0m\u001b[0m\n\u001b[0m\u001b[1;32m   2563\u001b[0m             \u001b[0mdropped\u001b[0m \u001b[0;34m=\u001b[0m \u001b[0mself\u001b[0m\u001b[0;34m.\u001b[0m\u001b[0mreindex\u001b[0m\u001b[0;34m(\u001b[0m\u001b[0;34m**\u001b[0m\u001b[0;34m{\u001b[0m\u001b[0maxis_name\u001b[0m\u001b[0;34m:\u001b[0m \u001b[0mnew_axis\u001b[0m\u001b[0;34m}\u001b[0m\u001b[0;34m)\u001b[0m\u001b[0;34m\u001b[0m\u001b[0m\n\u001b[1;32m   2564\u001b[0m             \u001b[0;32mtry\u001b[0m\u001b[0;34m:\u001b[0m\u001b[0;34m\u001b[0m\u001b[0m\n",
      "\u001b[0;32m/usr/lib64/python3.6/site-packages/pandas/core/indexes/base.py\u001b[0m in \u001b[0;36mdrop\u001b[0;34m(self, labels, errors)\u001b[0m\n\u001b[1;32m   3742\u001b[0m             \u001b[0;32mif\u001b[0m \u001b[0merrors\u001b[0m \u001b[0;34m!=\u001b[0m \u001b[0;34m'ignore'\u001b[0m\u001b[0;34m:\u001b[0m\u001b[0;34m\u001b[0m\u001b[0m\n\u001b[1;32m   3743\u001b[0m                 raise ValueError('labels %s not contained in axis' %\n\u001b[0;32m-> 3744\u001b[0;31m                                  labels[mask])\n\u001b[0m\u001b[1;32m   3745\u001b[0m             \u001b[0mindexer\u001b[0m \u001b[0;34m=\u001b[0m \u001b[0mindexer\u001b[0m\u001b[0;34m[\u001b[0m\u001b[0;34m~\u001b[0m\u001b[0mmask\u001b[0m\u001b[0;34m]\u001b[0m\u001b[0;34m\u001b[0m\u001b[0m\n\u001b[1;32m   3746\u001b[0m         \u001b[0;32mreturn\u001b[0m \u001b[0mself\u001b[0m\u001b[0;34m.\u001b[0m\u001b[0mdelete\u001b[0m\u001b[0;34m(\u001b[0m\u001b[0mindexer\u001b[0m\u001b[0;34m)\u001b[0m\u001b[0;34m\u001b[0m\u001b[0m\n",
      "\u001b[0;31mValueError\u001b[0m: labels ['innovation_challenge_key'] not contained in axis"
     ]
    }
   ],
   "source": [
    "train = train.drop(['index','innovation_challenge_key'],axis=1)"
   ]
  },
  {
   "cell_type": "code",
   "execution_count": 37,
   "metadata": {},
   "outputs": [],
   "source": [
    "for col in train_imputed.columns:\n",
    "    train[col]=train_imputed[col]\n",
    "    test[col]=test_imputed[col]"
   ]
  },
  {
   "cell_type": "code",
   "execution_count": 38,
   "metadata": {},
   "outputs": [
    {
     "data": {
      "text/plain": [
       "(226140,)"
      ]
     },
     "execution_count": 38,
     "metadata": {},
     "output_type": "execute_result"
    }
   ],
   "source": [
    "train[col].shape"
   ]
  },
  {
   "cell_type": "code",
   "execution_count": 45,
   "metadata": {},
   "outputs": [
    {
     "data": {
      "text/plain": [
       "(226140, 112)"
      ]
     },
     "execution_count": 45,
     "metadata": {},
     "output_type": "execute_result"
    }
   ],
   "source": [
    "train.shape"
   ]
  },
  {
   "cell_type": "code",
   "execution_count": 43,
   "metadata": {},
   "outputs": [],
   "source": [
    "train = train.drop('index',axis=1)"
   ]
  },
  {
   "cell_type": "code",
   "execution_count": 44,
   "metadata": {},
   "outputs": [
    {
     "data": {
      "text/plain": [
       "(1888195, 112)"
      ]
     },
     "execution_count": 44,
     "metadata": {},
     "output_type": "execute_result"
    }
   ],
   "source": [
    "test.shape"
   ]
  },
  {
   "cell_type": "code",
   "execution_count": 46,
   "metadata": {},
   "outputs": [
    {
     "data": {
      "text/plain": [
       "False"
      ]
     },
     "execution_count": 46,
     "metadata": {},
     "output_type": "execute_result"
    }
   ],
   "source": [
    "train.isnull().any().any()"
   ]
  },
  {
   "cell_type": "code",
   "execution_count": 47,
   "metadata": {},
   "outputs": [
    {
     "name": "stdout",
     "output_type": "stream",
     "text": [
      "0.05004405975341797\n"
     ]
    }
   ],
   "source": [
    "#Number of unique values in each columns\n",
    "t1=time.time()\n",
    "catcols=[]\n",
    "scalcols=[]\n",
    "for col in train.columns:\n",
    "    if (train[col].dtype !='object'):\n",
    "        if(len(train[col].unique())<=10):\n",
    "            catcols.append(col)\n",
    "        else:\n",
    "            scalcols.append(col)\n",
    "t2=time.time()\n",
    "print(t2-t1)"
   ]
  },
  {
   "cell_type": "code",
   "execution_count": 48,
   "metadata": {},
   "outputs": [
    {
     "name": "stdout",
     "output_type": "stream",
     "text": [
      "0.25840210914611816\n"
     ]
    }
   ],
   "source": [
    "#handle catcols\n",
    "t1=time.time()\n",
    "for col in catcols:\n",
    "    train[col]=train[col].astype('category')\n",
    "    test[col]=test[col].astype('category')\n",
    "t2=time.time()\n",
    "print(t2-t1)"
   ]
  },
  {
   "cell_type": "code",
   "execution_count": 49,
   "metadata": {},
   "outputs": [
    {
     "data": {
      "text/plain": [
       "0"
      ]
     },
     "execution_count": 49,
     "metadata": {},
     "output_type": "execute_result"
    }
   ],
   "source": [
    "train.isnull().any().sum()"
   ]
  },
  {
   "cell_type": "code",
   "execution_count": 50,
   "metadata": {},
   "outputs": [
    {
     "data": {
      "text/plain": [
       "False"
      ]
     },
     "execution_count": 50,
     "metadata": {},
     "output_type": "execute_result"
    }
   ],
   "source": [
    "test.isnull().any().any()"
   ]
  },
  {
   "cell_type": "code",
   "execution_count": 51,
   "metadata": {},
   "outputs": [
    {
     "name": "stdout",
     "output_type": "stream",
     "text": [
      "3.6095423698425293\n"
     ]
    }
   ],
   "source": [
    "#Normalize integer data\n",
    "t1=time.time()\n",
    "from sklearn.preprocessing import StandardScaler\n",
    "scaler = StandardScaler()\n",
    "scaler = scaler.fit(train[scalcols])\n",
    "train[scalcols] = scaler.transform(train[scalcols])\n",
    "scaler = scaler.fit(test[scalcols])\n",
    "test[scalcols] = scaler.transform(test[scalcols])\n",
    "t2=time.time()\n",
    "print(t2-t1)"
   ]
  },
  {
   "cell_type": "code",
   "execution_count": 52,
   "metadata": {},
   "outputs": [
    {
     "data": {
      "text/html": [
       "<div>\n",
       "<style scoped>\n",
       "    .dataframe tbody tr th:only-of-type {\n",
       "        vertical-align: middle;\n",
       "    }\n",
       "\n",
       "    .dataframe tbody tr th {\n",
       "        vertical-align: top;\n",
       "    }\n",
       "\n",
       "    .dataframe thead th {\n",
       "        text-align: right;\n",
       "    }\n",
       "</style>\n",
       "<table border=\"1\" class=\"dataframe\">\n",
       "  <thead>\n",
       "    <tr style=\"text-align: right;\">\n",
       "      <th></th>\n",
       "      <th>contract_line_net_usd_amount</th>\n",
       "      <th>product_net_price</th>\n",
       "      <th>sales_node_renewal_rate</th>\n",
       "      <th>partner_renewal_rate</th>\n",
       "      <th>product_renewal_rate</th>\n",
       "      <th>service_sales_node_installed_base_sales_node_renewal_rate</th>\n",
       "      <th>service_partner_installed_base_partner_renewal_rate</th>\n",
       "    </tr>\n",
       "  </thead>\n",
       "  <tbody>\n",
       "    <tr>\n",
       "      <th>count</th>\n",
       "      <td>2.261400e+05</td>\n",
       "      <td>2.261400e+05</td>\n",
       "      <td>2.261400e+05</td>\n",
       "      <td>2.261400e+05</td>\n",
       "      <td>2.261400e+05</td>\n",
       "      <td>2.261400e+05</td>\n",
       "      <td>2.261400e+05</td>\n",
       "    </tr>\n",
       "    <tr>\n",
       "      <th>mean</th>\n",
       "      <td>1.005455e-17</td>\n",
       "      <td>1.206546e-17</td>\n",
       "      <td>1.754520e-16</td>\n",
       "      <td>-1.759547e-18</td>\n",
       "      <td>4.524549e-18</td>\n",
       "      <td>-3.016366e-17</td>\n",
       "      <td>-2.686451e-18</td>\n",
       "    </tr>\n",
       "    <tr>\n",
       "      <th>std</th>\n",
       "      <td>1.000002e+00</td>\n",
       "      <td>1.000002e+00</td>\n",
       "      <td>1.000002e+00</td>\n",
       "      <td>1.000002e+00</td>\n",
       "      <td>1.000002e+00</td>\n",
       "      <td>1.000002e+00</td>\n",
       "      <td>1.000002e+00</td>\n",
       "    </tr>\n",
       "    <tr>\n",
       "      <th>min</th>\n",
       "      <td>-1.252316e-01</td>\n",
       "      <td>-2.321716e-01</td>\n",
       "      <td>-2.737838e+00</td>\n",
       "      <td>-1.742868e-01</td>\n",
       "      <td>-7.790595e-02</td>\n",
       "      <td>-1.128741e+00</td>\n",
       "      <td>-5.226844e-02</td>\n",
       "    </tr>\n",
       "    <tr>\n",
       "      <th>25%</th>\n",
       "      <td>-1.252316e-01</td>\n",
       "      <td>-2.321716e-01</td>\n",
       "      <td>-6.842019e-01</td>\n",
       "      <td>-1.053205e-01</td>\n",
       "      <td>-7.719748e-02</td>\n",
       "      <td>-2.906674e-01</td>\n",
       "      <td>-2.610574e-02</td>\n",
       "    </tr>\n",
       "    <tr>\n",
       "      <th>50%</th>\n",
       "      <td>-1.252316e-01</td>\n",
       "      <td>-2.321716e-01</td>\n",
       "      <td>-7.744580e-02</td>\n",
       "      <td>-4.824491e-02</td>\n",
       "      <td>-7.436361e-02</td>\n",
       "      <td>-1.738249e-02</td>\n",
       "      <td>-1.613900e-02</td>\n",
       "    </tr>\n",
       "    <tr>\n",
       "      <th>75%</th>\n",
       "      <td>-1.252316e-01</td>\n",
       "      <td>-1.584198e-01</td>\n",
       "      <td>2.959425e-01</td>\n",
       "      <td>6.452532e-03</td>\n",
       "      <td>-6.515353e-02</td>\n",
       "      <td>1.283695e-01</td>\n",
       "      <td>-1.188889e-03</td>\n",
       "    </tr>\n",
       "    <tr>\n",
       "      <th>max</th>\n",
       "      <td>7.774224e+01</td>\n",
       "      <td>6.648806e+01</td>\n",
       "      <td>4.118197e+01</td>\n",
       "      <td>9.915151e+01</td>\n",
       "      <td>1.359952e+02</td>\n",
       "      <td>4.662324e+01</td>\n",
       "      <td>1.670925e+02</td>\n",
       "    </tr>\n",
       "  </tbody>\n",
       "</table>\n",
       "</div>"
      ],
      "text/plain": [
       "       contract_line_net_usd_amount  product_net_price  \\\n",
       "count                  2.261400e+05       2.261400e+05   \n",
       "mean                   1.005455e-17       1.206546e-17   \n",
       "std                    1.000002e+00       1.000002e+00   \n",
       "min                   -1.252316e-01      -2.321716e-01   \n",
       "25%                   -1.252316e-01      -2.321716e-01   \n",
       "50%                   -1.252316e-01      -2.321716e-01   \n",
       "75%                   -1.252316e-01      -1.584198e-01   \n",
       "max                    7.774224e+01       6.648806e+01   \n",
       "\n",
       "       sales_node_renewal_rate  partner_renewal_rate  product_renewal_rate  \\\n",
       "count             2.261400e+05          2.261400e+05          2.261400e+05   \n",
       "mean              1.754520e-16         -1.759547e-18          4.524549e-18   \n",
       "std               1.000002e+00          1.000002e+00          1.000002e+00   \n",
       "min              -2.737838e+00         -1.742868e-01         -7.790595e-02   \n",
       "25%              -6.842019e-01         -1.053205e-01         -7.719748e-02   \n",
       "50%              -7.744580e-02         -4.824491e-02         -7.436361e-02   \n",
       "75%               2.959425e-01          6.452532e-03         -6.515353e-02   \n",
       "max               4.118197e+01          9.915151e+01          1.359952e+02   \n",
       "\n",
       "       service_sales_node_installed_base_sales_node_renewal_rate  \\\n",
       "count                                       2.261400e+05           \n",
       "mean                                       -3.016366e-17           \n",
       "std                                         1.000002e+00           \n",
       "min                                        -1.128741e+00           \n",
       "25%                                        -2.906674e-01           \n",
       "50%                                        -1.738249e-02           \n",
       "75%                                         1.283695e-01           \n",
       "max                                         4.662324e+01           \n",
       "\n",
       "       service_partner_installed_base_partner_renewal_rate  \n",
       "count                                       2.261400e+05    \n",
       "mean                                       -2.686451e-18    \n",
       "std                                         1.000002e+00    \n",
       "min                                        -5.226844e-02    \n",
       "25%                                        -2.610574e-02    \n",
       "50%                                        -1.613900e-02    \n",
       "75%                                        -1.188889e-03    \n",
       "max                                         1.670925e+02    "
      ]
     },
     "execution_count": 52,
     "metadata": {},
     "output_type": "execute_result"
    }
   ],
   "source": [
    "train[scalcols].describe()"
   ]
  },
  {
   "cell_type": "code",
   "execution_count": 53,
   "metadata": {},
   "outputs": [
    {
     "data": {
      "text/html": [
       "<div>\n",
       "<style scoped>\n",
       "    .dataframe tbody tr th:only-of-type {\n",
       "        vertical-align: middle;\n",
       "    }\n",
       "\n",
       "    .dataframe tbody tr th {\n",
       "        vertical-align: top;\n",
       "    }\n",
       "\n",
       "    .dataframe thead th {\n",
       "        text-align: right;\n",
       "    }\n",
       "</style>\n",
       "<table border=\"1\" class=\"dataframe\">\n",
       "  <thead>\n",
       "    <tr style=\"text-align: right;\">\n",
       "      <th></th>\n",
       "      <th>product_transaction_type</th>\n",
       "      <th>contract_line_reaction_time_code</th>\n",
       "      <th>sales_hierarchy_level</th>\n",
       "      <th>service_sales_node_base_sales_hierarchy_level</th>\n",
       "    </tr>\n",
       "  </thead>\n",
       "  <tbody>\n",
       "    <tr>\n",
       "      <th>count</th>\n",
       "      <td>226140</td>\n",
       "      <td>226140</td>\n",
       "      <td>226140</td>\n",
       "      <td>226140</td>\n",
       "    </tr>\n",
       "    <tr>\n",
       "      <th>unique</th>\n",
       "      <td>3</td>\n",
       "      <td>3</td>\n",
       "      <td>6</td>\n",
       "      <td>6</td>\n",
       "    </tr>\n",
       "    <tr>\n",
       "      <th>top</th>\n",
       "      <td>10002</td>\n",
       "      <td>-1</td>\n",
       "      <td>6</td>\n",
       "      <td>6</td>\n",
       "    </tr>\n",
       "    <tr>\n",
       "      <th>freq</th>\n",
       "      <td>202522</td>\n",
       "      <td>225296</td>\n",
       "      <td>199960</td>\n",
       "      <td>224170</td>\n",
       "    </tr>\n",
       "  </tbody>\n",
       "</table>\n",
       "</div>"
      ],
      "text/plain": [
       "        product_transaction_type  contract_line_reaction_time_code  \\\n",
       "count                     226140                            226140   \n",
       "unique                         3                                 3   \n",
       "top                        10002                                -1   \n",
       "freq                      202522                            225296   \n",
       "\n",
       "        sales_hierarchy_level  service_sales_node_base_sales_hierarchy_level  \n",
       "count                  226140                                         226140  \n",
       "unique                      6                                              6  \n",
       "top                         6                                              6  \n",
       "freq                   199960                                         224170  "
      ]
     },
     "execution_count": 53,
     "metadata": {},
     "output_type": "execute_result"
    }
   ],
   "source": [
    "train[catcols].describe()"
   ]
  },
  {
   "cell_type": "code",
   "execution_count": 54,
   "metadata": {},
   "outputs": [
    {
     "name": "stdout",
     "output_type": "stream",
     "text": [
      "minor_line_yorn 2\n",
      "instance_status 1\n",
      "product_transaction_type 3\n",
      "installed_product_type 2\n",
      "installed_product_component_yorn 2\n",
      "component_type 4\n",
      "scdc_product_yorn 1\n",
      "service_classification 2\n",
      "contract_line_multi_year_discount_yorn 2\n",
      "contract_line_route_to_market_code 3\n",
      "contract_line_sales_motion_code 1\n",
      "default_multi_year_discount_yorn 2\n",
      "low_dollar_contract_yorn 2\n",
      "contract_line_source_business_process_name 2\n",
      "contract_line_repair_service_order_level 2\n",
      "contract_line_reaction_time_code 3\n",
      "product_route_to_market 5\n",
      "service_route_to_market_code 5\n",
      "auto_quote_yorn 2\n",
      "hardware_yorn 2\n",
      "software_yorn 2\n",
      "acw_yorn 2\n",
      "enterprise_license_agreement_yorn 2\n",
      "software_opportunity_type 3\n",
      "sales_hierarchy_level 6\n",
      "united_states_yorn 2\n",
      "level_1_name 5\n",
      "service_sales_node_base_sales_hierarchy_level 6\n",
      "service_sales_node_base_scms_name 6\n",
      "service_sales_node_base_united_states_yorn 2\n",
      "service_sales_node_base_country_type 3\n",
      "service_sales_node_base_level_1_name 6\n",
      "item_type 5\n",
      "manufacturing_plant 2\n",
      "software_stack 4\n",
      "monetization_type 3\n",
      "product_category 4\n",
      "product_setup_classification 3\n",
      "software_usage_type 5\n",
      "erp_item_type 7\n",
      "item_status 6\n",
      "product_family_owner 1\n",
      "warranty_category 1\n",
      "software_support_services_eligible_yorn 2\n",
      "discount_category 3\n",
      "product_classification 2\n",
      "service_product_base_business_unit 3\n",
      "service_product_base_technology_group 1\n",
      "service_product_base_product_type 1\n",
      "service_product_base_item_type 1\n",
      "service_product_base_manufacturing_plant 2\n",
      "service_product_base_software_stack 2\n",
      "service_product_base_monetization_type 2\n",
      "service_product_base_product_category 2\n",
      "service_product_base_product_setup_classification 2\n",
      "service_product_base_software_usage_type 2\n",
      "service_product_base_erp_item_type 1\n",
      "service_product_base_item_status 2\n",
      "service_product_base_warranty_category 1\n",
      "service_product_base_software_support_services_eligible_yorn 1\n",
      "service_product_base_discount_category 2\n",
      "service_product_base_product_classification 2\n",
      "global_customer_market_segment_name 3\n",
      "country 1\n",
      "site_type 2\n",
      "customer_market_segment_name 3\n",
      "hq_customer_market_segment_name 4\n",
      "gu_site_type 1\n",
      "gu_customer_market_segment_name 3\n",
      "contract_line_net_usd_amount 3699\n",
      "product_net_price 3985\n",
      "service_contract_process_type 6\n",
      "product_bookings_measure_transaction_type 2\n",
      "product_adjustment_type 2\n",
      "product_channel_bookings_yorn 2\n",
      "service_channel_bookings_yorn 2\n",
      "service_bookings_measure_transaction_type 2\n",
      "scms_name 5\n",
      "country_type 3\n",
      "service_product_base_product_family_owner 1\n",
      "service_product_base_service_brand_code 3\n",
      "status_code 2\n",
      "partner_country_registered_type 2\n",
      "type_description 4\n",
      "partner_tier 2\n",
      "certification_description 4\n",
      "qualification_type_description 1\n",
      "disadvantaged_business_yorn 2\n",
      "minority_owned_business_yorn 2\n",
      "woman_owned_business_yorn 2\n",
      "business_owner_ethnicity_code 5\n",
      "hubzone_small_business_yorn 2\n",
      "disabled_veteran_owned_business_yorn 1\n",
      "service_partner_base_status_code 2\n",
      "service_partner_base_partner_country_registered_type 2\n",
      "service_partner_base_type_description 4\n",
      "service_partner_base_partner_tier 2\n",
      "service_partner_base_certification_description 4\n",
      "service_partner_base_qualification_type_description 1\n",
      "service_partner_base_disadvantaged_business_yorn 2\n",
      "service_partner_base_minority_owned_business_yorn 2\n",
      "service_partner_base_woman_owned_business_yorn 2\n",
      "service_partner_base_business_owner_ethnicity_code 6\n",
      "service_partner_base_hubzone_small_business_yorn 2\n",
      "service_partner_base_disabled_veteran_owned_business_yorn 1\n",
      "distributor_normalized_name 1\n",
      "service_distributor_base_distributor_normalized_name 1\n",
      "sales_node_renewal_rate 102\n",
      "partner_renewal_rate 149\n",
      "product_renewal_rate 573\n",
      "service_sales_node_installed_base_sales_node_renewal_rate 126\n",
      "service_partner_installed_base_partner_renewal_rate 202\n"
     ]
    }
   ],
   "source": [
    "for col in train.columns:\n",
    "    print(col+' '+str(len(train[col].unique())))"
   ]
  },
  {
   "cell_type": "code",
   "execution_count": 55,
   "metadata": {},
   "outputs": [],
   "source": [
    "cat1_cols = train.columns[0:28]\n",
    "cat2_cols = train.columns[28:56]\n",
    "cat3_cols = train.columns[56:84]\n",
    "cat4_cols = train.columns[84:112]"
   ]
  },
  {
   "cell_type": "code",
   "execution_count": 58,
   "metadata": {},
   "outputs": [],
   "source": [
    "train_cat1 = train[cat1_cols]\n",
    "train_cat2 = train[cat2_cols]\n",
    "train_cat3 = train[cat3_cols]\n",
    "train_cat4 = train[cat4_cols]\n",
    "test_cat1 = test[cat1_cols]\n",
    "test_cat2 = test[cat2_cols]\n",
    "test_cat3 = test[cat3_cols]\n",
    "test_cat4 = test[cat4_cols]"
   ]
  },
  {
   "cell_type": "code",
   "execution_count": 59,
   "metadata": {},
   "outputs": [
    {
     "name": "stdout",
     "output_type": "stream",
     "text": [
      "5.087857723236084\n"
     ]
    }
   ],
   "source": [
    "#convert data to one hot encoding to handle categorical values\n",
    "t1=time.time()\n",
    "train_objs_num = len(train_cat1)\n",
    "dataset = pd.concat(objs=[train_cat1, test_cat1], axis=0)\n",
    "dataset = pd.get_dummies(dataset)\n",
    "train_cat1 = dataset[:train_objs_num]\n",
    "test_cat1 = dataset[train_objs_num:]\n",
    "t2=time.time()\n",
    "print(t2-t1)"
   ]
  },
  {
   "cell_type": "code",
   "execution_count": 60,
   "metadata": {},
   "outputs": [
    {
     "name": "stdout",
     "output_type": "stream",
     "text": [
      "4.220139026641846\n"
     ]
    }
   ],
   "source": [
    "#convert data to one hot encoding to handle categorical values\n",
    "t1=time.time()\n",
    "train_objs_num = len(train_cat2)\n",
    "dataset = pd.concat(objs=[train_cat2, test_cat2], axis=0)\n",
    "dataset = pd.get_dummies(dataset)\n",
    "train_cat2 = dataset[:train_objs_num]\n",
    "test_cat2 = dataset[train_objs_num:]\n",
    "t2=time.time()\n",
    "print(t2-t1)"
   ]
  },
  {
   "cell_type": "code",
   "execution_count": 61,
   "metadata": {},
   "outputs": [
    {
     "name": "stdout",
     "output_type": "stream",
     "text": [
      "4.799879789352417\n"
     ]
    }
   ],
   "source": [
    "#convert data to one hot encoding to handle categorical values\n",
    "t1=time.time()\n",
    "train_objs_num = len(train_cat3)\n",
    "dataset = pd.concat(objs=[train_cat3, test_cat3], axis=0)\n",
    "dataset = pd.get_dummies(dataset)\n",
    "train_cat3 = dataset[:train_objs_num]\n",
    "test_cat3 = dataset[train_objs_num:]\n",
    "t2=time.time()\n",
    "print(t2-t1)"
   ]
  },
  {
   "cell_type": "code",
   "execution_count": 62,
   "metadata": {},
   "outputs": [
    {
     "name": "stdout",
     "output_type": "stream",
     "text": [
      "3.7328031063079834\n"
     ]
    }
   ],
   "source": [
    "#convert data to one hot encoding to handle categorical values\n",
    "t1=time.time()\n",
    "train_objs_num = len(train_cat4)\n",
    "dataset = pd.concat(objs=[train_cat4, test_cat4], axis=0)\n",
    "dataset = pd.get_dummies(dataset)\n",
    "train_cat4 = dataset[:train_objs_num]\n",
    "test_cat4 = dataset[train_objs_num:]\n",
    "t2=time.time()\n",
    "print(t2-t1)"
   ]
  },
  {
   "cell_type": "code",
   "execution_count": 63,
   "metadata": {},
   "outputs": [
    {
     "data": {
      "text/plain": [
       "(226140, 72)"
      ]
     },
     "execution_count": 63,
     "metadata": {},
     "output_type": "execute_result"
    }
   ],
   "source": [
    "train_cat1.shape"
   ]
  },
  {
   "cell_type": "code",
   "execution_count": 64,
   "metadata": {},
   "outputs": [
    {
     "data": {
      "text/plain": [
       "(226140, 84)"
      ]
     },
     "execution_count": 64,
     "metadata": {},
     "output_type": "execute_result"
    }
   ],
   "source": [
    "train_cat2.shape"
   ]
  },
  {
   "cell_type": "code",
   "execution_count": 65,
   "metadata": {},
   "outputs": [
    {
     "data": {
      "text/plain": [
       "(226140, 65)"
      ]
     },
     "execution_count": 65,
     "metadata": {},
     "output_type": "execute_result"
    }
   ],
   "source": [
    "train_cat3.shape"
   ]
  },
  {
   "cell_type": "code",
   "execution_count": 66,
   "metadata": {},
   "outputs": [
    {
     "data": {
      "text/plain": [
       "(226140, 61)"
      ]
     },
     "execution_count": 66,
     "metadata": {},
     "output_type": "execute_result"
    }
   ],
   "source": [
    "train_cat4.shape"
   ]
  },
  {
   "cell_type": "code",
   "execution_count": 67,
   "metadata": {},
   "outputs": [
    {
     "data": {
      "text/plain": [
       "False"
      ]
     },
     "execution_count": 67,
     "metadata": {},
     "output_type": "execute_result"
    }
   ],
   "source": [
    "train_cat1.isnull().any().any()"
   ]
  },
  {
   "cell_type": "code",
   "execution_count": 68,
   "metadata": {},
   "outputs": [
    {
     "data": {
      "text/plain": [
       "False"
      ]
     },
     "execution_count": 68,
     "metadata": {},
     "output_type": "execute_result"
    }
   ],
   "source": [
    "test_cat1.isnull().any().any()"
   ]
  },
  {
   "cell_type": "code",
   "execution_count": 69,
   "metadata": {},
   "outputs": [
    {
     "name": "stdout",
     "output_type": "stream",
     "text": [
      "0.47780752182006836\n"
     ]
    }
   ],
   "source": [
    "#split the data between train and validation set\n",
    "t1=time.time()\n",
    "from sklearn.model_selection import train_test_split\n",
    "X_train, X_valid, y_train, y_valid = train_test_split(train_cat1,train_y,test_size=0.33, random_state=42)\n",
    "t2=time.time()\n",
    "print(t2-t1)"
   ]
  },
  {
   "cell_type": "code",
   "execution_count": 70,
   "metadata": {},
   "outputs": [
    {
     "data": {
      "text/plain": [
       "(151513, 72)"
      ]
     },
     "execution_count": 70,
     "metadata": {},
     "output_type": "execute_result"
    }
   ],
   "source": [
    "X_train.shape"
   ]
  },
  {
   "cell_type": "code",
   "execution_count": 71,
   "metadata": {},
   "outputs": [
    {
     "data": {
      "text/plain": [
       "0"
      ]
     },
     "execution_count": 71,
     "metadata": {},
     "output_type": "execute_result"
    }
   ],
   "source": [
    "import gc\n",
    "del dataset\n",
    "gc.collect()"
   ]
  },
  {
   "cell_type": "code",
   "execution_count": 72,
   "metadata": {},
   "outputs": [],
   "source": [
    "def XGB_CV(\n",
    "          max_depth,\n",
    "          gamma,\n",
    "          min_child_weight,\n",
    "          max_delta_step,\n",
    "          subsample,\n",
    "          colsample_bytree\n",
    "         ):\n",
    "    global AUCbest\n",
    "    global ITERbest\n",
    "\n",
    "#\n",
    "# Define all XGboost parameters\n",
    "#\n",
    "\n",
    "    paramt = {\n",
    "        'booster' : 'gbtree',\n",
    "        'max_depth' : int(max_depth),\n",
    "        'gamma' : gamma,\n",
    "        'eta' : 0.01,\n",
    "        'objective' : 'binary:logistic',\n",
    "        'nthread' : 4,\n",
    "        'silent' : True,\n",
    "        'eval_metric': 'logloss',\n",
    "        'subsample' : max(min(subsample, 1), 0),\n",
    "        'colsample_bytree' : max(min(colsample_bytree, 1), 0),\n",
    "        'min_child_weight' : min_child_weight,\n",
    "        'max_delta_step' : int(max_delta_step),\n",
    "        'seed' : 1001\n",
    "        }\n",
    "\n",
    "    folds = 5\n",
    "    cv_score = 0\n",
    "\n",
    "    xgbc = xgb.cv(\n",
    "                    paramt,\n",
    "                    dtrain,\n",
    "                    num_boost_round = 500,\n",
    "                    stratified = True,\n",
    "                    nfold = folds,\n",
    "#                    verbose_eval = 10,\n",
    "                    early_stopping_rounds = 20,\n",
    "                    metrics = 'logloss',\n",
    "                    show_stdv = True\n",
    "               )\n",
    "\n",
    "    val_score = xgbc['test-logloss-mean'].iloc[-1]\n",
    "    train_score = xgbc['train-logloss-mean'].iloc[-1]\n",
    "    print(' Stopped after %d iterations with train-auc = %f val-auc = %f ( diff = %f ) train-gini = %f val-gini = %f' % ( len(xgbc), train_score, val_score, (train_score - val_score), (train_score*2-1),\n",
    "    (val_score*2-1)) )\n",
    "    if ( val_score > AUCbest ):\n",
    "        AUCbest = val_score\n",
    "        ITERbest = len(xgbc)\n",
    "    return (val_score*2) - 1"
   ]
  },
  {
   "cell_type": "code",
   "execution_count": 73,
   "metadata": {},
   "outputs": [],
   "source": [
    "from bayes_opt import BayesianOptimization\n",
    "XGB_BO = BayesianOptimization(XGB_CV, {\n",
    "                                     'max_depth': (2, 12),\n",
    "                                     'gamma': (0.001, 50.0),\n",
    "                                     'min_child_weight': (0, 20),\n",
    "                                     'max_delta_step': (0, 10),\n",
    "                                     'subsample': (0.4, 1.0),\n",
    "                                     'colsample_bytree' :(0.4, 1.0)\n",
    "                                    })"
   ]
  },
  {
   "cell_type": "code",
   "execution_count": 76,
   "metadata": {},
   "outputs": [
    {
     "name": "stdout",
     "output_type": "stream",
     "text": [
      "----------------------------------------------------------------------------------------------------------------------------------\n",
      "\u001b[31mInitialization\u001b[0m\n",
      "\u001b[94m----------------------------------------------------------------------------------------------------------------------------------\u001b[0m\n",
      " Step |   Time |      Value |   colsample_bytree |     gamma |   max_delta_step |   max_depth |   min_child_weight |   subsample | \n",
      " Stopped after 500 iterations with train-auc = 0.573196 val-auc = 0.574420 ( diff = -0.001224 ) train-gini = 0.146391 val-gini = 0.148839\n",
      "    1 | 03m06s | \u001b[35m   0.14884\u001b[0m | \u001b[32m            0.5801\u001b[0m | \u001b[32m  14.8005\u001b[0m | \u001b[32m          7.0240\u001b[0m | \u001b[32m     7.6296\u001b[0m | \u001b[32m            4.6199\u001b[0m | \u001b[32m     0.9846\u001b[0m | \n",
      " Stopped after 500 iterations with train-auc = 0.576014 val-auc = 0.576829 ( diff = -0.000815 ) train-gini = 0.152028 val-gini = 0.153658\n",
      "    2 | 06m44s | \u001b[35m   0.15366\u001b[0m | \u001b[32m            0.9077\u001b[0m | \u001b[32m  26.4332\u001b[0m | \u001b[32m          3.8003\u001b[0m | \u001b[32m     9.6833\u001b[0m | \u001b[32m            0.8940\u001b[0m | \u001b[32m     0.7076\u001b[0m | \n",
      "\u001b[31mBayesian Optimization\u001b[0m\n",
      "\u001b[94m----------------------------------------------------------------------------------------------------------------------------------\u001b[0m\n",
      " Step |   Time |      Value |   colsample_bytree |     gamma |   max_delta_step |   max_depth |   min_child_weight |   subsample | \n",
      " Stopped after 500 iterations with train-auc = 0.584861 val-auc = 0.585076 ( diff = -0.000214 ) train-gini = 0.169722 val-gini = 0.170151\n",
      "    3 | 05m31s | \u001b[35m   0.17015\u001b[0m | \u001b[32m            0.4000\u001b[0m | \u001b[32m  50.0000\u001b[0m | \u001b[32m          0.0000\u001b[0m | \u001b[32m    12.0000\u001b[0m | \u001b[32m            0.0000\u001b[0m | \u001b[32m     0.4000\u001b[0m | \n",
      " Stopped after 500 iterations with train-auc = 0.589718 val-auc = 0.589895 ( diff = -0.000176 ) train-gini = 0.179437 val-gini = 0.179790\n",
      "    4 | 01m14s | \u001b[35m   0.17979\u001b[0m | \u001b[32m            0.4000\u001b[0m | \u001b[32m  50.0000\u001b[0m | \u001b[32m         10.0000\u001b[0m | \u001b[32m     2.0000\u001b[0m | \u001b[32m           20.0000\u001b[0m | \u001b[32m     1.0000\u001b[0m | \n",
      " Stopped after 500 iterations with train-auc = 0.579350 val-auc = 0.579852 ( diff = -0.000501 ) train-gini = 0.158701 val-gini = 0.159703\n",
      "    5 | 05m17s |    0.15970 |             0.5767 |   49.9229 |           0.4784 |     11.2063 |            19.5721 |      0.9179 | \n",
      " Stopped after 500 iterations with train-auc = 0.589489 val-auc = 0.589673 ( diff = -0.000184 ) train-gini = 0.178979 val-gini = 0.179346\n",
      "    6 | 01m29s |    0.17935 |             0.6496 |   49.6296 |           9.4771 |      2.8220 |             0.1387 |      0.7636 | \n",
      " Stopped after 500 iterations with train-auc = 0.580132 val-auc = 0.580601 ( diff = -0.000470 ) train-gini = 0.160263 val-gini = 0.161203\n",
      "    7 | 08m49s |    0.16120 |             0.9517 |   49.7088 |           9.7297 |     11.7530 |             1.2538 |      0.7423 | \n",
      "1940.8329675197601\n"
     ]
    }
   ],
   "source": [
    "t1=time.time()\n",
    "import xgboost as xgb\n",
    "import warnings\n",
    "print('-'*130)\n",
    "log_file = open('Porto-AUC-5fold-XGB-run-01-v1-full1.log', 'a')\n",
    "AUCbest = -1.\n",
    "ITERbest = 0\n",
    "y_dtrain=pd.get_dummies(y_train)\n",
    "dtrain = xgb.DMatrix(X_train, label = y_dtrain['Y'])\n",
    "print('-'*130, file=log_file)\n",
    "log_file.flush()\n",
    "\n",
    "with warnings.catch_warnings():\n",
    "    warnings.filterwarnings('ignore')\n",
    "    XGB_BO.maximize(init_points=2, n_iter=5, acq='ei', xi=0.0)\n",
    "t2=time.time()\n",
    "print(t2-t1)"
   ]
  },
  {
   "cell_type": "code",
   "execution_count": 77,
   "metadata": {},
   "outputs": [
    {
     "data": {
      "text/plain": [
       "0.1797896000000001"
      ]
     },
     "execution_count": 77,
     "metadata": {},
     "output_type": "execute_result"
    }
   ],
   "source": [
    "XGB_BO.res['max']['max_val']"
   ]
  },
  {
   "cell_type": "code",
   "execution_count": 78,
   "metadata": {},
   "outputs": [],
   "source": [
    "model = []\n",
    "model.append(XGB_BO.res['max']['max_params'])"
   ]
  },
  {
   "cell_type": "code",
   "execution_count": 102,
   "metadata": {},
   "outputs": [],
   "source": [
    "X_train, X_valid, y_train, y_valid = train_test_split(train_cat1,train_y,test_size=0.33, random_state=42)"
   ]
  },
  {
   "cell_type": "code",
   "execution_count": 103,
   "metadata": {},
   "outputs": [
    {
     "name": "stdout",
     "output_type": "stream",
     "text": [
      "0.579279515010252\n"
     ]
    },
    {
     "data": {
      "text/plain": [
       "29.409353733062744"
      ]
     },
     "execution_count": 103,
     "metadata": {},
     "output_type": "execute_result"
    }
   ],
   "source": [
    "t1=time.time()\n",
    "m_params = model[0]\n",
    "#xgb1=xgb.XGBClassifier(max_depth=int(m_params['max_depth']),gamma=m_params['gamma'],colsample_bytree=m_params['colsample_bytree'],\n",
    "#                       eval_metric='logloss',max_delta_step= m_params['max_delta_step'],min_child_weight=m_params['min_child_weight'],\n",
    "#                      subsample= m_params['subsample'])\n",
    "xgb1=xgb.XGBClassifier()\n",
    "pred=xgb1.fit(X_train,y_train).predict_proba(X_valid)\n",
    "pred0 = xgb1.predict_proba(test_cat1)\n",
    "print(log_loss(y_valid,pred[:,1]))\n",
    "t2=time.time()\n",
    "t2-t1"
   ]
  },
  {
   "cell_type": "code",
   "execution_count": 104,
   "metadata": {},
   "outputs": [],
   "source": [
    "X_train, X_valid, y_train, y_valid = train_test_split(train_cat2,train_y,test_size=0.33, random_state=42)"
   ]
  },
  {
   "cell_type": "code",
   "execution_count": 80,
   "metadata": {},
   "outputs": [
    {
     "name": "stdout",
     "output_type": "stream",
     "text": [
      "----------------------------------------------------------------------------------------------------------------------------------\n",
      "\u001b[31mBayesian Optimization\u001b[0m\n",
      "\u001b[94m----------------------------------------------------------------------------------------------------------------------------------\u001b[0m\n",
      " Step |   Time |      Value |   colsample_bytree |     gamma |   max_delta_step |   max_depth |   min_child_weight |   subsample | \n",
      " Stopped after 500 iterations with train-auc = 0.594052 val-auc = 0.594160 ( diff = -0.000108 ) train-gini = 0.188104 val-gini = 0.188320\n",
      "    8 | 02m11s | \u001b[35m   0.18832\u001b[0m | \u001b[32m            0.8056\u001b[0m | \u001b[32m  49.8911\u001b[0m | \u001b[32m          1.2655\u001b[0m | \u001b[32m     2.1317\u001b[0m | \u001b[32m            0.4858\u001b[0m | \u001b[32m     0.5091\u001b[0m | \n",
      " Stopped after 500 iterations with train-auc = 0.593786 val-auc = 0.593891 ( diff = -0.000105 ) train-gini = 0.187573 val-gini = 0.187783\n",
      "    9 | 01m37s |    0.18778 |             0.6187 |   49.5867 |           0.3332 |      2.4785 |             0.1047 |      0.6622 | \n",
      " Stopped after 500 iterations with train-auc = 0.594287 val-auc = 0.594374 ( diff = -0.000087 ) train-gini = 0.188574 val-gini = 0.188747\n",
      "   10 | 02m10s | \u001b[35m   0.18875\u001b[0m | \u001b[32m            0.9441\u001b[0m | \u001b[32m  49.2061\u001b[0m | \u001b[32m          0.1615\u001b[0m | \u001b[32m     2.0074\u001b[0m | \u001b[32m            1.7419\u001b[0m | \u001b[32m     0.4169\u001b[0m | \n",
      " Stopped after 500 iterations with train-auc = 0.592174 val-auc = 0.592387 ( diff = -0.000213 ) train-gini = 0.184348 val-gini = 0.184774\n",
      "   11 | 01m36s |    0.18477 |             0.4083 |    0.9901 |           0.3219 |      2.0259 |            19.3604 |      0.5984 | \n",
      " Stopped after 500 iterations with train-auc = 0.591886 val-auc = 0.592139 ( diff = -0.000252 ) train-gini = 0.183772 val-gini = 0.184277\n",
      "   12 | 02m41s |    0.18428 |             0.6177 |    0.0312 |           0.0561 |      2.2957 |             2.1572 |      0.5373 | \n",
      "0.5941193842293006\n",
      "645.882688999176\n"
     ]
    }
   ],
   "source": [
    "t1=time.time()\n",
    "import xgboost as xgb\n",
    "import warnings\n",
    "print('-'*130)\n",
    "log_file = open('Porto-AUC-5fold-XGB-run-01-v1-full1.log', 'a')\n",
    "AUCbest = -1.\n",
    "ITERbest = 0\n",
    "y_dtrain=pd.get_dummies(y_train)\n",
    "dtrain = xgb.DMatrix(X_train, label = y_dtrain['Y'])\n",
    "print('-'*130, file=log_file)\n",
    "log_file.flush()\n",
    "\n",
    "with warnings.catch_warnings():\n",
    "    warnings.filterwarnings('ignore')\n",
    "    XGB_BO.maximize(init_points=2, n_iter=5, acq='ei', xi=0.0)\n",
    "    \n",
    "model.append(XGB_BO.res['max']['max_params'])\n",
    "\n",
    "m_params = model[1]\n",
    "xgb1=xgb.XGBClassifier(max_depth=int(m_params['max_depth']),gamma=m_params['gamma'],colsample_bytree=m_params['colsample_bytree'],\n",
    "                       eval_metric='logloss',max_delta_step= m_params['max_delta_step'],min_child_weight=m_params['min_child_weight'],\n",
    "                      subsample= m_params['subsample'])\n",
    "pred=xgb1.fit(X_train,y_train).predict_proba(X_valid)\n",
    "pred1 = xgb1.predict_proba(test_cat2)\n",
    "print(log_loss(y_valid,pred[:,1]))\n",
    "\n",
    "t2=time.time()\n",
    "print(t2-t1)"
   ]
  },
  {
   "cell_type": "code",
   "execution_count": 106,
   "metadata": {},
   "outputs": [
    {
     "name": "stdout",
     "output_type": "stream",
     "text": [
      "0.5896495644698072\n"
     ]
    },
    {
     "data": {
      "text/plain": [
       "158.776305437088"
      ]
     },
     "execution_count": 106,
     "metadata": {},
     "output_type": "execute_result"
    }
   ],
   "source": [
    "xgb1=xgb.XGBClassifier()\n",
    "pred=xgb1.fit(X_train,y_train).predict_proba(X_valid)\n",
    "pred1 = xgb1.predict_proba(test_cat2)\n",
    "print(log_loss(y_valid,pred[:,1]))\n",
    "t2=time.time()\n",
    "t2-t1"
   ]
  },
  {
   "cell_type": "code",
   "execution_count": 107,
   "metadata": {},
   "outputs": [],
   "source": [
    "X_train, X_valid, y_train, y_valid = train_test_split(train_cat3,train_y,test_size=0.33, random_state=42)"
   ]
  },
  {
   "cell_type": "code",
   "execution_count": 108,
   "metadata": {},
   "outputs": [
    {
     "name": "stdout",
     "output_type": "stream",
     "text": [
      "0.577496717306822\n"
     ]
    },
    {
     "data": {
      "text/plain": [
       "188.350280046463"
      ]
     },
     "execution_count": 108,
     "metadata": {},
     "output_type": "execute_result"
    }
   ],
   "source": [
    "xgb1=xgb.XGBClassifier()\n",
    "pred=xgb1.fit(X_train,y_train).predict_proba(X_valid)\n",
    "pred2 = xgb1.predict_proba(test_cat3)\n",
    "print(log_loss(y_valid,pred[:,1]))\n",
    "t2=time.time()\n",
    "t2-t1"
   ]
  },
  {
   "cell_type": "code",
   "execution_count": 81,
   "metadata": {},
   "outputs": [
    {
     "name": "stdout",
     "output_type": "stream",
     "text": [
      "----------------------------------------------------------------------------------------------------------------------------------\n",
      "\u001b[31mBayesian Optimization\u001b[0m\n",
      "\u001b[94m----------------------------------------------------------------------------------------------------------------------------------\u001b[0m\n",
      " Step |   Time |      Value |   colsample_bytree |     gamma |   max_delta_step |   max_depth |   min_child_weight |   subsample | \n",
      " Stopped after 500 iterations with train-auc = 0.595224 val-auc = 0.595440 ( diff = -0.000216 ) train-gini = 0.190447 val-gini = 0.190880\n",
      "   13 | 01m35s | \u001b[35m   0.19088\u001b[0m | \u001b[32m            0.7781\u001b[0m | \u001b[32m  49.1454\u001b[0m | \u001b[32m          0.0877\u001b[0m | \u001b[32m     2.3755\u001b[0m | \u001b[32m           19.6348\u001b[0m | \u001b[32m     0.5793\u001b[0m | \n",
      " Stopped after 500 iterations with train-auc = 0.595876 val-auc = 0.596075 ( diff = -0.000198 ) train-gini = 0.191753 val-gini = 0.192150\n",
      "   14 | 01m46s | \u001b[35m   0.19215\u001b[0m | \u001b[32m            0.8981\u001b[0m | \u001b[32m  49.8242\u001b[0m | \u001b[32m          0.6018\u001b[0m | \u001b[32m     2.0148\u001b[0m | \u001b[32m           18.9584\u001b[0m | \u001b[32m     0.4730\u001b[0m | \n",
      " Stopped after 500 iterations with train-auc = 0.595676 val-auc = 0.595859 ( diff = -0.000183 ) train-gini = 0.191352 val-gini = 0.191718\n",
      "   15 | 01m21s |    0.19172 |             0.5704 |   48.7478 |           0.3655 |      2.1034 |            18.6732 |      0.5203 | \n",
      " Stopped after 500 iterations with train-auc = 0.594363 val-auc = 0.594554 ( diff = -0.000190 ) train-gini = 0.188727 val-gini = 0.189107\n",
      "   16 | 00m57s |    0.18911 |             0.4004 |   49.2137 |           0.1707 |      2.0948 |            18.3516 |      0.8841 | \n",
      " Stopped after 500 iterations with train-auc = 0.593828 val-auc = 0.594046 ( diff = -0.000218 ) train-gini = 0.187655 val-gini = 0.188092\n",
      "   17 | 01m24s |    0.18809 |             0.5726 |   26.9910 |           0.1800 |      2.0842 |            19.7294 |      0.4502 | \n",
      "0.5939319600305641\n",
      "448.5589315891266\n"
     ]
    }
   ],
   "source": [
    "t1=time.time()\n",
    "import xgboost as xgb\n",
    "import warnings\n",
    "print('-'*130)\n",
    "log_file = open('Porto-AUC-5fold-XGB-run-01-v1-full1.log', 'a')\n",
    "AUCbest = -1.\n",
    "ITERbest = 0\n",
    "y_dtrain=pd.get_dummies(y_train)\n",
    "dtrain = xgb.DMatrix(X_train, label = y_dtrain['Y'])\n",
    "print('-'*130, file=log_file)\n",
    "log_file.flush()\n",
    "\n",
    "with warnings.catch_warnings():\n",
    "    warnings.filterwarnings('ignore')\n",
    "    XGB_BO.maximize(init_points=2, n_iter=5, acq='ei', xi=0.0)\n",
    "    \n",
    "model.append(XGB_BO.res['max']['max_params'])\n",
    "\n",
    "m_params = model[2]\n",
    "xgb1=xgb.XGBClassifier(max_depth=int(m_params['max_depth']),gamma=m_params['gamma'],colsample_bytree=m_params['colsample_bytree'],\n",
    "                       eval_metric='logloss',max_delta_step= m_params['max_delta_step'],min_child_weight=m_params['min_child_weight'],\n",
    "                      subsample= m_params['subsample'])\n",
    "pred=xgb1.fit(X_train,y_train).predict_proba(X_valid)\n",
    "pred2 = xgb1.predict_proba(test_cat3)\n",
    "print(log_loss(y_valid,pred[:,1]))\n",
    "\n",
    "t2=time.time()\n",
    "print(t2-t1)"
   ]
  },
  {
   "cell_type": "code",
   "execution_count": 109,
   "metadata": {},
   "outputs": [],
   "source": [
    "X_train, X_valid, y_train, y_valid = train_test_split(train_cat4,train_y,test_size=0.33, random_state=42)"
   ]
  },
  {
   "cell_type": "code",
   "execution_count": 110,
   "metadata": {},
   "outputs": [
    {
     "name": "stdout",
     "output_type": "stream",
     "text": [
      "0.5661399697647229\n"
     ]
    },
    {
     "data": {
      "text/plain": [
       "251.78417444229126"
      ]
     },
     "execution_count": 110,
     "metadata": {},
     "output_type": "execute_result"
    }
   ],
   "source": [
    "xgb1=xgb.XGBClassifier()\n",
    "pred=xgb1.fit(X_train,y_train).predict_proba(X_valid)\n",
    "pred3 = xgb1.predict_proba(test_cat4)\n",
    "print(log_loss(y_valid,pred[:,1]))\n",
    "t2=time.time()\n",
    "t2-t1"
   ]
  },
  {
   "cell_type": "code",
   "execution_count": 82,
   "metadata": {},
   "outputs": [
    {
     "name": "stdout",
     "output_type": "stream",
     "text": [
      "----------------------------------------------------------------------------------------------------------------------------------\n",
      "\u001b[31mBayesian Optimization\u001b[0m\n",
      "\u001b[94m----------------------------------------------------------------------------------------------------------------------------------\u001b[0m\n",
      " Step |   Time |      Value |   colsample_bytree |     gamma |   max_delta_step |   max_depth |   min_child_weight |   subsample | \n",
      " Stopped after 500 iterations with train-auc = 0.586948 val-auc = 0.587258 ( diff = -0.000311 ) train-gini = 0.173895 val-gini = 0.174517\n",
      "   18 | 01m13s |    0.17452 |             0.4084 |   19.2594 |           0.1118 |      2.2326 |             0.4105 |      0.4886 | \n",
      " Stopped after 500 iterations with train-auc = 0.588576 val-auc = 0.588795 ( diff = -0.000220 ) train-gini = 0.177151 val-gini = 0.177590\n",
      "   19 | 01m32s |    0.17759 |             0.6855 |   45.4355 |           0.5617 |      2.0154 |            19.4422 |      0.4436 | \n",
      " Stopped after 500 iterations with train-auc = 0.515401 val-auc = 0.521634 ( diff = -0.006233 ) train-gini = 0.030802 val-gini = 0.043267\n",
      "   20 | 04m41s |    0.04327 |             0.4883 |    8.8110 |           0.4129 |     11.9856 |            17.1352 |      0.4109 | \n",
      " Stopped after 500 iterations with train-auc = 0.586634 val-auc = 0.586954 ( diff = -0.000320 ) train-gini = 0.173268 val-gini = 0.173908\n",
      "   21 | 01m34s |    0.17391 |             0.5385 |    2.2040 |           9.7668 |      2.5420 |             1.3768 |      0.5019 | \n",
      " Stopped after 500 iterations with train-auc = 0.586837 val-auc = 0.587130 ( diff = -0.000293 ) train-gini = 0.173675 val-gini = 0.174260\n",
      "   22 | 01m31s |    0.17426 |             0.4953 |   16.5646 |           9.6786 |      2.0268 |            17.4967 |      0.5101 | \n",
      "0.5872230706871101\n",
      "665.3530926704407\n"
     ]
    }
   ],
   "source": [
    "t1=time.time()\n",
    "import xgboost as xgb\n",
    "import warnings\n",
    "print('-'*130)\n",
    "log_file = open('Porto-AUC-5fold-XGB-run-01-v1-full1.log', 'a')\n",
    "AUCbest = -1.\n",
    "ITERbest = 0\n",
    "y_dtrain=pd.get_dummies(y_train)\n",
    "dtrain = xgb.DMatrix(X_train, label = y_dtrain['Y'])\n",
    "print('-'*130, file=log_file)\n",
    "log_file.flush()\n",
    "\n",
    "with warnings.catch_warnings():\n",
    "    warnings.filterwarnings('ignore')\n",
    "    XGB_BO.maximize(init_points=2, n_iter=5, acq='ei', xi=0.0)\n",
    "    \n",
    "model.append(XGB_BO.res['max']['max_params'])\n",
    "\n",
    "m_params = model[3]\n",
    "xgb1=xgb.XGBClassifier(max_depth=int(m_params['max_depth']),gamma=m_params['gamma'],colsample_bytree=m_params['colsample_bytree'],\n",
    "                       eval_metric='logloss',max_delta_step= m_params['max_delta_step'],min_child_weight=m_params['min_child_weight'],\n",
    "                      subsample= m_params['subsample'])\n",
    "pred=xgb1.fit(X_train,y_train).predict_proba(X_valid)\n",
    "pred3 = xgb1.predict_proba(test_cat4)\n",
    "print(log_loss(y_valid,pred[:,1]))\n",
    "\n",
    "t2=time.time()\n",
    "print(t2-t1)"
   ]
  },
  {
   "cell_type": "code",
   "execution_count": 111,
   "metadata": {},
   "outputs": [],
   "source": [
    "pred=pd.DataFrame({'cat1':pred0[:,1],'cat2':pred1[:,1],'cat3':pred2[:,1],'cat4':pred3[:,1]},index=range(0,len(pred0[:,1])))\n",
    "pred_mean = pred.mean(axis=1)\n",
    "pred_min = pred.min(axis=1)\n",
    "pred_max = pred.max(axis=1)"
   ]
  },
  {
   "cell_type": "code",
   "execution_count": 96,
   "metadata": {},
   "outputs": [
    {
     "name": "stderr",
     "output_type": "stream",
     "text": [
      "/usr/lib/python3.6/site-packages/IPython/core/interactiveshell.py:2728: DtypeWarning: Columns (6,16,17,26,40,41,49,53,54,55,100,104,107,109,112,127,128,129,130,153,171,220,221,222,225,226,227) have mixed types. Specify dtype option on import or set low_memory=False.\n",
      "  interactivity=interactivity, compiler=compiler, result=result)\n"
     ]
    }
   ],
   "source": [
    "test = pd.read_table('scoring_set.tsv')\n",
    "columns=[]\n",
    "for col in test.columns:\n",
    "    columns.append(col.replace('scoring_set.',''))\n",
    "test.columns=columns\n",
    "test_y=test['renewed_yorn']"
   ]
  },
  {
   "cell_type": "code",
   "execution_count": 112,
   "metadata": {},
   "outputs": [],
   "source": [
    "#submit the prediction score\n",
    "submit = pd.DataFrame()\n",
    "submit['INNOVATION_CHALLENGE_KEY'] = test_ids\n",
    "#RENEWAL_PROBABLIITY\n",
    "submit['RENEWAL_PROBABLIITY']=pred_mean\n",
    "submit=submit.sort_values('INNOVATION_CHALLENGE_KEY')\n",
    "submit.to_csv('XGB-default-model_imputed_mean.csv',index=False)"
   ]
  },
  {
   "cell_type": "code",
   "execution_count": 99,
   "metadata": {},
   "outputs": [],
   "source": [
    "#submit the prediction score\n",
    "submit = pd.DataFrame()\n",
    "submit['INNOVATION_CHALLENGE_KEY'] = test_ids\n",
    "#RENEWAL_PROBABLIITY\n",
    "submit['RENEWAL_PROBABLIITY']=pred_min\n",
    "submit=submit.sort_values('INNOVATION_CHALLENGE_KEY')\n",
    "submit.to_csv('XGB-BO-model_imputed_min.csv',index=False)"
   ]
  },
  {
   "cell_type": "code",
   "execution_count": 100,
   "metadata": {},
   "outputs": [],
   "source": [
    "#submit the prediction score\n",
    "submit = pd.DataFrame()\n",
    "submit['INNOVATION_CHALLENGE_KEY'] = test_ids\n",
    "#RENEWAL_PROBABLIITY\n",
    "submit['RENEWAL_PROBABLIITY']=pred_max\n",
    "submit=submit.sort_values('INNOVATION_CHALLENGE_KEY')\n",
    "submit.to_csv('XGB-BO-model_imputed_max.csv',index=False)"
   ]
  },
  {
   "cell_type": "code",
   "execution_count": null,
   "metadata": {},
   "outputs": [],
   "source": []
  }
 ],
 "metadata": {
  "kernelspec": {
   "display_name": "Python 3",
   "language": "python",
   "name": "python3"
  },
  "language_info": {
   "codemirror_mode": {
    "name": "ipython",
    "version": 3
   },
   "file_extension": ".py",
   "mimetype": "text/x-python",
   "name": "python",
   "nbconvert_exporter": "python",
   "pygments_lexer": "ipython3",
   "version": "3.6.4"
  }
 },
 "nbformat": 4,
 "nbformat_minor": 2
}
