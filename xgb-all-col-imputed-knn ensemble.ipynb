{
 "cells": [
  {
   "cell_type": "code",
   "execution_count": 1,
   "metadata": {},
   "outputs": [],
   "source": [
    "import os\n",
    "import pandas as pd\n",
    "import numpy as np\n",
    "import time\n",
    "from sklearn.metrics import log_loss"
   ]
  },
  {
   "cell_type": "code",
   "execution_count": 2,
   "metadata": {},
   "outputs": [],
   "source": [
    "os.chdir('/aichallenge')"
   ]
  },
  {
   "cell_type": "code",
   "execution_count": 3,
   "metadata": {
    "scrolled": true
   },
   "outputs": [
    {
     "name": "stderr",
     "output_type": "stream",
     "text": [
      "/usr/lib/python3.6/site-packages/IPython/core/interactiveshell.py:2728: DtypeWarning: Columns (6,16,17,26,40,41,49,53,97,98,99,100,104,107,109,112,127,128,129,130,220,221,222) have mixed types. Specify dtype option on import or set low_memory=False.\n",
      "  interactivity=interactivity, compiler=compiler, result=result)\n",
      "/usr/lib/python3.6/site-packages/IPython/core/interactiveshell.py:2728: DtypeWarning: Columns (6,16,17,26,40,41,49,53,54,55,100,104,107,109,112,127,128,129,130,153,171,220,221,222,225,226,227) have mixed types. Specify dtype option on import or set low_memory=False.\n",
      "  interactivity=interactivity, compiler=compiler, result=result)\n"
     ]
    },
    {
     "name": "stdout",
     "output_type": "stream",
     "text": [
      "184.8537561893463\n"
     ]
    }
   ],
   "source": [
    "import time\n",
    "t1=time.time()\n",
    "train = pd.read_table('challengeData.tsv')\n",
    "test = pd.read_table('scoring_set.tsv')\n",
    "train_imputed = pd.read_csv('train_imputed.csv')\n",
    "test_imputed = pd.read_csv('test_imputed.csv')\n",
    "t2=time.time()\n",
    "print(t2-t1)"
   ]
  },
  {
   "cell_type": "code",
   "execution_count": 4,
   "metadata": {},
   "outputs": [
    {
     "data": {
      "text/plain": [
       "(250000, 237)"
      ]
     },
     "execution_count": 4,
     "metadata": {},
     "output_type": "execute_result"
    }
   ],
   "source": [
    "train.shape"
   ]
  },
  {
   "cell_type": "code",
   "execution_count": 5,
   "metadata": {},
   "outputs": [
    {
     "data": {
      "text/plain": [
       "False"
      ]
     },
     "execution_count": 5,
     "metadata": {},
     "output_type": "execute_result"
    }
   ],
   "source": [
    "train_imputed.isnull().any().any()"
   ]
  },
  {
   "cell_type": "code",
   "execution_count": 6,
   "metadata": {},
   "outputs": [
    {
     "data": {
      "text/plain": [
       "(1888195, 42)"
      ]
     },
     "execution_count": 6,
     "metadata": {},
     "output_type": "execute_result"
    }
   ],
   "source": [
    "test_imputed.shape"
   ]
  },
  {
   "cell_type": "code",
   "execution_count": 7,
   "metadata": {},
   "outputs": [
    {
     "data": {
      "text/plain": [
       "(226140, 42)"
      ]
     },
     "execution_count": 7,
     "metadata": {},
     "output_type": "execute_result"
    }
   ],
   "source": [
    "train_imputed.shape"
   ]
  },
  {
   "cell_type": "code",
   "execution_count": 8,
   "metadata": {},
   "outputs": [],
   "source": [
    "train_imputed = train_imputed.drop('Unnamed: 0',axis=1)\n",
    "test_imputed = test_imputed.drop('Unnamed: 0',axis=1)"
   ]
  },
  {
   "cell_type": "code",
   "execution_count": 9,
   "metadata": {},
   "outputs": [
    {
     "name": "stdout",
     "output_type": "stream",
     "text": [
      "0.0013065338134765625\n"
     ]
    }
   ],
   "source": [
    "#remove data set name from columns names to make it uniform\n",
    "t1=time.time()\n",
    "columns=[]\n",
    "for col in train.columns:\n",
    "    columns.append(col.replace('challenge_data.',''))\n",
    "train.columns=columns\n",
    "columns=[]\n",
    "for col in test.columns:\n",
    "    columns.append(col.replace('scoring_set.',''))\n",
    "test.columns=columns\n",
    "t2=time.time()\n",
    "print(t2-t1)"
   ]
  },
  {
   "cell_type": "code",
   "execution_count": 10,
   "metadata": {},
   "outputs": [
    {
     "data": {
      "text/plain": [
       "23860"
      ]
     },
     "execution_count": 10,
     "metadata": {},
     "output_type": "execute_result"
    }
   ],
   "source": [
    "train['renewed_yorn'].isnull().sum()"
   ]
  },
  {
   "cell_type": "code",
   "execution_count": 11,
   "metadata": {},
   "outputs": [
    {
     "name": "stdout",
     "output_type": "stream",
     "text": [
      "0.5344786643981934\n"
     ]
    }
   ],
   "source": [
    "#remove the rows where 'challenge_data.renewed_yorn' is null in training data\n",
    "t1=time.time()\n",
    "train=train[train['renewed_yorn'].notnull()]\n",
    "t2=time.time()\n",
    "print(t2-t1)"
   ]
  },
  {
   "cell_type": "code",
   "execution_count": 12,
   "metadata": {},
   "outputs": [
    {
     "name": "stdout",
     "output_type": "stream",
     "text": [
      "4.189247131347656\n"
     ]
    }
   ],
   "source": [
    "#remove the 'challenge_data.renewed_yorn' from training and test data and move it to a seperate variable\n",
    "t1=time.time()\n",
    "train_y=train['renewed_yorn']\n",
    "train = train.drop(['renewed_yorn','zip_code'],axis=1)\n",
    "test_y=test['renewed_yorn']\n",
    "test = test.drop(['renewed_yorn','zip_code'],axis=1)\n",
    "t2=time.time()\n",
    "print(t2-t1)"
   ]
  },
  {
   "cell_type": "code",
   "execution_count": 13,
   "metadata": {},
   "outputs": [
    {
     "name": "stdout",
     "output_type": "stream",
     "text": [
      "46.94104599952698\n"
     ]
    }
   ],
   "source": [
    "#remove columns which have many null values\n",
    "t1=time.time()\n",
    "percent = (test.isnull().sum()/test.isnull().count())\n",
    "test.columns[percent>0.5]\n",
    "#We would ignore all these 102 columns so we are left with 135 columns\n",
    "len(test.columns[percent>0.5])\n",
    "#all_clean_columns=train.columns[percent==0]\n",
    "#train_clean=train[all_clean_columns]\n",
    "unclean_columns=test.columns[percent>0.5]\n",
    "clean_columns=test.columns[percent==0]\n",
    "train = train.drop(unclean_columns,axis=1)\n",
    "test = test.drop(unclean_columns,axis=1)\n",
    "t2=time.time()\n",
    "print(t2-t1)"
   ]
  },
  {
   "cell_type": "code",
   "execution_count": 14,
   "metadata": {},
   "outputs": [
    {
     "data": {
      "text/plain": [
       "36"
      ]
     },
     "execution_count": 14,
     "metadata": {},
     "output_type": "execute_result"
    }
   ],
   "source": [
    "len(unclean_columns)"
   ]
  },
  {
   "cell_type": "code",
   "execution_count": 15,
   "metadata": {},
   "outputs": [
    {
     "data": {
      "text/plain": [
       "133"
      ]
     },
     "execution_count": 15,
     "metadata": {},
     "output_type": "execute_result"
    }
   ],
   "source": [
    "len(clean_columns)"
   ]
  },
  {
   "cell_type": "code",
   "execution_count": 16,
   "metadata": {},
   "outputs": [],
   "source": [
    "t1=time.time()\n",
    "percent = (test.isnull().sum()/test.isnull().count())\n",
    "target_columns=test.columns[percent>0]\n",
    "train_missing=train[target_columns]\n",
    "test_missing=test[target_columns]\n",
    "train = train.drop(target_columns,axis=1)\n",
    "test = test.drop(target_columns,axis=1)"
   ]
  },
  {
   "cell_type": "code",
   "execution_count": 17,
   "metadata": {},
   "outputs": [
    {
     "data": {
      "text/plain": [
       "66"
      ]
     },
     "execution_count": 17,
     "metadata": {},
     "output_type": "execute_result"
    }
   ],
   "source": [
    "len(target_columns)"
   ]
  },
  {
   "cell_type": "code",
   "execution_count": 18,
   "metadata": {},
   "outputs": [
    {
     "name": "stdout",
     "output_type": "stream",
     "text": [
      "1.9067142009735107\n"
     ]
    }
   ],
   "source": [
    "#Remove columns which have too many categories and is string type\n",
    "t1=time.time()\n",
    "messy_columns = []\n",
    "for col in target_columns:\n",
    "    if(train_missing[col].dtype=='O' and len(train_missing[col].unique())>=10):\n",
    "        messy_columns.append(col)\n",
    "t2=time.time()\n",
    "print(t2-t1)"
   ]
  },
  {
   "cell_type": "code",
   "execution_count": 19,
   "metadata": {},
   "outputs": [
    {
     "data": {
      "text/plain": [
       "25"
      ]
     },
     "execution_count": 19,
     "metadata": {},
     "output_type": "execute_result"
    }
   ],
   "source": [
    "# 56 messy columns are removed\n",
    "len(messy_columns)"
   ]
  },
  {
   "cell_type": "code",
   "execution_count": 20,
   "metadata": {},
   "outputs": [
    {
     "data": {
      "text/plain": [
       "66"
      ]
     },
     "execution_count": 20,
     "metadata": {},
     "output_type": "execute_result"
    }
   ],
   "source": [
    "len(train_missing.columns)"
   ]
  },
  {
   "cell_type": "code",
   "execution_count": 21,
   "metadata": {},
   "outputs": [
    {
     "name": "stdout",
     "output_type": "stream",
     "text": [
      "1.0682344436645508\n"
     ]
    }
   ],
   "source": [
    "t1=time.time()\n",
    "train_missing=train_missing.drop(messy_columns,axis=1)\n",
    "test_missing=test_missing.drop(messy_columns,axis=1)\n",
    "t2=time.time()\n",
    "print(t2-t1)"
   ]
  },
  {
   "cell_type": "code",
   "execution_count": 22,
   "metadata": {},
   "outputs": [
    {
     "name": "stdout",
     "output_type": "stream",
     "text": [
      "1.9743523597717285\n"
     ]
    }
   ],
   "source": [
    "#Remove columns which have too many categories and is string type\n",
    "t1=time.time()\n",
    "messy_columns = []\n",
    "for col in train.columns:\n",
    "    if(train[col].dtype=='O' and len(train[col].unique())>=10):\n",
    "        messy_columns.append(col)\n",
    "t2=time.time()\n",
    "print(t2-t1)"
   ]
  },
  {
   "cell_type": "code",
   "execution_count": 23,
   "metadata": {},
   "outputs": [
    {
     "data": {
      "text/plain": [
       "61"
      ]
     },
     "execution_count": 23,
     "metadata": {},
     "output_type": "execute_result"
    }
   ],
   "source": [
    "len(messy_columns)"
   ]
  },
  {
   "cell_type": "code",
   "execution_count": 24,
   "metadata": {},
   "outputs": [
    {
     "name": "stdout",
     "output_type": "stream",
     "text": [
      "2.0690605640411377\n"
     ]
    }
   ],
   "source": [
    "t1=time.time()\n",
    "train=train.drop(messy_columns,axis=1)\n",
    "test=test.drop(messy_columns,axis=1)\n",
    "t2=time.time()\n",
    "print(t2-t1)"
   ]
  },
  {
   "cell_type": "code",
   "execution_count": 25,
   "metadata": {},
   "outputs": [
    {
     "data": {
      "text/plain": [
       "(226140, 72)"
      ]
     },
     "execution_count": 25,
     "metadata": {},
     "output_type": "execute_result"
    }
   ],
   "source": [
    "train.shape"
   ]
  },
  {
   "cell_type": "code",
   "execution_count": 26,
   "metadata": {},
   "outputs": [
    {
     "data": {
      "text/plain": [
       "(226140, 41)"
      ]
     },
     "execution_count": 26,
     "metadata": {},
     "output_type": "execute_result"
    }
   ],
   "source": [
    "train_missing.shape"
   ]
  },
  {
   "cell_type": "code",
   "execution_count": 27,
   "metadata": {},
   "outputs": [
    {
     "data": {
      "text/plain": [
       "(226140, 41)"
      ]
     },
     "execution_count": 27,
     "metadata": {},
     "output_type": "execute_result"
    }
   ],
   "source": [
    "train_imputed.shape"
   ]
  },
  {
   "cell_type": "code",
   "execution_count": 28,
   "metadata": {},
   "outputs": [
    {
     "data": {
      "text/plain": [
       "False"
      ]
     },
     "execution_count": 28,
     "metadata": {},
     "output_type": "execute_result"
    }
   ],
   "source": [
    "train_imputed.isnull().any().any()"
   ]
  },
  {
   "cell_type": "code",
   "execution_count": 29,
   "metadata": {},
   "outputs": [
    {
     "data": {
      "text/plain": [
       "False"
      ]
     },
     "execution_count": 29,
     "metadata": {},
     "output_type": "execute_result"
    }
   ],
   "source": [
    "train.isnull().any().any()"
   ]
  },
  {
   "cell_type": "code",
   "execution_count": 30,
   "metadata": {},
   "outputs": [
    {
     "data": {
      "text/plain": [
       "Index(['innovation_challenge_key', 'minor_line_yorn', 'instance_status',\n",
       "       'product_transaction_type', 'installed_product_type',\n",
       "       'installed_product_component_yorn', 'component_type',\n",
       "       'scdc_product_yorn', 'service_classification',\n",
       "       'contract_line_multi_year_discount_yorn',\n",
       "       'contract_line_route_to_market_code', 'contract_line_sales_motion_code',\n",
       "       'default_multi_year_discount_yorn', 'low_dollar_contract_yorn',\n",
       "       'contract_line_source_business_process_name',\n",
       "       'contract_line_repair_service_order_level',\n",
       "       'contract_line_reaction_time_code', 'product_route_to_market',\n",
       "       'service_route_to_market_code', 'auto_quote_yorn', 'hardware_yorn',\n",
       "       'software_yorn', 'acw_yorn', 'enterprise_license_agreement_yorn',\n",
       "       'software_opportunity_type', 'sales_hierarchy_level',\n",
       "       'united_states_yorn', 'level_1_name',\n",
       "       'service_sales_node_base_sales_hierarchy_level',\n",
       "       'service_sales_node_base_scms_name',\n",
       "       'service_sales_node_base_united_states_yorn',\n",
       "       'service_sales_node_base_country_type',\n",
       "       'service_sales_node_base_level_1_name', 'item_type',\n",
       "       'manufacturing_plant', 'software_stack', 'monetization_type',\n",
       "       'product_category', 'product_setup_classification',\n",
       "       'software_usage_type', 'erp_item_type', 'item_status',\n",
       "       'product_family_owner', 'warranty_category',\n",
       "       'software_support_services_eligible_yorn', 'discount_category',\n",
       "       'product_classification', 'service_product_base_business_unit',\n",
       "       'service_product_base_technology_group',\n",
       "       'service_product_base_product_type', 'service_product_base_item_type',\n",
       "       'service_product_base_manufacturing_plant',\n",
       "       'service_product_base_software_stack',\n",
       "       'service_product_base_monetization_type',\n",
       "       'service_product_base_product_category',\n",
       "       'service_product_base_product_setup_classification',\n",
       "       'service_product_base_software_usage_type',\n",
       "       'service_product_base_erp_item_type',\n",
       "       'service_product_base_item_status',\n",
       "       'service_product_base_warranty_category',\n",
       "       'service_product_base_software_support_services_eligible_yorn',\n",
       "       'service_product_base_discount_category',\n",
       "       'service_product_base_product_classification',\n",
       "       'global_customer_market_segment_name', 'country', 'site_type',\n",
       "       'customer_market_segment_name', 'hq_customer_market_segment_name',\n",
       "       'gu_site_type', 'gu_customer_market_segment_name',\n",
       "       'contract_line_net_usd_amount', 'product_net_price'],\n",
       "      dtype='object')"
      ]
     },
     "execution_count": 30,
     "metadata": {},
     "output_type": "execute_result"
    }
   ],
   "source": [
    "train.columns"
   ]
  },
  {
   "cell_type": "code",
   "execution_count": 31,
   "metadata": {},
   "outputs": [
    {
     "name": "stdout",
     "output_type": "stream",
     "text": [
      "1.3237998485565186\n"
     ]
    }
   ],
   "source": [
    "#Remove the primary key column for data fitting\n",
    "t1=time.time()\n",
    "train = train.drop(['innovation_challenge_key'],axis=1)\n",
    "test_ids=test['innovation_challenge_key']\n",
    "test = test.drop('innovation_challenge_key',axis=1)\n",
    "t2=time.time()\n",
    "print(t2-t1)"
   ]
  },
  {
   "cell_type": "code",
   "execution_count": 32,
   "metadata": {},
   "outputs": [
    {
     "data": {
      "text/plain": [
       "False"
      ]
     },
     "execution_count": 32,
     "metadata": {},
     "output_type": "execute_result"
    }
   ],
   "source": [
    "train.isnull().any().any()"
   ]
  },
  {
   "cell_type": "code",
   "execution_count": 33,
   "metadata": {},
   "outputs": [],
   "source": [
    "train=train.reset_index()"
   ]
  },
  {
   "cell_type": "code",
   "execution_count": 34,
   "metadata": {},
   "outputs": [
    {
     "ename": "ValueError",
     "evalue": "labels ['index'] not contained in axis",
     "output_type": "error",
     "traceback": [
      "\u001b[0;31m---------------------------------------------------------------------------\u001b[0m",
      "\u001b[0;31mValueError\u001b[0m                                Traceback (most recent call last)",
      "\u001b[0;32m<ipython-input-34-b466a3e64fb6>\u001b[0m in \u001b[0;36m<module>\u001b[0;34m()\u001b[0m\n\u001b[0;32m----> 1\u001b[0;31m \u001b[0mtrain_imputed\u001b[0m \u001b[0;34m=\u001b[0m \u001b[0mtrain_imputed\u001b[0m\u001b[0;34m.\u001b[0m\u001b[0mdrop\u001b[0m\u001b[0;34m(\u001b[0m\u001b[0;34m'index'\u001b[0m\u001b[0;34m,\u001b[0m\u001b[0maxis\u001b[0m\u001b[0;34m=\u001b[0m\u001b[0;36m1\u001b[0m\u001b[0;34m)\u001b[0m\u001b[0;34m\u001b[0m\u001b[0m\n\u001b[0m",
      "\u001b[0;32m/usr/lib64/python3.6/site-packages/pandas/core/generic.py\u001b[0m in \u001b[0;36mdrop\u001b[0;34m(self, labels, axis, index, columns, level, inplace, errors)\u001b[0m\n\u001b[1;32m   2528\u001b[0m         \u001b[0;32mfor\u001b[0m \u001b[0maxis\u001b[0m\u001b[0;34m,\u001b[0m \u001b[0mlabels\u001b[0m \u001b[0;32min\u001b[0m \u001b[0maxes\u001b[0m\u001b[0;34m.\u001b[0m\u001b[0mitems\u001b[0m\u001b[0;34m(\u001b[0m\u001b[0;34m)\u001b[0m\u001b[0;34m:\u001b[0m\u001b[0;34m\u001b[0m\u001b[0m\n\u001b[1;32m   2529\u001b[0m             \u001b[0;32mif\u001b[0m \u001b[0mlabels\u001b[0m \u001b[0;32mis\u001b[0m \u001b[0;32mnot\u001b[0m \u001b[0;32mNone\u001b[0m\u001b[0;34m:\u001b[0m\u001b[0;34m\u001b[0m\u001b[0m\n\u001b[0;32m-> 2530\u001b[0;31m                 \u001b[0mobj\u001b[0m \u001b[0;34m=\u001b[0m \u001b[0mobj\u001b[0m\u001b[0;34m.\u001b[0m\u001b[0m_drop_axis\u001b[0m\u001b[0;34m(\u001b[0m\u001b[0mlabels\u001b[0m\u001b[0;34m,\u001b[0m \u001b[0maxis\u001b[0m\u001b[0;34m,\u001b[0m \u001b[0mlevel\u001b[0m\u001b[0;34m=\u001b[0m\u001b[0mlevel\u001b[0m\u001b[0;34m,\u001b[0m \u001b[0merrors\u001b[0m\u001b[0;34m=\u001b[0m\u001b[0merrors\u001b[0m\u001b[0;34m)\u001b[0m\u001b[0;34m\u001b[0m\u001b[0m\n\u001b[0m\u001b[1;32m   2531\u001b[0m \u001b[0;34m\u001b[0m\u001b[0m\n\u001b[1;32m   2532\u001b[0m         \u001b[0;32mif\u001b[0m \u001b[0minplace\u001b[0m\u001b[0;34m:\u001b[0m\u001b[0;34m\u001b[0m\u001b[0m\n",
      "\u001b[0;32m/usr/lib64/python3.6/site-packages/pandas/core/generic.py\u001b[0m in \u001b[0;36m_drop_axis\u001b[0;34m(self, labels, axis, level, errors)\u001b[0m\n\u001b[1;32m   2560\u001b[0m                 \u001b[0mnew_axis\u001b[0m \u001b[0;34m=\u001b[0m \u001b[0maxis\u001b[0m\u001b[0;34m.\u001b[0m\u001b[0mdrop\u001b[0m\u001b[0;34m(\u001b[0m\u001b[0mlabels\u001b[0m\u001b[0;34m,\u001b[0m \u001b[0mlevel\u001b[0m\u001b[0;34m=\u001b[0m\u001b[0mlevel\u001b[0m\u001b[0;34m,\u001b[0m \u001b[0merrors\u001b[0m\u001b[0;34m=\u001b[0m\u001b[0merrors\u001b[0m\u001b[0;34m)\u001b[0m\u001b[0;34m\u001b[0m\u001b[0m\n\u001b[1;32m   2561\u001b[0m             \u001b[0;32melse\u001b[0m\u001b[0;34m:\u001b[0m\u001b[0;34m\u001b[0m\u001b[0m\n\u001b[0;32m-> 2562\u001b[0;31m                 \u001b[0mnew_axis\u001b[0m \u001b[0;34m=\u001b[0m \u001b[0maxis\u001b[0m\u001b[0;34m.\u001b[0m\u001b[0mdrop\u001b[0m\u001b[0;34m(\u001b[0m\u001b[0mlabels\u001b[0m\u001b[0;34m,\u001b[0m \u001b[0merrors\u001b[0m\u001b[0;34m=\u001b[0m\u001b[0merrors\u001b[0m\u001b[0;34m)\u001b[0m\u001b[0;34m\u001b[0m\u001b[0m\n\u001b[0m\u001b[1;32m   2563\u001b[0m             \u001b[0mdropped\u001b[0m \u001b[0;34m=\u001b[0m \u001b[0mself\u001b[0m\u001b[0;34m.\u001b[0m\u001b[0mreindex\u001b[0m\u001b[0;34m(\u001b[0m\u001b[0;34m**\u001b[0m\u001b[0;34m{\u001b[0m\u001b[0maxis_name\u001b[0m\u001b[0;34m:\u001b[0m \u001b[0mnew_axis\u001b[0m\u001b[0;34m}\u001b[0m\u001b[0;34m)\u001b[0m\u001b[0;34m\u001b[0m\u001b[0m\n\u001b[1;32m   2564\u001b[0m             \u001b[0;32mtry\u001b[0m\u001b[0;34m:\u001b[0m\u001b[0;34m\u001b[0m\u001b[0m\n",
      "\u001b[0;32m/usr/lib64/python3.6/site-packages/pandas/core/indexes/base.py\u001b[0m in \u001b[0;36mdrop\u001b[0;34m(self, labels, errors)\u001b[0m\n\u001b[1;32m   3742\u001b[0m             \u001b[0;32mif\u001b[0m \u001b[0merrors\u001b[0m \u001b[0;34m!=\u001b[0m \u001b[0;34m'ignore'\u001b[0m\u001b[0;34m:\u001b[0m\u001b[0;34m\u001b[0m\u001b[0m\n\u001b[1;32m   3743\u001b[0m                 raise ValueError('labels %s not contained in axis' %\n\u001b[0;32m-> 3744\u001b[0;31m                                  labels[mask])\n\u001b[0m\u001b[1;32m   3745\u001b[0m             \u001b[0mindexer\u001b[0m \u001b[0;34m=\u001b[0m \u001b[0mindexer\u001b[0m\u001b[0;34m[\u001b[0m\u001b[0;34m~\u001b[0m\u001b[0mmask\u001b[0m\u001b[0;34m]\u001b[0m\u001b[0;34m\u001b[0m\u001b[0m\n\u001b[1;32m   3746\u001b[0m         \u001b[0;32mreturn\u001b[0m \u001b[0mself\u001b[0m\u001b[0;34m.\u001b[0m\u001b[0mdelete\u001b[0m\u001b[0;34m(\u001b[0m\u001b[0mindexer\u001b[0m\u001b[0;34m)\u001b[0m\u001b[0;34m\u001b[0m\u001b[0m\n",
      "\u001b[0;31mValueError\u001b[0m: labels ['index'] not contained in axis"
     ]
    }
   ],
   "source": [
    "train_imputed = train_imputed.drop('index',axis=1)"
   ]
  },
  {
   "cell_type": "code",
   "execution_count": 35,
   "metadata": {},
   "outputs": [],
   "source": [
    "for col in train_imputed.columns:\n",
    "    train[col]=train_imputed[col]\n",
    "    test[col]=test_imputed[col]"
   ]
  },
  {
   "cell_type": "code",
   "execution_count": 36,
   "metadata": {},
   "outputs": [
    {
     "data": {
      "text/plain": [
       "(226140,)"
      ]
     },
     "execution_count": 36,
     "metadata": {},
     "output_type": "execute_result"
    }
   ],
   "source": [
    "train[col].shape"
   ]
  },
  {
   "cell_type": "code",
   "execution_count": 37,
   "metadata": {},
   "outputs": [
    {
     "data": {
      "text/plain": [
       "(226140, 113)"
      ]
     },
     "execution_count": 37,
     "metadata": {},
     "output_type": "execute_result"
    }
   ],
   "source": [
    "train.shape"
   ]
  },
  {
   "cell_type": "code",
   "execution_count": 38,
   "metadata": {},
   "outputs": [
    {
     "data": {
      "text/plain": [
       "(1888195, 112)"
      ]
     },
     "execution_count": 38,
     "metadata": {},
     "output_type": "execute_result"
    }
   ],
   "source": [
    "test.shape"
   ]
  },
  {
   "cell_type": "code",
   "execution_count": 39,
   "metadata": {},
   "outputs": [
    {
     "data": {
      "text/plain": [
       "False"
      ]
     },
     "execution_count": 39,
     "metadata": {},
     "output_type": "execute_result"
    }
   ],
   "source": [
    "train.isnull().any().any()"
   ]
  },
  {
   "cell_type": "code",
   "execution_count": 47,
   "metadata": {},
   "outputs": [],
   "source": [
    "train = train.drop('index',axis=1)"
   ]
  },
  {
   "cell_type": "code",
   "execution_count": 48,
   "metadata": {},
   "outputs": [
    {
     "name": "stdout",
     "output_type": "stream",
     "text": [
      "0.042971134185791016\n"
     ]
    }
   ],
   "source": [
    "#Number of unique values in each columns\n",
    "t1=time.time()\n",
    "catcols=[]\n",
    "scalcols=[]\n",
    "for col in train.columns:\n",
    "    if (train[col].dtype !='object'):\n",
    "        if(len(train[col].unique())<=10):\n",
    "            catcols.append(col)\n",
    "        else:\n",
    "            scalcols.append(col)\n",
    "t2=time.time()\n",
    "print(t2-t1)"
   ]
  },
  {
   "cell_type": "code",
   "execution_count": 49,
   "metadata": {},
   "outputs": [
    {
     "name": "stdout",
     "output_type": "stream",
     "text": [
      "0.009778022766113281\n"
     ]
    }
   ],
   "source": [
    "#handle catcols\n",
    "t1=time.time()\n",
    "for col in catcols:\n",
    "    train[col]=train[col].astype('category')\n",
    "    test[col]=test[col].astype('category')\n",
    "t2=time.time()\n",
    "print(t2-t1)"
   ]
  },
  {
   "cell_type": "code",
   "execution_count": 50,
   "metadata": {},
   "outputs": [
    {
     "data": {
      "text/plain": [
       "0"
      ]
     },
     "execution_count": 50,
     "metadata": {},
     "output_type": "execute_result"
    }
   ],
   "source": [
    "train.isnull().any().sum()"
   ]
  },
  {
   "cell_type": "code",
   "execution_count": 51,
   "metadata": {},
   "outputs": [
    {
     "data": {
      "text/plain": [
       "False"
      ]
     },
     "execution_count": 51,
     "metadata": {},
     "output_type": "execute_result"
    }
   ],
   "source": [
    "test.isnull().any().any()"
   ]
  },
  {
   "cell_type": "code",
   "execution_count": 52,
   "metadata": {},
   "outputs": [
    {
     "data": {
      "text/plain": [
       "Index(['service_contract_process_type',\n",
       "       'product_bookings_measure_transaction_type', 'product_adjustment_type',\n",
       "       'product_channel_bookings_yorn', 'service_channel_bookings_yorn',\n",
       "       'service_bookings_measure_transaction_type', 'scms_name',\n",
       "       'country_type', 'service_product_base_product_family_owner',\n",
       "       'service_product_base_service_brand_code', 'status_code',\n",
       "       'partner_country_registered_type', 'type_description', 'partner_tier',\n",
       "       'certification_description', 'qualification_type_description',\n",
       "       'disadvantaged_business_yorn', 'minority_owned_business_yorn',\n",
       "       'woman_owned_business_yorn', 'business_owner_ethnicity_code',\n",
       "       'hubzone_small_business_yorn', 'disabled_veteran_owned_business_yorn',\n",
       "       'service_partner_base_status_code',\n",
       "       'service_partner_base_partner_country_registered_type',\n",
       "       'service_partner_base_type_description',\n",
       "       'service_partner_base_partner_tier',\n",
       "       'service_partner_base_certification_description',\n",
       "       'service_partner_base_qualification_type_description',\n",
       "       'service_partner_base_disadvantaged_business_yorn',\n",
       "       'service_partner_base_minority_owned_business_yorn',\n",
       "       'service_partner_base_woman_owned_business_yorn',\n",
       "       'service_partner_base_business_owner_ethnicity_code',\n",
       "       'service_partner_base_hubzone_small_business_yorn',\n",
       "       'service_partner_base_disabled_veteran_owned_business_yorn',\n",
       "       'distributor_normalized_name',\n",
       "       'service_distributor_base_distributor_normalized_name',\n",
       "       'sales_node_renewal_rate', 'partner_renewal_rate',\n",
       "       'product_renewal_rate',\n",
       "       'service_sales_node_installed_base_sales_node_renewal_rate',\n",
       "       'service_partner_installed_base_partner_renewal_rate'],\n",
       "      dtype='object')"
      ]
     },
     "execution_count": 52,
     "metadata": {},
     "output_type": "execute_result"
    }
   ],
   "source": [
    "train_imputed.columns"
   ]
  },
  {
   "cell_type": "code",
   "execution_count": 53,
   "metadata": {},
   "outputs": [
    {
     "name": "stdout",
     "output_type": "stream",
     "text": [
      "2.2128138542175293\n"
     ]
    }
   ],
   "source": [
    "#Normalize integer data\n",
    "t1=time.time()\n",
    "from sklearn.preprocessing import StandardScaler\n",
    "scaler = StandardScaler()\n",
    "scaler = scaler.fit(train[scalcols])\n",
    "train[scalcols] = scaler.transform(train[scalcols])\n",
    "scaler = scaler.fit(test[scalcols])\n",
    "test[scalcols] = scaler.transform(test[scalcols])\n",
    "t2=time.time()\n",
    "print(t2-t1)"
   ]
  },
  {
   "cell_type": "code",
   "execution_count": 54,
   "metadata": {},
   "outputs": [
    {
     "data": {
      "text/html": [
       "<div>\n",
       "<style scoped>\n",
       "    .dataframe tbody tr th:only-of-type {\n",
       "        vertical-align: middle;\n",
       "    }\n",
       "\n",
       "    .dataframe tbody tr th {\n",
       "        vertical-align: top;\n",
       "    }\n",
       "\n",
       "    .dataframe thead th {\n",
       "        text-align: right;\n",
       "    }\n",
       "</style>\n",
       "<table border=\"1\" class=\"dataframe\">\n",
       "  <thead>\n",
       "    <tr style=\"text-align: right;\">\n",
       "      <th></th>\n",
       "      <th>contract_line_net_usd_amount</th>\n",
       "      <th>product_net_price</th>\n",
       "      <th>sales_node_renewal_rate</th>\n",
       "      <th>partner_renewal_rate</th>\n",
       "      <th>product_renewal_rate</th>\n",
       "      <th>service_sales_node_installed_base_sales_node_renewal_rate</th>\n",
       "      <th>service_partner_installed_base_partner_renewal_rate</th>\n",
       "    </tr>\n",
       "  </thead>\n",
       "  <tbody>\n",
       "    <tr>\n",
       "      <th>count</th>\n",
       "      <td>2.261400e+05</td>\n",
       "      <td>2.261400e+05</td>\n",
       "      <td>2.261400e+05</td>\n",
       "      <td>2.261400e+05</td>\n",
       "      <td>2.261400e+05</td>\n",
       "      <td>2.261400e+05</td>\n",
       "      <td>2.261400e+05</td>\n",
       "    </tr>\n",
       "    <tr>\n",
       "      <th>mean</th>\n",
       "      <td>1.005455e-17</td>\n",
       "      <td>2.815275e-17</td>\n",
       "      <td>-2.915821e-17</td>\n",
       "      <td>4.775913e-18</td>\n",
       "      <td>3.016366e-18</td>\n",
       "      <td>5.027277e-18</td>\n",
       "      <td>-9.426144e-20</td>\n",
       "    </tr>\n",
       "    <tr>\n",
       "      <th>std</th>\n",
       "      <td>1.000002e+00</td>\n",
       "      <td>1.000002e+00</td>\n",
       "      <td>1.000002e+00</td>\n",
       "      <td>1.000002e+00</td>\n",
       "      <td>1.000002e+00</td>\n",
       "      <td>1.000002e+00</td>\n",
       "      <td>1.000002e+00</td>\n",
       "    </tr>\n",
       "    <tr>\n",
       "      <th>min</th>\n",
       "      <td>-1.252316e-01</td>\n",
       "      <td>-2.321716e-01</td>\n",
       "      <td>-2.737838e+00</td>\n",
       "      <td>-1.742868e-01</td>\n",
       "      <td>-7.790595e-02</td>\n",
       "      <td>-1.128741e+00</td>\n",
       "      <td>-5.226844e-02</td>\n",
       "    </tr>\n",
       "    <tr>\n",
       "      <th>25%</th>\n",
       "      <td>-1.252316e-01</td>\n",
       "      <td>-2.321716e-01</td>\n",
       "      <td>-6.842019e-01</td>\n",
       "      <td>-1.053205e-01</td>\n",
       "      <td>-7.719748e-02</td>\n",
       "      <td>-2.906674e-01</td>\n",
       "      <td>-2.610574e-02</td>\n",
       "    </tr>\n",
       "    <tr>\n",
       "      <th>50%</th>\n",
       "      <td>-1.252316e-01</td>\n",
       "      <td>-2.321716e-01</td>\n",
       "      <td>-7.744580e-02</td>\n",
       "      <td>-4.824491e-02</td>\n",
       "      <td>-7.436361e-02</td>\n",
       "      <td>-1.738249e-02</td>\n",
       "      <td>-1.613900e-02</td>\n",
       "    </tr>\n",
       "    <tr>\n",
       "      <th>75%</th>\n",
       "      <td>-1.252316e-01</td>\n",
       "      <td>-1.584198e-01</td>\n",
       "      <td>2.959425e-01</td>\n",
       "      <td>6.452532e-03</td>\n",
       "      <td>-6.515353e-02</td>\n",
       "      <td>1.283695e-01</td>\n",
       "      <td>-1.188889e-03</td>\n",
       "    </tr>\n",
       "    <tr>\n",
       "      <th>max</th>\n",
       "      <td>7.774224e+01</td>\n",
       "      <td>6.648806e+01</td>\n",
       "      <td>4.118197e+01</td>\n",
       "      <td>9.915151e+01</td>\n",
       "      <td>1.359952e+02</td>\n",
       "      <td>4.662324e+01</td>\n",
       "      <td>1.670925e+02</td>\n",
       "    </tr>\n",
       "  </tbody>\n",
       "</table>\n",
       "</div>"
      ],
      "text/plain": [
       "       contract_line_net_usd_amount  product_net_price  \\\n",
       "count                  2.261400e+05       2.261400e+05   \n",
       "mean                   1.005455e-17       2.815275e-17   \n",
       "std                    1.000002e+00       1.000002e+00   \n",
       "min                   -1.252316e-01      -2.321716e-01   \n",
       "25%                   -1.252316e-01      -2.321716e-01   \n",
       "50%                   -1.252316e-01      -2.321716e-01   \n",
       "75%                   -1.252316e-01      -1.584198e-01   \n",
       "max                    7.774224e+01       6.648806e+01   \n",
       "\n",
       "       sales_node_renewal_rate  partner_renewal_rate  product_renewal_rate  \\\n",
       "count             2.261400e+05          2.261400e+05          2.261400e+05   \n",
       "mean             -2.915821e-17          4.775913e-18          3.016366e-18   \n",
       "std               1.000002e+00          1.000002e+00          1.000002e+00   \n",
       "min              -2.737838e+00         -1.742868e-01         -7.790595e-02   \n",
       "25%              -6.842019e-01         -1.053205e-01         -7.719748e-02   \n",
       "50%              -7.744580e-02         -4.824491e-02         -7.436361e-02   \n",
       "75%               2.959425e-01          6.452532e-03         -6.515353e-02   \n",
       "max               4.118197e+01          9.915151e+01          1.359952e+02   \n",
       "\n",
       "       service_sales_node_installed_base_sales_node_renewal_rate  \\\n",
       "count                                       2.261400e+05           \n",
       "mean                                        5.027277e-18           \n",
       "std                                         1.000002e+00           \n",
       "min                                        -1.128741e+00           \n",
       "25%                                        -2.906674e-01           \n",
       "50%                                        -1.738249e-02           \n",
       "75%                                         1.283695e-01           \n",
       "max                                         4.662324e+01           \n",
       "\n",
       "       service_partner_installed_base_partner_renewal_rate  \n",
       "count                                       2.261400e+05    \n",
       "mean                                       -9.426144e-20    \n",
       "std                                         1.000002e+00    \n",
       "min                                        -5.226844e-02    \n",
       "25%                                        -2.610574e-02    \n",
       "50%                                        -1.613900e-02    \n",
       "75%                                        -1.188889e-03    \n",
       "max                                         1.670925e+02    "
      ]
     },
     "execution_count": 54,
     "metadata": {},
     "output_type": "execute_result"
    }
   ],
   "source": [
    "train[scalcols].describe()"
   ]
  },
  {
   "cell_type": "code",
   "execution_count": 55,
   "metadata": {},
   "outputs": [
    {
     "data": {
      "text/html": [
       "<div>\n",
       "<style scoped>\n",
       "    .dataframe tbody tr th:only-of-type {\n",
       "        vertical-align: middle;\n",
       "    }\n",
       "\n",
       "    .dataframe tbody tr th {\n",
       "        vertical-align: top;\n",
       "    }\n",
       "\n",
       "    .dataframe thead th {\n",
       "        text-align: right;\n",
       "    }\n",
       "</style>\n",
       "<table border=\"1\" class=\"dataframe\">\n",
       "  <thead>\n",
       "    <tr style=\"text-align: right;\">\n",
       "      <th></th>\n",
       "      <th>product_transaction_type</th>\n",
       "      <th>contract_line_reaction_time_code</th>\n",
       "      <th>sales_hierarchy_level</th>\n",
       "      <th>service_sales_node_base_sales_hierarchy_level</th>\n",
       "    </tr>\n",
       "  </thead>\n",
       "  <tbody>\n",
       "    <tr>\n",
       "      <th>count</th>\n",
       "      <td>226140</td>\n",
       "      <td>226140</td>\n",
       "      <td>226140</td>\n",
       "      <td>226140</td>\n",
       "    </tr>\n",
       "    <tr>\n",
       "      <th>unique</th>\n",
       "      <td>3</td>\n",
       "      <td>3</td>\n",
       "      <td>6</td>\n",
       "      <td>6</td>\n",
       "    </tr>\n",
       "    <tr>\n",
       "      <th>top</th>\n",
       "      <td>10002</td>\n",
       "      <td>-1</td>\n",
       "      <td>6</td>\n",
       "      <td>6</td>\n",
       "    </tr>\n",
       "    <tr>\n",
       "      <th>freq</th>\n",
       "      <td>202522</td>\n",
       "      <td>225296</td>\n",
       "      <td>199960</td>\n",
       "      <td>224170</td>\n",
       "    </tr>\n",
       "  </tbody>\n",
       "</table>\n",
       "</div>"
      ],
      "text/plain": [
       "        product_transaction_type  contract_line_reaction_time_code  \\\n",
       "count                     226140                            226140   \n",
       "unique                         3                                 3   \n",
       "top                        10002                                -1   \n",
       "freq                      202522                            225296   \n",
       "\n",
       "        sales_hierarchy_level  service_sales_node_base_sales_hierarchy_level  \n",
       "count                  226140                                         226140  \n",
       "unique                      6                                              6  \n",
       "top                         6                                              6  \n",
       "freq                   199960                                         224170  "
      ]
     },
     "execution_count": 55,
     "metadata": {},
     "output_type": "execute_result"
    }
   ],
   "source": [
    "train[catcols].describe()"
   ]
  },
  {
   "cell_type": "code",
   "execution_count": 56,
   "metadata": {},
   "outputs": [
    {
     "name": "stdout",
     "output_type": "stream",
     "text": [
      "minor_line_yorn 2\n",
      "instance_status 1\n",
      "product_transaction_type 3\n",
      "installed_product_type 2\n",
      "installed_product_component_yorn 2\n",
      "component_type 4\n",
      "scdc_product_yorn 1\n",
      "service_classification 2\n",
      "contract_line_multi_year_discount_yorn 2\n",
      "contract_line_route_to_market_code 3\n",
      "contract_line_sales_motion_code 1\n",
      "default_multi_year_discount_yorn 2\n",
      "low_dollar_contract_yorn 2\n",
      "contract_line_source_business_process_name 2\n",
      "contract_line_repair_service_order_level 2\n",
      "contract_line_reaction_time_code 3\n",
      "product_route_to_market 5\n",
      "service_route_to_market_code 5\n",
      "auto_quote_yorn 2\n",
      "hardware_yorn 2\n",
      "software_yorn 2\n",
      "acw_yorn 2\n",
      "enterprise_license_agreement_yorn 2\n",
      "software_opportunity_type 3\n",
      "sales_hierarchy_level 6\n",
      "united_states_yorn 2\n",
      "level_1_name 5\n",
      "service_sales_node_base_sales_hierarchy_level 6\n",
      "service_sales_node_base_scms_name 6\n",
      "service_sales_node_base_united_states_yorn 2\n",
      "service_sales_node_base_country_type 3\n",
      "service_sales_node_base_level_1_name 6\n",
      "item_type 5\n",
      "manufacturing_plant 2\n",
      "software_stack 4\n",
      "monetization_type 3\n",
      "product_category 4\n",
      "product_setup_classification 3\n",
      "software_usage_type 5\n",
      "erp_item_type 7\n",
      "item_status 6\n",
      "product_family_owner 1\n",
      "warranty_category 1\n",
      "software_support_services_eligible_yorn 2\n",
      "discount_category 3\n",
      "product_classification 2\n",
      "service_product_base_business_unit 3\n",
      "service_product_base_technology_group 1\n",
      "service_product_base_product_type 1\n",
      "service_product_base_item_type 1\n",
      "service_product_base_manufacturing_plant 2\n",
      "service_product_base_software_stack 2\n",
      "service_product_base_monetization_type 2\n",
      "service_product_base_product_category 2\n",
      "service_product_base_product_setup_classification 2\n",
      "service_product_base_software_usage_type 2\n",
      "service_product_base_erp_item_type 1\n",
      "service_product_base_item_status 2\n",
      "service_product_base_warranty_category 1\n",
      "service_product_base_software_support_services_eligible_yorn 1\n",
      "service_product_base_discount_category 2\n",
      "service_product_base_product_classification 2\n",
      "global_customer_market_segment_name 3\n",
      "country 1\n",
      "site_type 2\n",
      "customer_market_segment_name 3\n",
      "hq_customer_market_segment_name 4\n",
      "gu_site_type 1\n",
      "gu_customer_market_segment_name 3\n",
      "contract_line_net_usd_amount 3699\n",
      "product_net_price 3985\n",
      "service_contract_process_type 6\n",
      "product_bookings_measure_transaction_type 2\n",
      "product_adjustment_type 2\n",
      "product_channel_bookings_yorn 2\n",
      "service_channel_bookings_yorn 2\n",
      "service_bookings_measure_transaction_type 2\n",
      "scms_name 5\n",
      "country_type 3\n",
      "service_product_base_product_family_owner 1\n",
      "service_product_base_service_brand_code 3\n",
      "status_code 2\n",
      "partner_country_registered_type 2\n",
      "type_description 4\n",
      "partner_tier 2\n",
      "certification_description 4\n",
      "qualification_type_description 1\n",
      "disadvantaged_business_yorn 2\n",
      "minority_owned_business_yorn 2\n",
      "woman_owned_business_yorn 2\n",
      "business_owner_ethnicity_code 5\n",
      "hubzone_small_business_yorn 2\n",
      "disabled_veteran_owned_business_yorn 1\n",
      "service_partner_base_status_code 2\n",
      "service_partner_base_partner_country_registered_type 2\n",
      "service_partner_base_type_description 4\n",
      "service_partner_base_partner_tier 2\n",
      "service_partner_base_certification_description 4\n",
      "service_partner_base_qualification_type_description 1\n",
      "service_partner_base_disadvantaged_business_yorn 2\n",
      "service_partner_base_minority_owned_business_yorn 2\n",
      "service_partner_base_woman_owned_business_yorn 2\n",
      "service_partner_base_business_owner_ethnicity_code 6\n",
      "service_partner_base_hubzone_small_business_yorn 2\n",
      "service_partner_base_disabled_veteran_owned_business_yorn 1\n",
      "distributor_normalized_name 1\n",
      "service_distributor_base_distributor_normalized_name 1\n",
      "sales_node_renewal_rate 102\n",
      "partner_renewal_rate 149\n",
      "product_renewal_rate 573\n",
      "service_sales_node_installed_base_sales_node_renewal_rate 126\n",
      "service_partner_installed_base_partner_renewal_rate 202\n"
     ]
    }
   ],
   "source": [
    "for col in train.columns:\n",
    "    print(col+' '+str(len(train[col].unique())))"
   ]
  },
  {
   "cell_type": "code",
   "execution_count": 57,
   "metadata": {},
   "outputs": [
    {
     "name": "stdout",
     "output_type": "stream",
     "text": [
      "21.168502807617188\n"
     ]
    }
   ],
   "source": [
    "#convert data to one hot encoding to handle categorical values\n",
    "t1=time.time()\n",
    "train_objs_num = len(train)\n",
    "dataset = pd.concat(objs=[train, test], axis=0)\n",
    "dataset = pd.get_dummies(dataset)\n",
    "train = dataset[:train_objs_num]\n",
    "test = dataset[train_objs_num:]\n",
    "t2=time.time()\n",
    "print(t2-t1)"
   ]
  },
  {
   "cell_type": "code",
   "execution_count": 58,
   "metadata": {},
   "outputs": [
    {
     "data": {
      "text/plain": [
       "(226140, 282)"
      ]
     },
     "execution_count": 58,
     "metadata": {},
     "output_type": "execute_result"
    }
   ],
   "source": [
    "train.shape"
   ]
  },
  {
   "cell_type": "code",
   "execution_count": 59,
   "metadata": {},
   "outputs": [
    {
     "data": {
      "text/plain": [
       "(1888195, 282)"
      ]
     },
     "execution_count": 59,
     "metadata": {},
     "output_type": "execute_result"
    }
   ],
   "source": [
    "test.shape"
   ]
  },
  {
   "cell_type": "code",
   "execution_count": 60,
   "metadata": {},
   "outputs": [
    {
     "data": {
      "text/plain": [
       "False"
      ]
     },
     "execution_count": 60,
     "metadata": {},
     "output_type": "execute_result"
    }
   ],
   "source": [
    "train.isnull().any().any()"
   ]
  },
  {
   "cell_type": "code",
   "execution_count": 61,
   "metadata": {},
   "outputs": [
    {
     "data": {
      "text/plain": [
       "False"
      ]
     },
     "execution_count": 61,
     "metadata": {},
     "output_type": "execute_result"
    }
   ],
   "source": [
    "test.isnull().any().any()"
   ]
  },
  {
   "cell_type": "code",
   "execution_count": 62,
   "metadata": {},
   "outputs": [
    {
     "name": "stdout",
     "output_type": "stream",
     "text": [
      "0.41207385063171387\n"
     ]
    }
   ],
   "source": [
    "#split the data between train and validation set\n",
    "t1=time.time()\n",
    "from sklearn.model_selection import train_test_split\n",
    "X_train, X_valid, y_train, y_valid = train_test_split(train,train_y,test_size=0.33, random_state=42)\n",
    "t2=time.time()\n",
    "print(t2-t1)"
   ]
  },
  {
   "cell_type": "code",
   "execution_count": 63,
   "metadata": {},
   "outputs": [
    {
     "data": {
      "text/plain": [
       "(151513, 282)"
      ]
     },
     "execution_count": 63,
     "metadata": {},
     "output_type": "execute_result"
    }
   ],
   "source": [
    "X_train.shape"
   ]
  },
  {
   "cell_type": "code",
   "execution_count": 64,
   "metadata": {},
   "outputs": [
    {
     "data": {
      "text/plain": [
       "2028"
      ]
     },
     "execution_count": 64,
     "metadata": {},
     "output_type": "execute_result"
    }
   ],
   "source": [
    "import gc\n",
    "del dataset\n",
    "gc.collect()"
   ]
  },
  {
   "cell_type": "code",
   "execution_count": 108,
   "metadata": {},
   "outputs": [
    {
     "name": "stdout",
     "output_type": "stream",
     "text": [
      "38.19946885108948\n"
     ]
    }
   ],
   "source": [
    "#use knn to group similar rows\n",
    "from sklearn.cluster import KMeans\n",
    "t1=time.time()\n",
    "kmeans = KMeans(n_clusters=5, random_state=0).fit(X_train)\n",
    "X_train_labels = kmeans.labels_\n",
    "t2=time.time()\n",
    "print(t2-t1)"
   ]
  },
  {
   "cell_type": "code",
   "execution_count": 113,
   "metadata": {},
   "outputs": [],
   "source": [
    "X_train_label0 = X_train[X_train_labels==0]"
   ]
  },
  {
   "cell_type": "code",
   "execution_count": 114,
   "metadata": {},
   "outputs": [],
   "source": [
    "X_train_label1 = X_train[X_train_labels==1]\n",
    "X_train_label2 = X_train[X_train_labels==2]\n",
    "X_train_label3 = X_train[X_train_labels==3]\n",
    "X_train_label4 = X_train[X_train_labels==4]"
   ]
  },
  {
   "cell_type": "code",
   "execution_count": 119,
   "metadata": {},
   "outputs": [],
   "source": [
    "y_train_label0 = y_train[X_train_labels==0]\n",
    "y_train_label1 = y_train[X_train_labels==1]\n",
    "y_train_label2 = y_train[X_train_labels==2]\n",
    "y_train_label3 = y_train[X_train_labels==3]\n",
    "y_train_label4 = y_train[X_train_labels==4]"
   ]
  },
  {
   "cell_type": "code",
   "execution_count": 115,
   "metadata": {},
   "outputs": [],
   "source": [
    "X_valid_labels = kmeans.predict(X_valid)"
   ]
  },
  {
   "cell_type": "code",
   "execution_count": 116,
   "metadata": {},
   "outputs": [],
   "source": [
    "X_valid_label0 = X_valid[X_valid_labels==0]\n",
    "X_valid_label1 = X_valid[X_valid_labels==1]\n",
    "X_valid_label2 = X_valid[X_valid_labels==2]\n",
    "X_valid_label3 = X_valid[X_valid_labels==3]\n",
    "X_valid_label4 = X_valid[X_valid_labels==4]"
   ]
  },
  {
   "cell_type": "code",
   "execution_count": 122,
   "metadata": {},
   "outputs": [],
   "source": [
    "y_valid_label0 = y_valid[X_valid_labels==0]\n",
    "y_valid_label1 = y_valid[X_valid_labels==1]\n",
    "y_valid_label2 = y_valid[X_valid_labels==2]\n",
    "y_valid_label3 = y_valid[X_valid_labels==3]\n",
    "y_valid_label4 = y_valid[X_valid_labels==4]"
   ]
  },
  {
   "cell_type": "code",
   "execution_count": 123,
   "metadata": {},
   "outputs": [],
   "source": [
    "def XGB_CV(\n",
    "          max_depth,\n",
    "          gamma,\n",
    "          min_child_weight,\n",
    "          max_delta_step,\n",
    "          subsample,\n",
    "          colsample_bytree\n",
    "         ):\n",
    "    global AUCbest\n",
    "    global ITERbest\n",
    "\n",
    "#\n",
    "# Define all XGboost parameters\n",
    "#\n",
    "\n",
    "    paramt = {\n",
    "        'booster' : 'gbtree',\n",
    "        'max_depth' : int(max_depth),\n",
    "        'gamma' : gamma,\n",
    "        'eta' : 0.01,\n",
    "        'objective' : 'binary:logistic',\n",
    "        'nthread' : 4,\n",
    "        'silent' : True,\n",
    "        'eval_metric': 'logloss',\n",
    "        'subsample' : max(min(subsample, 1), 0),\n",
    "        'colsample_bytree' : max(min(colsample_bytree, 1), 0),\n",
    "        'min_child_weight' : min_child_weight,\n",
    "        'max_delta_step' : int(max_delta_step),\n",
    "        'seed' : 1001\n",
    "        }\n",
    "\n",
    "    folds = 5\n",
    "    cv_score = 0\n",
    "\n",
    "    xgbc = xgb.cv(\n",
    "                    paramt,\n",
    "                    dtrain,\n",
    "                    num_boost_round = 500,\n",
    "                    stratified = True,\n",
    "                    nfold = folds,\n",
    "#                    verbose_eval = 10,\n",
    "                    early_stopping_rounds = 20,\n",
    "                    metrics = 'logloss',\n",
    "                    show_stdv = True\n",
    "               )\n",
    "\n",
    "    val_score = xgbc['test-logloss-mean'].iloc[-1]\n",
    "    train_score = xgbc['train-logloss-mean'].iloc[-1]\n",
    "    print(' Stopped after %d iterations with train-auc = %f val-auc = %f ( diff = %f ) train-gini = %f val-gini = %f' % ( len(xgbc), train_score, val_score, (train_score - val_score), (train_score*2-1),\n",
    "    (val_score*2-1)) )\n",
    "    if ( val_score > AUCbest ):\n",
    "        AUCbest = val_score\n",
    "        ITERbest = len(xgbc)\n",
    "    return (val_score*2) - 1"
   ]
  },
  {
   "cell_type": "code",
   "execution_count": 124,
   "metadata": {},
   "outputs": [],
   "source": [
    "from bayes_opt import BayesianOptimization\n",
    "XGB_BO = BayesianOptimization(XGB_CV, {\n",
    "                                     'max_depth': (2, 12),\n",
    "                                     'gamma': (0.001, 50.0),\n",
    "                                     'min_child_weight': (0, 20),\n",
    "                                     'max_delta_step': (0, 10),\n",
    "                                     'subsample': (0.4, 1.0),\n",
    "                                     'colsample_bytree' :(0.4, 1.0)\n",
    "                                    })"
   ]
  },
  {
   "cell_type": "code",
   "execution_count": 125,
   "metadata": {},
   "outputs": [],
   "source": [
    "log_file = open('Porto-AUC-5fold-XGB-run-01-v1-full1.log', 'a')"
   ]
  },
  {
   "cell_type": "code",
   "execution_count": 127,
   "metadata": {},
   "outputs": [
    {
     "name": "stdout",
     "output_type": "stream",
     "text": [
      "----------------------------------------------------------------------------------------------------------------------------------\n",
      "\u001b[31mInitialization\u001b[0m\n",
      "\u001b[94m----------------------------------------------------------------------------------------------------------------------------------\u001b[0m\n",
      " Step |   Time |      Value |   colsample_bytree |     gamma |   max_delta_step |   max_depth |   min_child_weight |   subsample | \n",
      " Stopped after 500 iterations with train-auc = 0.462092 val-auc = 0.475402 ( diff = -0.013310 ) train-gini = -0.075816 val-gini = -0.049197\n",
      "    1 | 04m20s | \u001b[35m  -0.04920\u001b[0m | \u001b[32m            0.6899\u001b[0m | \u001b[32m  14.2744\u001b[0m | \u001b[32m          5.3743\u001b[0m | \u001b[32m     9.1255\u001b[0m | \u001b[32m            2.1522\u001b[0m | \u001b[32m     0.7918\u001b[0m | \n",
      " Stopped after 500 iterations with train-auc = 0.555306 val-auc = 0.556916 ( diff = -0.001610 ) train-gini = 0.110611 val-gini = 0.113832\n",
      "    2 | 01m08s | \u001b[35m   0.11383\u001b[0m | \u001b[32m            0.4775\u001b[0m | \u001b[32m  39.6686\u001b[0m | \u001b[32m          7.4267\u001b[0m | \u001b[32m     3.0898\u001b[0m | \u001b[32m           19.4955\u001b[0m | \u001b[32m     0.9017\u001b[0m | \n",
      "\u001b[31mBayesian Optimization\u001b[0m\n",
      "\u001b[94m----------------------------------------------------------------------------------------------------------------------------------\u001b[0m\n",
      " Step |   Time |      Value |   colsample_bytree |     gamma |   max_delta_step |   max_depth |   min_child_weight |   subsample | \n",
      " Stopped after 500 iterations with train-auc = 0.545119 val-auc = 0.547166 ( diff = -0.002046 ) train-gini = 0.090239 val-gini = 0.094331\n",
      "    3 | 07m51s |    0.09433 |             1.0000 |   50.0000 |           0.0000 |     12.0000 |            20.0000 |      0.4000 | \n",
      " Stopped after 500 iterations with train-auc = 0.577190 val-auc = 0.577988 ( diff = -0.000798 ) train-gini = 0.154380 val-gini = 0.155976\n",
      "    4 | 01m04s | \u001b[35m   0.15598\u001b[0m | \u001b[32m            0.4000\u001b[0m | \u001b[32m  50.0000\u001b[0m | \u001b[32m         10.0000\u001b[0m | \u001b[32m     2.0000\u001b[0m | \u001b[32m           20.0000\u001b[0m | \u001b[32m     1.0000\u001b[0m | \n",
      " Stopped after 500 iterations with train-auc = 0.576867 val-auc = 0.577623 ( diff = -0.000757 ) train-gini = 0.153733 val-gini = 0.155246\n",
      "    5 | 00m50s |    0.15525 |             0.4000 |   50.0000 |           0.0000 |      2.0000 |            15.4336 |      0.8502 | \n",
      " Stopped after 500 iterations with train-auc = 0.584925 val-auc = 0.585427 ( diff = -0.000502 ) train-gini = 0.169849 val-gini = 0.170854\n",
      "    6 | 00m55s | \u001b[35m   0.17085\u001b[0m | \u001b[32m            0.4058\u001b[0m | \u001b[32m  49.6695\u001b[0m | \u001b[32m          0.2537\u001b[0m | \u001b[32m     2.6480\u001b[0m | \u001b[32m           19.6881\u001b[0m | \u001b[32m     0.4218\u001b[0m | \n",
      " Stopped after 500 iterations with train-auc = 0.581995 val-auc = 0.582678 ( diff = -0.000683 ) train-gini = 0.163990 val-gini = 0.165356\n",
      "    7 | 01m23s |    0.16536 |             0.7511 |   49.9890 |           1.9350 |      2.1126 |            19.3872 |      0.6189 | \n",
      "1057.345563173294\n"
     ]
    }
   ],
   "source": [
    "t1=time.time()\n",
    "import xgboost as xgb\n",
    "import warnings\n",
    "print('-'*130)\n",
    "print('-'*130, file=log_file)\n",
    "log_file.flush()\n",
    "\n",
    "with warnings.catch_warnings():\n",
    "    warnings.filterwarnings('ignore')\n",
    "    AUCbest = -1.\n",
    "    ITERbest = 0\n",
    "    y_dtrain=pd.get_dummies(y_train_label0)\n",
    "    dtrain = xgb.DMatrix(X_train_label0, label = y_dtrain['Y'])\n",
    "    XGB_BO.maximize(init_points=2, n_iter=5, acq='ei', xi=0.0)\n",
    "t2=time.time()\n",
    "print(t2-t1)"
   ]
  },
  {
   "cell_type": "code",
   "execution_count": 129,
   "metadata": {},
   "outputs": [],
   "source": [
    "model = []"
   ]
  },
  {
   "cell_type": "code",
   "execution_count": 130,
   "metadata": {},
   "outputs": [],
   "source": [
    "model.append(XGB_BO.res['max']['max_params'])"
   ]
  },
  {
   "cell_type": "code",
   "execution_count": 131,
   "metadata": {},
   "outputs": [
    {
     "name": "stdout",
     "output_type": "stream",
     "text": [
      "----------------------------------------------------------------------------------------------------------------------------------\n",
      "\u001b[31mBayesian Optimization\u001b[0m\n",
      "\u001b[94m----------------------------------------------------------------------------------------------------------------------------------\u001b[0m\n",
      " Step |   Time |      Value |   colsample_bytree |     gamma |   max_delta_step |   max_depth |   min_child_weight |   subsample | \n",
      " Stopped after 500 iterations with train-auc = 0.554025 val-auc = 0.554755 ( diff = -0.000731 ) train-gini = 0.108050 val-gini = 0.109511\n",
      "    8 | 01m43s |    0.10951 |             0.4221 |    0.1476 |           1.1183 |      2.0471 |            19.2493 |      0.7121 | \n",
      " Stopped after 500 iterations with train-auc = 0.554653 val-auc = 0.555362 ( diff = -0.000710 ) train-gini = 0.109306 val-gini = 0.110725\n",
      "    9 | 01m36s |    0.11072 |             0.4474 |   48.2973 |           0.2069 |      2.8557 |            19.8383 |      0.8732 | \n",
      " Stopped after 500 iterations with train-auc = 0.552899 val-auc = 0.553715 ( diff = -0.000816 ) train-gini = 0.105798 val-gini = 0.107430\n",
      "   10 | 02m18s |    0.10743 |             0.4000 |   17.0260 |          10.0000 |      2.0000 |            20.0000 |      0.4000 | \n",
      " Stopped after 500 iterations with train-auc = 0.560378 val-auc = 0.560843 ( diff = -0.000465 ) train-gini = 0.120756 val-gini = 0.121686\n",
      "   11 | 02m15s |    0.12169 |             0.4000 |   50.0000 |          10.0000 |      2.0000 |             0.0000 |      0.4000 | \n",
      " Stopped after 500 iterations with train-auc = 0.461450 val-auc = 0.473163 ( diff = -0.011713 ) train-gini = -0.077100 val-gini = -0.053675\n",
      "   12 | 07m19s |   -0.05367 |             0.4000 |    0.0010 |          10.0000 |     12.0000 |            20.0000 |      0.4000 | \n",
      "962.6453475952148\n"
     ]
    }
   ],
   "source": [
    "t1=time.time()\n",
    "import xgboost as xgb\n",
    "import warnings\n",
    "print('-'*130)\n",
    "print('-'*130, file=log_file)\n",
    "log_file.flush()\n",
    "\n",
    "with warnings.catch_warnings():\n",
    "    warnings.filterwarnings('ignore')\n",
    "    AUCbest = -1.\n",
    "    ITERbest = 0\n",
    "    y_dtrain=pd.get_dummies(y_train_label1)\n",
    "    dtrain = xgb.DMatrix(X_train_label1, label = y_dtrain['Y'])\n",
    "    XGB_BO.maximize(init_points=2, n_iter=5, acq='ei', xi=0.0)\n",
    "t2=time.time()\n",
    "print(t2-t1)"
   ]
  },
  {
   "cell_type": "code",
   "execution_count": 132,
   "metadata": {},
   "outputs": [],
   "source": [
    "model.append(XGB_BO.res['max']['max_params'])"
   ]
  },
  {
   "cell_type": "code",
   "execution_count": 133,
   "metadata": {},
   "outputs": [
    {
     "name": "stdout",
     "output_type": "stream",
     "text": [
      "----------------------------------------------------------------------------------------------------------------------------------\n",
      "\u001b[31mBayesian Optimization\u001b[0m\n",
      "\u001b[94m----------------------------------------------------------------------------------------------------------------------------------\u001b[0m\n",
      " Step |   Time |      Value |   colsample_bytree |     gamma |   max_delta_step |   max_depth |   min_child_weight |   subsample | \n",
      " Stopped after 500 iterations with train-auc = 0.538398 val-auc = 0.540633 ( diff = -0.002235 ) train-gini = 0.076796 val-gini = 0.081266\n",
      "   13 | 01m21s |    0.08127 |             0.4000 |    0.0010 |          10.0000 |      2.0000 |             0.0000 |      0.4000 | \n",
      " Stopped after 500 iterations with train-auc = 0.552250 val-auc = 0.553369 ( diff = -0.001120 ) train-gini = 0.104499 val-gini = 0.106738\n",
      "   14 | 01m21s |    0.10674 |             0.4000 |   31.6167 |          10.0000 |      2.0000 |             8.9546 |      0.4000 | \n",
      " Stopped after 500 iterations with train-auc = 0.533065 val-auc = 0.535349 ( diff = -0.002284 ) train-gini = 0.066130 val-gini = 0.070698\n",
      "   15 | 03m01s |    0.07070 |             0.4000 |   50.0000 |           0.0000 |     12.0000 |             0.0000 |      0.4000 | \n",
      " Stopped after 500 iterations with train-auc = 0.538398 val-auc = 0.540633 ( diff = -0.002235 ) train-gini = 0.076796 val-gini = 0.081266\n",
      "   16 | 01m20s |    0.08127 |             0.4000 |    0.0010 |           0.0000 |      2.0000 |             0.0000 |      0.4000 | \n",
      " Stopped after 500 iterations with train-auc = 0.566530 val-auc = 0.567224 ( diff = -0.000694 ) train-gini = 0.133060 val-gini = 0.134448\n",
      "   17 | 01m18s |    0.13445 |             0.4000 |   50.0000 |          10.0000 |      2.0000 |            14.6062 |      0.4000 | \n",
      "549.2848465442657\n"
     ]
    }
   ],
   "source": [
    "t1=time.time()\n",
    "import xgboost as xgb\n",
    "import warnings\n",
    "print('-'*130)\n",
    "print('-'*130, file=log_file)\n",
    "log_file.flush()\n",
    "\n",
    "with warnings.catch_warnings():\n",
    "    warnings.filterwarnings('ignore')\n",
    "    AUCbest = -1.\n",
    "    ITERbest = 0\n",
    "    y_dtrain=pd.get_dummies(y_train_label2)\n",
    "    dtrain = xgb.DMatrix(X_train_label2, label = y_dtrain['Y'])\n",
    "    XGB_BO.maximize(init_points=2, n_iter=5, acq='ei', xi=0.0)\n",
    "t2=time.time()\n",
    "print(t2-t1)"
   ]
  },
  {
   "cell_type": "code",
   "execution_count": 134,
   "metadata": {},
   "outputs": [],
   "source": [
    "model.append(XGB_BO.res['max']['max_params'])"
   ]
  },
  {
   "cell_type": "code",
   "execution_count": 135,
   "metadata": {},
   "outputs": [
    {
     "name": "stdout",
     "output_type": "stream",
     "text": [
      "----------------------------------------------------------------------------------------------------------------------------------\n",
      "\u001b[31mBayesian Optimization\u001b[0m\n",
      "\u001b[94m----------------------------------------------------------------------------------------------------------------------------------\u001b[0m\n",
      " Step |   Time |      Value |   colsample_bytree |     gamma |   max_delta_step |   max_depth |   min_child_weight |   subsample | \n",
      " Stopped after 500 iterations with train-auc = 0.590825 val-auc = 0.591426 ( diff = -0.000601 ) train-gini = 0.181649 val-gini = 0.182852\n",
      "   18 | 01m07s | \u001b[35m   0.18285\u001b[0m | \u001b[32m            0.4000\u001b[0m | \u001b[32m  50.0000\u001b[0m | \u001b[32m          0.0000\u001b[0m | \u001b[32m     2.0000\u001b[0m | \u001b[32m            0.0000\u001b[0m | \u001b[32m     0.4000\u001b[0m | \n",
      " Stopped after 500 iterations with train-auc = 0.584010 val-auc = 0.584987 ( diff = -0.000977 ) train-gini = 0.168020 val-gini = 0.169973\n",
      "   19 | 01m03s |    0.16997 |             0.4000 |   32.6613 |          10.0000 |      2.0000 |            20.0000 |      0.4000 | \n",
      " Stopped after 500 iterations with train-auc = 0.588476 val-auc = 0.589236 ( diff = -0.000760 ) train-gini = 0.176952 val-gini = 0.178472\n",
      "   20 | 01m50s |    0.17847 |             0.4000 |   50.0000 |          10.0000 |     12.0000 |            20.0000 |      0.4000 | \n",
      " Stopped after 500 iterations with train-auc = 0.578554 val-auc = 0.580088 ( diff = -0.001534 ) train-gini = 0.157108 val-gini = 0.160176\n",
      "   21 | 01m44s |    0.16018 |             0.4000 |   33.8596 |          10.0000 |     12.0000 |            20.0000 |      0.4000 | \n",
      " Stopped after 500 iterations with train-auc = 0.565346 val-auc = 0.569580 ( diff = -0.004235 ) train-gini = 0.130691 val-gini = 0.139161\n",
      "   22 | 00m49s |    0.13916 |             0.4000 |    0.0010 |          10.0000 |      2.0000 |            20.0000 |      0.4000 | \n",
      "412.6863887310028\n"
     ]
    }
   ],
   "source": [
    "t1=time.time()\n",
    "import xgboost as xgb\n",
    "import warnings\n",
    "print('-'*130)\n",
    "print('-'*130, file=log_file)\n",
    "log_file.flush()\n",
    "\n",
    "with warnings.catch_warnings():\n",
    "    warnings.filterwarnings('ignore')\n",
    "    AUCbest = -1.\n",
    "    ITERbest = 0\n",
    "    y_dtrain=pd.get_dummies(y_train_label3)\n",
    "    dtrain = xgb.DMatrix(X_train_label3, label = y_dtrain['Y'])\n",
    "    XGB_BO.maximize(init_points=2, n_iter=5, acq='ei', xi=0.0)\n",
    "t2=time.time()\n",
    "print(t2-t1)"
   ]
  },
  {
   "cell_type": "code",
   "execution_count": 136,
   "metadata": {},
   "outputs": [],
   "source": [
    "model.append(XGB_BO.res['max']['max_params'])"
   ]
  },
  {
   "cell_type": "code",
   "execution_count": 138,
   "metadata": {},
   "outputs": [
    {
     "name": "stdout",
     "output_type": "stream",
     "text": [
      "----------------------------------------------------------------------------------------------------------------------------------\n",
      "\u001b[31mBayesian Optimization\u001b[0m\n",
      "\u001b[94m----------------------------------------------------------------------------------------------------------------------------------\u001b[0m\n",
      " Step |   Time |      Value |   colsample_bytree |     gamma |   max_delta_step |   max_depth |   min_child_weight |   subsample | \n",
      " Stopped after 1 iterations with train-auc = 0.693147 val-auc = 0.693147 ( diff = 0.000000 ) train-gini = 0.386294 val-gini = 0.386294\n",
      "   23 | 00m19s | \u001b[35m   0.38629\u001b[0m | \u001b[32m            0.4000\u001b[0m | \u001b[32m  38.2139\u001b[0m | \u001b[32m         10.0000\u001b[0m | \u001b[32m     2.0000\u001b[0m | \u001b[32m           20.0000\u001b[0m | \u001b[32m     0.4000\u001b[0m | \n",
      " Stopped after 500 iterations with train-auc = 0.157317 val-auc = 0.157317 ( diff = 0.000000 ) train-gini = -0.685366 val-gini = -0.685366\n",
      "   24 | 00m30s |   -0.68537 |             1.0000 |   34.9275 |          10.0000 |     12.0000 |             0.0000 |      0.4000 | \n",
      " Stopped after 1 iterations with train-auc = 0.693147 val-auc = 0.693147 ( diff = 0.000000 ) train-gini = 0.386294 val-gini = 0.386294\n",
      "   25 | 00m28s |    0.38629 |             0.4000 |   10.2256 |          10.0000 |      2.0000 |             8.9472 |      0.4000 | \n",
      " Stopped after 500 iterations with train-auc = 0.157317 val-auc = 0.157317 ( diff = 0.000000 ) train-gini = -0.685366 val-gini = -0.685366\n",
      "   26 | 00m25s |   -0.68537 |             0.4000 |   14.1418 |          10.0000 |      2.0000 |             0.0000 |      0.4000 | \n",
      " Stopped after 1 iterations with train-auc = 0.693147 val-auc = 0.693147 ( diff = 0.000000 ) train-gini = 0.386294 val-gini = 0.386294\n",
      "   27 | 00m40s |    0.38629 |             1.0000 |    6.3346 |           7.0007 |      7.3928 |            10.5007 |      0.4000 | \n",
      "176.4106605052948\n"
     ]
    }
   ],
   "source": [
    "t1=time.time()\n",
    "import xgboost as xgb\n",
    "import warnings\n",
    "print('-'*130)\n",
    "print('-'*130, file=log_file)\n",
    "log_file.flush()\n",
    "\n",
    "with warnings.catch_warnings():\n",
    "    warnings.filterwarnings('ignore')\n",
    "    AUCbest = -1.\n",
    "    ITERbest = 0\n",
    "    y_dtrain=pd.get_dummies(y_train_label4)\n",
    "    dtrain = xgb.DMatrix(X_train_label4, label = y_dtrain['N'])\n",
    "    XGB_BO.maximize(init_points=2, n_iter=5, acq='ei', xi=0.0)\n",
    "t2=time.time()\n",
    "print(t2-t1)"
   ]
  },
  {
   "cell_type": "code",
   "execution_count": 139,
   "metadata": {},
   "outputs": [],
   "source": [
    "model.append(XGB_BO.res['max']['max_params'])"
   ]
  },
  {
   "cell_type": "code",
   "execution_count": 140,
   "metadata": {},
   "outputs": [
    {
     "data": {
      "text/plain": [
       "[{'colsample_bytree': 0.4057543205443876,\n",
       "  'gamma': 49.66951703468305,\n",
       "  'max_delta_step': 0.2536929836930568,\n",
       "  'max_depth': 2.6480271468430843,\n",
       "  'min_child_weight': 19.688137921418548,\n",
       "  'subsample': 0.42180164965893374},\n",
       " {'colsample_bytree': 0.4057543205443876,\n",
       "  'gamma': 49.66951703468305,\n",
       "  'max_delta_step': 0.2536929836930568,\n",
       "  'max_depth': 2.6480271468430843,\n",
       "  'min_child_weight': 19.688137921418548,\n",
       "  'subsample': 0.42180164965893374},\n",
       " {'colsample_bytree': 0.4057543205443876,\n",
       "  'gamma': 49.66951703468305,\n",
       "  'max_delta_step': 0.2536929836930568,\n",
       "  'max_depth': 2.6480271468430843,\n",
       "  'min_child_weight': 19.688137921418548,\n",
       "  'subsample': 0.42180164965893374},\n",
       " {'colsample_bytree': 0.4,\n",
       "  'gamma': 50.0,\n",
       "  'max_delta_step': 0.0,\n",
       "  'max_depth': 2.0,\n",
       "  'min_child_weight': 0.0,\n",
       "  'subsample': 0.4},\n",
       " {'colsample_bytree': 0.4,\n",
       "  'gamma': 38.21386237253613,\n",
       "  'max_delta_step': 10.0,\n",
       "  'max_depth': 2.0,\n",
       "  'min_child_weight': 20.0,\n",
       "  'subsample': 0.4}]"
      ]
     },
     "execution_count": 140,
     "metadata": {},
     "output_type": "execute_result"
    }
   ],
   "source": [
    "model"
   ]
  },
  {
   "cell_type": "code",
   "execution_count": 151,
   "metadata": {},
   "outputs": [
    {
     "name": "stdout",
     "output_type": "stream",
     "text": [
      "0.5896937829689518\n"
     ]
    },
    {
     "data": {
      "text/plain": [
       "10.020084381103516"
      ]
     },
     "execution_count": 151,
     "metadata": {},
     "output_type": "execute_result"
    }
   ],
   "source": [
    "t1=time.time()\n",
    "m_params=model[0]\n",
    "xgb0=xgb.XGBClassifier(max_depth=int(m_params['max_depth']),gamma=m_params['gamma'],colsample_bytree=m_params['colsample_bytree'],\n",
    "                       eval_metric='logloss',max_delta_step= m_params['max_delta_step'],min_child_weight=m_params['min_child_weight'],\n",
    "                      subsample= m_params['subsample'])\n",
    "pred0=xgb0.fit(X_train_label0,y_train_label0).predict_proba(X_valid_label0)\n",
    "print(log_loss(y_valid_label0,pred0[:,1]))\n",
    "t2=time.time()\n",
    "t2-t1"
   ]
  },
  {
   "cell_type": "code",
   "execution_count": 143,
   "metadata": {},
   "outputs": [
    {
     "name": "stdout",
     "output_type": "stream",
     "text": [
      "0.5620942755784056\n"
     ]
    },
    {
     "data": {
      "text/plain": [
       "18.357664585113525"
      ]
     },
     "execution_count": 143,
     "metadata": {},
     "output_type": "execute_result"
    }
   ],
   "source": [
    "t1=time.time()\n",
    "m_params=model[1]\n",
    "xgb1=xgb.XGBClassifier(max_depth=int(m_params['max_depth']),gamma=m_params['gamma'],colsample_bytree=m_params['colsample_bytree'],\n",
    "                       eval_metric='logloss',max_delta_step= m_params['max_delta_step'],min_child_weight=m_params['min_child_weight'],\n",
    "                      subsample= m_params['subsample'])\n",
    "pred1=xgb1.fit(X_train_label1,y_train_label1).predict_proba(X_valid_label1)\n",
    "print(log_loss(y_valid_label1,pred1[:,1]))\n",
    "t2=time.time()\n",
    "t2-t1"
   ]
  },
  {
   "cell_type": "code",
   "execution_count": 144,
   "metadata": {},
   "outputs": [
    {
     "name": "stdout",
     "output_type": "stream",
     "text": [
      "0.5663942319960743\n"
     ]
    },
    {
     "data": {
      "text/plain": [
       "5.791574001312256"
      ]
     },
     "execution_count": 144,
     "metadata": {},
     "output_type": "execute_result"
    }
   ],
   "source": [
    "t1=time.time()\n",
    "m_params=model[2]\n",
    "xgb2=xgb.XGBClassifier(max_depth=int(m_params['max_depth']),gamma=m_params['gamma'],colsample_bytree=m_params['colsample_bytree'],\n",
    "                       eval_metric='logloss',max_delta_step= m_params['max_delta_step'],min_child_weight=m_params['min_child_weight'],\n",
    "                      subsample= m_params['subsample'])\n",
    "pred2=xgb2.fit(X_train_label2,y_train_label2).predict_proba(X_valid_label2)\n",
    "print(log_loss(y_valid_label2,pred2[:,1]))\n",
    "t2=time.time()\n",
    "t2-t1"
   ]
  },
  {
   "cell_type": "code",
   "execution_count": 145,
   "metadata": {},
   "outputs": [
    {
     "name": "stdout",
     "output_type": "stream",
     "text": [
      "0.5866473625850822\n"
     ]
    },
    {
     "data": {
      "text/plain": [
       "4.001896381378174"
      ]
     },
     "execution_count": 145,
     "metadata": {},
     "output_type": "execute_result"
    }
   ],
   "source": [
    "t1=time.time()\n",
    "m_params=model[3]\n",
    "xgb3=xgb.XGBClassifier(max_depth=int(m_params['max_depth']),gamma=m_params['gamma'],colsample_bytree=m_params['colsample_bytree'],\n",
    "                       eval_metric='logloss',max_delta_step= m_params['max_delta_step'],min_child_weight=m_params['min_child_weight'],\n",
    "                      subsample= m_params['subsample'])\n",
    "pred3=xgb3.fit(X_train_label3,y_train_label3).predict_proba(X_valid_label3)\n",
    "print(log_loss(y_valid_label3,pred3[:,1]))\n",
    "t2=time.time()\n",
    "t2-t1"
   ]
  },
  {
   "cell_type": "code",
   "execution_count": 149,
   "metadata": {},
   "outputs": [
    {
     "ename": "ValueError",
     "evalue": "y_true contains only one label (N). Please provide the true labels explicitly through the labels argument.",
     "output_type": "error",
     "traceback": [
      "\u001b[0;31m---------------------------------------------------------------------------\u001b[0m",
      "\u001b[0;31mValueError\u001b[0m                                Traceback (most recent call last)",
      "\u001b[0;32m<ipython-input-149-3d728d6c2b7a>\u001b[0m in \u001b[0;36m<module>\u001b[0;34m()\u001b[0m\n\u001b[1;32m      5\u001b[0m                       subsample= m_params['subsample'])\n\u001b[1;32m      6\u001b[0m \u001b[0mpred4\u001b[0m\u001b[0;34m=\u001b[0m\u001b[0mxgb4\u001b[0m\u001b[0;34m.\u001b[0m\u001b[0mfit\u001b[0m\u001b[0;34m(\u001b[0m\u001b[0mX_train_label4\u001b[0m\u001b[0;34m,\u001b[0m\u001b[0my_train_label4\u001b[0m\u001b[0;34m)\u001b[0m\u001b[0;34m.\u001b[0m\u001b[0mpredict_proba\u001b[0m\u001b[0;34m(\u001b[0m\u001b[0mX_valid_label4\u001b[0m\u001b[0;34m)\u001b[0m\u001b[0;34m\u001b[0m\u001b[0m\n\u001b[0;32m----> 7\u001b[0;31m \u001b[0mprint\u001b[0m\u001b[0;34m(\u001b[0m\u001b[0mlog_loss\u001b[0m\u001b[0;34m(\u001b[0m\u001b[0my_valid_label4\u001b[0m\u001b[0;34m,\u001b[0m\u001b[0mpred4\u001b[0m\u001b[0;34m[\u001b[0m\u001b[0;34m:\u001b[0m\u001b[0;34m]\u001b[0m\u001b[0;34m)\u001b[0m\u001b[0;34m)\u001b[0m\u001b[0;34m\u001b[0m\u001b[0m\n\u001b[0m\u001b[1;32m      8\u001b[0m \u001b[0mt2\u001b[0m\u001b[0;34m=\u001b[0m\u001b[0mtime\u001b[0m\u001b[0;34m.\u001b[0m\u001b[0mtime\u001b[0m\u001b[0;34m(\u001b[0m\u001b[0;34m)\u001b[0m\u001b[0;34m\u001b[0m\u001b[0m\n\u001b[1;32m      9\u001b[0m \u001b[0mt2\u001b[0m\u001b[0;34m-\u001b[0m\u001b[0mt1\u001b[0m\u001b[0;34m\u001b[0m\u001b[0m\n",
      "\u001b[0;32m/usr/lib64/python3.6/site-packages/sklearn/metrics/classification.py\u001b[0m in \u001b[0;36mlog_loss\u001b[0;34m(y_true, y_pred, eps, normalize, sample_weight, labels)\u001b[0m\n\u001b[1;32m   1652\u001b[0m             raise ValueError('y_true contains only one label ({0}). Please '\n\u001b[1;32m   1653\u001b[0m                              \u001b[0;34m'provide the true labels explicitly through the '\u001b[0m\u001b[0;34m\u001b[0m\u001b[0m\n\u001b[0;32m-> 1654\u001b[0;31m                              'labels argument.'.format(lb.classes_[0]))\n\u001b[0m\u001b[1;32m   1655\u001b[0m         \u001b[0;32melse\u001b[0m\u001b[0;34m:\u001b[0m\u001b[0;34m\u001b[0m\u001b[0m\n\u001b[1;32m   1656\u001b[0m             raise ValueError('The labels array needs to contain at least two '\n",
      "\u001b[0;31mValueError\u001b[0m: y_true contains only one label (N). Please provide the true labels explicitly through the labels argument."
     ]
    }
   ],
   "source": [
    "t1=time.time()\n",
    "m_params=model[4]\n",
    "xgb4=xgb.XGBClassifier(max_depth=int(m_params['max_depth']),gamma=m_params['gamma'],colsample_bytree=m_params['colsample_bytree'],\n",
    "                       eval_metric='logloss',max_delta_step= m_params['max_delta_step'],min_child_weight=m_params['min_child_weight'],\n",
    "                      subsample= m_params['subsample'])\n",
    "pred4=xgb4.fit(X_train_label4,y_train_label4).predict_proba(X_valid_label4)\n",
    "print(log_loss(y_valid_label4,pred4[:]))\n",
    "t2=time.time()\n",
    "t2-t1"
   ]
  },
  {
   "cell_type": "code",
   "execution_count": 150,
   "metadata": {},
   "outputs": [
    {
     "name": "stdout",
     "output_type": "stream",
     "text": [
      "[[0.5 0.5]\n",
      " [0.5 0.5]]\n"
     ]
    }
   ],
   "source": [
    "print(pred4)"
   ]
  },
  {
   "cell_type": "code",
   "execution_count": 169,
   "metadata": {},
   "outputs": [],
   "source": [
    "pred = np.zeros(len(y_valid))\n",
    "pred[X_valid_labels==0] = pred0[:,1]\n",
    "pred[X_valid_labels==1] = pred1[:,1]\n",
    "pred[X_valid_labels==2] = pred2[:,1]\n",
    "pred[X_valid_labels==3] = pred3[:,1]\n",
    "pred[X_valid_labels==4] = 0.5"
   ]
  },
  {
   "cell_type": "code",
   "execution_count": 170,
   "metadata": {},
   "outputs": [
    {
     "name": "stdout",
     "output_type": "stream",
     "text": [
      "0.5723900402884352\n"
     ]
    }
   ],
   "source": [
    "print(log_loss(y_valid,pred))"
   ]
  },
  {
   "cell_type": "code",
   "execution_count": 172,
   "metadata": {},
   "outputs": [],
   "source": [
    "test_labels=kmeans.predict(test)"
   ]
  },
  {
   "cell_type": "code",
   "execution_count": 175,
   "metadata": {},
   "outputs": [],
   "source": [
    "pred = np.zeros(test.shape[0])\n",
    "test_label0=test[test_labels==0]\n",
    "test_label1=test[test_labels==1]\n",
    "test_label2=test[test_labels==2]\n",
    "test_label3=test[test_labels==3]\n",
    "test_label4=test[test_labels==4]"
   ]
  },
  {
   "cell_type": "code",
   "execution_count": 176,
   "metadata": {},
   "outputs": [],
   "source": [
    "pred[test_labels==0] = xgb0.predict_proba(test_label0)[:,1]\n",
    "pred[test_labels==1] = xgb1.predict_proba(test_label1)[:,1]\n",
    "pred[test_labels==2] = xgb2.predict_proba(test_label2)[:,1]\n",
    "pred[test_labels==3] = xgb3.predict_proba(test_label3)[:,1]\n",
    "pred[test_labels==4] = 0.5"
   ]
  },
  {
   "cell_type": "code",
   "execution_count": 179,
   "metadata": {},
   "outputs": [],
   "source": [
    "#submit the prediction score\n",
    "submit = pd.DataFrame()\n",
    "submit['INNOVATION_CHALLENGE_KEY'] = test_ids\n",
    "#RENEWAL_PROBABLIITY\n",
    "submit['RENEWAL_PROBABLIITY']=pred\n",
    "submit=submit.sort_values('INNOVATION_CHALLENGE_KEY')\n",
    "submit.to_csv('XGB-BO-multimodel_imputed.csv',index=False)"
   ]
  },
  {
   "cell_type": "code",
   "execution_count": 186,
   "metadata": {},
   "outputs": [
    {
     "data": {
      "text/plain": [
       "1151916"
      ]
     },
     "execution_count": 186,
     "metadata": {},
     "output_type": "execute_result"
    }
   ],
   "source": [
    "(pred>0.7).sum()"
   ]
  },
  {
   "cell_type": "code",
   "execution_count": null,
   "metadata": {},
   "outputs": [],
   "source": []
  }
 ],
 "metadata": {
  "kernelspec": {
   "display_name": "Python 3",
   "language": "python",
   "name": "python3"
  },
  "language_info": {
   "codemirror_mode": {
    "name": "ipython",
    "version": 3
   },
   "file_extension": ".py",
   "mimetype": "text/x-python",
   "name": "python",
   "nbconvert_exporter": "python",
   "pygments_lexer": "ipython3",
   "version": "3.6.4"
  }
 },
 "nbformat": 4,
 "nbformat_minor": 2
}
