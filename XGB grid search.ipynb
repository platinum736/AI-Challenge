{
 "cells": [
  {
   "cell_type": "code",
   "execution_count": 1,
   "metadata": {},
   "outputs": [],
   "source": [
    "import numpy as np\n",
    "import pandas as pd\n",
    "import xgboost as xgb\n",
    "from sklearn.model_selection import StratifiedKFold\n",
    "import os"
   ]
  },
  {
   "cell_type": "code",
   "execution_count": 2,
   "metadata": {},
   "outputs": [],
   "source": [
    "os.chdir('/aichallenge')"
   ]
  },
  {
   "cell_type": "code",
   "execution_count": 3,
   "metadata": {
    "scrolled": true
   },
   "outputs": [
    {
     "name": "stderr",
     "output_type": "stream",
     "text": [
      "/usr/lib/python3.6/site-packages/IPython/core/interactiveshell.py:2728: DtypeWarning: Columns (6,16,17,26,40,41,49,53,97,98,99,100,104,107,109,112,127,128,129,130,220,221,222) have mixed types. Specify dtype option on import or set low_memory=False.\n",
      "  interactivity=interactivity, compiler=compiler, result=result)\n",
      "/usr/lib/python3.6/site-packages/IPython/core/interactiveshell.py:2728: DtypeWarning: Columns (6,16,17,26,40,41,49,53,54,55,100,104,107,109,112,127,128,129,130,153,171,220,221,222,225,226,227) have mixed types. Specify dtype option on import or set low_memory=False.\n",
      "  interactivity=interactivity, compiler=compiler, result=result)\n"
     ]
    },
    {
     "name": "stdout",
     "output_type": "stream",
     "text": [
      "180.06759762763977\n"
     ]
    }
   ],
   "source": [
    "import time\n",
    "t1=time.time()\n",
    "train = pd.read_table('challengeData.tsv')\n",
    "test = pd.read_table('scoring_set.tsv')\n",
    "train_imputed = pd.read_csv('train_imputed.csv')\n",
    "test_imputed = pd.read_csv('test_imputed.csv')\n",
    "t2=time.time()\n",
    "print(t2-t1)"
   ]
  },
  {
   "cell_type": "code",
   "execution_count": 4,
   "metadata": {},
   "outputs": [
    {
     "data": {
      "text/plain": [
       "(250000, 237)"
      ]
     },
     "execution_count": 4,
     "metadata": {},
     "output_type": "execute_result"
    }
   ],
   "source": [
    "train.shape"
   ]
  },
  {
   "cell_type": "code",
   "execution_count": 5,
   "metadata": {},
   "outputs": [
    {
     "data": {
      "text/plain": [
       "False"
      ]
     },
     "execution_count": 5,
     "metadata": {},
     "output_type": "execute_result"
    }
   ],
   "source": [
    "train_imputed.isnull().any().any()"
   ]
  },
  {
   "cell_type": "code",
   "execution_count": 6,
   "metadata": {},
   "outputs": [
    {
     "data": {
      "text/plain": [
       "(1888195, 42)"
      ]
     },
     "execution_count": 6,
     "metadata": {},
     "output_type": "execute_result"
    }
   ],
   "source": [
    "test_imputed.shape"
   ]
  },
  {
   "cell_type": "code",
   "execution_count": 7,
   "metadata": {},
   "outputs": [
    {
     "data": {
      "text/plain": [
       "(226140, 42)"
      ]
     },
     "execution_count": 7,
     "metadata": {},
     "output_type": "execute_result"
    }
   ],
   "source": [
    "train_imputed.shape"
   ]
  },
  {
   "cell_type": "code",
   "execution_count": 8,
   "metadata": {},
   "outputs": [],
   "source": [
    "train_imputed = train_imputed.drop('Unnamed: 0',axis=1)\n",
    "test_imputed = test_imputed.drop('Unnamed: 0',axis=1)"
   ]
  },
  {
   "cell_type": "code",
   "execution_count": 9,
   "metadata": {},
   "outputs": [
    {
     "name": "stdout",
     "output_type": "stream",
     "text": [
      "0.001154184341430664\n"
     ]
    }
   ],
   "source": [
    "#remove data set name from columns names to make it uniform\n",
    "t1=time.time()\n",
    "columns=[]\n",
    "for col in train.columns:\n",
    "    columns.append(col.replace('challenge_data.',''))\n",
    "train.columns=columns\n",
    "columns=[]\n",
    "for col in test.columns:\n",
    "    columns.append(col.replace('scoring_set.',''))\n",
    "test.columns=columns\n",
    "t2=time.time()\n",
    "print(t2-t1)"
   ]
  },
  {
   "cell_type": "code",
   "execution_count": 10,
   "metadata": {},
   "outputs": [
    {
     "data": {
      "text/plain": [
       "23860"
      ]
     },
     "execution_count": 10,
     "metadata": {},
     "output_type": "execute_result"
    }
   ],
   "source": [
    "train['renewed_yorn'].isnull().sum()"
   ]
  },
  {
   "cell_type": "code",
   "execution_count": 11,
   "metadata": {},
   "outputs": [
    {
     "name": "stdout",
     "output_type": "stream",
     "text": [
      "0.5195481777191162\n"
     ]
    }
   ],
   "source": [
    "#remove the rows where 'challenge_data.renewed_yorn' is null in training data\n",
    "t1=time.time()\n",
    "train=train[train['renewed_yorn'].notnull()]\n",
    "t2=time.time()\n",
    "print(t2-t1)"
   ]
  },
  {
   "cell_type": "code",
   "execution_count": 12,
   "metadata": {},
   "outputs": [
    {
     "name": "stdout",
     "output_type": "stream",
     "text": [
      "4.0585174560546875\n"
     ]
    }
   ],
   "source": [
    "#remove the 'challenge_data.renewed_yorn' from training and test data and move it to a seperate variable\n",
    "t1=time.time()\n",
    "train_y=train['renewed_yorn']\n",
    "train = train.drop(['renewed_yorn','zip_code'],axis=1)\n",
    "test_y=test['renewed_yorn']\n",
    "test = test.drop(['renewed_yorn','zip_code'],axis=1)\n",
    "t2=time.time()\n",
    "print(t2-t1)"
   ]
  },
  {
   "cell_type": "code",
   "execution_count": 13,
   "metadata": {},
   "outputs": [
    {
     "name": "stdout",
     "output_type": "stream",
     "text": [
      "48.13301634788513\n"
     ]
    }
   ],
   "source": [
    "#remove columns which have many null values\n",
    "t1=time.time()\n",
    "percent = (test.isnull().sum()/test.isnull().count())\n",
    "test.columns[percent>0.5]\n",
    "#We would ignore all these 102 columns so we are left with 135 columns\n",
    "len(test.columns[percent>0.5])\n",
    "#all_clean_columns=train.columns[percent==0]\n",
    "#train_clean=train[all_clean_columns]\n",
    "unclean_columns=test.columns[percent>0.5]\n",
    "clean_columns=test.columns[percent==0]\n",
    "train = train.drop(unclean_columns,axis=1)\n",
    "test = test.drop(unclean_columns,axis=1)\n",
    "t2=time.time()\n",
    "print(t2-t1)"
   ]
  },
  {
   "cell_type": "code",
   "execution_count": 14,
   "metadata": {},
   "outputs": [
    {
     "data": {
      "text/plain": [
       "36"
      ]
     },
     "execution_count": 14,
     "metadata": {},
     "output_type": "execute_result"
    }
   ],
   "source": [
    "len(unclean_columns)"
   ]
  },
  {
   "cell_type": "code",
   "execution_count": 15,
   "metadata": {},
   "outputs": [
    {
     "data": {
      "text/plain": [
       "133"
      ]
     },
     "execution_count": 15,
     "metadata": {},
     "output_type": "execute_result"
    }
   ],
   "source": [
    "len(clean_columns)"
   ]
  },
  {
   "cell_type": "code",
   "execution_count": 16,
   "metadata": {},
   "outputs": [],
   "source": [
    "t1=time.time()\n",
    "percent = (test.isnull().sum()/test.isnull().count())\n",
    "target_columns=test.columns[percent>0]\n",
    "train_missing=train[target_columns]\n",
    "test_missing=test[target_columns]\n",
    "train = train.drop(target_columns,axis=1)\n",
    "test = test.drop(target_columns,axis=1)"
   ]
  },
  {
   "cell_type": "code",
   "execution_count": 17,
   "metadata": {},
   "outputs": [
    {
     "data": {
      "text/plain": [
       "66"
      ]
     },
     "execution_count": 17,
     "metadata": {},
     "output_type": "execute_result"
    }
   ],
   "source": [
    "len(target_columns)"
   ]
  },
  {
   "cell_type": "code",
   "execution_count": 18,
   "metadata": {},
   "outputs": [
    {
     "name": "stdout",
     "output_type": "stream",
     "text": [
      "1.7649507522583008\n"
     ]
    }
   ],
   "source": [
    "#Remove columns which have too many categories and is string type\n",
    "t1=time.time()\n",
    "messy_columns = []\n",
    "for col in target_columns:\n",
    "    if(train_missing[col].dtype=='O' and len(train_missing[col].unique())>=10):\n",
    "        messy_columns.append(col)\n",
    "t2=time.time()\n",
    "print(t2-t1)"
   ]
  },
  {
   "cell_type": "code",
   "execution_count": 19,
   "metadata": {},
   "outputs": [
    {
     "data": {
      "text/plain": [
       "25"
      ]
     },
     "execution_count": 19,
     "metadata": {},
     "output_type": "execute_result"
    }
   ],
   "source": [
    "# 56 messy columns are removed\n",
    "len(messy_columns)"
   ]
  },
  {
   "cell_type": "code",
   "execution_count": 20,
   "metadata": {},
   "outputs": [
    {
     "data": {
      "text/plain": [
       "66"
      ]
     },
     "execution_count": 20,
     "metadata": {},
     "output_type": "execute_result"
    }
   ],
   "source": [
    "len(train_missing.columns)"
   ]
  },
  {
   "cell_type": "code",
   "execution_count": 21,
   "metadata": {},
   "outputs": [
    {
     "name": "stdout",
     "output_type": "stream",
     "text": [
      "0.884458065032959\n"
     ]
    }
   ],
   "source": [
    "t1=time.time()\n",
    "train_missing=train_missing.drop(messy_columns,axis=1)\n",
    "test_missing=test_missing.drop(messy_columns,axis=1)\n",
    "t2=time.time()\n",
    "print(t2-t1)"
   ]
  },
  {
   "cell_type": "code",
   "execution_count": 22,
   "metadata": {},
   "outputs": [
    {
     "name": "stdout",
     "output_type": "stream",
     "text": [
      "1.7416579723358154\n"
     ]
    }
   ],
   "source": [
    "#Remove columns which have too many categories and is string type\n",
    "t1=time.time()\n",
    "messy_columns = []\n",
    "for col in train.columns:\n",
    "    if(train[col].dtype=='O' and len(train[col].unique())>=10):\n",
    "        messy_columns.append(col)\n",
    "t2=time.time()\n",
    "print(t2-t1)"
   ]
  },
  {
   "cell_type": "code",
   "execution_count": 23,
   "metadata": {},
   "outputs": [
    {
     "data": {
      "text/plain": [
       "61"
      ]
     },
     "execution_count": 23,
     "metadata": {},
     "output_type": "execute_result"
    }
   ],
   "source": [
    "len(messy_columns)"
   ]
  },
  {
   "cell_type": "code",
   "execution_count": 24,
   "metadata": {},
   "outputs": [
    {
     "name": "stdout",
     "output_type": "stream",
     "text": [
      "1.8799636363983154\n"
     ]
    }
   ],
   "source": [
    "t1=time.time()\n",
    "train=train.drop(messy_columns,axis=1)\n",
    "test=test.drop(messy_columns,axis=1)\n",
    "t2=time.time()\n",
    "print(t2-t1)"
   ]
  },
  {
   "cell_type": "code",
   "execution_count": 25,
   "metadata": {},
   "outputs": [
    {
     "data": {
      "text/plain": [
       "(226140, 72)"
      ]
     },
     "execution_count": 25,
     "metadata": {},
     "output_type": "execute_result"
    }
   ],
   "source": [
    "train.shape"
   ]
  },
  {
   "cell_type": "code",
   "execution_count": 26,
   "metadata": {},
   "outputs": [
    {
     "data": {
      "text/plain": [
       "(226140, 41)"
      ]
     },
     "execution_count": 26,
     "metadata": {},
     "output_type": "execute_result"
    }
   ],
   "source": [
    "train_missing.shape"
   ]
  },
  {
   "cell_type": "code",
   "execution_count": 27,
   "metadata": {},
   "outputs": [
    {
     "data": {
      "text/plain": [
       "(226140, 41)"
      ]
     },
     "execution_count": 27,
     "metadata": {},
     "output_type": "execute_result"
    }
   ],
   "source": [
    "train_imputed.shape"
   ]
  },
  {
   "cell_type": "code",
   "execution_count": 28,
   "metadata": {},
   "outputs": [
    {
     "data": {
      "text/plain": [
       "False"
      ]
     },
     "execution_count": 28,
     "metadata": {},
     "output_type": "execute_result"
    }
   ],
   "source": [
    "train_imputed.isnull().any().any()"
   ]
  },
  {
   "cell_type": "code",
   "execution_count": 29,
   "metadata": {},
   "outputs": [
    {
     "data": {
      "text/plain": [
       "False"
      ]
     },
     "execution_count": 29,
     "metadata": {},
     "output_type": "execute_result"
    }
   ],
   "source": [
    "train.isnull().any().any()"
   ]
  },
  {
   "cell_type": "code",
   "execution_count": 30,
   "metadata": {},
   "outputs": [],
   "source": [
    "train_copy=train"
   ]
  },
  {
   "cell_type": "code",
   "execution_count": 31,
   "metadata": {},
   "outputs": [
    {
     "name": "stdout",
     "output_type": "stream",
     "text": [
      "1.1950161457061768\n"
     ]
    }
   ],
   "source": [
    "#Remove the primary key column for data fitting\n",
    "t1=time.time()\n",
    "train = train.drop('innovation_challenge_key',axis=1)\n",
    "test_ids=test['innovation_challenge_key']\n",
    "test = test.drop('innovation_challenge_key',axis=1)\n",
    "t2=time.time()\n",
    "print(t2-t1)"
   ]
  },
  {
   "cell_type": "code",
   "execution_count": 32,
   "metadata": {},
   "outputs": [
    {
     "data": {
      "text/plain": [
       "False"
      ]
     },
     "execution_count": 32,
     "metadata": {},
     "output_type": "execute_result"
    }
   ],
   "source": [
    "train.isnull().any().any()"
   ]
  },
  {
   "cell_type": "code",
   "execution_count": 33,
   "metadata": {},
   "outputs": [],
   "source": [
    "train=train.reset_index()"
   ]
  },
  {
   "cell_type": "code",
   "execution_count": 34,
   "metadata": {},
   "outputs": [],
   "source": [
    "train = train.drop(['index'],axis=1)"
   ]
  },
  {
   "cell_type": "code",
   "execution_count": 35,
   "metadata": {},
   "outputs": [],
   "source": [
    "for col in train_imputed.columns:\n",
    "    train[col]=train_imputed[col]\n",
    "    test[col]=test_imputed[col]"
   ]
  },
  {
   "cell_type": "code",
   "execution_count": 36,
   "metadata": {},
   "outputs": [
    {
     "data": {
      "text/plain": [
       "(226140,)"
      ]
     },
     "execution_count": 36,
     "metadata": {},
     "output_type": "execute_result"
    }
   ],
   "source": [
    "train[col].shape"
   ]
  },
  {
   "cell_type": "code",
   "execution_count": 37,
   "metadata": {},
   "outputs": [
    {
     "data": {
      "text/plain": [
       "(226140, 112)"
      ]
     },
     "execution_count": 37,
     "metadata": {},
     "output_type": "execute_result"
    }
   ],
   "source": [
    "train.shape"
   ]
  },
  {
   "cell_type": "code",
   "execution_count": 38,
   "metadata": {},
   "outputs": [
    {
     "data": {
      "text/plain": [
       "(1888195, 112)"
      ]
     },
     "execution_count": 38,
     "metadata": {},
     "output_type": "execute_result"
    }
   ],
   "source": [
    "test.shape"
   ]
  },
  {
   "cell_type": "code",
   "execution_count": 39,
   "metadata": {},
   "outputs": [
    {
     "data": {
      "text/plain": [
       "False"
      ]
     },
     "execution_count": 39,
     "metadata": {},
     "output_type": "execute_result"
    }
   ],
   "source": [
    "train.isnull().any().any()"
   ]
  },
  {
   "cell_type": "code",
   "execution_count": 40,
   "metadata": {},
   "outputs": [
    {
     "name": "stdout",
     "output_type": "stream",
     "text": [
      "0.030612945556640625\n"
     ]
    }
   ],
   "source": [
    "#Number of unique values in each columns\n",
    "t1=time.time()\n",
    "catcols=[]\n",
    "scalcols=[]\n",
    "for col in train.columns:\n",
    "    if (train[col].dtype !='object'):\n",
    "        if(len(train[col].unique())<=10):\n",
    "            catcols.append(col)\n",
    "        else:\n",
    "            scalcols.append(col)\n",
    "t2=time.time()\n",
    "print(t2-t1)"
   ]
  },
  {
   "cell_type": "code",
   "execution_count": 41,
   "metadata": {},
   "outputs": [
    {
     "name": "stdout",
     "output_type": "stream",
     "text": [
      "0.16880011558532715\n"
     ]
    }
   ],
   "source": [
    "#handle catcols\n",
    "t1=time.time()\n",
    "for col in catcols:\n",
    "    train[col]=train[col].astype('category')\n",
    "    test[col]=test[col].astype('category')\n",
    "t2=time.time()\n",
    "print(t2-t1)"
   ]
  },
  {
   "cell_type": "code",
   "execution_count": 42,
   "metadata": {},
   "outputs": [
    {
     "data": {
      "text/plain": [
       "0"
      ]
     },
     "execution_count": 42,
     "metadata": {},
     "output_type": "execute_result"
    }
   ],
   "source": [
    "train.isnull().any().sum()"
   ]
  },
  {
   "cell_type": "code",
   "execution_count": 43,
   "metadata": {},
   "outputs": [
    {
     "data": {
      "text/plain": [
       "False"
      ]
     },
     "execution_count": 43,
     "metadata": {},
     "output_type": "execute_result"
    }
   ],
   "source": [
    "test.isnull().any().any()"
   ]
  },
  {
   "cell_type": "code",
   "execution_count": 203,
   "metadata": {},
   "outputs": [
    {
     "name": "stdout",
     "output_type": "stream",
     "text": [
      "2.0896377563476562\n"
     ]
    }
   ],
   "source": [
    "#Normalize integer data\n",
    "t1=time.time()\n",
    "from sklearn.preprocessing import StandardScaler\n",
    "scaler = StandardScaler()\n",
    "scaler = scaler.fit(train[scalcols])\n",
    "train[scalcols] = scaler.transform(train[scalcols])\n",
    "scaler = scaler.fit(test[scalcols])\n",
    "test[scalcols] = scaler.transform(test[scalcols])\n",
    "t2=time.time()\n",
    "print(t2-t1)"
   ]
  },
  {
   "cell_type": "code",
   "execution_count": 44,
   "metadata": {},
   "outputs": [
    {
     "data": {
      "text/html": [
       "<div>\n",
       "<style scoped>\n",
       "    .dataframe tbody tr th:only-of-type {\n",
       "        vertical-align: middle;\n",
       "    }\n",
       "\n",
       "    .dataframe tbody tr th {\n",
       "        vertical-align: top;\n",
       "    }\n",
       "\n",
       "    .dataframe thead th {\n",
       "        text-align: right;\n",
       "    }\n",
       "</style>\n",
       "<table border=\"1\" class=\"dataframe\">\n",
       "  <thead>\n",
       "    <tr style=\"text-align: right;\">\n",
       "      <th></th>\n",
       "      <th>contract_line_net_usd_amount</th>\n",
       "      <th>product_net_price</th>\n",
       "      <th>sales_node_renewal_rate</th>\n",
       "      <th>partner_renewal_rate</th>\n",
       "      <th>product_renewal_rate</th>\n",
       "      <th>service_sales_node_installed_base_sales_node_renewal_rate</th>\n",
       "      <th>service_partner_installed_base_partner_renewal_rate</th>\n",
       "    </tr>\n",
       "  </thead>\n",
       "  <tbody>\n",
       "    <tr>\n",
       "      <th>count</th>\n",
       "      <td>226140.000000</td>\n",
       "      <td>226140.00000</td>\n",
       "      <td>226140.000000</td>\n",
       "      <td>226140.000000</td>\n",
       "      <td>226140.000000</td>\n",
       "      <td>226140.000000</td>\n",
       "      <td>226140.000000</td>\n",
       "    </tr>\n",
       "    <tr>\n",
       "      <th>mean</th>\n",
       "      <td>126.308411</td>\n",
       "      <td>821.63129</td>\n",
       "      <td>60.659308</td>\n",
       "      <td>73.286743</td>\n",
       "      <td>329.891965</td>\n",
       "      <td>61.954086</td>\n",
       "      <td>83.908570</td>\n",
       "    </tr>\n",
       "    <tr>\n",
       "      <th>std</th>\n",
       "      <td>1008.600556</td>\n",
       "      <td>3538.90453</td>\n",
       "      <td>21.425461</td>\n",
       "      <td>420.495930</td>\n",
       "      <td>4234.499374</td>\n",
       "      <td>54.887893</td>\n",
       "      <td>1605.342574</td>\n",
       "    </tr>\n",
       "    <tr>\n",
       "      <th>min</th>\n",
       "      <td>0.000000</td>\n",
       "      <td>0.00000</td>\n",
       "      <td>2.000000</td>\n",
       "      <td>0.000000</td>\n",
       "      <td>0.000000</td>\n",
       "      <td>0.000000</td>\n",
       "      <td>0.000000</td>\n",
       "    </tr>\n",
       "    <tr>\n",
       "      <th>25%</th>\n",
       "      <td>0.000000</td>\n",
       "      <td>0.00000</td>\n",
       "      <td>46.000000</td>\n",
       "      <td>29.000000</td>\n",
       "      <td>3.000000</td>\n",
       "      <td>46.000000</td>\n",
       "      <td>42.000000</td>\n",
       "    </tr>\n",
       "    <tr>\n",
       "      <th>50%</th>\n",
       "      <td>0.000000</td>\n",
       "      <td>0.00000</td>\n",
       "      <td>59.000000</td>\n",
       "      <td>53.000000</td>\n",
       "      <td>15.000000</td>\n",
       "      <td>61.000000</td>\n",
       "      <td>58.000000</td>\n",
       "    </tr>\n",
       "    <tr>\n",
       "      <th>75%</th>\n",
       "      <td>0.000000</td>\n",
       "      <td>261.00000</td>\n",
       "      <td>67.000000</td>\n",
       "      <td>76.000000</td>\n",
       "      <td>54.000000</td>\n",
       "      <td>69.000000</td>\n",
       "      <td>82.000000</td>\n",
       "    </tr>\n",
       "    <tr>\n",
       "      <th>max</th>\n",
       "      <td>78537.000000</td>\n",
       "      <td>236116.00000</td>\n",
       "      <td>943.000000</td>\n",
       "      <td>41766.000000</td>\n",
       "      <td>576200.000000</td>\n",
       "      <td>2621.000000</td>\n",
       "      <td>268324.000000</td>\n",
       "    </tr>\n",
       "  </tbody>\n",
       "</table>\n",
       "</div>"
      ],
      "text/plain": [
       "       contract_line_net_usd_amount  product_net_price  \\\n",
       "count                 226140.000000       226140.00000   \n",
       "mean                     126.308411          821.63129   \n",
       "std                     1008.600556         3538.90453   \n",
       "min                        0.000000            0.00000   \n",
       "25%                        0.000000            0.00000   \n",
       "50%                        0.000000            0.00000   \n",
       "75%                        0.000000          261.00000   \n",
       "max                    78537.000000       236116.00000   \n",
       "\n",
       "       sales_node_renewal_rate  partner_renewal_rate  product_renewal_rate  \\\n",
       "count            226140.000000         226140.000000         226140.000000   \n",
       "mean                 60.659308             73.286743            329.891965   \n",
       "std                  21.425461            420.495930           4234.499374   \n",
       "min                   2.000000              0.000000              0.000000   \n",
       "25%                  46.000000             29.000000              3.000000   \n",
       "50%                  59.000000             53.000000             15.000000   \n",
       "75%                  67.000000             76.000000             54.000000   \n",
       "max                 943.000000          41766.000000         576200.000000   \n",
       "\n",
       "       service_sales_node_installed_base_sales_node_renewal_rate  \\\n",
       "count                                      226140.000000           \n",
       "mean                                           61.954086           \n",
       "std                                            54.887893           \n",
       "min                                             0.000000           \n",
       "25%                                            46.000000           \n",
       "50%                                            61.000000           \n",
       "75%                                            69.000000           \n",
       "max                                          2621.000000           \n",
       "\n",
       "       service_partner_installed_base_partner_renewal_rate  \n",
       "count                                      226140.000000    \n",
       "mean                                           83.908570    \n",
       "std                                          1605.342574    \n",
       "min                                             0.000000    \n",
       "25%                                            42.000000    \n",
       "50%                                            58.000000    \n",
       "75%                                            82.000000    \n",
       "max                                        268324.000000    "
      ]
     },
     "execution_count": 44,
     "metadata": {},
     "output_type": "execute_result"
    }
   ],
   "source": [
    "train[scalcols].describe()"
   ]
  },
  {
   "cell_type": "code",
   "execution_count": 45,
   "metadata": {},
   "outputs": [
    {
     "data": {
      "text/html": [
       "<div>\n",
       "<style scoped>\n",
       "    .dataframe tbody tr th:only-of-type {\n",
       "        vertical-align: middle;\n",
       "    }\n",
       "\n",
       "    .dataframe tbody tr th {\n",
       "        vertical-align: top;\n",
       "    }\n",
       "\n",
       "    .dataframe thead th {\n",
       "        text-align: right;\n",
       "    }\n",
       "</style>\n",
       "<table border=\"1\" class=\"dataframe\">\n",
       "  <thead>\n",
       "    <tr style=\"text-align: right;\">\n",
       "      <th></th>\n",
       "      <th>product_transaction_type</th>\n",
       "      <th>contract_line_reaction_time_code</th>\n",
       "      <th>sales_hierarchy_level</th>\n",
       "      <th>service_sales_node_base_sales_hierarchy_level</th>\n",
       "    </tr>\n",
       "  </thead>\n",
       "  <tbody>\n",
       "    <tr>\n",
       "      <th>count</th>\n",
       "      <td>226140</td>\n",
       "      <td>226140</td>\n",
       "      <td>226140</td>\n",
       "      <td>226140</td>\n",
       "    </tr>\n",
       "    <tr>\n",
       "      <th>unique</th>\n",
       "      <td>3</td>\n",
       "      <td>3</td>\n",
       "      <td>6</td>\n",
       "      <td>6</td>\n",
       "    </tr>\n",
       "    <tr>\n",
       "      <th>top</th>\n",
       "      <td>10002</td>\n",
       "      <td>-1</td>\n",
       "      <td>6</td>\n",
       "      <td>6</td>\n",
       "    </tr>\n",
       "    <tr>\n",
       "      <th>freq</th>\n",
       "      <td>202522</td>\n",
       "      <td>225296</td>\n",
       "      <td>199960</td>\n",
       "      <td>224170</td>\n",
       "    </tr>\n",
       "  </tbody>\n",
       "</table>\n",
       "</div>"
      ],
      "text/plain": [
       "        product_transaction_type  contract_line_reaction_time_code  \\\n",
       "count                     226140                            226140   \n",
       "unique                         3                                 3   \n",
       "top                        10002                                -1   \n",
       "freq                      202522                            225296   \n",
       "\n",
       "        sales_hierarchy_level  service_sales_node_base_sales_hierarchy_level  \n",
       "count                  226140                                         226140  \n",
       "unique                      6                                              6  \n",
       "top                         6                                              6  \n",
       "freq                   199960                                         224170  "
      ]
     },
     "execution_count": 45,
     "metadata": {},
     "output_type": "execute_result"
    }
   ],
   "source": [
    "train[catcols].describe()"
   ]
  },
  {
   "cell_type": "code",
   "execution_count": 46,
   "metadata": {},
   "outputs": [
    {
     "name": "stdout",
     "output_type": "stream",
     "text": [
      "19.108994245529175\n"
     ]
    }
   ],
   "source": [
    "#convert data to one hot encoding to handle categorical values\n",
    "t1=time.time()\n",
    "train_objs_num = len(train)\n",
    "dataset = pd.concat(objs=[train, test], axis=0)\n",
    "dataset = pd.get_dummies(dataset)\n",
    "train = dataset[:train_objs_num]\n",
    "test = dataset[train_objs_num:]\n",
    "t2=time.time()\n",
    "print(t2-t1)"
   ]
  },
  {
   "cell_type": "code",
   "execution_count": 47,
   "metadata": {},
   "outputs": [
    {
     "data": {
      "text/plain": [
       "(226140, 282)"
      ]
     },
     "execution_count": 47,
     "metadata": {},
     "output_type": "execute_result"
    }
   ],
   "source": [
    "train.shape"
   ]
  },
  {
   "cell_type": "code",
   "execution_count": 48,
   "metadata": {},
   "outputs": [
    {
     "data": {
      "text/plain": [
       "(1888195, 282)"
      ]
     },
     "execution_count": 48,
     "metadata": {},
     "output_type": "execute_result"
    }
   ],
   "source": [
    "test.shape"
   ]
  },
  {
   "cell_type": "code",
   "execution_count": 49,
   "metadata": {},
   "outputs": [
    {
     "name": "stdout",
     "output_type": "stream",
     "text": [
      "0.36365652084350586\n"
     ]
    }
   ],
   "source": [
    "#split the data between train and validation set\n",
    "t1=time.time()\n",
    "from sklearn.model_selection import train_test_split\n",
    "X_train, X_valid, y_train, y_valid = train_test_split(train,train_y,test_size=0.33, random_state=42)\n",
    "t2=time.time()\n",
    "print(t2-t1)"
   ]
  },
  {
   "cell_type": "code",
   "execution_count": 52,
   "metadata": {},
   "outputs": [],
   "source": [
    "params = {\n",
    "        'min_child_weight': [1, 5, 10,1,5,10,1,5,10,1],\n",
    "        'gamma': [0.5, 1, 1.5, 2, 5,10,15,20,30,50],\n",
    "        'subsample': [0.6, 0.8, 1.0,0.6,0.8,1,0.6,0.8,1,0.6],\n",
    "        'colsample_bytree': [0.6, 0.8, 1.0,0.6,0.8,1.0,0.6,0.8,1.0,0.6],\n",
    "        'max_depth': [3, 4, 5,7,3,4,5,7]\n",
    "        }"
   ]
  },
  {
   "cell_type": "code",
   "execution_count": 55,
   "metadata": {},
   "outputs": [
    {
     "ename": "KeyboardInterrupt",
     "evalue": "",
     "output_type": "error",
     "traceback": [
      "\u001b[0;31m---------------------------------------------------------------------------\u001b[0m",
      "\u001b[0;31mKeyboardInterrupt\u001b[0m                         Traceback (most recent call last)",
      "\u001b[0;32m<ipython-input-55-88528357d02b>\u001b[0m in \u001b[0;36m<module>\u001b[0;34m()\u001b[0m\n\u001b[1;32m      6\u001b[0m xgb = XGBClassifier(learning_rate=0.02, n_estimators=600, objective='binary:logistic',\n\u001b[1;32m      7\u001b[0m                     silent=True, nthread=1,verbose=1)\n\u001b[0;32m----> 8\u001b[0;31m \u001b[0mxgb1\u001b[0m \u001b[0;34m=\u001b[0m \u001b[0mxgb\u001b[0m\u001b[0;34m.\u001b[0m\u001b[0mfit\u001b[0m\u001b[0;34m(\u001b[0m\u001b[0mX_train\u001b[0m\u001b[0;34m,\u001b[0m \u001b[0my_train\u001b[0m\u001b[0;34m)\u001b[0m\u001b[0;34m\u001b[0m\u001b[0m\n\u001b[0m\u001b[1;32m      9\u001b[0m \u001b[0;31m#xgb2 = model2.fit(X_train.iloc[0:10,], y_train[0:10])\u001b[0m\u001b[0;34m\u001b[0m\u001b[0;34m\u001b[0m\u001b[0m\n\u001b[1;32m     10\u001b[0m \u001b[0mt2\u001b[0m \u001b[0;34m=\u001b[0m \u001b[0mtime\u001b[0m\u001b[0;34m.\u001b[0m\u001b[0mtime\u001b[0m\u001b[0;34m(\u001b[0m\u001b[0;34m)\u001b[0m\u001b[0;34m\u001b[0m\u001b[0m\n",
      "\u001b[0;32m/usr/lib/python3.6/site-packages/xgboost-0.7-py3.6.egg/xgboost/sklearn.py\u001b[0m in \u001b[0;36mfit\u001b[0;34m(self, X, y, sample_weight, eval_set, eval_metric, early_stopping_rounds, verbose, xgb_model)\u001b[0m\n\u001b[1;32m    504\u001b[0m                               \u001b[0mearly_stopping_rounds\u001b[0m\u001b[0;34m=\u001b[0m\u001b[0mearly_stopping_rounds\u001b[0m\u001b[0;34m,\u001b[0m\u001b[0;34m\u001b[0m\u001b[0m\n\u001b[1;32m    505\u001b[0m                               \u001b[0mevals_result\u001b[0m\u001b[0;34m=\u001b[0m\u001b[0mevals_result\u001b[0m\u001b[0;34m,\u001b[0m \u001b[0mobj\u001b[0m\u001b[0;34m=\u001b[0m\u001b[0mobj\u001b[0m\u001b[0;34m,\u001b[0m \u001b[0mfeval\u001b[0m\u001b[0;34m=\u001b[0m\u001b[0mfeval\u001b[0m\u001b[0;34m,\u001b[0m\u001b[0;34m\u001b[0m\u001b[0m\n\u001b[0;32m--> 506\u001b[0;31m                               verbose_eval=verbose, xgb_model=None)\n\u001b[0m\u001b[1;32m    507\u001b[0m \u001b[0;34m\u001b[0m\u001b[0m\n\u001b[1;32m    508\u001b[0m         \u001b[0mself\u001b[0m\u001b[0;34m.\u001b[0m\u001b[0mobjective\u001b[0m \u001b[0;34m=\u001b[0m \u001b[0mxgb_options\u001b[0m\u001b[0;34m[\u001b[0m\u001b[0;34m\"objective\"\u001b[0m\u001b[0;34m]\u001b[0m\u001b[0;34m\u001b[0m\u001b[0m\n",
      "\u001b[0;32m/usr/lib/python3.6/site-packages/xgboost-0.7-py3.6.egg/xgboost/training.py\u001b[0m in \u001b[0;36mtrain\u001b[0;34m(params, dtrain, num_boost_round, evals, obj, feval, maximize, early_stopping_rounds, evals_result, verbose_eval, xgb_model, callbacks, learning_rates)\u001b[0m\n\u001b[1;32m    202\u001b[0m                            \u001b[0mevals\u001b[0m\u001b[0;34m=\u001b[0m\u001b[0mevals\u001b[0m\u001b[0;34m,\u001b[0m\u001b[0;34m\u001b[0m\u001b[0m\n\u001b[1;32m    203\u001b[0m                            \u001b[0mobj\u001b[0m\u001b[0;34m=\u001b[0m\u001b[0mobj\u001b[0m\u001b[0;34m,\u001b[0m \u001b[0mfeval\u001b[0m\u001b[0;34m=\u001b[0m\u001b[0mfeval\u001b[0m\u001b[0;34m,\u001b[0m\u001b[0;34m\u001b[0m\u001b[0m\n\u001b[0;32m--> 204\u001b[0;31m                            xgb_model=xgb_model, callbacks=callbacks)\n\u001b[0m\u001b[1;32m    205\u001b[0m \u001b[0;34m\u001b[0m\u001b[0m\n\u001b[1;32m    206\u001b[0m \u001b[0;34m\u001b[0m\u001b[0m\n",
      "\u001b[0;32m/usr/lib/python3.6/site-packages/xgboost-0.7-py3.6.egg/xgboost/training.py\u001b[0m in \u001b[0;36m_train_internal\u001b[0;34m(params, dtrain, num_boost_round, evals, obj, feval, xgb_model, callbacks)\u001b[0m\n\u001b[1;32m     72\u001b[0m         \u001b[0;31m# Skip the first update if it is a recovery step.\u001b[0m\u001b[0;34m\u001b[0m\u001b[0;34m\u001b[0m\u001b[0m\n\u001b[1;32m     73\u001b[0m         \u001b[0;32mif\u001b[0m \u001b[0mversion\u001b[0m \u001b[0;34m%\u001b[0m \u001b[0;36m2\u001b[0m \u001b[0;34m==\u001b[0m \u001b[0;36m0\u001b[0m\u001b[0;34m:\u001b[0m\u001b[0;34m\u001b[0m\u001b[0m\n\u001b[0;32m---> 74\u001b[0;31m             \u001b[0mbst\u001b[0m\u001b[0;34m.\u001b[0m\u001b[0mupdate\u001b[0m\u001b[0;34m(\u001b[0m\u001b[0mdtrain\u001b[0m\u001b[0;34m,\u001b[0m \u001b[0mi\u001b[0m\u001b[0;34m,\u001b[0m \u001b[0mobj\u001b[0m\u001b[0;34m)\u001b[0m\u001b[0;34m\u001b[0m\u001b[0m\n\u001b[0m\u001b[1;32m     75\u001b[0m             \u001b[0mbst\u001b[0m\u001b[0;34m.\u001b[0m\u001b[0msave_rabit_checkpoint\u001b[0m\u001b[0;34m(\u001b[0m\u001b[0;34m)\u001b[0m\u001b[0;34m\u001b[0m\u001b[0m\n\u001b[1;32m     76\u001b[0m             \u001b[0mversion\u001b[0m \u001b[0;34m+=\u001b[0m \u001b[0;36m1\u001b[0m\u001b[0;34m\u001b[0m\u001b[0m\n",
      "\u001b[0;32m/usr/lib/python3.6/site-packages/xgboost-0.7-py3.6.egg/xgboost/core.py\u001b[0m in \u001b[0;36mupdate\u001b[0;34m(self, dtrain, iteration, fobj)\u001b[0m\n\u001b[1;32m    893\u001b[0m         \u001b[0;32mif\u001b[0m \u001b[0mfobj\u001b[0m \u001b[0;32mis\u001b[0m \u001b[0;32mNone\u001b[0m\u001b[0;34m:\u001b[0m\u001b[0;34m\u001b[0m\u001b[0m\n\u001b[1;32m    894\u001b[0m             _check_call(_LIB.XGBoosterUpdateOneIter(self.handle, ctypes.c_int(iteration),\n\u001b[0;32m--> 895\u001b[0;31m                                                     dtrain.handle))\n\u001b[0m\u001b[1;32m    896\u001b[0m         \u001b[0;32melse\u001b[0m\u001b[0;34m:\u001b[0m\u001b[0;34m\u001b[0m\u001b[0m\n\u001b[1;32m    897\u001b[0m             \u001b[0mpred\u001b[0m \u001b[0;34m=\u001b[0m \u001b[0mself\u001b[0m\u001b[0;34m.\u001b[0m\u001b[0mpredict\u001b[0m\u001b[0;34m(\u001b[0m\u001b[0mdtrain\u001b[0m\u001b[0;34m)\u001b[0m\u001b[0;34m\u001b[0m\u001b[0m\n",
      "\u001b[0;31mKeyboardInterrupt\u001b[0m: "
     ]
    }
   ],
   "source": [
    "#Time for xgboost\n",
    "import xgboost as xgb\n",
    "from xgboost import XGBClassifier\n",
    "import time\n",
    "t1 = time.time()\n",
    "xgb = XGBClassifier(learning_rate=0.02, n_estimators=600, objective='binary:logistic',\n",
    "                    silent=True, nthread=1,verbose=1)\n",
    "xgb1 = xgb.fit(X_train, y_train)\n",
    "#xgb2 = model2.fit(X_train.iloc[0:10,], y_train[0:10])\n",
    "t2 = time.time()\n",
    "t2-t1"
   ]
  },
  {
   "cell_type": "code",
   "execution_count": 56,
   "metadata": {},
   "outputs": [
    {
     "name": "stdout",
     "output_type": "stream",
     "text": [
      "Fitting 5 folds for each of 48 candidates, totalling 240 fits\n",
      "[CV] subsample=1, min_child_weight=1, max_depth=4, gamma=10, colsample_bytree=0.6 \n",
      "[CV] subsample=1, min_child_weight=1, max_depth=4, gamma=10, colsample_bytree=0.6 \n",
      "[CV] subsample=1, min_child_weight=1, max_depth=4, gamma=10, colsample_bytree=0.6 \n",
      "[CV] subsample=1, min_child_weight=1, max_depth=4, gamma=10, colsample_bytree=0.6 \n"
     ]
    },
    {
     "name": "stderr",
     "output_type": "stream",
     "text": [
      "/usr/lib64/python3.6/site-packages/sklearn/metrics/scorer.py:137: DeprecationWarning: Scoring method log_loss was renamed to neg_log_loss in version 0.18 and will be removed in 0.20.\n",
      "  sample_weight=sample_weight)\n",
      "/usr/lib64/python3.6/site-packages/sklearn/metrics/scorer.py:137: DeprecationWarning: Scoring method log_loss was renamed to neg_log_loss in version 0.18 and will be removed in 0.20.\n",
      "  sample_weight=sample_weight)\n",
      "/usr/lib64/python3.6/site-packages/sklearn/metrics/scorer.py:137: DeprecationWarning: Scoring method log_loss was renamed to neg_log_loss in version 0.18 and will be removed in 0.20.\n",
      "  sample_weight=sample_weight)\n",
      "/usr/lib64/python3.6/site-packages/sklearn/metrics/scorer.py:137: DeprecationWarning: Scoring method log_loss was renamed to neg_log_loss in version 0.18 and will be removed in 0.20.\n",
      "  sample_weight=sample_weight)\n",
      "/usr/lib64/python3.6/site-packages/sklearn/metrics/scorer.py:137: DeprecationWarning: Scoring method log_loss was renamed to neg_log_loss in version 0.18 and will be removed in 0.20.\n",
      "  sample_weight=sample_weight)\n",
      "/usr/lib64/python3.6/site-packages/sklearn/metrics/scorer.py:137: DeprecationWarning: Scoring method log_loss was renamed to neg_log_loss in version 0.18 and will be removed in 0.20.\n",
      "  sample_weight=sample_weight)\n",
      "/usr/lib64/python3.6/site-packages/sklearn/metrics/scorer.py:137: DeprecationWarning: Scoring method log_loss was renamed to neg_log_loss in version 0.18 and will be removed in 0.20.\n",
      "  sample_weight=sample_weight)\n",
      "/usr/lib64/python3.6/site-packages/sklearn/metrics/scorer.py:137: DeprecationWarning: Scoring method log_loss was renamed to neg_log_loss in version 0.18 and will be removed in 0.20.\n",
      "  sample_weight=sample_weight)\n"
     ]
    },
    {
     "name": "stdout",
     "output_type": "stream",
     "text": [
      "[CV]  subsample=1, min_child_weight=1, max_depth=4, gamma=10, colsample_bytree=0.6, score=-0.5280014262446319, total= 5.2min\n",
      "[CV]  subsample=1, min_child_weight=1, max_depth=4, gamma=10, colsample_bytree=0.6, score=-0.529808257193672, total= 5.2min\n",
      "[CV] subsample=1, min_child_weight=1, max_depth=4, gamma=10, colsample_bytree=0.6 \n",
      "[CV]  subsample=1, min_child_weight=1, max_depth=4, gamma=10, colsample_bytree=0.6, score=-0.529697926467303, total= 5.2min\n",
      "[CV] subsample=0.8, min_child_weight=1, max_depth=5, gamma=30, colsample_bytree=0.6 \n",
      "[CV] subsample=0.8, min_child_weight=1, max_depth=5, gamma=30, colsample_bytree=0.6 \n",
      "[CV]  subsample=1, min_child_weight=1, max_depth=4, gamma=10, colsample_bytree=0.6, score=-0.5295065299892232, total= 5.2min\n",
      "[CV] subsample=0.8, min_child_weight=1, max_depth=5, gamma=30, colsample_bytree=0.6 \n"
     ]
    },
    {
     "name": "stderr",
     "output_type": "stream",
     "text": [
      "/usr/lib64/python3.6/site-packages/sklearn/metrics/scorer.py:137: DeprecationWarning: Scoring method log_loss was renamed to neg_log_loss in version 0.18 and will be removed in 0.20.\n",
      "  sample_weight=sample_weight)\n",
      "/usr/lib64/python3.6/site-packages/sklearn/metrics/scorer.py:137: DeprecationWarning: Scoring method log_loss was renamed to neg_log_loss in version 0.18 and will be removed in 0.20.\n",
      "  sample_weight=sample_weight)\n"
     ]
    },
    {
     "name": "stdout",
     "output_type": "stream",
     "text": [
      "[CV]  subsample=1, min_child_weight=1, max_depth=4, gamma=10, colsample_bytree=0.6, score=-0.5303798392113847, total= 5.2min\n",
      "[CV] subsample=0.8, min_child_weight=1, max_depth=5, gamma=30, colsample_bytree=0.6 \n"
     ]
    },
    {
     "name": "stderr",
     "output_type": "stream",
     "text": [
      "/usr/lib64/python3.6/site-packages/sklearn/metrics/scorer.py:137: DeprecationWarning: Scoring method log_loss was renamed to neg_log_loss in version 0.18 and will be removed in 0.20.\n",
      "  sample_weight=sample_weight)\n",
      "/usr/lib64/python3.6/site-packages/sklearn/metrics/scorer.py:137: DeprecationWarning: Scoring method log_loss was renamed to neg_log_loss in version 0.18 and will be removed in 0.20.\n",
      "  sample_weight=sample_weight)\n",
      "/usr/lib64/python3.6/site-packages/sklearn/metrics/scorer.py:137: DeprecationWarning: Scoring method log_loss was renamed to neg_log_loss in version 0.18 and will be removed in 0.20.\n",
      "  sample_weight=sample_weight)\n",
      "/usr/lib64/python3.6/site-packages/sklearn/metrics/scorer.py:137: DeprecationWarning: Scoring method log_loss was renamed to neg_log_loss in version 0.18 and will be removed in 0.20.\n",
      "  sample_weight=sample_weight)\n",
      "/usr/lib64/python3.6/site-packages/sklearn/metrics/scorer.py:137: DeprecationWarning: Scoring method log_loss was renamed to neg_log_loss in version 0.18 and will be removed in 0.20.\n",
      "  sample_weight=sample_weight)\n",
      "/usr/lib64/python3.6/site-packages/sklearn/metrics/scorer.py:137: DeprecationWarning: Scoring method log_loss was renamed to neg_log_loss in version 0.18 and will be removed in 0.20.\n",
      "  sample_weight=sample_weight)\n"
     ]
    },
    {
     "name": "stdout",
     "output_type": "stream",
     "text": [
      "[CV]  subsample=0.8, min_child_weight=1, max_depth=5, gamma=30, colsample_bytree=0.6, score=-0.520705930097691, total= 7.3min\n",
      "[CV] subsample=0.8, min_child_weight=1, max_depth=5, gamma=30, colsample_bytree=0.6 \n",
      "[CV]  subsample=0.8, min_child_weight=1, max_depth=5, gamma=30, colsample_bytree=0.6, score=-0.5206573965137402, total= 7.3min\n",
      "[CV] subsample=1, min_child_weight=1, max_depth=5, gamma=1, colsample_bytree=1.0 \n",
      "[CV]  subsample=0.8, min_child_weight=1, max_depth=5, gamma=30, colsample_bytree=0.6, score=-0.5191421167049644, total= 7.3min\n",
      "[CV] subsample=1, min_child_weight=1, max_depth=5, gamma=1, colsample_bytree=1.0 \n"
     ]
    },
    {
     "name": "stderr",
     "output_type": "stream",
     "text": [
      "/usr/lib64/python3.6/site-packages/sklearn/metrics/scorer.py:137: DeprecationWarning: Scoring method log_loss was renamed to neg_log_loss in version 0.18 and will be removed in 0.20.\n",
      "  sample_weight=sample_weight)\n",
      "/usr/lib64/python3.6/site-packages/sklearn/metrics/scorer.py:137: DeprecationWarning: Scoring method log_loss was renamed to neg_log_loss in version 0.18 and will be removed in 0.20.\n",
      "  sample_weight=sample_weight)\n"
     ]
    },
    {
     "name": "stdout",
     "output_type": "stream",
     "text": [
      "[CV]  subsample=0.8, min_child_weight=1, max_depth=5, gamma=30, colsample_bytree=0.6, score=-0.5199000150732178, total= 7.3min\n",
      "[CV] subsample=1, min_child_weight=1, max_depth=5, gamma=1, colsample_bytree=1.0 \n"
     ]
    },
    {
     "name": "stderr",
     "output_type": "stream",
     "text": [
      "/usr/lib64/python3.6/site-packages/sklearn/metrics/scorer.py:137: DeprecationWarning: Scoring method log_loss was renamed to neg_log_loss in version 0.18 and will be removed in 0.20.\n",
      "  sample_weight=sample_weight)\n",
      "/usr/lib64/python3.6/site-packages/sklearn/metrics/scorer.py:137: DeprecationWarning: Scoring method log_loss was renamed to neg_log_loss in version 0.18 and will be removed in 0.20.\n",
      "  sample_weight=sample_weight)\n"
     ]
    },
    {
     "name": "stdout",
     "output_type": "stream",
     "text": [
      "[CV]  subsample=0.8, min_child_weight=1, max_depth=5, gamma=30, colsample_bytree=0.6, score=-0.5210490746799917, total= 7.3min\n",
      "[CV] subsample=1, min_child_weight=1, max_depth=5, gamma=1, colsample_bytree=1.0 \n"
     ]
    },
    {
     "name": "stderr",
     "output_type": "stream",
     "text": [
      "/usr/lib64/python3.6/site-packages/sklearn/metrics/scorer.py:137: DeprecationWarning: Scoring method log_loss was renamed to neg_log_loss in version 0.18 and will be removed in 0.20.\n",
      "  sample_weight=sample_weight)\n",
      "/usr/lib64/python3.6/site-packages/sklearn/metrics/scorer.py:137: DeprecationWarning: Scoring method log_loss was renamed to neg_log_loss in version 0.18 and will be removed in 0.20.\n",
      "  sample_weight=sample_weight)\n",
      "/usr/lib64/python3.6/site-packages/sklearn/metrics/scorer.py:137: DeprecationWarning: Scoring method log_loss was renamed to neg_log_loss in version 0.18 and will be removed in 0.20.\n",
      "  sample_weight=sample_weight)\n",
      "/usr/lib64/python3.6/site-packages/sklearn/metrics/scorer.py:137: DeprecationWarning: Scoring method log_loss was renamed to neg_log_loss in version 0.18 and will be removed in 0.20.\n",
      "  sample_weight=sample_weight)\n"
     ]
    },
    {
     "name": "stdout",
     "output_type": "stream",
     "text": [
      "[CV]  subsample=1, min_child_weight=1, max_depth=5, gamma=1, colsample_bytree=1.0, score=-0.5078590779986295, total=10.1min\n",
      "[CV] subsample=1, min_child_weight=1, max_depth=5, gamma=1, colsample_bytree=1.0 \n",
      "[CV]  subsample=1, min_child_weight=1, max_depth=5, gamma=1, colsample_bytree=1.0, score=-0.508533687208278, total=10.1min\n",
      "[CV] subsample=0.6, min_child_weight=10, max_depth=4, gamma=2, colsample_bytree=1.0 \n"
     ]
    },
    {
     "name": "stderr",
     "output_type": "stream",
     "text": [
      "/usr/lib64/python3.6/site-packages/sklearn/metrics/scorer.py:137: DeprecationWarning: Scoring method log_loss was renamed to neg_log_loss in version 0.18 and will be removed in 0.20.\n",
      "  sample_weight=sample_weight)\n",
      "/usr/lib64/python3.6/site-packages/sklearn/metrics/scorer.py:137: DeprecationWarning: Scoring method log_loss was renamed to neg_log_loss in version 0.18 and will be removed in 0.20.\n",
      "  sample_weight=sample_weight)\n"
     ]
    },
    {
     "name": "stdout",
     "output_type": "stream",
     "text": [
      "[CV]  subsample=1, min_child_weight=1, max_depth=5, gamma=1, colsample_bytree=1.0, score=-0.5074002856017241, total=10.1min\n",
      "[CV] subsample=0.6, min_child_weight=10, max_depth=4, gamma=2, colsample_bytree=1.0 \n"
     ]
    },
    {
     "name": "stderr",
     "output_type": "stream",
     "text": [
      "/usr/lib64/python3.6/site-packages/sklearn/metrics/scorer.py:137: DeprecationWarning: Scoring method log_loss was renamed to neg_log_loss in version 0.18 and will be removed in 0.20.\n",
      "  sample_weight=sample_weight)\n",
      "/usr/lib64/python3.6/site-packages/sklearn/metrics/scorer.py:137: DeprecationWarning: Scoring method log_loss was renamed to neg_log_loss in version 0.18 and will be removed in 0.20.\n",
      "  sample_weight=sample_weight)\n"
     ]
    },
    {
     "name": "stdout",
     "output_type": "stream",
     "text": [
      "[CV]  subsample=1, min_child_weight=1, max_depth=5, gamma=1, colsample_bytree=1.0, score=-0.5097490898190267, total=10.1min\n",
      "[CV] subsample=0.6, min_child_weight=10, max_depth=4, gamma=2, colsample_bytree=1.0 \n"
     ]
    },
    {
     "name": "stderr",
     "output_type": "stream",
     "text": [
      "/usr/lib64/python3.6/site-packages/sklearn/metrics/scorer.py:137: DeprecationWarning: Scoring method log_loss was renamed to neg_log_loss in version 0.18 and will be removed in 0.20.\n",
      "  sample_weight=sample_weight)\n",
      "/usr/lib64/python3.6/site-packages/sklearn/metrics/scorer.py:137: DeprecationWarning: Scoring method log_loss was renamed to neg_log_loss in version 0.18 and will be removed in 0.20.\n",
      "  sample_weight=sample_weight)\n"
     ]
    },
    {
     "name": "stdout",
     "output_type": "stream",
     "text": [
      "[CV]  subsample=1, min_child_weight=1, max_depth=5, gamma=1, colsample_bytree=1.0, score=-0.5094064921304794, total=10.0min\n",
      "[CV] subsample=0.6, min_child_weight=10, max_depth=4, gamma=2, colsample_bytree=1.0 \n"
     ]
    },
    {
     "name": "stderr",
     "output_type": "stream",
     "text": [
      "/usr/lib64/python3.6/site-packages/sklearn/metrics/scorer.py:137: DeprecationWarning: Scoring method log_loss was renamed to neg_log_loss in version 0.18 and will be removed in 0.20.\n",
      "  sample_weight=sample_weight)\n",
      "/usr/lib64/python3.6/site-packages/sklearn/metrics/scorer.py:137: DeprecationWarning: Scoring method log_loss was renamed to neg_log_loss in version 0.18 and will be removed in 0.20.\n",
      "  sample_weight=sample_weight)\n"
     ]
    },
    {
     "name": "stdout",
     "output_type": "stream",
     "text": [
      "[CV]  subsample=0.6, min_child_weight=10, max_depth=4, gamma=2, colsample_bytree=1.0, score=-0.5265621141088408, total=10.9min\n",
      "[CV] subsample=0.6, min_child_weight=10, max_depth=4, gamma=2, colsample_bytree=1.0 \n"
     ]
    },
    {
     "name": "stderr",
     "output_type": "stream",
     "text": [
      "/usr/lib64/python3.6/site-packages/sklearn/metrics/scorer.py:137: DeprecationWarning: Scoring method log_loss was renamed to neg_log_loss in version 0.18 and will be removed in 0.20.\n",
      "  sample_weight=sample_weight)\n",
      "/usr/lib64/python3.6/site-packages/sklearn/metrics/scorer.py:137: DeprecationWarning: Scoring method log_loss was renamed to neg_log_loss in version 0.18 and will be removed in 0.20.\n",
      "  sample_weight=sample_weight)\n"
     ]
    },
    {
     "name": "stdout",
     "output_type": "stream",
     "text": [
      "[CV]  subsample=0.6, min_child_weight=10, max_depth=4, gamma=2, colsample_bytree=1.0, score=-0.5258623597017315, total=11.0min\n",
      "[CV] subsample=0.6, min_child_weight=10, max_depth=4, gamma=20, colsample_bytree=0.6 \n"
     ]
    },
    {
     "name": "stderr",
     "output_type": "stream",
     "text": [
      "/usr/lib64/python3.6/site-packages/sklearn/metrics/scorer.py:137: DeprecationWarning: Scoring method log_loss was renamed to neg_log_loss in version 0.18 and will be removed in 0.20.\n",
      "  sample_weight=sample_weight)\n",
      "/usr/lib64/python3.6/site-packages/sklearn/metrics/scorer.py:137: DeprecationWarning: Scoring method log_loss was renamed to neg_log_loss in version 0.18 and will be removed in 0.20.\n",
      "  sample_weight=sample_weight)\n"
     ]
    },
    {
     "name": "stdout",
     "output_type": "stream",
     "text": [
      "[CV]  subsample=0.6, min_child_weight=10, max_depth=4, gamma=2, colsample_bytree=1.0, score=-0.5248675709978482, total=10.9min\n",
      "[CV] subsample=0.6, min_child_weight=10, max_depth=4, gamma=20, colsample_bytree=0.6 \n"
     ]
    },
    {
     "name": "stderr",
     "output_type": "stream",
     "text": [
      "/usr/lib64/python3.6/site-packages/sklearn/metrics/scorer.py:137: DeprecationWarning: Scoring method log_loss was renamed to neg_log_loss in version 0.18 and will be removed in 0.20.\n",
      "  sample_weight=sample_weight)\n",
      "/usr/lib64/python3.6/site-packages/sklearn/metrics/scorer.py:137: DeprecationWarning: Scoring method log_loss was renamed to neg_log_loss in version 0.18 and will be removed in 0.20.\n",
      "  sample_weight=sample_weight)\n"
     ]
    },
    {
     "name": "stdout",
     "output_type": "stream",
     "text": [
      "[CV]  subsample=0.6, min_child_weight=10, max_depth=4, gamma=2, colsample_bytree=1.0, score=-0.5255901191933628, total=10.9min\n",
      "[CV] subsample=0.6, min_child_weight=10, max_depth=4, gamma=20, colsample_bytree=0.6 \n"
     ]
    },
    {
     "name": "stderr",
     "output_type": "stream",
     "text": [
      "/usr/lib64/python3.6/site-packages/sklearn/metrics/scorer.py:137: DeprecationWarning: Scoring method log_loss was renamed to neg_log_loss in version 0.18 and will be removed in 0.20.\n",
      "  sample_weight=sample_weight)\n",
      "/usr/lib64/python3.6/site-packages/sklearn/metrics/scorer.py:137: DeprecationWarning: Scoring method log_loss was renamed to neg_log_loss in version 0.18 and will be removed in 0.20.\n",
      "  sample_weight=sample_weight)\n"
     ]
    },
    {
     "name": "stdout",
     "output_type": "stream",
     "text": [
      "[CV]  subsample=0.6, min_child_weight=10, max_depth=4, gamma=2, colsample_bytree=1.0, score=-0.5269884783417478, total=10.9min\n",
      "[CV] subsample=0.6, min_child_weight=10, max_depth=4, gamma=20, colsample_bytree=0.6 \n"
     ]
    },
    {
     "name": "stderr",
     "output_type": "stream",
     "text": [
      "/usr/lib64/python3.6/site-packages/sklearn/metrics/scorer.py:137: DeprecationWarning: Scoring method log_loss was renamed to neg_log_loss in version 0.18 and will be removed in 0.20.\n",
      "  sample_weight=sample_weight)\n",
      "/usr/lib64/python3.6/site-packages/sklearn/metrics/scorer.py:137: DeprecationWarning: Scoring method log_loss was renamed to neg_log_loss in version 0.18 and will be removed in 0.20.\n",
      "  sample_weight=sample_weight)\n"
     ]
    },
    {
     "name": "stdout",
     "output_type": "stream",
     "text": [
      "[CV]  subsample=0.6, min_child_weight=10, max_depth=4, gamma=20, colsample_bytree=0.6, score=-0.5324204689880102, total= 6.9min\n",
      "[CV] subsample=0.6, min_child_weight=10, max_depth=4, gamma=20, colsample_bytree=0.6 \n"
     ]
    },
    {
     "name": "stderr",
     "output_type": "stream",
     "text": [
      "/usr/lib64/python3.6/site-packages/sklearn/metrics/scorer.py:137: DeprecationWarning: Scoring method log_loss was renamed to neg_log_loss in version 0.18 and will be removed in 0.20.\n",
      "  sample_weight=sample_weight)\n",
      "/usr/lib64/python3.6/site-packages/sklearn/metrics/scorer.py:137: DeprecationWarning: Scoring method log_loss was renamed to neg_log_loss in version 0.18 and will be removed in 0.20.\n",
      "  sample_weight=sample_weight)\n"
     ]
    },
    {
     "name": "stdout",
     "output_type": "stream",
     "text": [
      "[CV]  subsample=0.6, min_child_weight=10, max_depth=4, gamma=20, colsample_bytree=0.6, score=-0.5321980130917144, total= 6.9min\n",
      "[CV] subsample=0.6, min_child_weight=5, max_depth=3, gamma=2, colsample_bytree=0.6 \n"
     ]
    },
    {
     "name": "stderr",
     "output_type": "stream",
     "text": [
      "/usr/lib64/python3.6/site-packages/sklearn/metrics/scorer.py:137: DeprecationWarning: Scoring method log_loss was renamed to neg_log_loss in version 0.18 and will be removed in 0.20.\n",
      "  sample_weight=sample_weight)\n",
      "/usr/lib64/python3.6/site-packages/sklearn/metrics/scorer.py:137: DeprecationWarning: Scoring method log_loss was renamed to neg_log_loss in version 0.18 and will be removed in 0.20.\n",
      "  sample_weight=sample_weight)\n"
     ]
    },
    {
     "name": "stdout",
     "output_type": "stream",
     "text": [
      "[CV]  subsample=0.6, min_child_weight=10, max_depth=4, gamma=20, colsample_bytree=0.6, score=-0.5307773834285753, total= 6.9min\n",
      "[CV] subsample=0.6, min_child_weight=5, max_depth=3, gamma=2, colsample_bytree=0.6 \n"
     ]
    },
    {
     "name": "stderr",
     "output_type": "stream",
     "text": [
      "/usr/lib64/python3.6/site-packages/sklearn/metrics/scorer.py:137: DeprecationWarning: Scoring method log_loss was renamed to neg_log_loss in version 0.18 and will be removed in 0.20.\n",
      "  sample_weight=sample_weight)\n",
      "/usr/lib64/python3.6/site-packages/sklearn/metrics/scorer.py:137: DeprecationWarning: Scoring method log_loss was renamed to neg_log_loss in version 0.18 and will be removed in 0.20.\n",
      "  sample_weight=sample_weight)\n"
     ]
    },
    {
     "name": "stdout",
     "output_type": "stream",
     "text": [
      "[CV]  subsample=0.6, min_child_weight=10, max_depth=4, gamma=20, colsample_bytree=0.6, score=-0.5315226760957397, total= 6.9min\n",
      "[CV] subsample=0.6, min_child_weight=5, max_depth=3, gamma=2, colsample_bytree=0.6 \n"
     ]
    },
    {
     "name": "stderr",
     "output_type": "stream",
     "text": [
      "[Parallel(n_jobs=4)]: Done  24 tasks      | elapsed: 51.8min\n",
      "/usr/lib64/python3.6/site-packages/sklearn/metrics/scorer.py:137: DeprecationWarning: Scoring method log_loss was renamed to neg_log_loss in version 0.18 and will be removed in 0.20.\n",
      "  sample_weight=sample_weight)\n",
      "/usr/lib64/python3.6/site-packages/sklearn/metrics/scorer.py:137: DeprecationWarning: Scoring method log_loss was renamed to neg_log_loss in version 0.18 and will be removed in 0.20.\n",
      "  sample_weight=sample_weight)\n"
     ]
    },
    {
     "name": "stdout",
     "output_type": "stream",
     "text": [
      "[CV]  subsample=0.6, min_child_weight=10, max_depth=4, gamma=20, colsample_bytree=0.6, score=-0.5325372080803562, total= 6.9min\n",
      "[CV] subsample=0.6, min_child_weight=5, max_depth=3, gamma=2, colsample_bytree=0.6 \n"
     ]
    },
    {
     "name": "stderr",
     "output_type": "stream",
     "text": [
      "/usr/lib64/python3.6/site-packages/sklearn/metrics/scorer.py:137: DeprecationWarning: Scoring method log_loss was renamed to neg_log_loss in version 0.18 and will be removed in 0.20.\n",
      "  sample_weight=sample_weight)\n",
      "/usr/lib64/python3.6/site-packages/sklearn/metrics/scorer.py:137: DeprecationWarning: Scoring method log_loss was renamed to neg_log_loss in version 0.18 and will be removed in 0.20.\n",
      "  sample_weight=sample_weight)\n"
     ]
    },
    {
     "name": "stdout",
     "output_type": "stream",
     "text": [
      "[CV]  subsample=0.6, min_child_weight=5, max_depth=3, gamma=2, colsample_bytree=0.6, score=-0.5462865148410749, total= 5.3min\n",
      "[CV] subsample=0.6, min_child_weight=5, max_depth=3, gamma=2, colsample_bytree=0.6 \n"
     ]
    },
    {
     "name": "stderr",
     "output_type": "stream",
     "text": [
      "/usr/lib64/python3.6/site-packages/sklearn/metrics/scorer.py:137: DeprecationWarning: Scoring method log_loss was renamed to neg_log_loss in version 0.18 and will be removed in 0.20.\n",
      "  sample_weight=sample_weight)\n",
      "/usr/lib64/python3.6/site-packages/sklearn/metrics/scorer.py:137: DeprecationWarning: Scoring method log_loss was renamed to neg_log_loss in version 0.18 and will be removed in 0.20.\n",
      "  sample_weight=sample_weight)\n"
     ]
    },
    {
     "name": "stdout",
     "output_type": "stream",
     "text": [
      "[CV]  subsample=0.6, min_child_weight=5, max_depth=3, gamma=2, colsample_bytree=0.6, score=-0.5463551936382671, total= 5.3min\n",
      "[CV] subsample=0.6, min_child_weight=5, max_depth=3, gamma=1.5, colsample_bytree=0.6 \n"
     ]
    },
    {
     "name": "stderr",
     "output_type": "stream",
     "text": [
      "/usr/lib64/python3.6/site-packages/sklearn/metrics/scorer.py:137: DeprecationWarning: Scoring method log_loss was renamed to neg_log_loss in version 0.18 and will be removed in 0.20.\n",
      "  sample_weight=sample_weight)\n",
      "/usr/lib64/python3.6/site-packages/sklearn/metrics/scorer.py:137: DeprecationWarning: Scoring method log_loss was renamed to neg_log_loss in version 0.18 and will be removed in 0.20.\n",
      "  sample_weight=sample_weight)\n"
     ]
    },
    {
     "name": "stdout",
     "output_type": "stream",
     "text": [
      "[CV]  subsample=0.6, min_child_weight=5, max_depth=3, gamma=2, colsample_bytree=0.6, score=-0.5451129080169389, total= 5.3min\n",
      "[CV] subsample=0.6, min_child_weight=5, max_depth=3, gamma=1.5, colsample_bytree=0.6 \n"
     ]
    },
    {
     "name": "stderr",
     "output_type": "stream",
     "text": [
      "/usr/lib64/python3.6/site-packages/sklearn/metrics/scorer.py:137: DeprecationWarning: Scoring method log_loss was renamed to neg_log_loss in version 0.18 and will be removed in 0.20.\n",
      "  sample_weight=sample_weight)\n",
      "/usr/lib64/python3.6/site-packages/sklearn/metrics/scorer.py:137: DeprecationWarning: Scoring method log_loss was renamed to neg_log_loss in version 0.18 and will be removed in 0.20.\n",
      "  sample_weight=sample_weight)\n"
     ]
    },
    {
     "name": "stdout",
     "output_type": "stream",
     "text": [
      "[CV]  subsample=0.6, min_child_weight=5, max_depth=3, gamma=2, colsample_bytree=0.6, score=-0.5454748510522912, total= 5.3min\n",
      "[CV] subsample=0.6, min_child_weight=5, max_depth=3, gamma=1.5, colsample_bytree=0.6 \n"
     ]
    },
    {
     "name": "stderr",
     "output_type": "stream",
     "text": [
      "/usr/lib64/python3.6/site-packages/sklearn/metrics/scorer.py:137: DeprecationWarning: Scoring method log_loss was renamed to neg_log_loss in version 0.18 and will be removed in 0.20.\n",
      "  sample_weight=sample_weight)\n",
      "/usr/lib64/python3.6/site-packages/sklearn/metrics/scorer.py:137: DeprecationWarning: Scoring method log_loss was renamed to neg_log_loss in version 0.18 and will be removed in 0.20.\n",
      "  sample_weight=sample_weight)\n"
     ]
    },
    {
     "name": "stdout",
     "output_type": "stream",
     "text": [
      "[CV]  subsample=0.6, min_child_weight=5, max_depth=3, gamma=2, colsample_bytree=0.6, score=-0.5463108102141342, total= 5.3min\n",
      "[CV] subsample=0.6, min_child_weight=5, max_depth=3, gamma=1.5, colsample_bytree=0.6 \n"
     ]
    },
    {
     "name": "stderr",
     "output_type": "stream",
     "text": [
      "/usr/lib64/python3.6/site-packages/sklearn/metrics/scorer.py:137: DeprecationWarning: Scoring method log_loss was renamed to neg_log_loss in version 0.18 and will be removed in 0.20.\n",
      "  sample_weight=sample_weight)\n",
      "/usr/lib64/python3.6/site-packages/sklearn/metrics/scorer.py:137: DeprecationWarning: Scoring method log_loss was renamed to neg_log_loss in version 0.18 and will be removed in 0.20.\n",
      "  sample_weight=sample_weight)\n"
     ]
    },
    {
     "name": "stdout",
     "output_type": "stream",
     "text": [
      "[CV]  subsample=0.6, min_child_weight=5, max_depth=3, gamma=1.5, colsample_bytree=0.6, score=-0.5466004546659302, total= 5.3min\n",
      "[CV] subsample=0.6, min_child_weight=5, max_depth=3, gamma=1.5, colsample_bytree=0.6 \n"
     ]
    },
    {
     "name": "stderr",
     "output_type": "stream",
     "text": [
      "/usr/lib64/python3.6/site-packages/sklearn/metrics/scorer.py:137: DeprecationWarning: Scoring method log_loss was renamed to neg_log_loss in version 0.18 and will be removed in 0.20.\n",
      "  sample_weight=sample_weight)\n",
      "/usr/lib64/python3.6/site-packages/sklearn/metrics/scorer.py:137: DeprecationWarning: Scoring method log_loss was renamed to neg_log_loss in version 0.18 and will be removed in 0.20.\n",
      "  sample_weight=sample_weight)\n"
     ]
    },
    {
     "name": "stdout",
     "output_type": "stream",
     "text": [
      "[CV]  subsample=0.6, min_child_weight=5, max_depth=3, gamma=1.5, colsample_bytree=0.6, score=-0.5462767437854738, total= 5.3min\n",
      "[CV] subsample=0.6, min_child_weight=5, max_depth=5, gamma=2, colsample_bytree=0.6 \n"
     ]
    },
    {
     "name": "stderr",
     "output_type": "stream",
     "text": [
      "/usr/lib64/python3.6/site-packages/sklearn/metrics/scorer.py:137: DeprecationWarning: Scoring method log_loss was renamed to neg_log_loss in version 0.18 and will be removed in 0.20.\n",
      "  sample_weight=sample_weight)\n",
      "/usr/lib64/python3.6/site-packages/sklearn/metrics/scorer.py:137: DeprecationWarning: Scoring method log_loss was renamed to neg_log_loss in version 0.18 and will be removed in 0.20.\n",
      "  sample_weight=sample_weight)\n"
     ]
    },
    {
     "name": "stdout",
     "output_type": "stream",
     "text": [
      "[CV]  subsample=0.6, min_child_weight=5, max_depth=3, gamma=1.5, colsample_bytree=0.6, score=-0.544982149110778, total= 5.3min\n",
      "[CV] subsample=0.6, min_child_weight=5, max_depth=5, gamma=2, colsample_bytree=0.6 \n"
     ]
    },
    {
     "name": "stderr",
     "output_type": "stream",
     "text": [
      "/usr/lib64/python3.6/site-packages/sklearn/metrics/scorer.py:137: DeprecationWarning: Scoring method log_loss was renamed to neg_log_loss in version 0.18 and will be removed in 0.20.\n",
      "  sample_weight=sample_weight)\n",
      "/usr/lib64/python3.6/site-packages/sklearn/metrics/scorer.py:137: DeprecationWarning: Scoring method log_loss was renamed to neg_log_loss in version 0.18 and will be removed in 0.20.\n",
      "  sample_weight=sample_weight)\n"
     ]
    },
    {
     "name": "stdout",
     "output_type": "stream",
     "text": [
      "[CV]  subsample=0.6, min_child_weight=5, max_depth=3, gamma=1.5, colsample_bytree=0.6, score=-0.5458561810102696, total= 5.3min\n",
      "[CV] subsample=0.6, min_child_weight=5, max_depth=5, gamma=2, colsample_bytree=0.6 \n"
     ]
    },
    {
     "name": "stderr",
     "output_type": "stream",
     "text": [
      "/usr/lib64/python3.6/site-packages/sklearn/metrics/scorer.py:137: DeprecationWarning: Scoring method log_loss was renamed to neg_log_loss in version 0.18 and will be removed in 0.20.\n",
      "  sample_weight=sample_weight)\n",
      "/usr/lib64/python3.6/site-packages/sklearn/metrics/scorer.py:137: DeprecationWarning: Scoring method log_loss was renamed to neg_log_loss in version 0.18 and will be removed in 0.20.\n",
      "  sample_weight=sample_weight)\n"
     ]
    },
    {
     "name": "stdout",
     "output_type": "stream",
     "text": [
      "[CV]  subsample=0.6, min_child_weight=5, max_depth=3, gamma=1.5, colsample_bytree=0.6, score=-0.5463076272737066, total= 5.3min\n",
      "[CV] subsample=0.6, min_child_weight=5, max_depth=5, gamma=2, colsample_bytree=0.6 \n"
     ]
    },
    {
     "name": "stderr",
     "output_type": "stream",
     "text": [
      "/usr/lib64/python3.6/site-packages/sklearn/metrics/scorer.py:137: DeprecationWarning: Scoring method log_loss was renamed to neg_log_loss in version 0.18 and will be removed in 0.20.\n",
      "  sample_weight=sample_weight)\n",
      "/usr/lib64/python3.6/site-packages/sklearn/metrics/scorer.py:137: DeprecationWarning: Scoring method log_loss was renamed to neg_log_loss in version 0.18 and will be removed in 0.20.\n",
      "  sample_weight=sample_weight)\n"
     ]
    },
    {
     "name": "stdout",
     "output_type": "stream",
     "text": [
      "[CV]  subsample=0.6, min_child_weight=5, max_depth=5, gamma=2, colsample_bytree=0.6, score=-0.5072409025624022, total= 8.5min\n",
      "[CV] subsample=0.6, min_child_weight=5, max_depth=5, gamma=2, colsample_bytree=0.6 \n"
     ]
    },
    {
     "name": "stderr",
     "output_type": "stream",
     "text": [
      "/usr/lib64/python3.6/site-packages/sklearn/metrics/scorer.py:137: DeprecationWarning: Scoring method log_loss was renamed to neg_log_loss in version 0.18 and will be removed in 0.20.\n",
      "  sample_weight=sample_weight)\n",
      "/usr/lib64/python3.6/site-packages/sklearn/metrics/scorer.py:137: DeprecationWarning: Scoring method log_loss was renamed to neg_log_loss in version 0.18 and will be removed in 0.20.\n",
      "  sample_weight=sample_weight)\n"
     ]
    },
    {
     "name": "stdout",
     "output_type": "stream",
     "text": [
      "[CV]  subsample=0.6, min_child_weight=5, max_depth=5, gamma=2, colsample_bytree=0.6, score=-0.5084627168411343, total= 8.5min\n",
      "[CV] subsample=1, min_child_weight=10, max_depth=5, gamma=1, colsample_bytree=0.6 \n"
     ]
    },
    {
     "name": "stderr",
     "output_type": "stream",
     "text": [
      "/usr/lib64/python3.6/site-packages/sklearn/metrics/scorer.py:137: DeprecationWarning: Scoring method log_loss was renamed to neg_log_loss in version 0.18 and will be removed in 0.20.\n",
      "  sample_weight=sample_weight)\n",
      "/usr/lib64/python3.6/site-packages/sklearn/metrics/scorer.py:137: DeprecationWarning: Scoring method log_loss was renamed to neg_log_loss in version 0.18 and will be removed in 0.20.\n",
      "  sample_weight=sample_weight)\n"
     ]
    },
    {
     "name": "stdout",
     "output_type": "stream",
     "text": [
      "[CV]  subsample=0.6, min_child_weight=5, max_depth=5, gamma=2, colsample_bytree=0.6, score=-0.5069286686754332, total= 8.5min\n",
      "[CV] subsample=1, min_child_weight=10, max_depth=5, gamma=1, colsample_bytree=0.6 \n"
     ]
    },
    {
     "name": "stderr",
     "output_type": "stream",
     "text": [
      "/usr/lib64/python3.6/site-packages/sklearn/metrics/scorer.py:137: DeprecationWarning: Scoring method log_loss was renamed to neg_log_loss in version 0.18 and will be removed in 0.20.\n",
      "  sample_weight=sample_weight)\n",
      "/usr/lib64/python3.6/site-packages/sklearn/metrics/scorer.py:137: DeprecationWarning: Scoring method log_loss was renamed to neg_log_loss in version 0.18 and will be removed in 0.20.\n",
      "  sample_weight=sample_weight)\n"
     ]
    },
    {
     "name": "stdout",
     "output_type": "stream",
     "text": [
      "[CV]  subsample=0.6, min_child_weight=5, max_depth=5, gamma=2, colsample_bytree=0.6, score=-0.506971307350183, total= 8.5min\n",
      "[CV] subsample=1, min_child_weight=10, max_depth=5, gamma=1, colsample_bytree=0.6 \n"
     ]
    },
    {
     "name": "stderr",
     "output_type": "stream",
     "text": [
      "/usr/lib64/python3.6/site-packages/sklearn/metrics/scorer.py:137: DeprecationWarning: Scoring method log_loss was renamed to neg_log_loss in version 0.18 and will be removed in 0.20.\n",
      "  sample_weight=sample_weight)\n",
      "/usr/lib64/python3.6/site-packages/sklearn/metrics/scorer.py:137: DeprecationWarning: Scoring method log_loss was renamed to neg_log_loss in version 0.18 and will be removed in 0.20.\n",
      "  sample_weight=sample_weight)\n"
     ]
    },
    {
     "name": "stdout",
     "output_type": "stream",
     "text": [
      "[CV]  subsample=1, min_child_weight=10, max_depth=5, gamma=1, colsample_bytree=0.6, score=-0.5107521087927184, total= 6.4min\n",
      "[CV] subsample=1, min_child_weight=10, max_depth=5, gamma=1, colsample_bytree=0.6 \n"
     ]
    },
    {
     "name": "stderr",
     "output_type": "stream",
     "text": [
      "/usr/lib64/python3.6/site-packages/sklearn/metrics/scorer.py:137: DeprecationWarning: Scoring method log_loss was renamed to neg_log_loss in version 0.18 and will be removed in 0.20.\n",
      "  sample_weight=sample_weight)\n",
      "/usr/lib64/python3.6/site-packages/sklearn/metrics/scorer.py:137: DeprecationWarning: Scoring method log_loss was renamed to neg_log_loss in version 0.18 and will be removed in 0.20.\n",
      "  sample_weight=sample_weight)\n"
     ]
    },
    {
     "name": "stdout",
     "output_type": "stream",
     "text": [
      "[CV]  subsample=1, min_child_weight=10, max_depth=5, gamma=1, colsample_bytree=0.6, score=-0.5123290307860104, total= 6.4min\n",
      "[CV] subsample=1, min_child_weight=10, max_depth=5, gamma=1, colsample_bytree=0.6 \n"
     ]
    },
    {
     "name": "stderr",
     "output_type": "stream",
     "text": [
      "/usr/lib64/python3.6/site-packages/sklearn/metrics/scorer.py:137: DeprecationWarning: Scoring method log_loss was renamed to neg_log_loss in version 0.18 and will be removed in 0.20.\n",
      "  sample_weight=sample_weight)\n",
      "/usr/lib64/python3.6/site-packages/sklearn/metrics/scorer.py:137: DeprecationWarning: Scoring method log_loss was renamed to neg_log_loss in version 0.18 and will be removed in 0.20.\n",
      "  sample_weight=sample_weight)\n"
     ]
    },
    {
     "name": "stdout",
     "output_type": "stream",
     "text": [
      "[CV]  subsample=0.6, min_child_weight=5, max_depth=5, gamma=2, colsample_bytree=0.6, score=-0.5086793553959275, total= 8.4min\n",
      "[CV] subsample=0.6, min_child_weight=10, max_depth=5, gamma=10, colsample_bytree=1.0 \n"
     ]
    },
    {
     "name": "stderr",
     "output_type": "stream",
     "text": [
      "/usr/lib64/python3.6/site-packages/sklearn/metrics/scorer.py:137: DeprecationWarning: Scoring method log_loss was renamed to neg_log_loss in version 0.18 and will be removed in 0.20.\n",
      "  sample_weight=sample_weight)\n",
      "/usr/lib64/python3.6/site-packages/sklearn/metrics/scorer.py:137: DeprecationWarning: Scoring method log_loss was renamed to neg_log_loss in version 0.18 and will be removed in 0.20.\n",
      "  sample_weight=sample_weight)\n"
     ]
    },
    {
     "name": "stdout",
     "output_type": "stream",
     "text": [
      "[CV]  subsample=1, min_child_weight=10, max_depth=5, gamma=1, colsample_bytree=0.6, score=-0.510990225483191, total= 6.4min\n",
      "[CV] subsample=0.6, min_child_weight=10, max_depth=5, gamma=10, colsample_bytree=1.0 \n"
     ]
    },
    {
     "name": "stderr",
     "output_type": "stream",
     "text": [
      "/usr/lib64/python3.6/site-packages/sklearn/metrics/scorer.py:137: DeprecationWarning: Scoring method log_loss was renamed to neg_log_loss in version 0.18 and will be removed in 0.20.\n",
      "  sample_weight=sample_weight)\n",
      "/usr/lib64/python3.6/site-packages/sklearn/metrics/scorer.py:137: DeprecationWarning: Scoring method log_loss was renamed to neg_log_loss in version 0.18 and will be removed in 0.20.\n",
      "  sample_weight=sample_weight)\n"
     ]
    },
    {
     "name": "stdout",
     "output_type": "stream",
     "text": [
      "[CV]  subsample=1, min_child_weight=10, max_depth=5, gamma=1, colsample_bytree=0.6, score=-0.5111819435682822, total= 6.4min\n",
      "[CV] subsample=0.6, min_child_weight=10, max_depth=5, gamma=10, colsample_bytree=1.0 \n"
     ]
    },
    {
     "name": "stderr",
     "output_type": "stream",
     "text": [
      "/usr/lib64/python3.6/site-packages/sklearn/metrics/scorer.py:137: DeprecationWarning: Scoring method log_loss was renamed to neg_log_loss in version 0.18 and will be removed in 0.20.\n",
      "  sample_weight=sample_weight)\n",
      "/usr/lib64/python3.6/site-packages/sklearn/metrics/scorer.py:137: DeprecationWarning: Scoring method log_loss was renamed to neg_log_loss in version 0.18 and will be removed in 0.20.\n",
      "  sample_weight=sample_weight)\n"
     ]
    },
    {
     "name": "stdout",
     "output_type": "stream",
     "text": [
      "[CV]  subsample=1, min_child_weight=10, max_depth=5, gamma=1, colsample_bytree=0.6, score=-0.512492668293451, total= 6.5min\n",
      "[CV] subsample=0.6, min_child_weight=10, max_depth=5, gamma=10, colsample_bytree=1.0 \n"
     ]
    },
    {
     "name": "stderr",
     "output_type": "stream",
     "text": [
      "/usr/lib64/python3.6/site-packages/sklearn/metrics/scorer.py:137: DeprecationWarning: Scoring method log_loss was renamed to neg_log_loss in version 0.18 and will be removed in 0.20.\n",
      "  sample_weight=sample_weight)\n",
      "/usr/lib64/python3.6/site-packages/sklearn/metrics/scorer.py:137: DeprecationWarning: Scoring method log_loss was renamed to neg_log_loss in version 0.18 and will be removed in 0.20.\n",
      "  sample_weight=sample_weight)\n"
     ]
    },
    {
     "name": "stdout",
     "output_type": "stream",
     "text": [
      "[CV]  subsample=0.6, min_child_weight=10, max_depth=5, gamma=10, colsample_bytree=1.0, score=-0.50792997884918, total=13.6min\n",
      "[CV] subsample=0.6, min_child_weight=10, max_depth=5, gamma=10, colsample_bytree=1.0 \n"
     ]
    },
    {
     "name": "stderr",
     "output_type": "stream",
     "text": [
      "/usr/lib64/python3.6/site-packages/sklearn/metrics/scorer.py:137: DeprecationWarning: Scoring method log_loss was renamed to neg_log_loss in version 0.18 and will be removed in 0.20.\n",
      "  sample_weight=sample_weight)\n",
      "/usr/lib64/python3.6/site-packages/sklearn/metrics/scorer.py:137: DeprecationWarning: Scoring method log_loss was renamed to neg_log_loss in version 0.18 and will be removed in 0.20.\n",
      "  sample_weight=sample_weight)\n"
     ]
    },
    {
     "name": "stdout",
     "output_type": "stream",
     "text": [
      "[CV]  subsample=0.6, min_child_weight=10, max_depth=5, gamma=10, colsample_bytree=1.0, score=-0.5080763433467649, total=13.5min\n",
      "[CV] subsample=0.6, min_child_weight=10, max_depth=4, gamma=0.5, colsample_bytree=0.8 \n"
     ]
    },
    {
     "name": "stderr",
     "output_type": "stream",
     "text": [
      "/usr/lib64/python3.6/site-packages/sklearn/metrics/scorer.py:137: DeprecationWarning: Scoring method log_loss was renamed to neg_log_loss in version 0.18 and will be removed in 0.20.\n",
      "  sample_weight=sample_weight)\n",
      "/usr/lib64/python3.6/site-packages/sklearn/metrics/scorer.py:137: DeprecationWarning: Scoring method log_loss was renamed to neg_log_loss in version 0.18 and will be removed in 0.20.\n",
      "  sample_weight=sample_weight)\n"
     ]
    },
    {
     "name": "stdout",
     "output_type": "stream",
     "text": [
      "[CV]  subsample=0.6, min_child_weight=10, max_depth=5, gamma=10, colsample_bytree=1.0, score=-0.5069270130331457, total=13.5min\n",
      "[CV] subsample=0.6, min_child_weight=10, max_depth=4, gamma=0.5, colsample_bytree=0.8 \n"
     ]
    },
    {
     "name": "stderr",
     "output_type": "stream",
     "text": [
      "/usr/lib64/python3.6/site-packages/sklearn/metrics/scorer.py:137: DeprecationWarning: Scoring method log_loss was renamed to neg_log_loss in version 0.18 and will be removed in 0.20.\n",
      "  sample_weight=sample_weight)\n",
      "/usr/lib64/python3.6/site-packages/sklearn/metrics/scorer.py:137: DeprecationWarning: Scoring method log_loss was renamed to neg_log_loss in version 0.18 and will be removed in 0.20.\n",
      "  sample_weight=sample_weight)\n"
     ]
    },
    {
     "name": "stdout",
     "output_type": "stream",
     "text": [
      "[CV]  subsample=0.6, min_child_weight=10, max_depth=5, gamma=10, colsample_bytree=1.0, score=-0.5075139507349085, total=13.5min\n",
      "[CV] subsample=0.6, min_child_weight=10, max_depth=4, gamma=0.5, colsample_bytree=0.8 \n"
     ]
    },
    {
     "name": "stderr",
     "output_type": "stream",
     "text": [
      "/usr/lib64/python3.6/site-packages/sklearn/metrics/scorer.py:137: DeprecationWarning: Scoring method log_loss was renamed to neg_log_loss in version 0.18 and will be removed in 0.20.\n",
      "  sample_weight=sample_weight)\n",
      "/usr/lib64/python3.6/site-packages/sklearn/metrics/scorer.py:137: DeprecationWarning: Scoring method log_loss was renamed to neg_log_loss in version 0.18 and will be removed in 0.20.\n",
      "  sample_weight=sample_weight)\n"
     ]
    },
    {
     "name": "stdout",
     "output_type": "stream",
     "text": [
      "[CV]  subsample=0.6, min_child_weight=10, max_depth=4, gamma=0.5, colsample_bytree=0.8, score=-0.5269382502391319, total= 8.9min\n",
      "[CV] subsample=0.6, min_child_weight=10, max_depth=4, gamma=0.5, colsample_bytree=0.8 \n"
     ]
    },
    {
     "name": "stderr",
     "output_type": "stream",
     "text": [
      "/usr/lib64/python3.6/site-packages/sklearn/metrics/scorer.py:137: DeprecationWarning: Scoring method log_loss was renamed to neg_log_loss in version 0.18 and will be removed in 0.20.\n",
      "  sample_weight=sample_weight)\n",
      "/usr/lib64/python3.6/site-packages/sklearn/metrics/scorer.py:137: DeprecationWarning: Scoring method log_loss was renamed to neg_log_loss in version 0.18 and will be removed in 0.20.\n",
      "  sample_weight=sample_weight)\n"
     ]
    },
    {
     "name": "stdout",
     "output_type": "stream",
     "text": [
      "[CV]  subsample=0.6, min_child_weight=10, max_depth=5, gamma=10, colsample_bytree=1.0, score=-0.5091759957214306, total=13.5min\n",
      "[CV] subsample=0.6, min_child_weight=10, max_depth=4, gamma=0.5, colsample_bytree=0.8 \n"
     ]
    },
    {
     "name": "stderr",
     "output_type": "stream",
     "text": [
      "/usr/lib64/python3.6/site-packages/sklearn/metrics/scorer.py:137: DeprecationWarning: Scoring method log_loss was renamed to neg_log_loss in version 0.18 and will be removed in 0.20.\n",
      "  sample_weight=sample_weight)\n",
      "/usr/lib64/python3.6/site-packages/sklearn/metrics/scorer.py:137: DeprecationWarning: Scoring method log_loss was renamed to neg_log_loss in version 0.18 and will be removed in 0.20.\n",
      "  sample_weight=sample_weight)\n"
     ]
    },
    {
     "name": "stdout",
     "output_type": "stream",
     "text": [
      "[CV]  subsample=0.6, min_child_weight=10, max_depth=4, gamma=0.5, colsample_bytree=0.8, score=-0.5270210600397571, total= 8.8min\n",
      "[CV] subsample=0.8, min_child_weight=5, max_depth=3, gamma=30, colsample_bytree=0.6 \n"
     ]
    },
    {
     "name": "stderr",
     "output_type": "stream",
     "text": [
      "/usr/lib64/python3.6/site-packages/sklearn/metrics/scorer.py:137: DeprecationWarning: Scoring method log_loss was renamed to neg_log_loss in version 0.18 and will be removed in 0.20.\n",
      "  sample_weight=sample_weight)\n",
      "/usr/lib64/python3.6/site-packages/sklearn/metrics/scorer.py:137: DeprecationWarning: Scoring method log_loss was renamed to neg_log_loss in version 0.18 and will be removed in 0.20.\n",
      "  sample_weight=sample_weight)\n"
     ]
    },
    {
     "name": "stdout",
     "output_type": "stream",
     "text": [
      "[CV]  subsample=0.6, min_child_weight=10, max_depth=4, gamma=0.5, colsample_bytree=0.8, score=-0.5254935869994467, total= 8.9min\n",
      "[CV] subsample=0.8, min_child_weight=5, max_depth=3, gamma=30, colsample_bytree=0.6 \n"
     ]
    },
    {
     "name": "stderr",
     "output_type": "stream",
     "text": [
      "/usr/lib64/python3.6/site-packages/sklearn/metrics/scorer.py:137: DeprecationWarning: Scoring method log_loss was renamed to neg_log_loss in version 0.18 and will be removed in 0.20.\n",
      "  sample_weight=sample_weight)\n",
      "/usr/lib64/python3.6/site-packages/sklearn/metrics/scorer.py:137: DeprecationWarning: Scoring method log_loss was renamed to neg_log_loss in version 0.18 and will be removed in 0.20.\n",
      "  sample_weight=sample_weight)\n"
     ]
    },
    {
     "name": "stdout",
     "output_type": "stream",
     "text": [
      "[CV]  subsample=0.8, min_child_weight=5, max_depth=3, gamma=30, colsample_bytree=0.6, score=-0.5511638860343958, total= 4.6min\n",
      "[CV] subsample=0.8, min_child_weight=5, max_depth=3, gamma=30, colsample_bytree=0.6 \n"
     ]
    },
    {
     "name": "stderr",
     "output_type": "stream",
     "text": [
      "/usr/lib64/python3.6/site-packages/sklearn/metrics/scorer.py:137: DeprecationWarning: Scoring method log_loss was renamed to neg_log_loss in version 0.18 and will be removed in 0.20.\n",
      "  sample_weight=sample_weight)\n",
      "/usr/lib64/python3.6/site-packages/sklearn/metrics/scorer.py:137: DeprecationWarning: Scoring method log_loss was renamed to neg_log_loss in version 0.18 and will be removed in 0.20.\n",
      "  sample_weight=sample_weight)\n"
     ]
    },
    {
     "name": "stdout",
     "output_type": "stream",
     "text": [
      "[CV]  subsample=0.8, min_child_weight=5, max_depth=3, gamma=30, colsample_bytree=0.6, score=-0.5499307791468966, total= 4.6min\n",
      "[CV] subsample=0.8, min_child_weight=5, max_depth=3, gamma=30, colsample_bytree=0.6 \n"
     ]
    },
    {
     "name": "stderr",
     "output_type": "stream",
     "text": [
      "/usr/lib64/python3.6/site-packages/sklearn/metrics/scorer.py:137: DeprecationWarning: Scoring method log_loss was renamed to neg_log_loss in version 0.18 and will be removed in 0.20.\n",
      "  sample_weight=sample_weight)\n",
      "/usr/lib64/python3.6/site-packages/sklearn/metrics/scorer.py:137: DeprecationWarning: Scoring method log_loss was renamed to neg_log_loss in version 0.18 and will be removed in 0.20.\n",
      "  sample_weight=sample_weight)\n"
     ]
    },
    {
     "name": "stdout",
     "output_type": "stream",
     "text": [
      "[CV]  subsample=0.6, min_child_weight=10, max_depth=4, gamma=0.5, colsample_bytree=0.8, score=-0.5261670864831318, total= 8.9min\n",
      "[CV] subsample=0.8, min_child_weight=5, max_depth=3, gamma=30, colsample_bytree=0.6 \n"
     ]
    },
    {
     "name": "stderr",
     "output_type": "stream",
     "text": [
      "/usr/lib64/python3.6/site-packages/sklearn/metrics/scorer.py:137: DeprecationWarning: Scoring method log_loss was renamed to neg_log_loss in version 0.18 and will be removed in 0.20.\n",
      "  sample_weight=sample_weight)\n",
      "/usr/lib64/python3.6/site-packages/sklearn/metrics/scorer.py:137: DeprecationWarning: Scoring method log_loss was renamed to neg_log_loss in version 0.18 and will be removed in 0.20.\n",
      "  sample_weight=sample_weight)\n"
     ]
    },
    {
     "name": "stdout",
     "output_type": "stream",
     "text": [
      "[CV]  subsample=0.6, min_child_weight=10, max_depth=4, gamma=0.5, colsample_bytree=0.8, score=-0.5272516957925228, total= 8.9min\n",
      "[CV] subsample=0.6, min_child_weight=1, max_depth=7, gamma=0.5, colsample_bytree=0.6 \n"
     ]
    },
    {
     "name": "stderr",
     "output_type": "stream",
     "text": [
      "/usr/lib64/python3.6/site-packages/sklearn/metrics/scorer.py:137: DeprecationWarning: Scoring method log_loss was renamed to neg_log_loss in version 0.18 and will be removed in 0.20.\n",
      "  sample_weight=sample_weight)\n",
      "/usr/lib64/python3.6/site-packages/sklearn/metrics/scorer.py:137: DeprecationWarning: Scoring method log_loss was renamed to neg_log_loss in version 0.18 and will be removed in 0.20.\n",
      "  sample_weight=sample_weight)\n"
     ]
    },
    {
     "name": "stdout",
     "output_type": "stream",
     "text": [
      "[CV]  subsample=0.8, min_child_weight=5, max_depth=3, gamma=30, colsample_bytree=0.6, score=-0.549228900868045, total= 4.6min\n",
      "[CV] subsample=0.6, min_child_weight=1, max_depth=7, gamma=0.5, colsample_bytree=0.6 \n"
     ]
    },
    {
     "name": "stderr",
     "output_type": "stream",
     "text": [
      "/usr/lib64/python3.6/site-packages/sklearn/metrics/scorer.py:137: DeprecationWarning: Scoring method log_loss was renamed to neg_log_loss in version 0.18 and will be removed in 0.20.\n",
      "  sample_weight=sample_weight)\n",
      "/usr/lib64/python3.6/site-packages/sklearn/metrics/scorer.py:137: DeprecationWarning: Scoring method log_loss was renamed to neg_log_loss in version 0.18 and will be removed in 0.20.\n",
      "  sample_weight=sample_weight)\n"
     ]
    },
    {
     "name": "stdout",
     "output_type": "stream",
     "text": [
      "[CV]  subsample=0.8, min_child_weight=5, max_depth=3, gamma=30, colsample_bytree=0.6, score=-0.5495493948362135, total= 4.6min\n",
      "[CV] subsample=0.6, min_child_weight=1, max_depth=7, gamma=0.5, colsample_bytree=0.6 \n"
     ]
    },
    {
     "name": "stderr",
     "output_type": "stream",
     "text": [
      "/usr/lib64/python3.6/site-packages/sklearn/metrics/scorer.py:137: DeprecationWarning: Scoring method log_loss was renamed to neg_log_loss in version 0.18 and will be removed in 0.20.\n",
      "  sample_weight=sample_weight)\n",
      "/usr/lib64/python3.6/site-packages/sklearn/metrics/scorer.py:137: DeprecationWarning: Scoring method log_loss was renamed to neg_log_loss in version 0.18 and will be removed in 0.20.\n",
      "  sample_weight=sample_weight)\n"
     ]
    },
    {
     "name": "stdout",
     "output_type": "stream",
     "text": [
      "[CV]  subsample=0.8, min_child_weight=5, max_depth=3, gamma=30, colsample_bytree=0.6, score=-0.5507657907359313, total= 4.6min\n",
      "[CV] subsample=0.6, min_child_weight=1, max_depth=7, gamma=0.5, colsample_bytree=0.6 \n"
     ]
    },
    {
     "name": "stderr",
     "output_type": "stream",
     "text": [
      "/usr/lib64/python3.6/site-packages/sklearn/metrics/scorer.py:137: DeprecationWarning: Scoring method log_loss was renamed to neg_log_loss in version 0.18 and will be removed in 0.20.\n",
      "  sample_weight=sample_weight)\n",
      "/usr/lib64/python3.6/site-packages/sklearn/metrics/scorer.py:137: DeprecationWarning: Scoring method log_loss was renamed to neg_log_loss in version 0.18 and will be removed in 0.20.\n",
      "  sample_weight=sample_weight)\n"
     ]
    },
    {
     "name": "stdout",
     "output_type": "stream",
     "text": [
      "[CV]  subsample=0.6, min_child_weight=1, max_depth=7, gamma=0.5, colsample_bytree=0.6, score=-0.4612376610029148, total=11.8min\n",
      "[CV] subsample=0.6, min_child_weight=1, max_depth=7, gamma=0.5, colsample_bytree=0.6 \n"
     ]
    },
    {
     "name": "stderr",
     "output_type": "stream",
     "text": [
      "/usr/lib64/python3.6/site-packages/sklearn/metrics/scorer.py:137: DeprecationWarning: Scoring method log_loss was renamed to neg_log_loss in version 0.18 and will be removed in 0.20.\n",
      "  sample_weight=sample_weight)\n",
      "/usr/lib64/python3.6/site-packages/sklearn/metrics/scorer.py:137: DeprecationWarning: Scoring method log_loss was renamed to neg_log_loss in version 0.18 and will be removed in 0.20.\n",
      "  sample_weight=sample_weight)\n"
     ]
    },
    {
     "name": "stdout",
     "output_type": "stream",
     "text": [
      "[CV]  subsample=0.6, min_child_weight=1, max_depth=7, gamma=0.5, colsample_bytree=0.6, score=-0.4626483029273899, total=11.7min\n",
      "[CV] subsample=0.6, min_child_weight=1, max_depth=5, gamma=30, colsample_bytree=0.6 \n"
     ]
    },
    {
     "name": "stderr",
     "output_type": "stream",
     "text": [
      "/usr/lib64/python3.6/site-packages/sklearn/metrics/scorer.py:137: DeprecationWarning: Scoring method log_loss was renamed to neg_log_loss in version 0.18 and will be removed in 0.20.\n",
      "  sample_weight=sample_weight)\n",
      "/usr/lib64/python3.6/site-packages/sklearn/metrics/scorer.py:137: DeprecationWarning: Scoring method log_loss was renamed to neg_log_loss in version 0.18 and will be removed in 0.20.\n",
      "  sample_weight=sample_weight)\n"
     ]
    },
    {
     "name": "stdout",
     "output_type": "stream",
     "text": [
      "[CV]  subsample=0.6, min_child_weight=1, max_depth=7, gamma=0.5, colsample_bytree=0.6, score=-0.4616825656017825, total=11.8min\n",
      "[CV] subsample=0.6, min_child_weight=1, max_depth=5, gamma=30, colsample_bytree=0.6 \n"
     ]
    },
    {
     "name": "stderr",
     "output_type": "stream",
     "text": [
      "/usr/lib64/python3.6/site-packages/sklearn/metrics/scorer.py:137: DeprecationWarning: Scoring method log_loss was renamed to neg_log_loss in version 0.18 and will be removed in 0.20.\n",
      "  sample_weight=sample_weight)\n",
      "/usr/lib64/python3.6/site-packages/sklearn/metrics/scorer.py:137: DeprecationWarning: Scoring method log_loss was renamed to neg_log_loss in version 0.18 and will be removed in 0.20.\n",
      "  sample_weight=sample_weight)\n"
     ]
    },
    {
     "name": "stdout",
     "output_type": "stream",
     "text": [
      "[CV]  subsample=0.6, min_child_weight=1, max_depth=7, gamma=0.5, colsample_bytree=0.6, score=-0.46297568322108207, total=11.7min\n",
      "[CV] subsample=0.6, min_child_weight=1, max_depth=5, gamma=30, colsample_bytree=0.6 \n"
     ]
    },
    {
     "name": "stderr",
     "output_type": "stream",
     "text": [
      "/usr/lib64/python3.6/site-packages/sklearn/metrics/scorer.py:137: DeprecationWarning: Scoring method log_loss was renamed to neg_log_loss in version 0.18 and will be removed in 0.20.\n",
      "  sample_weight=sample_weight)\n",
      "/usr/lib64/python3.6/site-packages/sklearn/metrics/scorer.py:137: DeprecationWarning: Scoring method log_loss was renamed to neg_log_loss in version 0.18 and will be removed in 0.20.\n",
      "  sample_weight=sample_weight)\n"
     ]
    },
    {
     "name": "stdout",
     "output_type": "stream",
     "text": [
      "[CV]  subsample=0.6, min_child_weight=1, max_depth=5, gamma=30, colsample_bytree=0.6, score=-0.5254483331458677, total= 8.4min\n",
      "[CV] subsample=0.6, min_child_weight=1, max_depth=5, gamma=30, colsample_bytree=0.6 \n"
     ]
    },
    {
     "name": "stderr",
     "output_type": "stream",
     "text": [
      "/usr/lib64/python3.6/site-packages/sklearn/metrics/scorer.py:137: DeprecationWarning: Scoring method log_loss was renamed to neg_log_loss in version 0.18 and will be removed in 0.20.\n",
      "  sample_weight=sample_weight)\n",
      "/usr/lib64/python3.6/site-packages/sklearn/metrics/scorer.py:137: DeprecationWarning: Scoring method log_loss was renamed to neg_log_loss in version 0.18 and will be removed in 0.20.\n",
      "  sample_weight=sample_weight)\n"
     ]
    },
    {
     "name": "stdout",
     "output_type": "stream",
     "text": [
      "[CV]  subsample=0.6, min_child_weight=1, max_depth=5, gamma=30, colsample_bytree=0.6, score=-0.5251857501980228, total= 8.5min\n",
      "[CV] subsample=0.6, min_child_weight=1, max_depth=5, gamma=30, colsample_bytree=0.6 \n"
     ]
    },
    {
     "name": "stderr",
     "output_type": "stream",
     "text": [
      "/usr/lib64/python3.6/site-packages/sklearn/metrics/scorer.py:137: DeprecationWarning: Scoring method log_loss was renamed to neg_log_loss in version 0.18 and will be removed in 0.20.\n",
      "  sample_weight=sample_weight)\n",
      "/usr/lib64/python3.6/site-packages/sklearn/metrics/scorer.py:137: DeprecationWarning: Scoring method log_loss was renamed to neg_log_loss in version 0.18 and will be removed in 0.20.\n",
      "  sample_weight=sample_weight)\n"
     ]
    },
    {
     "name": "stdout",
     "output_type": "stream",
     "text": [
      "[CV]  subsample=0.6, min_child_weight=1, max_depth=5, gamma=30, colsample_bytree=0.6, score=-0.5240985291177096, total= 8.4min\n",
      "[CV] subsample=1.0, min_child_weight=1, max_depth=7, gamma=1, colsample_bytree=1.0 \n"
     ]
    },
    {
     "name": "stderr",
     "output_type": "stream",
     "text": [
      "/usr/lib64/python3.6/site-packages/sklearn/metrics/scorer.py:137: DeprecationWarning: Scoring method log_loss was renamed to neg_log_loss in version 0.18 and will be removed in 0.20.\n",
      "  sample_weight=sample_weight)\n",
      "/usr/lib64/python3.6/site-packages/sklearn/metrics/scorer.py:137: DeprecationWarning: Scoring method log_loss was renamed to neg_log_loss in version 0.18 and will be removed in 0.20.\n",
      "  sample_weight=sample_weight)\n"
     ]
    },
    {
     "name": "stdout",
     "output_type": "stream",
     "text": [
      "[CV]  subsample=0.6, min_child_weight=1, max_depth=7, gamma=0.5, colsample_bytree=0.6, score=-0.46381069543727743, total=11.7min\n",
      "[CV] subsample=1.0, min_child_weight=1, max_depth=7, gamma=1, colsample_bytree=1.0 \n"
     ]
    },
    {
     "name": "stderr",
     "output_type": "stream",
     "text": [
      "/usr/lib64/python3.6/site-packages/sklearn/metrics/scorer.py:137: DeprecationWarning: Scoring method log_loss was renamed to neg_log_loss in version 0.18 and will be removed in 0.20.\n",
      "  sample_weight=sample_weight)\n",
      "/usr/lib64/python3.6/site-packages/sklearn/metrics/scorer.py:137: DeprecationWarning: Scoring method log_loss was renamed to neg_log_loss in version 0.18 and will be removed in 0.20.\n",
      "  sample_weight=sample_weight)\n"
     ]
    },
    {
     "name": "stdout",
     "output_type": "stream",
     "text": [
      "[CV]  subsample=0.6, min_child_weight=1, max_depth=5, gamma=30, colsample_bytree=0.6, score=-0.524695001922449, total= 8.4min\n",
      "[CV] subsample=1.0, min_child_weight=1, max_depth=7, gamma=1, colsample_bytree=1.0 \n"
     ]
    },
    {
     "name": "stderr",
     "output_type": "stream",
     "text": [
      "/usr/lib64/python3.6/site-packages/sklearn/metrics/scorer.py:137: DeprecationWarning: Scoring method log_loss was renamed to neg_log_loss in version 0.18 and will be removed in 0.20.\n",
      "  sample_weight=sample_weight)\n",
      "/usr/lib64/python3.6/site-packages/sklearn/metrics/scorer.py:137: DeprecationWarning: Scoring method log_loss was renamed to neg_log_loss in version 0.18 and will be removed in 0.20.\n",
      "  sample_weight=sample_weight)\n"
     ]
    },
    {
     "name": "stdout",
     "output_type": "stream",
     "text": [
      "[CV]  subsample=0.6, min_child_weight=1, max_depth=5, gamma=30, colsample_bytree=0.6, score=-0.5250174128115138, total= 8.5min\n",
      "[CV] subsample=1.0, min_child_weight=1, max_depth=7, gamma=1, colsample_bytree=1.0 \n"
     ]
    },
    {
     "name": "stderr",
     "output_type": "stream",
     "text": [
      "/usr/lib64/python3.6/site-packages/sklearn/metrics/scorer.py:137: DeprecationWarning: Scoring method log_loss was renamed to neg_log_loss in version 0.18 and will be removed in 0.20.\n",
      "  sample_weight=sample_weight)\n",
      "/usr/lib64/python3.6/site-packages/sklearn/metrics/scorer.py:137: DeprecationWarning: Scoring method log_loss was renamed to neg_log_loss in version 0.18 and will be removed in 0.20.\n",
      "  sample_weight=sample_weight)\n"
     ]
    },
    {
     "name": "stdout",
     "output_type": "stream",
     "text": [
      "[CV]  subsample=1.0, min_child_weight=1, max_depth=7, gamma=1, colsample_bytree=1.0, score=-0.46876311641357293, total=14.0min\n",
      "[CV] subsample=1.0, min_child_weight=1, max_depth=7, gamma=1, colsample_bytree=1.0 \n"
     ]
    },
    {
     "name": "stderr",
     "output_type": "stream",
     "text": [
      "/usr/lib64/python3.6/site-packages/sklearn/metrics/scorer.py:137: DeprecationWarning: Scoring method log_loss was renamed to neg_log_loss in version 0.18 and will be removed in 0.20.\n",
      "  sample_weight=sample_weight)\n",
      "/usr/lib64/python3.6/site-packages/sklearn/metrics/scorer.py:137: DeprecationWarning: Scoring method log_loss was renamed to neg_log_loss in version 0.18 and will be removed in 0.20.\n",
      "  sample_weight=sample_weight)\n"
     ]
    },
    {
     "name": "stdout",
     "output_type": "stream",
     "text": [
      "[CV]  subsample=1.0, min_child_weight=1, max_depth=7, gamma=1, colsample_bytree=1.0, score=-0.4701634343411164, total=13.9min\n",
      "[CV] subsample=0.6, min_child_weight=5, max_depth=5, gamma=30, colsample_bytree=0.6 \n"
     ]
    },
    {
     "name": "stderr",
     "output_type": "stream",
     "text": [
      "/usr/lib64/python3.6/site-packages/sklearn/metrics/scorer.py:137: DeprecationWarning: Scoring method log_loss was renamed to neg_log_loss in version 0.18 and will be removed in 0.20.\n",
      "  sample_weight=sample_weight)\n",
      "/usr/lib64/python3.6/site-packages/sklearn/metrics/scorer.py:137: DeprecationWarning: Scoring method log_loss was renamed to neg_log_loss in version 0.18 and will be removed in 0.20.\n",
      "  sample_weight=sample_weight)\n"
     ]
    },
    {
     "name": "stdout",
     "output_type": "stream",
     "text": [
      "[CV]  subsample=1.0, min_child_weight=1, max_depth=7, gamma=1, colsample_bytree=1.0, score=-0.4678554811607699, total=13.9min\n",
      "[CV] subsample=0.6, min_child_weight=5, max_depth=5, gamma=30, colsample_bytree=0.6 \n"
     ]
    },
    {
     "name": "stderr",
     "output_type": "stream",
     "text": [
      "/usr/lib64/python3.6/site-packages/sklearn/metrics/scorer.py:137: DeprecationWarning: Scoring method log_loss was renamed to neg_log_loss in version 0.18 and will be removed in 0.20.\n",
      "  sample_weight=sample_weight)\n",
      "/usr/lib64/python3.6/site-packages/sklearn/metrics/scorer.py:137: DeprecationWarning: Scoring method log_loss was renamed to neg_log_loss in version 0.18 and will be removed in 0.20.\n",
      "  sample_weight=sample_weight)\n"
     ]
    },
    {
     "name": "stdout",
     "output_type": "stream",
     "text": [
      "[CV]  subsample=1.0, min_child_weight=1, max_depth=7, gamma=1, colsample_bytree=1.0, score=-0.47011503864243653, total=14.0min\n",
      "[CV] subsample=0.6, min_child_weight=5, max_depth=5, gamma=30, colsample_bytree=0.6 \n"
     ]
    },
    {
     "name": "stderr",
     "output_type": "stream",
     "text": [
      "/usr/lib64/python3.6/site-packages/sklearn/metrics/scorer.py:137: DeprecationWarning: Scoring method log_loss was renamed to neg_log_loss in version 0.18 and will be removed in 0.20.\n",
      "  sample_weight=sample_weight)\n",
      "/usr/lib64/python3.6/site-packages/sklearn/metrics/scorer.py:137: DeprecationWarning: Scoring method log_loss was renamed to neg_log_loss in version 0.18 and will be removed in 0.20.\n",
      "  sample_weight=sample_weight)\n"
     ]
    },
    {
     "name": "stdout",
     "output_type": "stream",
     "text": [
      "[CV]  subsample=0.6, min_child_weight=5, max_depth=5, gamma=30, colsample_bytree=0.6, score=-0.5256335390591239, total= 8.5min\n",
      "[CV] subsample=0.6, min_child_weight=5, max_depth=5, gamma=30, colsample_bytree=0.6 \n"
     ]
    },
    {
     "name": "stderr",
     "output_type": "stream",
     "text": [
      "/usr/lib64/python3.6/site-packages/sklearn/metrics/scorer.py:137: DeprecationWarning: Scoring method log_loss was renamed to neg_log_loss in version 0.18 and will be removed in 0.20.\n",
      "  sample_weight=sample_weight)\n",
      "/usr/lib64/python3.6/site-packages/sklearn/metrics/scorer.py:137: DeprecationWarning: Scoring method log_loss was renamed to neg_log_loss in version 0.18 and will be removed in 0.20.\n",
      "  sample_weight=sample_weight)\n"
     ]
    },
    {
     "name": "stdout",
     "output_type": "stream",
     "text": [
      "[CV]  subsample=1.0, min_child_weight=1, max_depth=7, gamma=1, colsample_bytree=1.0, score=-0.4693921930713407, total=14.0min\n",
      "[CV] subsample=0.6, min_child_weight=5, max_depth=5, gamma=30, colsample_bytree=0.6 \n"
     ]
    },
    {
     "name": "stderr",
     "output_type": "stream",
     "text": [
      "/usr/lib64/python3.6/site-packages/sklearn/metrics/scorer.py:137: DeprecationWarning: Scoring method log_loss was renamed to neg_log_loss in version 0.18 and will be removed in 0.20.\n",
      "  sample_weight=sample_weight)\n",
      "/usr/lib64/python3.6/site-packages/sklearn/metrics/scorer.py:137: DeprecationWarning: Scoring method log_loss was renamed to neg_log_loss in version 0.18 and will be removed in 0.20.\n",
      "  sample_weight=sample_weight)\n"
     ]
    },
    {
     "name": "stdout",
     "output_type": "stream",
     "text": [
      "[CV]  subsample=0.6, min_child_weight=5, max_depth=5, gamma=30, colsample_bytree=0.6, score=-0.5258604508545861, total= 8.6min\n",
      "[CV] subsample=0.8, min_child_weight=1, max_depth=4, gamma=1, colsample_bytree=0.6 \n"
     ]
    },
    {
     "name": "stderr",
     "output_type": "stream",
     "text": [
      "/usr/lib64/python3.6/site-packages/sklearn/metrics/scorer.py:137: DeprecationWarning: Scoring method log_loss was renamed to neg_log_loss in version 0.18 and will be removed in 0.20.\n",
      "  sample_weight=sample_weight)\n",
      "/usr/lib64/python3.6/site-packages/sklearn/metrics/scorer.py:137: DeprecationWarning: Scoring method log_loss was renamed to neg_log_loss in version 0.18 and will be removed in 0.20.\n",
      "  sample_weight=sample_weight)\n"
     ]
    },
    {
     "name": "stdout",
     "output_type": "stream",
     "text": [
      "[CV]  subsample=0.6, min_child_weight=5, max_depth=5, gamma=30, colsample_bytree=0.6, score=-0.5246243215359747, total= 8.5min\n",
      "[CV] subsample=0.8, min_child_weight=1, max_depth=4, gamma=1, colsample_bytree=0.6 \n"
     ]
    },
    {
     "name": "stderr",
     "output_type": "stream",
     "text": [
      "/usr/lib64/python3.6/site-packages/sklearn/metrics/scorer.py:137: DeprecationWarning: Scoring method log_loss was renamed to neg_log_loss in version 0.18 and will be removed in 0.20.\n",
      "  sample_weight=sample_weight)\n",
      "/usr/lib64/python3.6/site-packages/sklearn/metrics/scorer.py:137: DeprecationWarning: Scoring method log_loss was renamed to neg_log_loss in version 0.18 and will be removed in 0.20.\n",
      "  sample_weight=sample_weight)\n"
     ]
    },
    {
     "name": "stdout",
     "output_type": "stream",
     "text": [
      "[CV]  subsample=0.6, min_child_weight=5, max_depth=5, gamma=30, colsample_bytree=0.6, score=-0.5249907844651666, total= 8.4min\n",
      "[CV] subsample=0.8, min_child_weight=1, max_depth=4, gamma=1, colsample_bytree=0.6 \n"
     ]
    },
    {
     "name": "stderr",
     "output_type": "stream",
     "text": [
      "/usr/lib64/python3.6/site-packages/sklearn/metrics/scorer.py:137: DeprecationWarning: Scoring method log_loss was renamed to neg_log_loss in version 0.18 and will be removed in 0.20.\n",
      "  sample_weight=sample_weight)\n",
      "/usr/lib64/python3.6/site-packages/sklearn/metrics/scorer.py:137: DeprecationWarning: Scoring method log_loss was renamed to neg_log_loss in version 0.18 and will be removed in 0.20.\n",
      "  sample_weight=sample_weight)\n"
     ]
    },
    {
     "name": "stdout",
     "output_type": "stream",
     "text": [
      "[CV]  subsample=0.8, min_child_weight=1, max_depth=4, gamma=1, colsample_bytree=0.6, score=-0.5271313501176437, total= 5.9min\n",
      "[CV] subsample=0.8, min_child_weight=1, max_depth=4, gamma=1, colsample_bytree=0.6 \n"
     ]
    },
    {
     "name": "stderr",
     "output_type": "stream",
     "text": [
      "/usr/lib64/python3.6/site-packages/sklearn/metrics/scorer.py:137: DeprecationWarning: Scoring method log_loss was renamed to neg_log_loss in version 0.18 and will be removed in 0.20.\n",
      "  sample_weight=sample_weight)\n",
      "/usr/lib64/python3.6/site-packages/sklearn/metrics/scorer.py:137: DeprecationWarning: Scoring method log_loss was renamed to neg_log_loss in version 0.18 and will be removed in 0.20.\n",
      "  sample_weight=sample_weight)\n"
     ]
    },
    {
     "name": "stdout",
     "output_type": "stream",
     "text": [
      "[CV]  subsample=0.6, min_child_weight=5, max_depth=5, gamma=30, colsample_bytree=0.6, score=-0.5259170487868414, total= 8.4min\n",
      "[CV] subsample=0.8, min_child_weight=1, max_depth=4, gamma=1, colsample_bytree=0.6 \n"
     ]
    },
    {
     "name": "stderr",
     "output_type": "stream",
     "text": [
      "/usr/lib64/python3.6/site-packages/sklearn/metrics/scorer.py:137: DeprecationWarning: Scoring method log_loss was renamed to neg_log_loss in version 0.18 and will be removed in 0.20.\n",
      "  sample_weight=sample_weight)\n",
      "/usr/lib64/python3.6/site-packages/sklearn/metrics/scorer.py:137: DeprecationWarning: Scoring method log_loss was renamed to neg_log_loss in version 0.18 and will be removed in 0.20.\n",
      "  sample_weight=sample_weight)\n"
     ]
    },
    {
     "name": "stdout",
     "output_type": "stream",
     "text": [
      "[CV]  subsample=0.8, min_child_weight=1, max_depth=4, gamma=1, colsample_bytree=0.6, score=-0.5270666693398514, total= 5.9min\n",
      "[CV] subsample=0.8, min_child_weight=10, max_depth=7, gamma=1.5, colsample_bytree=1.0 \n"
     ]
    },
    {
     "name": "stderr",
     "output_type": "stream",
     "text": [
      "/usr/lib64/python3.6/site-packages/sklearn/metrics/scorer.py:137: DeprecationWarning: Scoring method log_loss was renamed to neg_log_loss in version 0.18 and will be removed in 0.20.\n",
      "  sample_weight=sample_weight)\n",
      "/usr/lib64/python3.6/site-packages/sklearn/metrics/scorer.py:137: DeprecationWarning: Scoring method log_loss was renamed to neg_log_loss in version 0.18 and will be removed in 0.20.\n",
      "  sample_weight=sample_weight)\n"
     ]
    },
    {
     "name": "stdout",
     "output_type": "stream",
     "text": [
      "[CV]  subsample=0.8, min_child_weight=1, max_depth=4, gamma=1, colsample_bytree=0.6, score=-0.525655532291051, total= 6.0min\n",
      "[CV] subsample=0.8, min_child_weight=10, max_depth=7, gamma=1.5, colsample_bytree=1.0 \n"
     ]
    },
    {
     "name": "stderr",
     "output_type": "stream",
     "text": [
      "/usr/lib64/python3.6/site-packages/sklearn/metrics/scorer.py:137: DeprecationWarning: Scoring method log_loss was renamed to neg_log_loss in version 0.18 and will be removed in 0.20.\n",
      "  sample_weight=sample_weight)\n",
      "/usr/lib64/python3.6/site-packages/sklearn/metrics/scorer.py:137: DeprecationWarning: Scoring method log_loss was renamed to neg_log_loss in version 0.18 and will be removed in 0.20.\n",
      "  sample_weight=sample_weight)\n"
     ]
    },
    {
     "name": "stdout",
     "output_type": "stream",
     "text": [
      "[CV]  subsample=0.8, min_child_weight=1, max_depth=4, gamma=1, colsample_bytree=0.6, score=-0.5262911244671177, total= 6.0min\n",
      "[CV] subsample=0.8, min_child_weight=10, max_depth=7, gamma=1.5, colsample_bytree=1.0 \n"
     ]
    },
    {
     "name": "stderr",
     "output_type": "stream",
     "text": [
      "/usr/lib64/python3.6/site-packages/sklearn/metrics/scorer.py:137: DeprecationWarning: Scoring method log_loss was renamed to neg_log_loss in version 0.18 and will be removed in 0.20.\n",
      "  sample_weight=sample_weight)\n",
      "/usr/lib64/python3.6/site-packages/sklearn/metrics/scorer.py:137: DeprecationWarning: Scoring method log_loss was renamed to neg_log_loss in version 0.18 and will be removed in 0.20.\n",
      "  sample_weight=sample_weight)\n"
     ]
    },
    {
     "name": "stdout",
     "output_type": "stream",
     "text": [
      "[CV]  subsample=0.8, min_child_weight=1, max_depth=4, gamma=1, colsample_bytree=0.6, score=-0.527191811171995, total= 6.0min\n",
      "[CV] subsample=0.8, min_child_weight=10, max_depth=7, gamma=1.5, colsample_bytree=1.0 \n"
     ]
    },
    {
     "name": "stderr",
     "output_type": "stream",
     "text": [
      "/usr/lib64/python3.6/site-packages/sklearn/metrics/scorer.py:137: DeprecationWarning: Scoring method log_loss was renamed to neg_log_loss in version 0.18 and will be removed in 0.20.\n",
      "  sample_weight=sample_weight)\n",
      "/usr/lib64/python3.6/site-packages/sklearn/metrics/scorer.py:137: DeprecationWarning: Scoring method log_loss was renamed to neg_log_loss in version 0.18 and will be removed in 0.20.\n",
      "  sample_weight=sample_weight)\n"
     ]
    },
    {
     "name": "stdout",
     "output_type": "stream",
     "text": [
      "[CV]  subsample=0.8, min_child_weight=10, max_depth=7, gamma=1.5, colsample_bytree=1.0, score=-0.46930897694764095, total=16.0min\n",
      "[CV] subsample=0.8, min_child_weight=10, max_depth=7, gamma=1.5, colsample_bytree=1.0 \n"
     ]
    },
    {
     "name": "stderr",
     "output_type": "stream",
     "text": [
      "/usr/lib64/python3.6/site-packages/sklearn/metrics/scorer.py:137: DeprecationWarning: Scoring method log_loss was renamed to neg_log_loss in version 0.18 and will be removed in 0.20.\n",
      "  sample_weight=sample_weight)\n",
      "/usr/lib64/python3.6/site-packages/sklearn/metrics/scorer.py:137: DeprecationWarning: Scoring method log_loss was renamed to neg_log_loss in version 0.18 and will be removed in 0.20.\n",
      "  sample_weight=sample_weight)\n"
     ]
    },
    {
     "name": "stdout",
     "output_type": "stream",
     "text": [
      "[CV]  subsample=0.8, min_child_weight=10, max_depth=7, gamma=1.5, colsample_bytree=1.0, score=-0.4691095643322796, total=16.0min\n",
      "[CV] subsample=0.6, min_child_weight=10, max_depth=7, gamma=30, colsample_bytree=0.8 \n"
     ]
    },
    {
     "name": "stderr",
     "output_type": "stream",
     "text": [
      "/usr/lib64/python3.6/site-packages/sklearn/metrics/scorer.py:137: DeprecationWarning: Scoring method log_loss was renamed to neg_log_loss in version 0.18 and will be removed in 0.20.\n",
      "  sample_weight=sample_weight)\n",
      "/usr/lib64/python3.6/site-packages/sklearn/metrics/scorer.py:137: DeprecationWarning: Scoring method log_loss was renamed to neg_log_loss in version 0.18 and will be removed in 0.20.\n",
      "  sample_weight=sample_weight)\n"
     ]
    },
    {
     "name": "stdout",
     "output_type": "stream",
     "text": [
      "[CV]  subsample=0.8, min_child_weight=10, max_depth=7, gamma=1.5, colsample_bytree=1.0, score=-0.4674722934418665, total=16.1min\n",
      "[CV] subsample=0.6, min_child_weight=10, max_depth=7, gamma=30, colsample_bytree=0.8 \n"
     ]
    },
    {
     "name": "stderr",
     "output_type": "stream",
     "text": [
      "/usr/lib64/python3.6/site-packages/sklearn/metrics/scorer.py:137: DeprecationWarning: Scoring method log_loss was renamed to neg_log_loss in version 0.18 and will be removed in 0.20.\n",
      "  sample_weight=sample_weight)\n",
      "/usr/lib64/python3.6/site-packages/sklearn/metrics/scorer.py:137: DeprecationWarning: Scoring method log_loss was renamed to neg_log_loss in version 0.18 and will be removed in 0.20.\n",
      "  sample_weight=sample_weight)\n"
     ]
    },
    {
     "name": "stdout",
     "output_type": "stream",
     "text": [
      "[CV]  subsample=0.8, min_child_weight=10, max_depth=7, gamma=1.5, colsample_bytree=1.0, score=-0.46906417459534405, total=16.0min\n",
      "[CV] subsample=0.6, min_child_weight=10, max_depth=7, gamma=30, colsample_bytree=0.8 \n"
     ]
    },
    {
     "name": "stderr",
     "output_type": "stream",
     "text": [
      "/usr/lib64/python3.6/site-packages/sklearn/metrics/scorer.py:137: DeprecationWarning: Scoring method log_loss was renamed to neg_log_loss in version 0.18 and will be removed in 0.20.\n",
      "  sample_weight=sample_weight)\n",
      "/usr/lib64/python3.6/site-packages/sklearn/metrics/scorer.py:137: DeprecationWarning: Scoring method log_loss was renamed to neg_log_loss in version 0.18 and will be removed in 0.20.\n",
      "  sample_weight=sample_weight)\n"
     ]
    },
    {
     "name": "stdout",
     "output_type": "stream",
     "text": [
      "[CV]  subsample=0.8, min_child_weight=10, max_depth=7, gamma=1.5, colsample_bytree=1.0, score=-0.46984280189361877, total=16.1min\n",
      "[CV] subsample=0.6, min_child_weight=10, max_depth=7, gamma=30, colsample_bytree=0.8 \n"
     ]
    },
    {
     "name": "stderr",
     "output_type": "stream",
     "text": [
      "/usr/lib64/python3.6/site-packages/sklearn/metrics/scorer.py:137: DeprecationWarning: Scoring method log_loss was renamed to neg_log_loss in version 0.18 and will be removed in 0.20.\n",
      "  sample_weight=sample_weight)\n",
      "/usr/lib64/python3.6/site-packages/sklearn/metrics/scorer.py:137: DeprecationWarning: Scoring method log_loss was renamed to neg_log_loss in version 0.18 and will be removed in 0.20.\n",
      "  sample_weight=sample_weight)\n"
     ]
    },
    {
     "name": "stdout",
     "output_type": "stream",
     "text": [
      "[CV]  subsample=0.6, min_child_weight=10, max_depth=7, gamma=30, colsample_bytree=0.8, score=-0.5082045069841932, total=15.2min\n",
      "[CV] subsample=0.6, min_child_weight=10, max_depth=7, gamma=30, colsample_bytree=0.8 \n"
     ]
    },
    {
     "name": "stderr",
     "output_type": "stream",
     "text": [
      "/usr/lib64/python3.6/site-packages/sklearn/metrics/scorer.py:137: DeprecationWarning: Scoring method log_loss was renamed to neg_log_loss in version 0.18 and will be removed in 0.20.\n",
      "  sample_weight=sample_weight)\n",
      "/usr/lib64/python3.6/site-packages/sklearn/metrics/scorer.py:137: DeprecationWarning: Scoring method log_loss was renamed to neg_log_loss in version 0.18 and will be removed in 0.20.\n",
      "  sample_weight=sample_weight)\n"
     ]
    },
    {
     "name": "stdout",
     "output_type": "stream",
     "text": [
      "[CV]  subsample=0.6, min_child_weight=10, max_depth=7, gamma=30, colsample_bytree=0.8, score=-0.5076766981529155, total=15.1min\n",
      "[CV] subsample=0.8, min_child_weight=1, max_depth=3, gamma=1, colsample_bytree=0.8 \n"
     ]
    },
    {
     "name": "stderr",
     "output_type": "stream",
     "text": [
      "/usr/lib64/python3.6/site-packages/sklearn/metrics/scorer.py:137: DeprecationWarning: Scoring method log_loss was renamed to neg_log_loss in version 0.18 and will be removed in 0.20.\n",
      "  sample_weight=sample_weight)\n",
      "/usr/lib64/python3.6/site-packages/sklearn/metrics/scorer.py:137: DeprecationWarning: Scoring method log_loss was renamed to neg_log_loss in version 0.18 and will be removed in 0.20.\n",
      "  sample_weight=sample_weight)\n"
     ]
    },
    {
     "name": "stdout",
     "output_type": "stream",
     "text": [
      "[CV]  subsample=0.6, min_child_weight=10, max_depth=7, gamma=30, colsample_bytree=0.8, score=-0.5069660907510751, total=15.1min\n",
      "[CV] subsample=0.8, min_child_weight=1, max_depth=3, gamma=1, colsample_bytree=0.8 \n"
     ]
    },
    {
     "name": "stderr",
     "output_type": "stream",
     "text": [
      "/usr/lib64/python3.6/site-packages/sklearn/metrics/scorer.py:137: DeprecationWarning: Scoring method log_loss was renamed to neg_log_loss in version 0.18 and will be removed in 0.20.\n",
      "  sample_weight=sample_weight)\n",
      "/usr/lib64/python3.6/site-packages/sklearn/metrics/scorer.py:137: DeprecationWarning: Scoring method log_loss was renamed to neg_log_loss in version 0.18 and will be removed in 0.20.\n",
      "  sample_weight=sample_weight)\n"
     ]
    },
    {
     "name": "stdout",
     "output_type": "stream",
     "text": [
      "[CV]  subsample=0.8, min_child_weight=1, max_depth=3, gamma=1, colsample_bytree=0.8, score=-0.5464737564297673, total= 5.9min\n",
      "[CV] subsample=0.8, min_child_weight=1, max_depth=3, gamma=1, colsample_bytree=0.8 \n"
     ]
    },
    {
     "name": "stderr",
     "output_type": "stream",
     "text": [
      "/usr/lib64/python3.6/site-packages/sklearn/metrics/scorer.py:137: DeprecationWarning: Scoring method log_loss was renamed to neg_log_loss in version 0.18 and will be removed in 0.20.\n",
      "  sample_weight=sample_weight)\n",
      "/usr/lib64/python3.6/site-packages/sklearn/metrics/scorer.py:137: DeprecationWarning: Scoring method log_loss was renamed to neg_log_loss in version 0.18 and will be removed in 0.20.\n",
      "  sample_weight=sample_weight)\n"
     ]
    },
    {
     "name": "stdout",
     "output_type": "stream",
     "text": [
      "[CV]  subsample=0.8, min_child_weight=1, max_depth=3, gamma=1, colsample_bytree=0.8, score=-0.545838020865243, total= 5.9min\n",
      "[CV] subsample=0.8, min_child_weight=1, max_depth=3, gamma=1, colsample_bytree=0.8 \n"
     ]
    },
    {
     "name": "stderr",
     "output_type": "stream",
     "text": [
      "/usr/lib64/python3.6/site-packages/sklearn/metrics/scorer.py:137: DeprecationWarning: Scoring method log_loss was renamed to neg_log_loss in version 0.18 and will be removed in 0.20.\n",
      "  sample_weight=sample_weight)\n",
      "/usr/lib64/python3.6/site-packages/sklearn/metrics/scorer.py:137: DeprecationWarning: Scoring method log_loss was renamed to neg_log_loss in version 0.18 and will be removed in 0.20.\n",
      "  sample_weight=sample_weight)\n"
     ]
    },
    {
     "name": "stdout",
     "output_type": "stream",
     "text": [
      "[CV]  subsample=0.6, min_child_weight=10, max_depth=7, gamma=30, colsample_bytree=0.8, score=-0.5080839892266044, total=15.2min\n",
      "[CV] subsample=0.8, min_child_weight=1, max_depth=3, gamma=1, colsample_bytree=0.8 \n"
     ]
    },
    {
     "name": "stderr",
     "output_type": "stream",
     "text": [
      "/usr/lib64/python3.6/site-packages/sklearn/metrics/scorer.py:137: DeprecationWarning: Scoring method log_loss was renamed to neg_log_loss in version 0.18 and will be removed in 0.20.\n",
      "  sample_weight=sample_weight)\n",
      "/usr/lib64/python3.6/site-packages/sklearn/metrics/scorer.py:137: DeprecationWarning: Scoring method log_loss was renamed to neg_log_loss in version 0.18 and will be removed in 0.20.\n",
      "  sample_weight=sample_weight)\n"
     ]
    },
    {
     "name": "stdout",
     "output_type": "stream",
     "text": [
      "[CV]  subsample=0.6, min_child_weight=10, max_depth=7, gamma=30, colsample_bytree=0.8, score=-0.5076664828723756, total=15.2min\n",
      "[CV] subsample=0.6, min_child_weight=1, max_depth=7, gamma=30, colsample_bytree=1.0 \n"
     ]
    },
    {
     "name": "stderr",
     "output_type": "stream",
     "text": [
      "/usr/lib64/python3.6/site-packages/sklearn/metrics/scorer.py:137: DeprecationWarning: Scoring method log_loss was renamed to neg_log_loss in version 0.18 and will be removed in 0.20.\n",
      "  sample_weight=sample_weight)\n",
      "/usr/lib64/python3.6/site-packages/sklearn/metrics/scorer.py:137: DeprecationWarning: Scoring method log_loss was renamed to neg_log_loss in version 0.18 and will be removed in 0.20.\n",
      "  sample_weight=sample_weight)\n"
     ]
    },
    {
     "name": "stdout",
     "output_type": "stream",
     "text": [
      "[CV]  subsample=0.8, min_child_weight=1, max_depth=3, gamma=1, colsample_bytree=0.8, score=-0.5451990026127226, total= 5.9min\n",
      "[CV] subsample=0.6, min_child_weight=1, max_depth=7, gamma=30, colsample_bytree=1.0 \n"
     ]
    },
    {
     "name": "stderr",
     "output_type": "stream",
     "text": [
      "/usr/lib64/python3.6/site-packages/sklearn/metrics/scorer.py:137: DeprecationWarning: Scoring method log_loss was renamed to neg_log_loss in version 0.18 and will be removed in 0.20.\n",
      "  sample_weight=sample_weight)\n",
      "/usr/lib64/python3.6/site-packages/sklearn/metrics/scorer.py:137: DeprecationWarning: Scoring method log_loss was renamed to neg_log_loss in version 0.18 and will be removed in 0.20.\n",
      "  sample_weight=sample_weight)\n"
     ]
    },
    {
     "name": "stdout",
     "output_type": "stream",
     "text": [
      "[CV]  subsample=0.8, min_child_weight=1, max_depth=3, gamma=1, colsample_bytree=0.8, score=-0.5453624100364786, total= 5.8min\n",
      "[CV] subsample=0.6, min_child_weight=1, max_depth=7, gamma=30, colsample_bytree=1.0 \n"
     ]
    },
    {
     "name": "stderr",
     "output_type": "stream",
     "text": [
      "/usr/lib64/python3.6/site-packages/sklearn/metrics/scorer.py:137: DeprecationWarning: Scoring method log_loss was renamed to neg_log_loss in version 0.18 and will be removed in 0.20.\n",
      "  sample_weight=sample_weight)\n",
      "/usr/lib64/python3.6/site-packages/sklearn/metrics/scorer.py:137: DeprecationWarning: Scoring method log_loss was renamed to neg_log_loss in version 0.18 and will be removed in 0.20.\n",
      "  sample_weight=sample_weight)\n"
     ]
    },
    {
     "name": "stdout",
     "output_type": "stream",
     "text": [
      "[CV]  subsample=0.8, min_child_weight=1, max_depth=3, gamma=1, colsample_bytree=0.8, score=-0.5467116441695694, total= 5.9min\n",
      "[CV] subsample=0.6, min_child_weight=1, max_depth=7, gamma=30, colsample_bytree=1.0 \n"
     ]
    },
    {
     "name": "stderr",
     "output_type": "stream",
     "text": [
      "/usr/lib64/python3.6/site-packages/sklearn/metrics/scorer.py:137: DeprecationWarning: Scoring method log_loss was renamed to neg_log_loss in version 0.18 and will be removed in 0.20.\n",
      "  sample_weight=sample_weight)\n",
      "/usr/lib64/python3.6/site-packages/sklearn/metrics/scorer.py:137: DeprecationWarning: Scoring method log_loss was renamed to neg_log_loss in version 0.18 and will be removed in 0.20.\n",
      "  sample_weight=sample_weight)\n"
     ]
    },
    {
     "name": "stdout",
     "output_type": "stream",
     "text": [
      "[CV]  subsample=0.6, min_child_weight=1, max_depth=7, gamma=30, colsample_bytree=1.0, score=-0.5048690208294468, total=19.0min\n",
      "[CV] subsample=0.6, min_child_weight=1, max_depth=7, gamma=30, colsample_bytree=1.0 \n"
     ]
    },
    {
     "name": "stderr",
     "output_type": "stream",
     "text": [
      "/usr/lib64/python3.6/site-packages/sklearn/metrics/scorer.py:137: DeprecationWarning: Scoring method log_loss was renamed to neg_log_loss in version 0.18 and will be removed in 0.20.\n",
      "  sample_weight=sample_weight)\n",
      "/usr/lib64/python3.6/site-packages/sklearn/metrics/scorer.py:137: DeprecationWarning: Scoring method log_loss was renamed to neg_log_loss in version 0.18 and will be removed in 0.20.\n",
      "  sample_weight=sample_weight)\n"
     ]
    },
    {
     "name": "stdout",
     "output_type": "stream",
     "text": [
      "[CV]  subsample=0.6, min_child_weight=1, max_depth=7, gamma=30, colsample_bytree=1.0, score=-0.5054962037365566, total=19.1min\n",
      "[CV] subsample=0.6, min_child_weight=10, max_depth=5, gamma=20, colsample_bytree=0.8 \n"
     ]
    },
    {
     "name": "stderr",
     "output_type": "stream",
     "text": [
      "/usr/lib64/python3.6/site-packages/sklearn/metrics/scorer.py:137: DeprecationWarning: Scoring method log_loss was renamed to neg_log_loss in version 0.18 and will be removed in 0.20.\n",
      "  sample_weight=sample_weight)\n",
      "/usr/lib64/python3.6/site-packages/sklearn/metrics/scorer.py:137: DeprecationWarning: Scoring method log_loss was renamed to neg_log_loss in version 0.18 and will be removed in 0.20.\n",
      "  sample_weight=sample_weight)\n"
     ]
    },
    {
     "name": "stdout",
     "output_type": "stream",
     "text": [
      "[CV]  subsample=0.6, min_child_weight=1, max_depth=7, gamma=30, colsample_bytree=1.0, score=-0.5042395424039382, total=18.9min\n",
      "[CV] subsample=0.6, min_child_weight=10, max_depth=5, gamma=20, colsample_bytree=0.8 \n"
     ]
    },
    {
     "name": "stderr",
     "output_type": "stream",
     "text": [
      "/usr/lib64/python3.6/site-packages/sklearn/metrics/scorer.py:137: DeprecationWarning: Scoring method log_loss was renamed to neg_log_loss in version 0.18 and will be removed in 0.20.\n",
      "  sample_weight=sample_weight)\n",
      "/usr/lib64/python3.6/site-packages/sklearn/metrics/scorer.py:137: DeprecationWarning: Scoring method log_loss was renamed to neg_log_loss in version 0.18 and will be removed in 0.20.\n",
      "  sample_weight=sample_weight)\n"
     ]
    },
    {
     "name": "stdout",
     "output_type": "stream",
     "text": [
      "[CV]  subsample=0.6, min_child_weight=1, max_depth=7, gamma=30, colsample_bytree=1.0, score=-0.5050145106891525, total=19.2min\n",
      "[CV] subsample=0.6, min_child_weight=10, max_depth=5, gamma=20, colsample_bytree=0.8 \n"
     ]
    },
    {
     "name": "stderr",
     "output_type": "stream",
     "text": [
      "/usr/lib64/python3.6/site-packages/sklearn/metrics/scorer.py:137: DeprecationWarning: Scoring method log_loss was renamed to neg_log_loss in version 0.18 and will be removed in 0.20.\n",
      "  sample_weight=sample_weight)\n",
      "/usr/lib64/python3.6/site-packages/sklearn/metrics/scorer.py:137: DeprecationWarning: Scoring method log_loss was renamed to neg_log_loss in version 0.18 and will be removed in 0.20.\n",
      "  sample_weight=sample_weight)\n",
      "/usr/lib64/python3.6/site-packages/sklearn/metrics/scorer.py:137: DeprecationWarning: Scoring method log_loss was renamed to neg_log_loss in version 0.18 and will be removed in 0.20.\n",
      "  sample_weight=sample_weight)\n"
     ]
    },
    {
     "name": "stdout",
     "output_type": "stream",
     "text": [
      "[CV]  subsample=0.6, min_child_weight=10, max_depth=5, gamma=20, colsample_bytree=0.8, score=-0.5167412764913698, total=11.3min\n",
      "[CV] subsample=0.6, min_child_weight=10, max_depth=5, gamma=20, colsample_bytree=0.8 \n"
     ]
    },
    {
     "name": "stderr",
     "output_type": "stream",
     "text": [
      "/usr/lib64/python3.6/site-packages/sklearn/metrics/scorer.py:137: DeprecationWarning: Scoring method log_loss was renamed to neg_log_loss in version 0.18 and will be removed in 0.20.\n",
      "  sample_weight=sample_weight)\n"
     ]
    },
    {
     "name": "stdout",
     "output_type": "stream",
     "text": [
      "[CV]  subsample=0.6, min_child_weight=10, max_depth=5, gamma=20, colsample_bytree=0.8, score=-0.5168296884440112, total=11.2min\n",
      "[CV] subsample=0.6, min_child_weight=10, max_depth=5, gamma=20, colsample_bytree=0.8 \n"
     ]
    },
    {
     "name": "stderr",
     "output_type": "stream",
     "text": [
      "/usr/lib64/python3.6/site-packages/sklearn/metrics/scorer.py:137: DeprecationWarning: Scoring method log_loss was renamed to neg_log_loss in version 0.18 and will be removed in 0.20.\n",
      "  sample_weight=sample_weight)\n",
      "/usr/lib64/python3.6/site-packages/sklearn/metrics/scorer.py:137: DeprecationWarning: Scoring method log_loss was renamed to neg_log_loss in version 0.18 and will be removed in 0.20.\n",
      "  sample_weight=sample_weight)\n"
     ]
    },
    {
     "name": "stdout",
     "output_type": "stream",
     "text": [
      "[CV]  subsample=0.6, min_child_weight=10, max_depth=5, gamma=20, colsample_bytree=0.8, score=-0.5147967568738803, total=10.9min\n",
      "[CV] subsample=0.8, min_child_weight=10, max_depth=7, gamma=0.5, colsample_bytree=0.8 \n"
     ]
    },
    {
     "name": "stderr",
     "output_type": "stream",
     "text": [
      "/usr/lib64/python3.6/site-packages/sklearn/metrics/scorer.py:137: DeprecationWarning: Scoring method log_loss was renamed to neg_log_loss in version 0.18 and will be removed in 0.20.\n",
      "  sample_weight=sample_weight)\n",
      "/usr/lib64/python3.6/site-packages/sklearn/metrics/scorer.py:137: DeprecationWarning: Scoring method log_loss was renamed to neg_log_loss in version 0.18 and will be removed in 0.20.\n",
      "  sample_weight=sample_weight)\n"
     ]
    },
    {
     "name": "stdout",
     "output_type": "stream",
     "text": [
      "[CV]  subsample=0.6, min_child_weight=1, max_depth=7, gamma=30, colsample_bytree=1.0, score=-0.5049278225160424, total=19.2min\n",
      "[CV] subsample=0.8, min_child_weight=10, max_depth=7, gamma=0.5, colsample_bytree=0.8 \n"
     ]
    },
    {
     "name": "stderr",
     "output_type": "stream",
     "text": [
      "/usr/lib64/python3.6/site-packages/sklearn/metrics/scorer.py:137: DeprecationWarning: Scoring method log_loss was renamed to neg_log_loss in version 0.18 and will be removed in 0.20.\n",
      "  sample_weight=sample_weight)\n",
      "/usr/lib64/python3.6/site-packages/sklearn/metrics/scorer.py:137: DeprecationWarning: Scoring method log_loss was renamed to neg_log_loss in version 0.18 and will be removed in 0.20.\n",
      "  sample_weight=sample_weight)\n",
      "/usr/lib64/python3.6/site-packages/sklearn/metrics/scorer.py:137: DeprecationWarning: Scoring method log_loss was renamed to neg_log_loss in version 0.18 and will be removed in 0.20.\n",
      "  sample_weight=sample_weight)\n",
      "/usr/lib64/python3.6/site-packages/sklearn/metrics/scorer.py:137: DeprecationWarning: Scoring method log_loss was renamed to neg_log_loss in version 0.18 and will be removed in 0.20.\n",
      "  sample_weight=sample_weight)\n"
     ]
    },
    {
     "name": "stdout",
     "output_type": "stream",
     "text": [
      "[CV]  subsample=0.6, min_child_weight=10, max_depth=5, gamma=20, colsample_bytree=0.8, score=-0.5155801436708998, total=10.9min\n",
      "[CV] subsample=0.8, min_child_weight=10, max_depth=7, gamma=0.5, colsample_bytree=0.8 \n",
      "[CV]  subsample=0.6, min_child_weight=10, max_depth=5, gamma=20, colsample_bytree=0.8, score=-0.5164284314251192, total=10.9min\n",
      "[CV] subsample=0.8, min_child_weight=10, max_depth=7, gamma=0.5, colsample_bytree=0.8 \n"
     ]
    },
    {
     "name": "stderr",
     "output_type": "stream",
     "text": [
      "/usr/lib64/python3.6/site-packages/sklearn/metrics/scorer.py:137: DeprecationWarning: Scoring method log_loss was renamed to neg_log_loss in version 0.18 and will be removed in 0.20.\n",
      "  sample_weight=sample_weight)\n",
      "/usr/lib64/python3.6/site-packages/sklearn/metrics/scorer.py:137: DeprecationWarning: Scoring method log_loss was renamed to neg_log_loss in version 0.18 and will be removed in 0.20.\n",
      "  sample_weight=sample_weight)\n"
     ]
    },
    {
     "name": "stdout",
     "output_type": "stream",
     "text": [
      "[CV]  subsample=0.8, min_child_weight=10, max_depth=7, gamma=0.5, colsample_bytree=0.8, score=-0.46937061224361865, total=13.0min\n",
      "[CV] subsample=0.8, min_child_weight=10, max_depth=7, gamma=0.5, colsample_bytree=0.8 \n"
     ]
    },
    {
     "name": "stderr",
     "output_type": "stream",
     "text": [
      "/usr/lib64/python3.6/site-packages/sklearn/metrics/scorer.py:137: DeprecationWarning: Scoring method log_loss was renamed to neg_log_loss in version 0.18 and will be removed in 0.20.\n",
      "  sample_weight=sample_weight)\n",
      "/usr/lib64/python3.6/site-packages/sklearn/metrics/scorer.py:137: DeprecationWarning: Scoring method log_loss was renamed to neg_log_loss in version 0.18 and will be removed in 0.20.\n",
      "  sample_weight=sample_weight)\n"
     ]
    },
    {
     "name": "stdout",
     "output_type": "stream",
     "text": [
      "[CV]  subsample=0.8, min_child_weight=10, max_depth=7, gamma=0.5, colsample_bytree=0.8, score=-0.4705127277925695, total=13.1min\n",
      "[CV] subsample=0.6, min_child_weight=5, max_depth=3, gamma=0.5, colsample_bytree=0.6 \n"
     ]
    },
    {
     "name": "stderr",
     "output_type": "stream",
     "text": [
      "/usr/lib64/python3.6/site-packages/sklearn/metrics/scorer.py:137: DeprecationWarning: Scoring method log_loss was renamed to neg_log_loss in version 0.18 and will be removed in 0.20.\n",
      "  sample_weight=sample_weight)\n",
      "/usr/lib64/python3.6/site-packages/sklearn/metrics/scorer.py:137: DeprecationWarning: Scoring method log_loss was renamed to neg_log_loss in version 0.18 and will be removed in 0.20.\n",
      "  sample_weight=sample_weight)\n",
      "/usr/lib64/python3.6/site-packages/sklearn/metrics/scorer.py:137: DeprecationWarning: Scoring method log_loss was renamed to neg_log_loss in version 0.18 and will be removed in 0.20.\n",
      "  sample_weight=sample_weight)\n",
      "/usr/lib64/python3.6/site-packages/sklearn/metrics/scorer.py:137: DeprecationWarning: Scoring method log_loss was renamed to neg_log_loss in version 0.18 and will be removed in 0.20.\n",
      "  sample_weight=sample_weight)\n"
     ]
    },
    {
     "name": "stdout",
     "output_type": "stream",
     "text": [
      "[CV]  subsample=0.8, min_child_weight=10, max_depth=7, gamma=0.5, colsample_bytree=0.8, score=-0.4689580758494984, total=13.0min\n",
      "[CV] subsample=0.6, min_child_weight=5, max_depth=3, gamma=0.5, colsample_bytree=0.6 \n",
      "[CV]  subsample=0.8, min_child_weight=10, max_depth=7, gamma=0.5, colsample_bytree=0.8, score=-0.47152806725188573, total=13.0min\n",
      "[CV] subsample=0.6, min_child_weight=5, max_depth=3, gamma=0.5, colsample_bytree=0.6 \n"
     ]
    },
    {
     "name": "stderr",
     "output_type": "stream",
     "text": [
      "/usr/lib64/python3.6/site-packages/sklearn/metrics/scorer.py:137: DeprecationWarning: Scoring method log_loss was renamed to neg_log_loss in version 0.18 and will be removed in 0.20.\n",
      "  sample_weight=sample_weight)\n",
      "/usr/lib64/python3.6/site-packages/sklearn/metrics/scorer.py:137: DeprecationWarning: Scoring method log_loss was renamed to neg_log_loss in version 0.18 and will be removed in 0.20.\n",
      "  sample_weight=sample_weight)\n"
     ]
    },
    {
     "name": "stdout",
     "output_type": "stream",
     "text": [
      "[CV]  subsample=0.6, min_child_weight=5, max_depth=3, gamma=0.5, colsample_bytree=0.6, score=-0.546337694749032, total= 5.3min\n",
      "[CV] subsample=0.6, min_child_weight=5, max_depth=3, gamma=0.5, colsample_bytree=0.6 \n"
     ]
    },
    {
     "name": "stderr",
     "output_type": "stream",
     "text": [
      "/usr/lib64/python3.6/site-packages/sklearn/metrics/scorer.py:137: DeprecationWarning: Scoring method log_loss was renamed to neg_log_loss in version 0.18 and will be removed in 0.20.\n",
      "  sample_weight=sample_weight)\n",
      "/usr/lib64/python3.6/site-packages/sklearn/metrics/scorer.py:137: DeprecationWarning: Scoring method log_loss was renamed to neg_log_loss in version 0.18 and will be removed in 0.20.\n",
      "  sample_weight=sample_weight)\n",
      "/usr/lib64/python3.6/site-packages/sklearn/metrics/scorer.py:137: DeprecationWarning: Scoring method log_loss was renamed to neg_log_loss in version 0.18 and will be removed in 0.20.\n",
      "  sample_weight=sample_weight)\n",
      "/usr/lib64/python3.6/site-packages/sklearn/metrics/scorer.py:137: DeprecationWarning: Scoring method log_loss was renamed to neg_log_loss in version 0.18 and will be removed in 0.20.\n",
      "  sample_weight=sample_weight)\n"
     ]
    },
    {
     "name": "stdout",
     "output_type": "stream",
     "text": [
      "[CV]  subsample=0.6, min_child_weight=5, max_depth=3, gamma=0.5, colsample_bytree=0.6, score=-0.5463352681754784, total= 5.3min\n",
      "[CV] subsample=0.6, min_child_weight=5, max_depth=3, gamma=0.5, colsample_bytree=0.6 \n",
      "[CV]  subsample=0.6, min_child_weight=5, max_depth=3, gamma=0.5, colsample_bytree=0.6, score=-0.5449806886569585, total= 5.3min\n",
      "[CV] subsample=0.6, min_child_weight=10, max_depth=5, gamma=2, colsample_bytree=0.6 \n"
     ]
    },
    {
     "name": "stderr",
     "output_type": "stream",
     "text": [
      "/usr/lib64/python3.6/site-packages/sklearn/metrics/scorer.py:137: DeprecationWarning: Scoring method log_loss was renamed to neg_log_loss in version 0.18 and will be removed in 0.20.\n",
      "  sample_weight=sample_weight)\n",
      "/usr/lib64/python3.6/site-packages/sklearn/metrics/scorer.py:137: DeprecationWarning: Scoring method log_loss was renamed to neg_log_loss in version 0.18 and will be removed in 0.20.\n",
      "  sample_weight=sample_weight)\n",
      "/usr/lib64/python3.6/site-packages/sklearn/metrics/scorer.py:137: DeprecationWarning: Scoring method log_loss was renamed to neg_log_loss in version 0.18 and will be removed in 0.20.\n",
      "  sample_weight=sample_weight)\n",
      "/usr/lib64/python3.6/site-packages/sklearn/metrics/scorer.py:137: DeprecationWarning: Scoring method log_loss was renamed to neg_log_loss in version 0.18 and will be removed in 0.20.\n",
      "  sample_weight=sample_weight)\n"
     ]
    },
    {
     "name": "stdout",
     "output_type": "stream",
     "text": [
      "[CV]  subsample=0.8, min_child_weight=10, max_depth=7, gamma=0.5, colsample_bytree=0.8, score=-0.47039474265711506, total=13.1min\n",
      "[CV] subsample=0.6, min_child_weight=10, max_depth=5, gamma=2, colsample_bytree=0.6 \n",
      "[CV]  subsample=0.6, min_child_weight=5, max_depth=3, gamma=0.5, colsample_bytree=0.6, score=-0.5455844308657256, total= 5.3min\n",
      "[CV] subsample=0.6, min_child_weight=10, max_depth=5, gamma=2, colsample_bytree=0.6 \n"
     ]
    },
    {
     "name": "stderr",
     "output_type": "stream",
     "text": [
      "/usr/lib64/python3.6/site-packages/sklearn/metrics/scorer.py:137: DeprecationWarning: Scoring method log_loss was renamed to neg_log_loss in version 0.18 and will be removed in 0.20.\n",
      "  sample_weight=sample_weight)\n",
      "/usr/lib64/python3.6/site-packages/sklearn/metrics/scorer.py:137: DeprecationWarning: Scoring method log_loss was renamed to neg_log_loss in version 0.18 and will be removed in 0.20.\n",
      "  sample_weight=sample_weight)\n"
     ]
    },
    {
     "name": "stdout",
     "output_type": "stream",
     "text": [
      "[CV]  subsample=0.6, min_child_weight=5, max_depth=3, gamma=0.5, colsample_bytree=0.6, score=-0.5464351013174086, total= 5.3min\n",
      "[CV] subsample=0.6, min_child_weight=10, max_depth=5, gamma=2, colsample_bytree=0.6 \n"
     ]
    },
    {
     "name": "stderr",
     "output_type": "stream",
     "text": [
      "[Parallel(n_jobs=4)]: Done 120 tasks      | elapsed: 290.1min\n",
      "/usr/lib64/python3.6/site-packages/sklearn/metrics/scorer.py:137: DeprecationWarning: Scoring method log_loss was renamed to neg_log_loss in version 0.18 and will be removed in 0.20.\n",
      "  sample_weight=sample_weight)\n",
      "/usr/lib64/python3.6/site-packages/sklearn/metrics/scorer.py:137: DeprecationWarning: Scoring method log_loss was renamed to neg_log_loss in version 0.18 and will be removed in 0.20.\n",
      "  sample_weight=sample_weight)\n"
     ]
    },
    {
     "name": "stdout",
     "output_type": "stream",
     "text": [
      "[CV]  subsample=0.6, min_child_weight=10, max_depth=5, gamma=2, colsample_bytree=0.6, score=-0.5095457836843107, total= 8.5min\n",
      "[CV] subsample=0.6, min_child_weight=10, max_depth=5, gamma=2, colsample_bytree=0.6 \n"
     ]
    },
    {
     "name": "stderr",
     "output_type": "stream",
     "text": [
      "/usr/lib64/python3.6/site-packages/sklearn/metrics/scorer.py:137: DeprecationWarning: Scoring method log_loss was renamed to neg_log_loss in version 0.18 and will be removed in 0.20.\n",
      "  sample_weight=sample_weight)\n",
      "/usr/lib64/python3.6/site-packages/sklearn/metrics/scorer.py:137: DeprecationWarning: Scoring method log_loss was renamed to neg_log_loss in version 0.18 and will be removed in 0.20.\n",
      "  sample_weight=sample_weight)\n",
      "/usr/lib64/python3.6/site-packages/sklearn/metrics/scorer.py:137: DeprecationWarning: Scoring method log_loss was renamed to neg_log_loss in version 0.18 and will be removed in 0.20.\n",
      "  sample_weight=sample_weight)\n",
      "/usr/lib64/python3.6/site-packages/sklearn/metrics/scorer.py:137: DeprecationWarning: Scoring method log_loss was renamed to neg_log_loss in version 0.18 and will be removed in 0.20.\n",
      "  sample_weight=sample_weight)\n"
     ]
    },
    {
     "name": "stdout",
     "output_type": "stream",
     "text": [
      "[CV]  subsample=0.6, min_child_weight=10, max_depth=5, gamma=2, colsample_bytree=0.6, score=-0.5093676825672813, total= 8.5min\n",
      "[CV] subsample=0.6, min_child_weight=5, max_depth=7, gamma=10, colsample_bytree=0.8 \n",
      "[CV]  subsample=0.6, min_child_weight=10, max_depth=5, gamma=2, colsample_bytree=0.6, score=-0.5085121711642725, total= 8.5min\n",
      "[CV] subsample=0.6, min_child_weight=5, max_depth=7, gamma=10, colsample_bytree=0.8 \n"
     ]
    },
    {
     "name": "stderr",
     "output_type": "stream",
     "text": [
      "/usr/lib64/python3.6/site-packages/sklearn/metrics/scorer.py:137: DeprecationWarning: Scoring method log_loss was renamed to neg_log_loss in version 0.18 and will be removed in 0.20.\n",
      "  sample_weight=sample_weight)\n",
      "/usr/lib64/python3.6/site-packages/sklearn/metrics/scorer.py:137: DeprecationWarning: Scoring method log_loss was renamed to neg_log_loss in version 0.18 and will be removed in 0.20.\n",
      "  sample_weight=sample_weight)\n"
     ]
    },
    {
     "name": "stdout",
     "output_type": "stream",
     "text": [
      "[CV]  subsample=0.6, min_child_weight=10, max_depth=5, gamma=2, colsample_bytree=0.6, score=-0.5091546403132755, total= 8.4min\n",
      "[CV] subsample=0.6, min_child_weight=5, max_depth=7, gamma=10, colsample_bytree=0.8 \n"
     ]
    },
    {
     "name": "stderr",
     "output_type": "stream",
     "text": [
      "/usr/lib64/python3.6/site-packages/sklearn/metrics/scorer.py:137: DeprecationWarning: Scoring method log_loss was renamed to neg_log_loss in version 0.18 and will be removed in 0.20.\n",
      "  sample_weight=sample_weight)\n",
      "/usr/lib64/python3.6/site-packages/sklearn/metrics/scorer.py:137: DeprecationWarning: Scoring method log_loss was renamed to neg_log_loss in version 0.18 and will be removed in 0.20.\n",
      "  sample_weight=sample_weight)\n"
     ]
    },
    {
     "name": "stdout",
     "output_type": "stream",
     "text": [
      "[CV]  subsample=0.6, min_child_weight=10, max_depth=5, gamma=2, colsample_bytree=0.6, score=-0.5102622161082307, total= 8.4min\n",
      "[CV] subsample=0.6, min_child_weight=5, max_depth=7, gamma=10, colsample_bytree=0.8 \n"
     ]
    },
    {
     "name": "stderr",
     "output_type": "stream",
     "text": [
      "/usr/lib64/python3.6/site-packages/sklearn/metrics/scorer.py:137: DeprecationWarning: Scoring method log_loss was renamed to neg_log_loss in version 0.18 and will be removed in 0.20.\n",
      "  sample_weight=sample_weight)\n",
      "/usr/lib64/python3.6/site-packages/sklearn/metrics/scorer.py:137: DeprecationWarning: Scoring method log_loss was renamed to neg_log_loss in version 0.18 and will be removed in 0.20.\n",
      "  sample_weight=sample_weight)\n"
     ]
    },
    {
     "name": "stdout",
     "output_type": "stream",
     "text": [
      "[CV]  subsample=0.6, min_child_weight=5, max_depth=7, gamma=10, colsample_bytree=0.8, score=-0.473755649340245, total=15.1min\n",
      "[CV] subsample=0.6, min_child_weight=5, max_depth=7, gamma=10, colsample_bytree=0.8 \n"
     ]
    },
    {
     "name": "stderr",
     "output_type": "stream",
     "text": [
      "/usr/lib64/python3.6/site-packages/sklearn/metrics/scorer.py:137: DeprecationWarning: Scoring method log_loss was renamed to neg_log_loss in version 0.18 and will be removed in 0.20.\n",
      "  sample_weight=sample_weight)\n",
      "/usr/lib64/python3.6/site-packages/sklearn/metrics/scorer.py:137: DeprecationWarning: Scoring method log_loss was renamed to neg_log_loss in version 0.18 and will be removed in 0.20.\n",
      "  sample_weight=sample_weight)\n"
     ]
    },
    {
     "name": "stdout",
     "output_type": "stream",
     "text": [
      "[CV]  subsample=0.6, min_child_weight=5, max_depth=7, gamma=10, colsample_bytree=0.8, score=-0.47447943611483756, total=15.3min\n",
      "[CV] subsample=1, min_child_weight=1, max_depth=7, gamma=50, colsample_bytree=0.8 \n"
     ]
    },
    {
     "name": "stderr",
     "output_type": "stream",
     "text": [
      "/usr/lib64/python3.6/site-packages/sklearn/metrics/scorer.py:137: DeprecationWarning: Scoring method log_loss was renamed to neg_log_loss in version 0.18 and will be removed in 0.20.\n",
      "  sample_weight=sample_weight)\n",
      "/usr/lib64/python3.6/site-packages/sklearn/metrics/scorer.py:137: DeprecationWarning: Scoring method log_loss was renamed to neg_log_loss in version 0.18 and will be removed in 0.20.\n",
      "  sample_weight=sample_weight)\n"
     ]
    },
    {
     "name": "stdout",
     "output_type": "stream",
     "text": [
      "[CV]  subsample=0.6, min_child_weight=5, max_depth=7, gamma=10, colsample_bytree=0.8, score=-0.4722005190072121, total=15.1min\n",
      "[CV] subsample=1, min_child_weight=1, max_depth=7, gamma=50, colsample_bytree=0.8 \n"
     ]
    },
    {
     "name": "stderr",
     "output_type": "stream",
     "text": [
      "/usr/lib64/python3.6/site-packages/sklearn/metrics/scorer.py:137: DeprecationWarning: Scoring method log_loss was renamed to neg_log_loss in version 0.18 and will be removed in 0.20.\n",
      "  sample_weight=sample_weight)\n",
      "/usr/lib64/python3.6/site-packages/sklearn/metrics/scorer.py:137: DeprecationWarning: Scoring method log_loss was renamed to neg_log_loss in version 0.18 and will be removed in 0.20.\n",
      "  sample_weight=sample_weight)\n"
     ]
    },
    {
     "name": "stdout",
     "output_type": "stream",
     "text": [
      "[CV]  subsample=0.6, min_child_weight=5, max_depth=7, gamma=10, colsample_bytree=0.8, score=-0.47529462378862236, total=15.2min\n",
      "[CV] subsample=1, min_child_weight=1, max_depth=7, gamma=50, colsample_bytree=0.8 \n"
     ]
    },
    {
     "name": "stderr",
     "output_type": "stream",
     "text": [
      "/usr/lib64/python3.6/site-packages/sklearn/metrics/scorer.py:137: DeprecationWarning: Scoring method log_loss was renamed to neg_log_loss in version 0.18 and will be removed in 0.20.\n",
      "  sample_weight=sample_weight)\n",
      "/usr/lib64/python3.6/site-packages/sklearn/metrics/scorer.py:137: DeprecationWarning: Scoring method log_loss was renamed to neg_log_loss in version 0.18 and will be removed in 0.20.\n",
      "  sample_weight=sample_weight)\n"
     ]
    },
    {
     "name": "stdout",
     "output_type": "stream",
     "text": [
      "[CV]  subsample=1, min_child_weight=1, max_depth=7, gamma=50, colsample_bytree=0.8, score=-0.5164258162259384, total=11.4min\n",
      "[CV] subsample=1, min_child_weight=1, max_depth=7, gamma=50, colsample_bytree=0.8 \n"
     ]
    },
    {
     "name": "stderr",
     "output_type": "stream",
     "text": [
      "/usr/lib64/python3.6/site-packages/sklearn/metrics/scorer.py:137: DeprecationWarning: Scoring method log_loss was renamed to neg_log_loss in version 0.18 and will be removed in 0.20.\n",
      "  sample_weight=sample_weight)\n",
      "/usr/lib64/python3.6/site-packages/sklearn/metrics/scorer.py:137: DeprecationWarning: Scoring method log_loss was renamed to neg_log_loss in version 0.18 and will be removed in 0.20.\n",
      "  sample_weight=sample_weight)\n"
     ]
    },
    {
     "name": "stdout",
     "output_type": "stream",
     "text": [
      "[CV]  subsample=1, min_child_weight=1, max_depth=7, gamma=50, colsample_bytree=0.8, score=-0.5166351028721404, total=11.2min\n",
      "[CV] subsample=1, min_child_weight=1, max_depth=7, gamma=50, colsample_bytree=0.8 \n"
     ]
    },
    {
     "name": "stderr",
     "output_type": "stream",
     "text": [
      "/usr/lib64/python3.6/site-packages/sklearn/metrics/scorer.py:137: DeprecationWarning: Scoring method log_loss was renamed to neg_log_loss in version 0.18 and will be removed in 0.20.\n",
      "  sample_weight=sample_weight)\n",
      "/usr/lib64/python3.6/site-packages/sklearn/metrics/scorer.py:137: DeprecationWarning: Scoring method log_loss was renamed to neg_log_loss in version 0.18 and will be removed in 0.20.\n",
      "  sample_weight=sample_weight)\n"
     ]
    },
    {
     "name": "stdout",
     "output_type": "stream",
     "text": [
      "[CV]  subsample=0.6, min_child_weight=5, max_depth=7, gamma=10, colsample_bytree=0.8, score=-0.4748883643997749, total=15.2min\n",
      "[CV] subsample=0.6, min_child_weight=1, max_depth=4, gamma=15, colsample_bytree=1.0 \n"
     ]
    },
    {
     "name": "stderr",
     "output_type": "stream",
     "text": [
      "/usr/lib64/python3.6/site-packages/sklearn/metrics/scorer.py:137: DeprecationWarning: Scoring method log_loss was renamed to neg_log_loss in version 0.18 and will be removed in 0.20.\n",
      "  sample_weight=sample_weight)\n",
      "/usr/lib64/python3.6/site-packages/sklearn/metrics/scorer.py:137: DeprecationWarning: Scoring method log_loss was renamed to neg_log_loss in version 0.18 and will be removed in 0.20.\n",
      "  sample_weight=sample_weight)\n"
     ]
    },
    {
     "name": "stdout",
     "output_type": "stream",
     "text": [
      "[CV]  subsample=1, min_child_weight=1, max_depth=7, gamma=50, colsample_bytree=0.8, score=-0.5161528198447211, total=11.3min\n",
      "[CV] subsample=0.6, min_child_weight=1, max_depth=4, gamma=15, colsample_bytree=1.0 \n"
     ]
    },
    {
     "name": "stderr",
     "output_type": "stream",
     "text": [
      "/usr/lib64/python3.6/site-packages/sklearn/metrics/scorer.py:137: DeprecationWarning: Scoring method log_loss was renamed to neg_log_loss in version 0.18 and will be removed in 0.20.\n",
      "  sample_weight=sample_weight)\n",
      "/usr/lib64/python3.6/site-packages/sklearn/metrics/scorer.py:137: DeprecationWarning: Scoring method log_loss was renamed to neg_log_loss in version 0.18 and will be removed in 0.20.\n",
      "  sample_weight=sample_weight)\n"
     ]
    },
    {
     "name": "stdout",
     "output_type": "stream",
     "text": [
      "[CV]  subsample=1, min_child_weight=1, max_depth=7, gamma=50, colsample_bytree=0.8, score=-0.5183556384241201, total=11.9min\n",
      "[CV] subsample=0.6, min_child_weight=1, max_depth=4, gamma=15, colsample_bytree=1.0 \n"
     ]
    },
    {
     "name": "stderr",
     "output_type": "stream",
     "text": [
      "/usr/lib64/python3.6/site-packages/sklearn/metrics/scorer.py:137: DeprecationWarning: Scoring method log_loss was renamed to neg_log_loss in version 0.18 and will be removed in 0.20.\n",
      "  sample_weight=sample_weight)\n",
      "/usr/lib64/python3.6/site-packages/sklearn/metrics/scorer.py:137: DeprecationWarning: Scoring method log_loss was renamed to neg_log_loss in version 0.18 and will be removed in 0.20.\n",
      "  sample_weight=sample_weight)\n",
      "/usr/lib64/python3.6/site-packages/sklearn/metrics/scorer.py:137: DeprecationWarning: Scoring method log_loss was renamed to neg_log_loss in version 0.18 and will be removed in 0.20.\n",
      "  sample_weight=sample_weight)\n",
      "/usr/lib64/python3.6/site-packages/sklearn/metrics/scorer.py:137: DeprecationWarning: Scoring method log_loss was renamed to neg_log_loss in version 0.18 and will be removed in 0.20.\n",
      "  sample_weight=sample_weight)\n"
     ]
    },
    {
     "name": "stdout",
     "output_type": "stream",
     "text": [
      "[CV]  subsample=0.6, min_child_weight=1, max_depth=4, gamma=15, colsample_bytree=1.0, score=-0.5268020642350235, total=12.1min\n",
      "[CV] subsample=0.6, min_child_weight=1, max_depth=4, gamma=15, colsample_bytree=1.0 \n",
      "[CV]  subsample=1, min_child_weight=1, max_depth=7, gamma=50, colsample_bytree=0.8, score=-0.5180700824569372, total=12.3min\n",
      "[CV] subsample=0.6, min_child_weight=1, max_depth=4, gamma=15, colsample_bytree=1.0 \n"
     ]
    },
    {
     "name": "stderr",
     "output_type": "stream",
     "text": [
      "/usr/lib64/python3.6/site-packages/sklearn/metrics/scorer.py:137: DeprecationWarning: Scoring method log_loss was renamed to neg_log_loss in version 0.18 and will be removed in 0.20.\n",
      "  sample_weight=sample_weight)\n",
      "/usr/lib64/python3.6/site-packages/sklearn/metrics/scorer.py:137: DeprecationWarning: Scoring method log_loss was renamed to neg_log_loss in version 0.18 and will be removed in 0.20.\n",
      "  sample_weight=sample_weight)\n"
     ]
    },
    {
     "name": "stdout",
     "output_type": "stream",
     "text": [
      "[CV]  subsample=0.6, min_child_weight=1, max_depth=4, gamma=15, colsample_bytree=1.0, score=-0.5262408318801491, total=12.2min\n",
      "[CV] subsample=0.6, min_child_weight=10, max_depth=4, gamma=0.5, colsample_bytree=1.0 \n"
     ]
    },
    {
     "name": "stderr",
     "output_type": "stream",
     "text": [
      "/usr/lib64/python3.6/site-packages/sklearn/metrics/scorer.py:137: DeprecationWarning: Scoring method log_loss was renamed to neg_log_loss in version 0.18 and will be removed in 0.20.\n",
      "  sample_weight=sample_weight)\n",
      "/usr/lib64/python3.6/site-packages/sklearn/metrics/scorer.py:137: DeprecationWarning: Scoring method log_loss was renamed to neg_log_loss in version 0.18 and will be removed in 0.20.\n",
      "  sample_weight=sample_weight)\n"
     ]
    },
    {
     "name": "stdout",
     "output_type": "stream",
     "text": [
      "[CV]  subsample=0.6, min_child_weight=1, max_depth=4, gamma=15, colsample_bytree=1.0, score=-0.5253177993463632, total=12.3min\n",
      "[CV] subsample=0.6, min_child_weight=10, max_depth=4, gamma=0.5, colsample_bytree=1.0 \n"
     ]
    },
    {
     "name": "stderr",
     "output_type": "stream",
     "text": [
      "/usr/lib64/python3.6/site-packages/sklearn/metrics/scorer.py:137: DeprecationWarning: Scoring method log_loss was renamed to neg_log_loss in version 0.18 and will be removed in 0.20.\n",
      "  sample_weight=sample_weight)\n",
      "/usr/lib64/python3.6/site-packages/sklearn/metrics/scorer.py:137: DeprecationWarning: Scoring method log_loss was renamed to neg_log_loss in version 0.18 and will be removed in 0.20.\n",
      "  sample_weight=sample_weight)\n",
      "/usr/lib64/python3.6/site-packages/sklearn/metrics/scorer.py:137: DeprecationWarning: Scoring method log_loss was renamed to neg_log_loss in version 0.18 and will be removed in 0.20.\n",
      "  sample_weight=sample_weight)\n",
      "/usr/lib64/python3.6/site-packages/sklearn/metrics/scorer.py:137: DeprecationWarning: Scoring method log_loss was renamed to neg_log_loss in version 0.18 and will be removed in 0.20.\n",
      "  sample_weight=sample_weight)\n"
     ]
    },
    {
     "name": "stdout",
     "output_type": "stream",
     "text": [
      "[CV]  subsample=0.6, min_child_weight=1, max_depth=4, gamma=15, colsample_bytree=1.0, score=-0.5255916089940214, total=12.3min\n",
      "[CV] subsample=0.6, min_child_weight=10, max_depth=4, gamma=0.5, colsample_bytree=1.0 \n",
      "[CV]  subsample=0.6, min_child_weight=1, max_depth=4, gamma=15, colsample_bytree=1.0, score=-0.5266050442208164, total=12.4min\n",
      "[CV] subsample=0.6, min_child_weight=10, max_depth=4, gamma=0.5, colsample_bytree=1.0 \n"
     ]
    },
    {
     "name": "stderr",
     "output_type": "stream",
     "text": [
      "/usr/lib64/python3.6/site-packages/sklearn/metrics/scorer.py:137: DeprecationWarning: Scoring method log_loss was renamed to neg_log_loss in version 0.18 and will be removed in 0.20.\n",
      "  sample_weight=sample_weight)\n",
      "/usr/lib64/python3.6/site-packages/sklearn/metrics/scorer.py:137: DeprecationWarning: Scoring method log_loss was renamed to neg_log_loss in version 0.18 and will be removed in 0.20.\n",
      "  sample_weight=sample_weight)\n"
     ]
    },
    {
     "name": "stdout",
     "output_type": "stream",
     "text": [
      "[CV]  subsample=0.6, min_child_weight=10, max_depth=4, gamma=0.5, colsample_bytree=1.0, score=-0.5264939740207978, total=12.7min\n",
      "[CV] subsample=0.6, min_child_weight=10, max_depth=4, gamma=0.5, colsample_bytree=1.0 \n"
     ]
    },
    {
     "name": "stderr",
     "output_type": "stream",
     "text": [
      "/usr/lib64/python3.6/site-packages/sklearn/metrics/scorer.py:137: DeprecationWarning: Scoring method log_loss was renamed to neg_log_loss in version 0.18 and will be removed in 0.20.\n",
      "  sample_weight=sample_weight)\n",
      "/usr/lib64/python3.6/site-packages/sklearn/metrics/scorer.py:137: DeprecationWarning: Scoring method log_loss was renamed to neg_log_loss in version 0.18 and will be removed in 0.20.\n",
      "  sample_weight=sample_weight)\n"
     ]
    },
    {
     "name": "stdout",
     "output_type": "stream",
     "text": [
      "[CV]  subsample=0.6, min_child_weight=10, max_depth=4, gamma=0.5, colsample_bytree=1.0, score=-0.5261432125521365, total=12.7min\n",
      "[CV] subsample=0.6, min_child_weight=10, max_depth=7, gamma=2, colsample_bytree=1.0 \n"
     ]
    },
    {
     "name": "stderr",
     "output_type": "stream",
     "text": [
      "/usr/lib64/python3.6/site-packages/sklearn/metrics/scorer.py:137: DeprecationWarning: Scoring method log_loss was renamed to neg_log_loss in version 0.18 and will be removed in 0.20.\n",
      "  sample_weight=sample_weight)\n",
      "/usr/lib64/python3.6/site-packages/sklearn/metrics/scorer.py:137: DeprecationWarning: Scoring method log_loss was renamed to neg_log_loss in version 0.18 and will be removed in 0.20.\n",
      "  sample_weight=sample_weight)\n"
     ]
    },
    {
     "name": "stdout",
     "output_type": "stream",
     "text": [
      "[CV]  subsample=0.6, min_child_weight=10, max_depth=4, gamma=0.5, colsample_bytree=1.0, score=-0.5252718019705707, total=12.0min\n",
      "[CV] subsample=0.6, min_child_weight=10, max_depth=7, gamma=2, colsample_bytree=1.0 \n"
     ]
    },
    {
     "name": "stderr",
     "output_type": "stream",
     "text": [
      "/usr/lib64/python3.6/site-packages/sklearn/metrics/scorer.py:137: DeprecationWarning: Scoring method log_loss was renamed to neg_log_loss in version 0.18 and will be removed in 0.20.\n",
      "  sample_weight=sample_weight)\n",
      "/usr/lib64/python3.6/site-packages/sklearn/metrics/scorer.py:137: DeprecationWarning: Scoring method log_loss was renamed to neg_log_loss in version 0.18 and will be removed in 0.20.\n",
      "  sample_weight=sample_weight)\n"
     ]
    },
    {
     "name": "stdout",
     "output_type": "stream",
     "text": [
      "[CV]  subsample=0.6, min_child_weight=10, max_depth=4, gamma=0.5, colsample_bytree=1.0, score=-0.5247989658551392, total=12.2min\n",
      "[CV] subsample=0.6, min_child_weight=10, max_depth=7, gamma=2, colsample_bytree=1.0 \n"
     ]
    },
    {
     "name": "stderr",
     "output_type": "stream",
     "text": [
      "/usr/lib64/python3.6/site-packages/sklearn/metrics/scorer.py:137: DeprecationWarning: Scoring method log_loss was renamed to neg_log_loss in version 0.18 and will be removed in 0.20.\n",
      "  sample_weight=sample_weight)\n",
      "/usr/lib64/python3.6/site-packages/sklearn/metrics/scorer.py:137: DeprecationWarning: Scoring method log_loss was renamed to neg_log_loss in version 0.18 and will be removed in 0.20.\n",
      "  sample_weight=sample_weight)\n"
     ]
    },
    {
     "name": "stdout",
     "output_type": "stream",
     "text": [
      "[CV]  subsample=0.6, min_child_weight=10, max_depth=4, gamma=0.5, colsample_bytree=1.0, score=-0.5264548626803042, total=11.4min\n",
      "[CV] subsample=0.6, min_child_weight=10, max_depth=7, gamma=2, colsample_bytree=1.0 \n"
     ]
    },
    {
     "name": "stderr",
     "output_type": "stream",
     "text": [
      "/usr/lib64/python3.6/site-packages/sklearn/metrics/scorer.py:137: DeprecationWarning: Scoring method log_loss was renamed to neg_log_loss in version 0.18 and will be removed in 0.20.\n",
      "  sample_weight=sample_weight)\n",
      "/usr/lib64/python3.6/site-packages/sklearn/metrics/scorer.py:137: DeprecationWarning: Scoring method log_loss was renamed to neg_log_loss in version 0.18 and will be removed in 0.20.\n",
      "  sample_weight=sample_weight)\n"
     ]
    },
    {
     "name": "stdout",
     "output_type": "stream",
     "text": [
      "[CV]  subsample=0.6, min_child_weight=10, max_depth=7, gamma=2, colsample_bytree=1.0, score=-0.46885739102931295, total=21.2min\n",
      "[CV] subsample=0.6, min_child_weight=10, max_depth=7, gamma=2, colsample_bytree=1.0 \n"
     ]
    },
    {
     "name": "stderr",
     "output_type": "stream",
     "text": [
      "/usr/lib64/python3.6/site-packages/sklearn/metrics/scorer.py:137: DeprecationWarning: Scoring method log_loss was renamed to neg_log_loss in version 0.18 and will be removed in 0.20.\n",
      "  sample_weight=sample_weight)\n",
      "/usr/lib64/python3.6/site-packages/sklearn/metrics/scorer.py:137: DeprecationWarning: Scoring method log_loss was renamed to neg_log_loss in version 0.18 and will be removed in 0.20.\n",
      "  sample_weight=sample_weight)\n",
      "/usr/lib64/python3.6/site-packages/sklearn/metrics/scorer.py:137: DeprecationWarning: Scoring method log_loss was renamed to neg_log_loss in version 0.18 and will be removed in 0.20.\n",
      "  sample_weight=sample_weight)\n",
      "/usr/lib64/python3.6/site-packages/sklearn/metrics/scorer.py:137: DeprecationWarning: Scoring method log_loss was renamed to neg_log_loss in version 0.18 and will be removed in 0.20.\n",
      "  sample_weight=sample_weight)\n"
     ]
    },
    {
     "name": "stdout",
     "output_type": "stream",
     "text": [
      "[CV]  subsample=0.6, min_child_weight=10, max_depth=7, gamma=2, colsample_bytree=1.0, score=-0.4693348715320304, total=21.8min\n",
      "[CV] subsample=1, min_child_weight=10, max_depth=7, gamma=1.5, colsample_bytree=0.6 \n",
      "[CV]  subsample=0.6, min_child_weight=10, max_depth=7, gamma=2, colsample_bytree=1.0, score=-0.4679664797198619, total=21.8min\n",
      "[CV] subsample=1, min_child_weight=10, max_depth=7, gamma=1.5, colsample_bytree=0.6 \n"
     ]
    },
    {
     "name": "stderr",
     "output_type": "stream",
     "text": [
      "/usr/lib64/python3.6/site-packages/sklearn/metrics/scorer.py:137: DeprecationWarning: Scoring method log_loss was renamed to neg_log_loss in version 0.18 and will be removed in 0.20.\n",
      "  sample_weight=sample_weight)\n",
      "/usr/lib64/python3.6/site-packages/sklearn/metrics/scorer.py:137: DeprecationWarning: Scoring method log_loss was renamed to neg_log_loss in version 0.18 and will be removed in 0.20.\n",
      "  sample_weight=sample_weight)\n"
     ]
    },
    {
     "name": "stdout",
     "output_type": "stream",
     "text": [
      "[CV]  subsample=0.6, min_child_weight=10, max_depth=7, gamma=2, colsample_bytree=1.0, score=-0.4699523640877313, total=22.2min\n",
      "[CV] subsample=1, min_child_weight=10, max_depth=7, gamma=1.5, colsample_bytree=0.6 \n"
     ]
    },
    {
     "name": "stderr",
     "output_type": "stream",
     "text": [
      "/usr/lib64/python3.6/site-packages/sklearn/metrics/scorer.py:137: DeprecationWarning: Scoring method log_loss was renamed to neg_log_loss in version 0.18 and will be removed in 0.20.\n",
      "  sample_weight=sample_weight)\n",
      "/usr/lib64/python3.6/site-packages/sklearn/metrics/scorer.py:137: DeprecationWarning: Scoring method log_loss was renamed to neg_log_loss in version 0.18 and will be removed in 0.20.\n",
      "  sample_weight=sample_weight)\n",
      "/usr/lib64/python3.6/site-packages/sklearn/metrics/scorer.py:137: DeprecationWarning: Scoring method log_loss was renamed to neg_log_loss in version 0.18 and will be removed in 0.20.\n",
      "  sample_weight=sample_weight)\n"
     ]
    },
    {
     "name": "stdout",
     "output_type": "stream",
     "text": [
      "[CV]  subsample=1, min_child_weight=10, max_depth=7, gamma=1.5, colsample_bytree=0.6, score=-0.47379644602495724, total= 9.4min\n",
      "[CV] subsample=1, min_child_weight=10, max_depth=7, gamma=1.5, colsample_bytree=0.6 \n"
     ]
    },
    {
     "name": "stderr",
     "output_type": "stream",
     "text": [
      "/usr/lib64/python3.6/site-packages/sklearn/metrics/scorer.py:137: DeprecationWarning: Scoring method log_loss was renamed to neg_log_loss in version 0.18 and will be removed in 0.20.\n",
      "  sample_weight=sample_weight)\n"
     ]
    },
    {
     "name": "stdout",
     "output_type": "stream",
     "text": [
      "[CV]  subsample=1, min_child_weight=10, max_depth=7, gamma=1.5, colsample_bytree=0.6, score=-0.47546258047431467, total= 9.4min\n",
      "[CV] subsample=1, min_child_weight=10, max_depth=7, gamma=1.5, colsample_bytree=0.6 \n"
     ]
    },
    {
     "name": "stderr",
     "output_type": "stream",
     "text": [
      "/usr/lib64/python3.6/site-packages/sklearn/metrics/scorer.py:137: DeprecationWarning: Scoring method log_loss was renamed to neg_log_loss in version 0.18 and will be removed in 0.20.\n",
      "  sample_weight=sample_weight)\n",
      "/usr/lib64/python3.6/site-packages/sklearn/metrics/scorer.py:137: DeprecationWarning: Scoring method log_loss was renamed to neg_log_loss in version 0.18 and will be removed in 0.20.\n",
      "  sample_weight=sample_weight)\n"
     ]
    },
    {
     "name": "stdout",
     "output_type": "stream",
     "text": [
      "[CV]  subsample=1, min_child_weight=10, max_depth=7, gamma=1.5, colsample_bytree=0.6, score=-0.4741625780394845, total= 9.2min\n",
      "[CV] subsample=1, min_child_weight=5, max_depth=4, gamma=2, colsample_bytree=0.8 \n"
     ]
    },
    {
     "name": "stderr",
     "output_type": "stream",
     "text": [
      "/usr/lib64/python3.6/site-packages/sklearn/metrics/scorer.py:137: DeprecationWarning: Scoring method log_loss was renamed to neg_log_loss in version 0.18 and will be removed in 0.20.\n",
      "  sample_weight=sample_weight)\n",
      "/usr/lib64/python3.6/site-packages/sklearn/metrics/scorer.py:137: DeprecationWarning: Scoring method log_loss was renamed to neg_log_loss in version 0.18 and will be removed in 0.20.\n",
      "  sample_weight=sample_weight)\n"
     ]
    },
    {
     "name": "stdout",
     "output_type": "stream",
     "text": [
      "[CV]  subsample=0.6, min_child_weight=10, max_depth=7, gamma=2, colsample_bytree=1.0, score=-0.4706617516750119, total=20.0min\n",
      "[CV] subsample=1, min_child_weight=5, max_depth=4, gamma=2, colsample_bytree=0.8 \n"
     ]
    },
    {
     "name": "stderr",
     "output_type": "stream",
     "text": [
      "/usr/lib64/python3.6/site-packages/sklearn/metrics/scorer.py:137: DeprecationWarning: Scoring method log_loss was renamed to neg_log_loss in version 0.18 and will be removed in 0.20.\n",
      "  sample_weight=sample_weight)\n",
      "/usr/lib64/python3.6/site-packages/sklearn/metrics/scorer.py:137: DeprecationWarning: Scoring method log_loss was renamed to neg_log_loss in version 0.18 and will be removed in 0.20.\n",
      "  sample_weight=sample_weight)\n",
      "/usr/lib64/python3.6/site-packages/sklearn/metrics/scorer.py:137: DeprecationWarning: Scoring method log_loss was renamed to neg_log_loss in version 0.18 and will be removed in 0.20.\n",
      "  sample_weight=sample_weight)\n"
     ]
    },
    {
     "name": "stdout",
     "output_type": "stream",
     "text": [
      "[CV]  subsample=1, min_child_weight=10, max_depth=7, gamma=1.5, colsample_bytree=0.6, score=-0.4755116857883006, total= 8.7min\n",
      "[CV] subsample=1, min_child_weight=5, max_depth=4, gamma=2, colsample_bytree=0.8 \n"
     ]
    },
    {
     "name": "stderr",
     "output_type": "stream",
     "text": [
      "/usr/lib64/python3.6/site-packages/sklearn/metrics/scorer.py:137: DeprecationWarning: Scoring method log_loss was renamed to neg_log_loss in version 0.18 and will be removed in 0.20.\n",
      "  sample_weight=sample_weight)\n"
     ]
    },
    {
     "name": "stdout",
     "output_type": "stream",
     "text": [
      "[CV]  subsample=1, min_child_weight=10, max_depth=7, gamma=1.5, colsample_bytree=0.6, score=-0.47588623161742094, total= 8.7min\n",
      "[CV] subsample=1, min_child_weight=5, max_depth=4, gamma=2, colsample_bytree=0.8 \n"
     ]
    },
    {
     "name": "stderr",
     "output_type": "stream",
     "text": [
      "/usr/lib64/python3.6/site-packages/sklearn/metrics/scorer.py:137: DeprecationWarning: Scoring method log_loss was renamed to neg_log_loss in version 0.18 and will be removed in 0.20.\n",
      "  sample_weight=sample_weight)\n",
      "/usr/lib64/python3.6/site-packages/sklearn/metrics/scorer.py:137: DeprecationWarning: Scoring method log_loss was renamed to neg_log_loss in version 0.18 and will be removed in 0.20.\n",
      "  sample_weight=sample_weight)\n"
     ]
    },
    {
     "name": "stdout",
     "output_type": "stream",
     "text": [
      "[CV]  subsample=1, min_child_weight=5, max_depth=4, gamma=2, colsample_bytree=0.8, score=-0.529190172208865, total= 6.6min\n",
      "[CV] subsample=1, min_child_weight=5, max_depth=4, gamma=2, colsample_bytree=0.8 \n"
     ]
    },
    {
     "name": "stderr",
     "output_type": "stream",
     "text": [
      "/usr/lib64/python3.6/site-packages/sklearn/metrics/scorer.py:137: DeprecationWarning: Scoring method log_loss was renamed to neg_log_loss in version 0.18 and will be removed in 0.20.\n",
      "  sample_weight=sample_weight)\n",
      "/usr/lib64/python3.6/site-packages/sklearn/metrics/scorer.py:137: DeprecationWarning: Scoring method log_loss was renamed to neg_log_loss in version 0.18 and will be removed in 0.20.\n",
      "  sample_weight=sample_weight)\n"
     ]
    },
    {
     "name": "stdout",
     "output_type": "stream",
     "text": [
      "[CV]  subsample=1, min_child_weight=5, max_depth=4, gamma=2, colsample_bytree=0.8, score=-0.5299633298042439, total= 6.6min\n",
      "[CV] subsample=0.6, min_child_weight=1, max_depth=7, gamma=30, colsample_bytree=0.6 \n"
     ]
    },
    {
     "name": "stderr",
     "output_type": "stream",
     "text": [
      "/usr/lib64/python3.6/site-packages/sklearn/metrics/scorer.py:137: DeprecationWarning: Scoring method log_loss was renamed to neg_log_loss in version 0.18 and will be removed in 0.20.\n",
      "  sample_weight=sample_weight)\n",
      "/usr/lib64/python3.6/site-packages/sklearn/metrics/scorer.py:137: DeprecationWarning: Scoring method log_loss was renamed to neg_log_loss in version 0.18 and will be removed in 0.20.\n",
      "  sample_weight=sample_weight)\n"
     ]
    },
    {
     "name": "stdout",
     "output_type": "stream",
     "text": [
      "[CV]  subsample=1, min_child_weight=5, max_depth=4, gamma=2, colsample_bytree=0.8, score=-0.5288024447231121, total= 6.7min\n",
      "[CV] subsample=0.6, min_child_weight=1, max_depth=7, gamma=30, colsample_bytree=0.6 \n"
     ]
    },
    {
     "name": "stderr",
     "output_type": "stream",
     "text": [
      "/usr/lib64/python3.6/site-packages/sklearn/metrics/scorer.py:137: DeprecationWarning: Scoring method log_loss was renamed to neg_log_loss in version 0.18 and will be removed in 0.20.\n",
      "  sample_weight=sample_weight)\n",
      "/usr/lib64/python3.6/site-packages/sklearn/metrics/scorer.py:137: DeprecationWarning: Scoring method log_loss was renamed to neg_log_loss in version 0.18 and will be removed in 0.20.\n",
      "  sample_weight=sample_weight)\n"
     ]
    },
    {
     "name": "stdout",
     "output_type": "stream",
     "text": [
      "[CV]  subsample=1, min_child_weight=5, max_depth=4, gamma=2, colsample_bytree=0.8, score=-0.5288778665616558, total= 6.6min\n",
      "[CV] subsample=0.6, min_child_weight=1, max_depth=7, gamma=30, colsample_bytree=0.6 \n"
     ]
    },
    {
     "name": "stderr",
     "output_type": "stream",
     "text": [
      "/usr/lib64/python3.6/site-packages/sklearn/metrics/scorer.py:137: DeprecationWarning: Scoring method log_loss was renamed to neg_log_loss in version 0.18 and will be removed in 0.20.\n",
      "  sample_weight=sample_weight)\n",
      "/usr/lib64/python3.6/site-packages/sklearn/metrics/scorer.py:137: DeprecationWarning: Scoring method log_loss was renamed to neg_log_loss in version 0.18 and will be removed in 0.20.\n",
      "  sample_weight=sample_weight)\n"
     ]
    },
    {
     "name": "stdout",
     "output_type": "stream",
     "text": [
      "[CV]  subsample=1, min_child_weight=5, max_depth=4, gamma=2, colsample_bytree=0.8, score=-0.5289415708357869, total= 6.6min\n",
      "[CV] subsample=0.6, min_child_weight=1, max_depth=7, gamma=30, colsample_bytree=0.6 \n"
     ]
    },
    {
     "name": "stderr",
     "output_type": "stream",
     "text": [
      "/usr/lib64/python3.6/site-packages/sklearn/metrics/scorer.py:137: DeprecationWarning: Scoring method log_loss was renamed to neg_log_loss in version 0.18 and will be removed in 0.20.\n",
      "  sample_weight=sample_weight)\n",
      "/usr/lib64/python3.6/site-packages/sklearn/metrics/scorer.py:137: DeprecationWarning: Scoring method log_loss was renamed to neg_log_loss in version 0.18 and will be removed in 0.20.\n",
      "  sample_weight=sample_weight)\n"
     ]
    },
    {
     "name": "stdout",
     "output_type": "stream",
     "text": [
      "[CV]  subsample=0.6, min_child_weight=1, max_depth=7, gamma=30, colsample_bytree=0.6, score=-0.5084000532624913, total=13.3min\n",
      "[CV] subsample=0.6, min_child_weight=1, max_depth=7, gamma=30, colsample_bytree=0.6 \n"
     ]
    },
    {
     "name": "stderr",
     "output_type": "stream",
     "text": [
      "/usr/lib64/python3.6/site-packages/sklearn/metrics/scorer.py:137: DeprecationWarning: Scoring method log_loss was renamed to neg_log_loss in version 0.18 and will be removed in 0.20.\n",
      "  sample_weight=sample_weight)\n",
      "/usr/lib64/python3.6/site-packages/sklearn/metrics/scorer.py:137: DeprecationWarning: Scoring method log_loss was renamed to neg_log_loss in version 0.18 and will be removed in 0.20.\n",
      "  sample_weight=sample_weight)\n"
     ]
    },
    {
     "name": "stdout",
     "output_type": "stream",
     "text": [
      "[CV]  subsample=0.6, min_child_weight=1, max_depth=7, gamma=30, colsample_bytree=0.6, score=-0.5078599352243405, total=13.9min\n",
      "[CV] subsample=0.8, min_child_weight=1, max_depth=4, gamma=15, colsample_bytree=0.8 \n"
     ]
    },
    {
     "name": "stderr",
     "output_type": "stream",
     "text": [
      "/usr/lib64/python3.6/site-packages/sklearn/metrics/scorer.py:137: DeprecationWarning: Scoring method log_loss was renamed to neg_log_loss in version 0.18 and will be removed in 0.20.\n",
      "  sample_weight=sample_weight)\n",
      "/usr/lib64/python3.6/site-packages/sklearn/metrics/scorer.py:137: DeprecationWarning: Scoring method log_loss was renamed to neg_log_loss in version 0.18 and will be removed in 0.20.\n",
      "  sample_weight=sample_weight)\n"
     ]
    },
    {
     "name": "stdout",
     "output_type": "stream",
     "text": [
      "[CV]  subsample=0.6, min_child_weight=1, max_depth=7, gamma=30, colsample_bytree=0.6, score=-0.5082170998972839, total=14.4min\n",
      "[CV] subsample=0.8, min_child_weight=1, max_depth=4, gamma=15, colsample_bytree=0.8 \n"
     ]
    },
    {
     "name": "stderr",
     "output_type": "stream",
     "text": [
      "/usr/lib64/python3.6/site-packages/sklearn/metrics/scorer.py:137: DeprecationWarning: Scoring method log_loss was renamed to neg_log_loss in version 0.18 and will be removed in 0.20.\n",
      "  sample_weight=sample_weight)\n",
      "/usr/lib64/python3.6/site-packages/sklearn/metrics/scorer.py:137: DeprecationWarning: Scoring method log_loss was renamed to neg_log_loss in version 0.18 and will be removed in 0.20.\n",
      "  sample_weight=sample_weight)\n"
     ]
    },
    {
     "name": "stdout",
     "output_type": "stream",
     "text": [
      "[CV]  subsample=0.6, min_child_weight=1, max_depth=7, gamma=30, colsample_bytree=0.6, score=-0.5084097632670763, total=14.9min\n",
      "[CV] subsample=0.8, min_child_weight=1, max_depth=4, gamma=15, colsample_bytree=0.8 \n"
     ]
    },
    {
     "name": "stderr",
     "output_type": "stream",
     "text": [
      "/usr/lib64/python3.6/site-packages/sklearn/metrics/scorer.py:137: DeprecationWarning: Scoring method log_loss was renamed to neg_log_loss in version 0.18 and will be removed in 0.20.\n",
      "  sample_weight=sample_weight)\n",
      "/usr/lib64/python3.6/site-packages/sklearn/metrics/scorer.py:137: DeprecationWarning: Scoring method log_loss was renamed to neg_log_loss in version 0.18 and will be removed in 0.20.\n",
      "  sample_weight=sample_weight)\n"
     ]
    },
    {
     "name": "stdout",
     "output_type": "stream",
     "text": [
      "[CV]  subsample=0.8, min_child_weight=1, max_depth=4, gamma=15, colsample_bytree=0.8, score=-0.5271162628342934, total= 9.5min\n",
      "[CV] subsample=0.8, min_child_weight=1, max_depth=4, gamma=15, colsample_bytree=0.8 \n"
     ]
    },
    {
     "name": "stderr",
     "output_type": "stream",
     "text": [
      "/usr/lib64/python3.6/site-packages/sklearn/metrics/scorer.py:137: DeprecationWarning: Scoring method log_loss was renamed to neg_log_loss in version 0.18 and will be removed in 0.20.\n",
      "  sample_weight=sample_weight)\n",
      "/usr/lib64/python3.6/site-packages/sklearn/metrics/scorer.py:137: DeprecationWarning: Scoring method log_loss was renamed to neg_log_loss in version 0.18 and will be removed in 0.20.\n",
      "  sample_weight=sample_weight)\n"
     ]
    },
    {
     "name": "stdout",
     "output_type": "stream",
     "text": [
      "[CV]  subsample=0.8, min_child_weight=1, max_depth=4, gamma=15, colsample_bytree=0.8, score=-0.5274649639447504, total= 9.4min\n",
      "[CV] subsample=0.8, min_child_weight=1, max_depth=4, gamma=15, colsample_bytree=0.8 \n"
     ]
    },
    {
     "name": "stderr",
     "output_type": "stream",
     "text": [
      "/usr/lib64/python3.6/site-packages/sklearn/metrics/scorer.py:137: DeprecationWarning: Scoring method log_loss was renamed to neg_log_loss in version 0.18 and will be removed in 0.20.\n",
      "  sample_weight=sample_weight)\n",
      "/usr/lib64/python3.6/site-packages/sklearn/metrics/scorer.py:137: DeprecationWarning: Scoring method log_loss was renamed to neg_log_loss in version 0.18 and will be removed in 0.20.\n",
      "  sample_weight=sample_weight)\n"
     ]
    },
    {
     "name": "stdout",
     "output_type": "stream",
     "text": [
      "[CV]  subsample=0.8, min_child_weight=1, max_depth=4, gamma=15, colsample_bytree=0.8, score=-0.5259888981482898, total= 9.2min\n",
      "[CV] subsample=0.6, min_child_weight=1, max_depth=7, gamma=0.5, colsample_bytree=0.6 \n"
     ]
    },
    {
     "name": "stderr",
     "output_type": "stream",
     "text": [
      "/usr/lib64/python3.6/site-packages/sklearn/metrics/scorer.py:137: DeprecationWarning: Scoring method log_loss was renamed to neg_log_loss in version 0.18 and will be removed in 0.20.\n",
      "  sample_weight=sample_weight)\n",
      "/usr/lib64/python3.6/site-packages/sklearn/metrics/scorer.py:137: DeprecationWarning: Scoring method log_loss was renamed to neg_log_loss in version 0.18 and will be removed in 0.20.\n",
      "  sample_weight=sample_weight)\n"
     ]
    },
    {
     "name": "stdout",
     "output_type": "stream",
     "text": [
      "[CV]  subsample=0.6, min_child_weight=1, max_depth=7, gamma=30, colsample_bytree=0.6, score=-0.5090641419125229, total=15.2min\n",
      "[CV] subsample=0.6, min_child_weight=1, max_depth=7, gamma=0.5, colsample_bytree=0.6 \n"
     ]
    },
    {
     "name": "stderr",
     "output_type": "stream",
     "text": [
      "/usr/lib64/python3.6/site-packages/sklearn/metrics/scorer.py:137: DeprecationWarning: Scoring method log_loss was renamed to neg_log_loss in version 0.18 and will be removed in 0.20.\n",
      "  sample_weight=sample_weight)\n",
      "/usr/lib64/python3.6/site-packages/sklearn/metrics/scorer.py:137: DeprecationWarning: Scoring method log_loss was renamed to neg_log_loss in version 0.18 and will be removed in 0.20.\n",
      "  sample_weight=sample_weight)\n"
     ]
    },
    {
     "name": "stdout",
     "output_type": "stream",
     "text": [
      "[CV]  subsample=0.8, min_child_weight=1, max_depth=4, gamma=15, colsample_bytree=0.8, score=-0.5266839089770142, total= 9.2min\n",
      "[CV] subsample=0.6, min_child_weight=1, max_depth=7, gamma=0.5, colsample_bytree=0.6 \n"
     ]
    },
    {
     "name": "stderr",
     "output_type": "stream",
     "text": [
      "/usr/lib64/python3.6/site-packages/sklearn/metrics/scorer.py:137: DeprecationWarning: Scoring method log_loss was renamed to neg_log_loss in version 0.18 and will be removed in 0.20.\n",
      "  sample_weight=sample_weight)\n",
      "/usr/lib64/python3.6/site-packages/sklearn/metrics/scorer.py:137: DeprecationWarning: Scoring method log_loss was renamed to neg_log_loss in version 0.18 and will be removed in 0.20.\n",
      "  sample_weight=sample_weight)\n"
     ]
    },
    {
     "name": "stdout",
     "output_type": "stream",
     "text": [
      "[CV]  subsample=0.8, min_child_weight=1, max_depth=4, gamma=15, colsample_bytree=0.8, score=-0.5282867927176522, total= 9.2min\n",
      "[CV] subsample=0.6, min_child_weight=1, max_depth=7, gamma=0.5, colsample_bytree=0.6 \n"
     ]
    },
    {
     "name": "stderr",
     "output_type": "stream",
     "text": [
      "/usr/lib64/python3.6/site-packages/sklearn/metrics/scorer.py:137: DeprecationWarning: Scoring method log_loss was renamed to neg_log_loss in version 0.18 and will be removed in 0.20.\n",
      "  sample_weight=sample_weight)\n",
      "/usr/lib64/python3.6/site-packages/sklearn/metrics/scorer.py:137: DeprecationWarning: Scoring method log_loss was renamed to neg_log_loss in version 0.18 and will be removed in 0.20.\n",
      "  sample_weight=sample_weight)\n"
     ]
    },
    {
     "name": "stdout",
     "output_type": "stream",
     "text": [
      "[CV]  subsample=0.6, min_child_weight=1, max_depth=7, gamma=0.5, colsample_bytree=0.6, score=-0.4612376610029148, total=14.1min\n",
      "[CV] subsample=0.6, min_child_weight=1, max_depth=7, gamma=0.5, colsample_bytree=0.6 \n"
     ]
    },
    {
     "name": "stderr",
     "output_type": "stream",
     "text": [
      "/usr/lib64/python3.6/site-packages/sklearn/metrics/scorer.py:137: DeprecationWarning: Scoring method log_loss was renamed to neg_log_loss in version 0.18 and will be removed in 0.20.\n",
      "  sample_weight=sample_weight)\n",
      "/usr/lib64/python3.6/site-packages/sklearn/metrics/scorer.py:137: DeprecationWarning: Scoring method log_loss was renamed to neg_log_loss in version 0.18 and will be removed in 0.20.\n",
      "  sample_weight=sample_weight)\n"
     ]
    },
    {
     "name": "stdout",
     "output_type": "stream",
     "text": [
      "[CV]  subsample=0.6, min_child_weight=1, max_depth=7, gamma=0.5, colsample_bytree=0.6, score=-0.4626483029273899, total=14.0min\n",
      "[CV] subsample=0.6, min_child_weight=10, max_depth=4, gamma=20, colsample_bytree=0.6 \n"
     ]
    },
    {
     "name": "stderr",
     "output_type": "stream",
     "text": [
      "/usr/lib64/python3.6/site-packages/sklearn/metrics/scorer.py:137: DeprecationWarning: Scoring method log_loss was renamed to neg_log_loss in version 0.18 and will be removed in 0.20.\n",
      "  sample_weight=sample_weight)\n",
      "/usr/lib64/python3.6/site-packages/sklearn/metrics/scorer.py:137: DeprecationWarning: Scoring method log_loss was renamed to neg_log_loss in version 0.18 and will be removed in 0.20.\n",
      "  sample_weight=sample_weight)\n"
     ]
    },
    {
     "name": "stdout",
     "output_type": "stream",
     "text": [
      "[CV]  subsample=0.6, min_child_weight=1, max_depth=7, gamma=0.5, colsample_bytree=0.6, score=-0.4616825656017825, total=14.1min\n",
      "[CV] subsample=0.6, min_child_weight=10, max_depth=4, gamma=20, colsample_bytree=0.6 \n"
     ]
    },
    {
     "name": "stderr",
     "output_type": "stream",
     "text": [
      "/usr/lib64/python3.6/site-packages/sklearn/metrics/scorer.py:137: DeprecationWarning: Scoring method log_loss was renamed to neg_log_loss in version 0.18 and will be removed in 0.20.\n",
      "  sample_weight=sample_weight)\n",
      "/usr/lib64/python3.6/site-packages/sklearn/metrics/scorer.py:137: DeprecationWarning: Scoring method log_loss was renamed to neg_log_loss in version 0.18 and will be removed in 0.20.\n",
      "  sample_weight=sample_weight)\n"
     ]
    },
    {
     "name": "stdout",
     "output_type": "stream",
     "text": [
      "[CV]  subsample=0.6, min_child_weight=1, max_depth=7, gamma=0.5, colsample_bytree=0.6, score=-0.46297568322108207, total=14.0min\n",
      "[CV] subsample=0.6, min_child_weight=10, max_depth=4, gamma=20, colsample_bytree=0.6 \n"
     ]
    },
    {
     "name": "stderr",
     "output_type": "stream",
     "text": [
      "/usr/lib64/python3.6/site-packages/sklearn/metrics/scorer.py:137: DeprecationWarning: Scoring method log_loss was renamed to neg_log_loss in version 0.18 and will be removed in 0.20.\n",
      "  sample_weight=sample_weight)\n",
      "/usr/lib64/python3.6/site-packages/sklearn/metrics/scorer.py:137: DeprecationWarning: Scoring method log_loss was renamed to neg_log_loss in version 0.18 and will be removed in 0.20.\n",
      "  sample_weight=sample_weight)\n"
     ]
    },
    {
     "name": "stdout",
     "output_type": "stream",
     "text": [
      "[CV]  subsample=0.6, min_child_weight=10, max_depth=4, gamma=20, colsample_bytree=0.6, score=-0.5324204689880102, total= 8.1min\n",
      "[CV] subsample=0.6, min_child_weight=10, max_depth=4, gamma=20, colsample_bytree=0.6 \n"
     ]
    },
    {
     "name": "stderr",
     "output_type": "stream",
     "text": [
      "/usr/lib64/python3.6/site-packages/sklearn/metrics/scorer.py:137: DeprecationWarning: Scoring method log_loss was renamed to neg_log_loss in version 0.18 and will be removed in 0.20.\n",
      "  sample_weight=sample_weight)\n",
      "/usr/lib64/python3.6/site-packages/sklearn/metrics/scorer.py:137: DeprecationWarning: Scoring method log_loss was renamed to neg_log_loss in version 0.18 and will be removed in 0.20.\n",
      "  sample_weight=sample_weight)\n"
     ]
    },
    {
     "name": "stdout",
     "output_type": "stream",
     "text": [
      "[CV]  subsample=0.6, min_child_weight=1, max_depth=7, gamma=0.5, colsample_bytree=0.6, score=-0.46381069543727743, total=13.8min\n",
      "[CV] subsample=0.6, min_child_weight=10, max_depth=4, gamma=20, colsample_bytree=0.6 \n"
     ]
    },
    {
     "name": "stderr",
     "output_type": "stream",
     "text": [
      "/usr/lib64/python3.6/site-packages/sklearn/metrics/scorer.py:137: DeprecationWarning: Scoring method log_loss was renamed to neg_log_loss in version 0.18 and will be removed in 0.20.\n",
      "  sample_weight=sample_weight)\n",
      "/usr/lib64/python3.6/site-packages/sklearn/metrics/scorer.py:137: DeprecationWarning: Scoring method log_loss was renamed to neg_log_loss in version 0.18 and will be removed in 0.20.\n",
      "  sample_weight=sample_weight)\n"
     ]
    },
    {
     "name": "stdout",
     "output_type": "stream",
     "text": [
      "[CV]  subsample=0.6, min_child_weight=10, max_depth=4, gamma=20, colsample_bytree=0.6, score=-0.5321980130917144, total= 8.4min\n",
      "[CV] subsample=0.8, min_child_weight=5, max_depth=4, gamma=10, colsample_bytree=0.6 \n"
     ]
    },
    {
     "name": "stderr",
     "output_type": "stream",
     "text": [
      "/usr/lib64/python3.6/site-packages/sklearn/metrics/scorer.py:137: DeprecationWarning: Scoring method log_loss was renamed to neg_log_loss in version 0.18 and will be removed in 0.20.\n",
      "  sample_weight=sample_weight)\n",
      "/usr/lib64/python3.6/site-packages/sklearn/metrics/scorer.py:137: DeprecationWarning: Scoring method log_loss was renamed to neg_log_loss in version 0.18 and will be removed in 0.20.\n",
      "  sample_weight=sample_weight)\n"
     ]
    },
    {
     "name": "stdout",
     "output_type": "stream",
     "text": [
      "[CV]  subsample=0.6, min_child_weight=10, max_depth=4, gamma=20, colsample_bytree=0.6, score=-0.5307773834285753, total= 8.3min\n",
      "[CV] subsample=0.8, min_child_weight=5, max_depth=4, gamma=10, colsample_bytree=0.6 \n"
     ]
    },
    {
     "name": "stderr",
     "output_type": "stream",
     "text": [
      "/usr/lib64/python3.6/site-packages/sklearn/metrics/scorer.py:137: DeprecationWarning: Scoring method log_loss was renamed to neg_log_loss in version 0.18 and will be removed in 0.20.\n",
      "  sample_weight=sample_weight)\n",
      "/usr/lib64/python3.6/site-packages/sklearn/metrics/scorer.py:137: DeprecationWarning: Scoring method log_loss was renamed to neg_log_loss in version 0.18 and will be removed in 0.20.\n",
      "  sample_weight=sample_weight)\n"
     ]
    },
    {
     "name": "stdout",
     "output_type": "stream",
     "text": [
      "[CV]  subsample=0.6, min_child_weight=10, max_depth=4, gamma=20, colsample_bytree=0.6, score=-0.5315226760957397, total= 8.3min\n",
      "[CV] subsample=0.8, min_child_weight=5, max_depth=4, gamma=10, colsample_bytree=0.6 \n"
     ]
    },
    {
     "name": "stderr",
     "output_type": "stream",
     "text": [
      "/usr/lib64/python3.6/site-packages/sklearn/metrics/scorer.py:137: DeprecationWarning: Scoring method log_loss was renamed to neg_log_loss in version 0.18 and will be removed in 0.20.\n",
      "  sample_weight=sample_weight)\n",
      "/usr/lib64/python3.6/site-packages/sklearn/metrics/scorer.py:137: DeprecationWarning: Scoring method log_loss was renamed to neg_log_loss in version 0.18 and will be removed in 0.20.\n",
      "  sample_weight=sample_weight)\n"
     ]
    },
    {
     "name": "stdout",
     "output_type": "stream",
     "text": [
      "[CV]  subsample=0.6, min_child_weight=10, max_depth=4, gamma=20, colsample_bytree=0.6, score=-0.5325372080803562, total= 8.2min\n",
      "[CV] subsample=0.8, min_child_weight=5, max_depth=4, gamma=10, colsample_bytree=0.6 \n"
     ]
    },
    {
     "name": "stderr",
     "output_type": "stream",
     "text": [
      "/usr/lib64/python3.6/site-packages/sklearn/metrics/scorer.py:137: DeprecationWarning: Scoring method log_loss was renamed to neg_log_loss in version 0.18 and will be removed in 0.20.\n",
      "  sample_weight=sample_weight)\n",
      "/usr/lib64/python3.6/site-packages/sklearn/metrics/scorer.py:137: DeprecationWarning: Scoring method log_loss was renamed to neg_log_loss in version 0.18 and will be removed in 0.20.\n",
      "  sample_weight=sample_weight)\n"
     ]
    },
    {
     "name": "stdout",
     "output_type": "stream",
     "text": [
      "[CV]  subsample=0.8, min_child_weight=5, max_depth=4, gamma=10, colsample_bytree=0.6, score=-0.5286361185319146, total= 7.2min\n",
      "[CV] subsample=0.8, min_child_weight=5, max_depth=4, gamma=10, colsample_bytree=0.6 \n"
     ]
    },
    {
     "name": "stderr",
     "output_type": "stream",
     "text": [
      "/usr/lib64/python3.6/site-packages/sklearn/metrics/scorer.py:137: DeprecationWarning: Scoring method log_loss was renamed to neg_log_loss in version 0.18 and will be removed in 0.20.\n",
      "  sample_weight=sample_weight)\n",
      "/usr/lib64/python3.6/site-packages/sklearn/metrics/scorer.py:137: DeprecationWarning: Scoring method log_loss was renamed to neg_log_loss in version 0.18 and will be removed in 0.20.\n",
      "  sample_weight=sample_weight)\n"
     ]
    },
    {
     "name": "stdout",
     "output_type": "stream",
     "text": [
      "[CV]  subsample=0.8, min_child_weight=5, max_depth=4, gamma=10, colsample_bytree=0.6, score=-0.5284995411827595, total= 7.1min\n",
      "[CV] subsample=0.8, min_child_weight=5, max_depth=4, gamma=5, colsample_bytree=0.6 \n"
     ]
    },
    {
     "name": "stderr",
     "output_type": "stream",
     "text": [
      "/usr/lib64/python3.6/site-packages/sklearn/metrics/scorer.py:137: DeprecationWarning: Scoring method log_loss was renamed to neg_log_loss in version 0.18 and will be removed in 0.20.\n",
      "  sample_weight=sample_weight)\n",
      "/usr/lib64/python3.6/site-packages/sklearn/metrics/scorer.py:137: DeprecationWarning: Scoring method log_loss was renamed to neg_log_loss in version 0.18 and will be removed in 0.20.\n",
      "  sample_weight=sample_weight)\n"
     ]
    },
    {
     "name": "stdout",
     "output_type": "stream",
     "text": [
      "[CV]  subsample=0.8, min_child_weight=5, max_depth=4, gamma=10, colsample_bytree=0.6, score=-0.5274571505390359, total= 7.2min\n",
      "[CV] subsample=0.8, min_child_weight=5, max_depth=4, gamma=5, colsample_bytree=0.6 \n"
     ]
    },
    {
     "name": "stderr",
     "output_type": "stream",
     "text": [
      "/usr/lib64/python3.6/site-packages/sklearn/metrics/scorer.py:137: DeprecationWarning: Scoring method log_loss was renamed to neg_log_loss in version 0.18 and will be removed in 0.20.\n",
      "  sample_weight=sample_weight)\n",
      "/usr/lib64/python3.6/site-packages/sklearn/metrics/scorer.py:137: DeprecationWarning: Scoring method log_loss was renamed to neg_log_loss in version 0.18 and will be removed in 0.20.\n",
      "  sample_weight=sample_weight)\n"
     ]
    },
    {
     "name": "stdout",
     "output_type": "stream",
     "text": [
      "[CV]  subsample=0.8, min_child_weight=5, max_depth=4, gamma=10, colsample_bytree=0.6, score=-0.5279059002094665, total= 6.7min\n",
      "[CV] subsample=0.8, min_child_weight=5, max_depth=4, gamma=5, colsample_bytree=0.6 \n"
     ]
    },
    {
     "name": "stderr",
     "output_type": "stream",
     "text": [
      "/usr/lib64/python3.6/site-packages/sklearn/metrics/scorer.py:137: DeprecationWarning: Scoring method log_loss was renamed to neg_log_loss in version 0.18 and will be removed in 0.20.\n",
      "  sample_weight=sample_weight)\n",
      "/usr/lib64/python3.6/site-packages/sklearn/metrics/scorer.py:137: DeprecationWarning: Scoring method log_loss was renamed to neg_log_loss in version 0.18 and will be removed in 0.20.\n",
      "  sample_weight=sample_weight)\n"
     ]
    },
    {
     "name": "stdout",
     "output_type": "stream",
     "text": [
      "[CV]  subsample=0.8, min_child_weight=5, max_depth=4, gamma=10, colsample_bytree=0.6, score=-0.5287873474814974, total= 6.5min\n",
      "[CV] subsample=0.8, min_child_weight=5, max_depth=4, gamma=5, colsample_bytree=0.6 \n"
     ]
    },
    {
     "name": "stderr",
     "output_type": "stream",
     "text": [
      "/usr/lib64/python3.6/site-packages/sklearn/metrics/scorer.py:137: DeprecationWarning: Scoring method log_loss was renamed to neg_log_loss in version 0.18 and will be removed in 0.20.\n",
      "  sample_weight=sample_weight)\n",
      "/usr/lib64/python3.6/site-packages/sklearn/metrics/scorer.py:137: DeprecationWarning: Scoring method log_loss was renamed to neg_log_loss in version 0.18 and will be removed in 0.20.\n",
      "  sample_weight=sample_weight)\n"
     ]
    },
    {
     "name": "stdout",
     "output_type": "stream",
     "text": [
      "[CV]  subsample=0.8, min_child_weight=5, max_depth=4, gamma=5, colsample_bytree=0.6, score=-0.528102002076949, total= 6.5min\n",
      "[CV] subsample=0.8, min_child_weight=5, max_depth=4, gamma=5, colsample_bytree=0.6 \n"
     ]
    },
    {
     "name": "stderr",
     "output_type": "stream",
     "text": [
      "/usr/lib64/python3.6/site-packages/sklearn/metrics/scorer.py:137: DeprecationWarning: Scoring method log_loss was renamed to neg_log_loss in version 0.18 and will be removed in 0.20.\n",
      "  sample_weight=sample_weight)\n",
      "/usr/lib64/python3.6/site-packages/sklearn/metrics/scorer.py:137: DeprecationWarning: Scoring method log_loss was renamed to neg_log_loss in version 0.18 and will be removed in 0.20.\n",
      "  sample_weight=sample_weight)\n"
     ]
    },
    {
     "name": "stdout",
     "output_type": "stream",
     "text": [
      "[CV]  subsample=0.8, min_child_weight=5, max_depth=4, gamma=5, colsample_bytree=0.6, score=-0.5282270839677626, total= 6.2min\n",
      "[CV] subsample=0.6, min_child_weight=10, max_depth=7, gamma=50, colsample_bytree=0.8 \n"
     ]
    },
    {
     "name": "stderr",
     "output_type": "stream",
     "text": [
      "/usr/lib64/python3.6/site-packages/sklearn/metrics/scorer.py:137: DeprecationWarning: Scoring method log_loss was renamed to neg_log_loss in version 0.18 and will be removed in 0.20.\n",
      "  sample_weight=sample_weight)\n",
      "/usr/lib64/python3.6/site-packages/sklearn/metrics/scorer.py:137: DeprecationWarning: Scoring method log_loss was renamed to neg_log_loss in version 0.18 and will be removed in 0.20.\n",
      "  sample_weight=sample_weight)\n"
     ]
    },
    {
     "name": "stdout",
     "output_type": "stream",
     "text": [
      "[CV]  subsample=0.8, min_child_weight=5, max_depth=4, gamma=5, colsample_bytree=0.6, score=-0.5268850101994778, total= 6.5min\n",
      "[CV] subsample=0.6, min_child_weight=10, max_depth=7, gamma=50, colsample_bytree=0.8 \n"
     ]
    },
    {
     "name": "stderr",
     "output_type": "stream",
     "text": [
      "/usr/lib64/python3.6/site-packages/sklearn/metrics/scorer.py:137: DeprecationWarning: Scoring method log_loss was renamed to neg_log_loss in version 0.18 and will be removed in 0.20.\n",
      "  sample_weight=sample_weight)\n",
      "/usr/lib64/python3.6/site-packages/sklearn/metrics/scorer.py:137: DeprecationWarning: Scoring method log_loss was renamed to neg_log_loss in version 0.18 and will be removed in 0.20.\n",
      "  sample_weight=sample_weight)\n"
     ]
    },
    {
     "name": "stdout",
     "output_type": "stream",
     "text": [
      "[CV]  subsample=0.8, min_child_weight=5, max_depth=4, gamma=5, colsample_bytree=0.6, score=-0.527084074017986, total= 6.8min\n",
      "[CV] subsample=0.6, min_child_weight=10, max_depth=7, gamma=50, colsample_bytree=0.8 \n"
     ]
    },
    {
     "name": "stderr",
     "output_type": "stream",
     "text": [
      "/usr/lib64/python3.6/site-packages/sklearn/metrics/scorer.py:137: DeprecationWarning: Scoring method log_loss was renamed to neg_log_loss in version 0.18 and will be removed in 0.20.\n",
      "  sample_weight=sample_weight)\n",
      "/usr/lib64/python3.6/site-packages/sklearn/metrics/scorer.py:137: DeprecationWarning: Scoring method log_loss was renamed to neg_log_loss in version 0.18 and will be removed in 0.20.\n",
      "  sample_weight=sample_weight)\n"
     ]
    },
    {
     "name": "stdout",
     "output_type": "stream",
     "text": [
      "[CV]  subsample=0.8, min_child_weight=5, max_depth=4, gamma=5, colsample_bytree=0.6, score=-0.5282308209159942, total= 6.9min\n",
      "[CV] subsample=0.6, min_child_weight=10, max_depth=7, gamma=50, colsample_bytree=0.8 \n"
     ]
    },
    {
     "name": "stderr",
     "output_type": "stream",
     "text": [
      "/usr/lib64/python3.6/site-packages/sklearn/metrics/scorer.py:137: DeprecationWarning: Scoring method log_loss was renamed to neg_log_loss in version 0.18 and will be removed in 0.20.\n",
      "  sample_weight=sample_weight)\n",
      "/usr/lib64/python3.6/site-packages/sklearn/metrics/scorer.py:137: DeprecationWarning: Scoring method log_loss was renamed to neg_log_loss in version 0.18 and will be removed in 0.20.\n",
      "  sample_weight=sample_weight)\n"
     ]
    },
    {
     "name": "stdout",
     "output_type": "stream",
     "text": [
      "[CV]  subsample=0.6, min_child_weight=10, max_depth=7, gamma=50, colsample_bytree=0.8, score=-0.5283234127014492, total=18.5min\n",
      "[CV] subsample=0.6, min_child_weight=10, max_depth=7, gamma=50, colsample_bytree=0.8 \n"
     ]
    },
    {
     "name": "stderr",
     "output_type": "stream",
     "text": [
      "/usr/lib64/python3.6/site-packages/sklearn/metrics/scorer.py:137: DeprecationWarning: Scoring method log_loss was renamed to neg_log_loss in version 0.18 and will be removed in 0.20.\n",
      "  sample_weight=sample_weight)\n",
      "/usr/lib64/python3.6/site-packages/sklearn/metrics/scorer.py:137: DeprecationWarning: Scoring method log_loss was renamed to neg_log_loss in version 0.18 and will be removed in 0.20.\n",
      "  sample_weight=sample_weight)\n"
     ]
    },
    {
     "name": "stdout",
     "output_type": "stream",
     "text": [
      "[CV]  subsample=0.6, min_child_weight=10, max_depth=7, gamma=50, colsample_bytree=0.8, score=-0.5277404032859795, total=18.2min\n",
      "[CV] subsample=1, min_child_weight=5, max_depth=5, gamma=2, colsample_bytree=0.6 \n"
     ]
    },
    {
     "name": "stderr",
     "output_type": "stream",
     "text": [
      "/usr/lib64/python3.6/site-packages/sklearn/metrics/scorer.py:137: DeprecationWarning: Scoring method log_loss was renamed to neg_log_loss in version 0.18 and will be removed in 0.20.\n",
      "  sample_weight=sample_weight)\n",
      "/usr/lib64/python3.6/site-packages/sklearn/metrics/scorer.py:137: DeprecationWarning: Scoring method log_loss was renamed to neg_log_loss in version 0.18 and will be removed in 0.20.\n",
      "  sample_weight=sample_weight)\n"
     ]
    },
    {
     "name": "stdout",
     "output_type": "stream",
     "text": [
      "[CV]  subsample=0.6, min_child_weight=10, max_depth=7, gamma=50, colsample_bytree=0.8, score=-0.5280253116142352, total=17.7min\n",
      "[CV] subsample=1, min_child_weight=5, max_depth=5, gamma=2, colsample_bytree=0.6 \n"
     ]
    },
    {
     "name": "stderr",
     "output_type": "stream",
     "text": [
      "/usr/lib64/python3.6/site-packages/sklearn/metrics/scorer.py:137: DeprecationWarning: Scoring method log_loss was renamed to neg_log_loss in version 0.18 and will be removed in 0.20.\n",
      "  sample_weight=sample_weight)\n",
      "/usr/lib64/python3.6/site-packages/sklearn/metrics/scorer.py:137: DeprecationWarning: Scoring method log_loss was renamed to neg_log_loss in version 0.18 and will be removed in 0.20.\n",
      "  sample_weight=sample_weight)\n"
     ]
    },
    {
     "name": "stdout",
     "output_type": "stream",
     "text": [
      "[CV]  subsample=0.6, min_child_weight=10, max_depth=7, gamma=50, colsample_bytree=0.8, score=-0.5279120507748859, total=17.7min\n",
      "[CV] subsample=1, min_child_weight=5, max_depth=5, gamma=2, colsample_bytree=0.6 \n"
     ]
    },
    {
     "name": "stderr",
     "output_type": "stream",
     "text": [
      "/usr/lib64/python3.6/site-packages/sklearn/metrics/scorer.py:137: DeprecationWarning: Scoring method log_loss was renamed to neg_log_loss in version 0.18 and will be removed in 0.20.\n",
      "  sample_weight=sample_weight)\n",
      "/usr/lib64/python3.6/site-packages/sklearn/metrics/scorer.py:137: DeprecationWarning: Scoring method log_loss was renamed to neg_log_loss in version 0.18 and will be removed in 0.20.\n",
      "  sample_weight=sample_weight)\n"
     ]
    },
    {
     "name": "stdout",
     "output_type": "stream",
     "text": [
      "[CV]  subsample=1, min_child_weight=5, max_depth=5, gamma=2, colsample_bytree=0.6, score=-0.5095053040742897, total= 6.4min\n",
      "[CV] subsample=1, min_child_weight=5, max_depth=5, gamma=2, colsample_bytree=0.6 \n"
     ]
    },
    {
     "name": "stderr",
     "output_type": "stream",
     "text": [
      "/usr/lib64/python3.6/site-packages/sklearn/metrics/scorer.py:137: DeprecationWarning: Scoring method log_loss was renamed to neg_log_loss in version 0.18 and will be removed in 0.20.\n",
      "  sample_weight=sample_weight)\n",
      "/usr/lib64/python3.6/site-packages/sklearn/metrics/scorer.py:137: DeprecationWarning: Scoring method log_loss was renamed to neg_log_loss in version 0.18 and will be removed in 0.20.\n",
      "  sample_weight=sample_weight)\n"
     ]
    },
    {
     "name": "stdout",
     "output_type": "stream",
     "text": [
      "[CV]  subsample=1, min_child_weight=5, max_depth=5, gamma=2, colsample_bytree=0.6, score=-0.5107549388966987, total= 6.4min\n",
      "[CV] subsample=1, min_child_weight=5, max_depth=5, gamma=2, colsample_bytree=0.6 \n"
     ]
    },
    {
     "name": "stderr",
     "output_type": "stream",
     "text": [
      "/usr/lib64/python3.6/site-packages/sklearn/metrics/scorer.py:137: DeprecationWarning: Scoring method log_loss was renamed to neg_log_loss in version 0.18 and will be removed in 0.20.\n",
      "  sample_weight=sample_weight)\n",
      "/usr/lib64/python3.6/site-packages/sklearn/metrics/scorer.py:137: DeprecationWarning: Scoring method log_loss was renamed to neg_log_loss in version 0.18 and will be removed in 0.20.\n",
      "  sample_weight=sample_weight)\n"
     ]
    },
    {
     "name": "stdout",
     "output_type": "stream",
     "text": [
      "[CV]  subsample=1, min_child_weight=5, max_depth=5, gamma=2, colsample_bytree=0.6, score=-0.5093086114897267, total= 6.4min\n",
      "[CV] subsample=0.6, min_child_weight=1, max_depth=3, gamma=1, colsample_bytree=0.6 \n"
     ]
    },
    {
     "name": "stderr",
     "output_type": "stream",
     "text": [
      "/usr/lib64/python3.6/site-packages/sklearn/metrics/scorer.py:137: DeprecationWarning: Scoring method log_loss was renamed to neg_log_loss in version 0.18 and will be removed in 0.20.\n",
      "  sample_weight=sample_weight)\n",
      "/usr/lib64/python3.6/site-packages/sklearn/metrics/scorer.py:137: DeprecationWarning: Scoring method log_loss was renamed to neg_log_loss in version 0.18 and will be removed in 0.20.\n",
      "  sample_weight=sample_weight)\n"
     ]
    },
    {
     "name": "stdout",
     "output_type": "stream",
     "text": [
      "[CV]  subsample=0.6, min_child_weight=10, max_depth=7, gamma=50, colsample_bytree=0.8, score=-0.5279953113545803, total=15.1min\n",
      "[CV] subsample=0.6, min_child_weight=1, max_depth=3, gamma=1, colsample_bytree=0.6 \n"
     ]
    },
    {
     "name": "stderr",
     "output_type": "stream",
     "text": [
      "/usr/lib64/python3.6/site-packages/sklearn/metrics/scorer.py:137: DeprecationWarning: Scoring method log_loss was renamed to neg_log_loss in version 0.18 and will be removed in 0.20.\n",
      "  sample_weight=sample_weight)\n",
      "/usr/lib64/python3.6/site-packages/sklearn/metrics/scorer.py:137: DeprecationWarning: Scoring method log_loss was renamed to neg_log_loss in version 0.18 and will be removed in 0.20.\n",
      "  sample_weight=sample_weight)\n",
      "/usr/lib64/python3.6/site-packages/sklearn/metrics/scorer.py:137: DeprecationWarning: Scoring method log_loss was renamed to neg_log_loss in version 0.18 and will be removed in 0.20.\n",
      "  sample_weight=sample_weight)\n",
      "/usr/lib64/python3.6/site-packages/sklearn/metrics/scorer.py:137: DeprecationWarning: Scoring method log_loss was renamed to neg_log_loss in version 0.18 and will be removed in 0.20.\n",
      "  sample_weight=sample_weight)\n"
     ]
    },
    {
     "name": "stdout",
     "output_type": "stream",
     "text": [
      "[CV]  subsample=1, min_child_weight=5, max_depth=5, gamma=2, colsample_bytree=0.6, score=-0.5096216225388313, total= 6.4min\n",
      "[CV] subsample=0.6, min_child_weight=1, max_depth=3, gamma=1, colsample_bytree=0.6 \n",
      "[CV]  subsample=0.6, min_child_weight=1, max_depth=3, gamma=1, colsample_bytree=0.6, score=-0.5457829324186755, total= 5.3min\n",
      "[CV] subsample=0.6, min_child_weight=1, max_depth=3, gamma=1, colsample_bytree=0.6 \n"
     ]
    },
    {
     "name": "stderr",
     "output_type": "stream",
     "text": [
      "/usr/lib64/python3.6/site-packages/sklearn/metrics/scorer.py:137: DeprecationWarning: Scoring method log_loss was renamed to neg_log_loss in version 0.18 and will be removed in 0.20.\n",
      "  sample_weight=sample_weight)\n",
      "/usr/lib64/python3.6/site-packages/sklearn/metrics/scorer.py:137: DeprecationWarning: Scoring method log_loss was renamed to neg_log_loss in version 0.18 and will be removed in 0.20.\n",
      "  sample_weight=sample_weight)\n"
     ]
    },
    {
     "name": "stdout",
     "output_type": "stream",
     "text": [
      "[CV]  subsample=1, min_child_weight=5, max_depth=5, gamma=2, colsample_bytree=0.6, score=-0.5107736298182818, total= 6.4min\n",
      "[CV] subsample=0.6, min_child_weight=1, max_depth=3, gamma=1, colsample_bytree=0.6 \n"
     ]
    },
    {
     "name": "stderr",
     "output_type": "stream",
     "text": [
      "/usr/lib64/python3.6/site-packages/sklearn/metrics/scorer.py:137: DeprecationWarning: Scoring method log_loss was renamed to neg_log_loss in version 0.18 and will be removed in 0.20.\n",
      "  sample_weight=sample_weight)\n",
      "/usr/lib64/python3.6/site-packages/sklearn/metrics/scorer.py:137: DeprecationWarning: Scoring method log_loss was renamed to neg_log_loss in version 0.18 and will be removed in 0.20.\n",
      "  sample_weight=sample_weight)\n"
     ]
    },
    {
     "name": "stdout",
     "output_type": "stream",
     "text": [
      "[CV]  subsample=0.6, min_child_weight=1, max_depth=3, gamma=1, colsample_bytree=0.6, score=-0.5458685691036518, total= 5.3min\n",
      "[CV] subsample=0.6, min_child_weight=5, max_depth=7, gamma=1.5, colsample_bytree=0.8 \n"
     ]
    },
    {
     "name": "stderr",
     "output_type": "stream",
     "text": [
      "/usr/lib64/python3.6/site-packages/sklearn/metrics/scorer.py:137: DeprecationWarning: Scoring method log_loss was renamed to neg_log_loss in version 0.18 and will be removed in 0.20.\n",
      "  sample_weight=sample_weight)\n",
      "/usr/lib64/python3.6/site-packages/sklearn/metrics/scorer.py:137: DeprecationWarning: Scoring method log_loss was renamed to neg_log_loss in version 0.18 and will be removed in 0.20.\n",
      "  sample_weight=sample_weight)\n"
     ]
    },
    {
     "name": "stdout",
     "output_type": "stream",
     "text": [
      "[CV]  subsample=0.6, min_child_weight=1, max_depth=3, gamma=1, colsample_bytree=0.6, score=-0.5446412227890491, total= 5.3min\n",
      "[CV] subsample=0.6, min_child_weight=5, max_depth=7, gamma=1.5, colsample_bytree=0.8 \n"
     ]
    },
    {
     "name": "stderr",
     "output_type": "stream",
     "text": [
      "/usr/lib64/python3.6/site-packages/sklearn/metrics/scorer.py:137: DeprecationWarning: Scoring method log_loss was renamed to neg_log_loss in version 0.18 and will be removed in 0.20.\n",
      "  sample_weight=sample_weight)\n",
      "/usr/lib64/python3.6/site-packages/sklearn/metrics/scorer.py:137: DeprecationWarning: Scoring method log_loss was renamed to neg_log_loss in version 0.18 and will be removed in 0.20.\n",
      "  sample_weight=sample_weight)\n"
     ]
    },
    {
     "name": "stdout",
     "output_type": "stream",
     "text": [
      "[CV]  subsample=0.6, min_child_weight=1, max_depth=3, gamma=1, colsample_bytree=0.6, score=-0.5451843275328193, total= 5.4min\n",
      "[CV] subsample=0.6, min_child_weight=5, max_depth=7, gamma=1.5, colsample_bytree=0.8 \n"
     ]
    },
    {
     "name": "stderr",
     "output_type": "stream",
     "text": [
      "/usr/lib64/python3.6/site-packages/sklearn/metrics/scorer.py:137: DeprecationWarning: Scoring method log_loss was renamed to neg_log_loss in version 0.18 and will be removed in 0.20.\n",
      "  sample_weight=sample_weight)\n",
      "/usr/lib64/python3.6/site-packages/sklearn/metrics/scorer.py:137: DeprecationWarning: Scoring method log_loss was renamed to neg_log_loss in version 0.18 and will be removed in 0.20.\n",
      "  sample_weight=sample_weight)\n"
     ]
    },
    {
     "name": "stdout",
     "output_type": "stream",
     "text": [
      "[CV]  subsample=0.6, min_child_weight=1, max_depth=3, gamma=1, colsample_bytree=0.6, score=-0.5462548078291851, total= 5.3min\n",
      "[CV] subsample=0.6, min_child_weight=5, max_depth=7, gamma=1.5, colsample_bytree=0.8 \n"
     ]
    },
    {
     "name": "stderr",
     "output_type": "stream",
     "text": [
      "/usr/lib64/python3.6/site-packages/sklearn/metrics/scorer.py:137: DeprecationWarning: Scoring method log_loss was renamed to neg_log_loss in version 0.18 and will be removed in 0.20.\n",
      "  sample_weight=sample_weight)\n",
      "/usr/lib64/python3.6/site-packages/sklearn/metrics/scorer.py:137: DeprecationWarning: Scoring method log_loss was renamed to neg_log_loss in version 0.18 and will be removed in 0.20.\n",
      "  sample_weight=sample_weight)\n"
     ]
    },
    {
     "name": "stdout",
     "output_type": "stream",
     "text": [
      "[CV]  subsample=0.6, min_child_weight=5, max_depth=7, gamma=1.5, colsample_bytree=0.8, score=-0.4647027183488001, total=15.1min\n",
      "[CV] subsample=0.6, min_child_weight=5, max_depth=7, gamma=1.5, colsample_bytree=0.8 \n"
     ]
    },
    {
     "name": "stderr",
     "output_type": "stream",
     "text": [
      "/usr/lib64/python3.6/site-packages/sklearn/metrics/scorer.py:137: DeprecationWarning: Scoring method log_loss was renamed to neg_log_loss in version 0.18 and will be removed in 0.20.\n",
      "  sample_weight=sample_weight)\n",
      "/usr/lib64/python3.6/site-packages/sklearn/metrics/scorer.py:137: DeprecationWarning: Scoring method log_loss was renamed to neg_log_loss in version 0.18 and will be removed in 0.20.\n",
      "  sample_weight=sample_weight)\n",
      "/usr/lib64/python3.6/site-packages/sklearn/metrics/scorer.py:137: DeprecationWarning: Scoring method log_loss was renamed to neg_log_loss in version 0.18 and will be removed in 0.20.\n",
      "  sample_weight=sample_weight)\n",
      "/usr/lib64/python3.6/site-packages/sklearn/metrics/scorer.py:137: DeprecationWarning: Scoring method log_loss was renamed to neg_log_loss in version 0.18 and will be removed in 0.20.\n",
      "  sample_weight=sample_weight)\n"
     ]
    },
    {
     "name": "stdout",
     "output_type": "stream",
     "text": [
      "[CV]  subsample=0.6, min_child_weight=5, max_depth=7, gamma=1.5, colsample_bytree=0.8, score=-0.46657887438080564, total=15.2min\n",
      "[CV] subsample=1, min_child_weight=1, max_depth=7, gamma=2, colsample_bytree=0.6 \n",
      "[CV]  subsample=0.6, min_child_weight=5, max_depth=7, gamma=1.5, colsample_bytree=0.8, score=-0.46438452502199906, total=15.2min\n",
      "[CV] subsample=1, min_child_weight=1, max_depth=7, gamma=2, colsample_bytree=0.6 \n"
     ]
    },
    {
     "name": "stderr",
     "output_type": "stream",
     "text": [
      "/usr/lib64/python3.6/site-packages/sklearn/metrics/scorer.py:137: DeprecationWarning: Scoring method log_loss was renamed to neg_log_loss in version 0.18 and will be removed in 0.20.\n",
      "  sample_weight=sample_weight)\n",
      "/usr/lib64/python3.6/site-packages/sklearn/metrics/scorer.py:137: DeprecationWarning: Scoring method log_loss was renamed to neg_log_loss in version 0.18 and will be removed in 0.20.\n",
      "  sample_weight=sample_weight)\n"
     ]
    },
    {
     "name": "stdout",
     "output_type": "stream",
     "text": [
      "[CV]  subsample=0.6, min_child_weight=5, max_depth=7, gamma=1.5, colsample_bytree=0.8, score=-0.46687546002129776, total=15.1min\n",
      "[CV] subsample=1, min_child_weight=1, max_depth=7, gamma=2, colsample_bytree=0.6 \n"
     ]
    },
    {
     "name": "stderr",
     "output_type": "stream",
     "text": [
      "/usr/lib64/python3.6/site-packages/sklearn/metrics/scorer.py:137: DeprecationWarning: Scoring method log_loss was renamed to neg_log_loss in version 0.18 and will be removed in 0.20.\n",
      "  sample_weight=sample_weight)\n",
      "/usr/lib64/python3.6/site-packages/sklearn/metrics/scorer.py:137: DeprecationWarning: Scoring method log_loss was renamed to neg_log_loss in version 0.18 and will be removed in 0.20.\n",
      "  sample_weight=sample_weight)\n",
      "/usr/lib64/python3.6/site-packages/sklearn/metrics/scorer.py:137: DeprecationWarning: Scoring method log_loss was renamed to neg_log_loss in version 0.18 and will be removed in 0.20.\n",
      "  sample_weight=sample_weight)\n",
      "/usr/lib64/python3.6/site-packages/sklearn/metrics/scorer.py:137: DeprecationWarning: Scoring method log_loss was renamed to neg_log_loss in version 0.18 and will be removed in 0.20.\n",
      "  sample_weight=sample_weight)\n"
     ]
    },
    {
     "name": "stdout",
     "output_type": "stream",
     "text": [
      "[CV]  subsample=1, min_child_weight=1, max_depth=7, gamma=2, colsample_bytree=0.6, score=-0.46900730768184645, total= 8.8min\n",
      "[CV] subsample=1, min_child_weight=1, max_depth=7, gamma=2, colsample_bytree=0.6 \n",
      "[CV]  subsample=1, min_child_weight=1, max_depth=7, gamma=2, colsample_bytree=0.6, score=-0.47098489751356043, total= 8.7min\n",
      "[CV] subsample=1, min_child_weight=1, max_depth=7, gamma=2, colsample_bytree=0.6 \n"
     ]
    },
    {
     "name": "stderr",
     "output_type": "stream",
     "text": [
      "/usr/lib64/python3.6/site-packages/sklearn/metrics/scorer.py:137: DeprecationWarning: Scoring method log_loss was renamed to neg_log_loss in version 0.18 and will be removed in 0.20.\n",
      "  sample_weight=sample_weight)\n",
      "/usr/lib64/python3.6/site-packages/sklearn/metrics/scorer.py:137: DeprecationWarning: Scoring method log_loss was renamed to neg_log_loss in version 0.18 and will be removed in 0.20.\n",
      "  sample_weight=sample_weight)\n"
     ]
    },
    {
     "name": "stdout",
     "output_type": "stream",
     "text": [
      "[CV]  subsample=1, min_child_weight=1, max_depth=7, gamma=2, colsample_bytree=0.6, score=-0.46970750424008756, total= 8.7min\n",
      "[CV] subsample=0.6, min_child_weight=1, max_depth=3, gamma=0.5, colsample_bytree=0.8 \n"
     ]
    },
    {
     "name": "stderr",
     "output_type": "stream",
     "text": [
      "/usr/lib64/python3.6/site-packages/sklearn/metrics/scorer.py:137: DeprecationWarning: Scoring method log_loss was renamed to neg_log_loss in version 0.18 and will be removed in 0.20.\n",
      "  sample_weight=sample_weight)\n",
      "/usr/lib64/python3.6/site-packages/sklearn/metrics/scorer.py:137: DeprecationWarning: Scoring method log_loss was renamed to neg_log_loss in version 0.18 and will be removed in 0.20.\n",
      "  sample_weight=sample_weight)\n"
     ]
    },
    {
     "name": "stdout",
     "output_type": "stream",
     "text": [
      "[CV]  subsample=0.6, min_child_weight=5, max_depth=7, gamma=1.5, colsample_bytree=0.8, score=-0.4664481300718957, total=15.2min\n",
      "[CV] subsample=0.6, min_child_weight=1, max_depth=3, gamma=0.5, colsample_bytree=0.8 \n"
     ]
    },
    {
     "name": "stderr",
     "output_type": "stream",
     "text": [
      "/usr/lib64/python3.6/site-packages/sklearn/metrics/scorer.py:137: DeprecationWarning: Scoring method log_loss was renamed to neg_log_loss in version 0.18 and will be removed in 0.20.\n",
      "  sample_weight=sample_weight)\n",
      "/usr/lib64/python3.6/site-packages/sklearn/metrics/scorer.py:137: DeprecationWarning: Scoring method log_loss was renamed to neg_log_loss in version 0.18 and will be removed in 0.20.\n",
      "  sample_weight=sample_weight)\n"
     ]
    },
    {
     "name": "stdout",
     "output_type": "stream",
     "text": [
      "[CV]  subsample=0.6, min_child_weight=1, max_depth=3, gamma=0.5, colsample_bytree=0.8, score=-0.5453756568572359, total= 6.8min\n",
      "[CV] subsample=0.6, min_child_weight=1, max_depth=3, gamma=0.5, colsample_bytree=0.8 \n"
     ]
    },
    {
     "name": "stderr",
     "output_type": "stream",
     "text": [
      "/usr/lib64/python3.6/site-packages/sklearn/metrics/scorer.py:137: DeprecationWarning: Scoring method log_loss was renamed to neg_log_loss in version 0.18 and will be removed in 0.20.\n",
      "  sample_weight=sample_weight)\n",
      "/usr/lib64/python3.6/site-packages/sklearn/metrics/scorer.py:137: DeprecationWarning: Scoring method log_loss was renamed to neg_log_loss in version 0.18 and will be removed in 0.20.\n",
      "  sample_weight=sample_weight)\n",
      "/usr/lib64/python3.6/site-packages/sklearn/metrics/scorer.py:137: DeprecationWarning: Scoring method log_loss was renamed to neg_log_loss in version 0.18 and will be removed in 0.20.\n",
      "  sample_weight=sample_weight)\n",
      "/usr/lib64/python3.6/site-packages/sklearn/metrics/scorer.py:137: DeprecationWarning: Scoring method log_loss was renamed to neg_log_loss in version 0.18 and will be removed in 0.20.\n",
      "  sample_weight=sample_weight)\n"
     ]
    },
    {
     "name": "stdout",
     "output_type": "stream",
     "text": [
      "[CV]  subsample=1, min_child_weight=1, max_depth=7, gamma=2, colsample_bytree=0.6, score=-0.4716662819760284, total= 8.8min\n",
      "[CV] subsample=0.6, min_child_weight=1, max_depth=3, gamma=0.5, colsample_bytree=0.8 \n",
      "[CV]  subsample=1, min_child_weight=1, max_depth=7, gamma=2, colsample_bytree=0.6, score=-0.4699342960264985, total= 8.8min\n",
      "[CV] subsample=0.6, min_child_weight=1, max_depth=3, gamma=0.5, colsample_bytree=0.8 \n"
     ]
    },
    {
     "name": "stderr",
     "output_type": "stream",
     "text": [
      "/usr/lib64/python3.6/site-packages/sklearn/metrics/scorer.py:137: DeprecationWarning: Scoring method log_loss was renamed to neg_log_loss in version 0.18 and will be removed in 0.20.\n",
      "  sample_weight=sample_weight)\n",
      "/usr/lib64/python3.6/site-packages/sklearn/metrics/scorer.py:137: DeprecationWarning: Scoring method log_loss was renamed to neg_log_loss in version 0.18 and will be removed in 0.20.\n",
      "  sample_weight=sample_weight)\n"
     ]
    },
    {
     "name": "stdout",
     "output_type": "stream",
     "text": [
      "[CV]  subsample=0.6, min_child_weight=1, max_depth=3, gamma=0.5, colsample_bytree=0.8, score=-0.5453407180144613, total= 6.8min\n",
      "[CV] subsample=1.0, min_child_weight=1, max_depth=4, gamma=5, colsample_bytree=1.0 \n"
     ]
    },
    {
     "name": "stderr",
     "output_type": "stream",
     "text": [
      "/usr/lib64/python3.6/site-packages/sklearn/metrics/scorer.py:137: DeprecationWarning: Scoring method log_loss was renamed to neg_log_loss in version 0.18 and will be removed in 0.20.\n",
      "  sample_weight=sample_weight)\n",
      "/usr/lib64/python3.6/site-packages/sklearn/metrics/scorer.py:137: DeprecationWarning: Scoring method log_loss was renamed to neg_log_loss in version 0.18 and will be removed in 0.20.\n",
      "  sample_weight=sample_weight)\n"
     ]
    },
    {
     "name": "stdout",
     "output_type": "stream",
     "text": [
      "[CV]  subsample=0.6, min_child_weight=1, max_depth=3, gamma=0.5, colsample_bytree=0.8, score=-0.5442427416422946, total= 6.8min\n",
      "[CV] subsample=1.0, min_child_weight=1, max_depth=4, gamma=5, colsample_bytree=1.0 \n"
     ]
    },
    {
     "name": "stderr",
     "output_type": "stream",
     "text": [
      "/usr/lib64/python3.6/site-packages/sklearn/metrics/scorer.py:137: DeprecationWarning: Scoring method log_loss was renamed to neg_log_loss in version 0.18 and will be removed in 0.20.\n",
      "  sample_weight=sample_weight)\n",
      "/usr/lib64/python3.6/site-packages/sklearn/metrics/scorer.py:137: DeprecationWarning: Scoring method log_loss was renamed to neg_log_loss in version 0.18 and will be removed in 0.20.\n",
      "  sample_weight=sample_weight)\n"
     ]
    },
    {
     "name": "stdout",
     "output_type": "stream",
     "text": [
      "[CV]  subsample=0.6, min_child_weight=1, max_depth=3, gamma=0.5, colsample_bytree=0.8, score=-0.5450416948883825, total= 6.8min\n",
      "[CV] subsample=1.0, min_child_weight=1, max_depth=4, gamma=5, colsample_bytree=1.0 \n"
     ]
    },
    {
     "name": "stderr",
     "output_type": "stream",
     "text": [
      "/usr/lib64/python3.6/site-packages/sklearn/metrics/scorer.py:137: DeprecationWarning: Scoring method log_loss was renamed to neg_log_loss in version 0.18 and will be removed in 0.20.\n",
      "  sample_weight=sample_weight)\n",
      "/usr/lib64/python3.6/site-packages/sklearn/metrics/scorer.py:137: DeprecationWarning: Scoring method log_loss was renamed to neg_log_loss in version 0.18 and will be removed in 0.20.\n",
      "  sample_weight=sample_weight)\n"
     ]
    },
    {
     "name": "stdout",
     "output_type": "stream",
     "text": [
      "[CV]  subsample=0.6, min_child_weight=1, max_depth=3, gamma=0.5, colsample_bytree=0.8, score=-0.5458914382393308, total= 6.9min\n",
      "[CV] subsample=1.0, min_child_weight=1, max_depth=4, gamma=5, colsample_bytree=1.0 \n"
     ]
    },
    {
     "name": "stderr",
     "output_type": "stream",
     "text": [
      "/usr/lib64/python3.6/site-packages/sklearn/metrics/scorer.py:137: DeprecationWarning: Scoring method log_loss was renamed to neg_log_loss in version 0.18 and will be removed in 0.20.\n",
      "  sample_weight=sample_weight)\n",
      "/usr/lib64/python3.6/site-packages/sklearn/metrics/scorer.py:137: DeprecationWarning: Scoring method log_loss was renamed to neg_log_loss in version 0.18 and will be removed in 0.20.\n",
      "  sample_weight=sample_weight)\n"
     ]
    },
    {
     "name": "stdout",
     "output_type": "stream",
     "text": [
      "[CV]  subsample=1.0, min_child_weight=1, max_depth=4, gamma=5, colsample_bytree=1.0, score=-0.5281404990319803, total= 8.1min\n",
      "[CV] subsample=1.0, min_child_weight=1, max_depth=4, gamma=5, colsample_bytree=1.0 \n"
     ]
    },
    {
     "name": "stderr",
     "output_type": "stream",
     "text": [
      "/usr/lib64/python3.6/site-packages/sklearn/metrics/scorer.py:137: DeprecationWarning: Scoring method log_loss was renamed to neg_log_loss in version 0.18 and will be removed in 0.20.\n",
      "  sample_weight=sample_weight)\n",
      "/usr/lib64/python3.6/site-packages/sklearn/metrics/scorer.py:137: DeprecationWarning: Scoring method log_loss was renamed to neg_log_loss in version 0.18 and will be removed in 0.20.\n",
      "  sample_weight=sample_weight)\n"
     ]
    },
    {
     "name": "stdout",
     "output_type": "stream",
     "text": [
      "[CV]  subsample=1.0, min_child_weight=1, max_depth=4, gamma=5, colsample_bytree=1.0, score=-0.5287931677254237, total= 8.3min\n",
      "[CV] subsample=0.8, min_child_weight=1, max_depth=5, gamma=5, colsample_bytree=0.6 \n"
     ]
    },
    {
     "name": "stderr",
     "output_type": "stream",
     "text": [
      "/usr/lib64/python3.6/site-packages/sklearn/metrics/scorer.py:137: DeprecationWarning: Scoring method log_loss was renamed to neg_log_loss in version 0.18 and will be removed in 0.20.\n",
      "  sample_weight=sample_weight)\n",
      "/usr/lib64/python3.6/site-packages/sklearn/metrics/scorer.py:137: DeprecationWarning: Scoring method log_loss was renamed to neg_log_loss in version 0.18 and will be removed in 0.20.\n",
      "  sample_weight=sample_weight)\n"
     ]
    },
    {
     "name": "stdout",
     "output_type": "stream",
     "text": [
      "[CV]  subsample=1.0, min_child_weight=1, max_depth=4, gamma=5, colsample_bytree=1.0, score=-0.527660089937759, total= 8.2min\n",
      "[CV] subsample=0.8, min_child_weight=1, max_depth=5, gamma=5, colsample_bytree=0.6 \n"
     ]
    },
    {
     "name": "stderr",
     "output_type": "stream",
     "text": [
      "/usr/lib64/python3.6/site-packages/sklearn/metrics/scorer.py:137: DeprecationWarning: Scoring method log_loss was renamed to neg_log_loss in version 0.18 and will be removed in 0.20.\n",
      "  sample_weight=sample_weight)\n",
      "/usr/lib64/python3.6/site-packages/sklearn/metrics/scorer.py:137: DeprecationWarning: Scoring method log_loss was renamed to neg_log_loss in version 0.18 and will be removed in 0.20.\n",
      "  sample_weight=sample_weight)\n"
     ]
    },
    {
     "name": "stdout",
     "output_type": "stream",
     "text": [
      "[CV]  subsample=1.0, min_child_weight=1, max_depth=4, gamma=5, colsample_bytree=1.0, score=-0.5280282597235045, total= 8.2min\n",
      "[CV] subsample=0.8, min_child_weight=1, max_depth=5, gamma=5, colsample_bytree=0.6 \n"
     ]
    },
    {
     "name": "stderr",
     "output_type": "stream",
     "text": [
      "/usr/lib64/python3.6/site-packages/sklearn/metrics/scorer.py:137: DeprecationWarning: Scoring method log_loss was renamed to neg_log_loss in version 0.18 and will be removed in 0.20.\n",
      "  sample_weight=sample_weight)\n",
      "/usr/lib64/python3.6/site-packages/sklearn/metrics/scorer.py:137: DeprecationWarning: Scoring method log_loss was renamed to neg_log_loss in version 0.18 and will be removed in 0.20.\n",
      "  sample_weight=sample_weight)\n"
     ]
    },
    {
     "name": "stdout",
     "output_type": "stream",
     "text": [
      "[CV]  subsample=1.0, min_child_weight=1, max_depth=4, gamma=5, colsample_bytree=1.0, score=-0.5285811337051836, total= 8.2min\n",
      "[CV] subsample=0.8, min_child_weight=1, max_depth=5, gamma=5, colsample_bytree=0.6 \n"
     ]
    },
    {
     "name": "stderr",
     "output_type": "stream",
     "text": [
      "/usr/lib64/python3.6/site-packages/sklearn/metrics/scorer.py:137: DeprecationWarning: Scoring method log_loss was renamed to neg_log_loss in version 0.18 and will be removed in 0.20.\n",
      "  sample_weight=sample_weight)\n",
      "/usr/lib64/python3.6/site-packages/sklearn/metrics/scorer.py:137: DeprecationWarning: Scoring method log_loss was renamed to neg_log_loss in version 0.18 and will be removed in 0.20.\n",
      "  sample_weight=sample_weight)\n"
     ]
    },
    {
     "name": "stdout",
     "output_type": "stream",
     "text": [
      "[CV]  subsample=0.8, min_child_weight=1, max_depth=5, gamma=5, colsample_bytree=0.6, score=-0.5068190619623316, total= 7.4min\n",
      "[CV] subsample=0.8, min_child_weight=1, max_depth=5, gamma=5, colsample_bytree=0.6 \n"
     ]
    },
    {
     "name": "stderr",
     "output_type": "stream",
     "text": [
      "/usr/lib64/python3.6/site-packages/sklearn/metrics/scorer.py:137: DeprecationWarning: Scoring method log_loss was renamed to neg_log_loss in version 0.18 and will be removed in 0.20.\n",
      "  sample_weight=sample_weight)\n",
      "/usr/lib64/python3.6/site-packages/sklearn/metrics/scorer.py:137: DeprecationWarning: Scoring method log_loss was renamed to neg_log_loss in version 0.18 and will be removed in 0.20.\n",
      "  sample_weight=sample_weight)\n"
     ]
    },
    {
     "name": "stdout",
     "output_type": "stream",
     "text": [
      "[CV]  subsample=0.8, min_child_weight=1, max_depth=5, gamma=5, colsample_bytree=0.6, score=-0.5072383698385129, total= 7.6min\n",
      "[CV] subsample=1, min_child_weight=10, max_depth=5, gamma=0.5, colsample_bytree=1.0 \n"
     ]
    },
    {
     "name": "stderr",
     "output_type": "stream",
     "text": [
      "/usr/lib64/python3.6/site-packages/sklearn/metrics/scorer.py:137: DeprecationWarning: Scoring method log_loss was renamed to neg_log_loss in version 0.18 and will be removed in 0.20.\n",
      "  sample_weight=sample_weight)\n",
      "/usr/lib64/python3.6/site-packages/sklearn/metrics/scorer.py:137: DeprecationWarning: Scoring method log_loss was renamed to neg_log_loss in version 0.18 and will be removed in 0.20.\n",
      "  sample_weight=sample_weight)\n"
     ]
    },
    {
     "name": "stdout",
     "output_type": "stream",
     "text": [
      "[CV]  subsample=0.8, min_child_weight=1, max_depth=5, gamma=5, colsample_bytree=0.6, score=-0.5056649088912789, total= 7.8min\n",
      "[CV] subsample=1, min_child_weight=10, max_depth=5, gamma=0.5, colsample_bytree=1.0 \n"
     ]
    },
    {
     "name": "stderr",
     "output_type": "stream",
     "text": [
      "/usr/lib64/python3.6/site-packages/sklearn/metrics/scorer.py:137: DeprecationWarning: Scoring method log_loss was renamed to neg_log_loss in version 0.18 and will be removed in 0.20.\n",
      "  sample_weight=sample_weight)\n",
      "/usr/lib64/python3.6/site-packages/sklearn/metrics/scorer.py:137: DeprecationWarning: Scoring method log_loss was renamed to neg_log_loss in version 0.18 and will be removed in 0.20.\n",
      "  sample_weight=sample_weight)\n"
     ]
    },
    {
     "name": "stdout",
     "output_type": "stream",
     "text": [
      "[CV]  subsample=0.8, min_child_weight=1, max_depth=5, gamma=5, colsample_bytree=0.6, score=-0.5064637440866674, total= 8.9min\n",
      "[CV] subsample=1, min_child_weight=10, max_depth=5, gamma=0.5, colsample_bytree=1.0 \n"
     ]
    },
    {
     "name": "stderr",
     "output_type": "stream",
     "text": [
      "/usr/lib64/python3.6/site-packages/sklearn/metrics/scorer.py:137: DeprecationWarning: Scoring method log_loss was renamed to neg_log_loss in version 0.18 and will be removed in 0.20.\n",
      "  sample_weight=sample_weight)\n",
      "/usr/lib64/python3.6/site-packages/sklearn/metrics/scorer.py:137: DeprecationWarning: Scoring method log_loss was renamed to neg_log_loss in version 0.18 and will be removed in 0.20.\n",
      "  sample_weight=sample_weight)\n"
     ]
    },
    {
     "name": "stdout",
     "output_type": "stream",
     "text": [
      "[CV]  subsample=0.8, min_child_weight=1, max_depth=5, gamma=5, colsample_bytree=0.6, score=-0.5068452953013427, total= 9.3min\n",
      "[CV] subsample=1, min_child_weight=10, max_depth=5, gamma=0.5, colsample_bytree=1.0 \n"
     ]
    },
    {
     "name": "stderr",
     "output_type": "stream",
     "text": [
      "/usr/lib64/python3.6/site-packages/sklearn/metrics/scorer.py:137: DeprecationWarning: Scoring method log_loss was renamed to neg_log_loss in version 0.18 and will be removed in 0.20.\n",
      "  sample_weight=sample_weight)\n",
      "/usr/lib64/python3.6/site-packages/sklearn/metrics/scorer.py:137: DeprecationWarning: Scoring method log_loss was renamed to neg_log_loss in version 0.18 and will be removed in 0.20.\n",
      "  sample_weight=sample_weight)\n"
     ]
    },
    {
     "name": "stdout",
     "output_type": "stream",
     "text": [
      "[CV]  subsample=1, min_child_weight=10, max_depth=5, gamma=0.5, colsample_bytree=1.0, score=-0.5095300444143361, total=12.2min\n",
      "[CV] subsample=1, min_child_weight=10, max_depth=5, gamma=0.5, colsample_bytree=1.0 \n"
     ]
    },
    {
     "name": "stderr",
     "output_type": "stream",
     "text": [
      "/usr/lib64/python3.6/site-packages/sklearn/metrics/scorer.py:137: DeprecationWarning: Scoring method log_loss was renamed to neg_log_loss in version 0.18 and will be removed in 0.20.\n",
      "  sample_weight=sample_weight)\n",
      "/usr/lib64/python3.6/site-packages/sklearn/metrics/scorer.py:137: DeprecationWarning: Scoring method log_loss was renamed to neg_log_loss in version 0.18 and will be removed in 0.20.\n",
      "  sample_weight=sample_weight)\n"
     ]
    },
    {
     "name": "stdout",
     "output_type": "stream",
     "text": [
      "[CV]  subsample=1, min_child_weight=10, max_depth=5, gamma=0.5, colsample_bytree=1.0, score=-0.512159004137263, total=12.3min\n",
      "[CV] subsample=1, min_child_weight=1, max_depth=4, gamma=50, colsample_bytree=1.0 \n"
     ]
    },
    {
     "name": "stderr",
     "output_type": "stream",
     "text": [
      "/usr/lib64/python3.6/site-packages/sklearn/metrics/scorer.py:137: DeprecationWarning: Scoring method log_loss was renamed to neg_log_loss in version 0.18 and will be removed in 0.20.\n",
      "  sample_weight=sample_weight)\n",
      "/usr/lib64/python3.6/site-packages/sklearn/metrics/scorer.py:137: DeprecationWarning: Scoring method log_loss was renamed to neg_log_loss in version 0.18 and will be removed in 0.20.\n",
      "  sample_weight=sample_weight)\n"
     ]
    },
    {
     "name": "stdout",
     "output_type": "stream",
     "text": [
      "[CV]  subsample=1, min_child_weight=10, max_depth=5, gamma=0.5, colsample_bytree=1.0, score=-0.5092404395032631, total=11.7min\n",
      "[CV] subsample=1, min_child_weight=1, max_depth=4, gamma=50, colsample_bytree=1.0 \n"
     ]
    },
    {
     "name": "stderr",
     "output_type": "stream",
     "text": [
      "/usr/lib64/python3.6/site-packages/sklearn/metrics/scorer.py:137: DeprecationWarning: Scoring method log_loss was renamed to neg_log_loss in version 0.18 and will be removed in 0.20.\n",
      "  sample_weight=sample_weight)\n",
      "/usr/lib64/python3.6/site-packages/sklearn/metrics/scorer.py:137: DeprecationWarning: Scoring method log_loss was renamed to neg_log_loss in version 0.18 and will be removed in 0.20.\n",
      "  sample_weight=sample_weight)\n"
     ]
    },
    {
     "name": "stdout",
     "output_type": "stream",
     "text": [
      "[CV]  subsample=1, min_child_weight=10, max_depth=5, gamma=0.5, colsample_bytree=1.0, score=-0.5125060467378095, total=11.2min\n",
      "[CV] subsample=1, min_child_weight=1, max_depth=4, gamma=50, colsample_bytree=1.0 \n"
     ]
    },
    {
     "name": "stderr",
     "output_type": "stream",
     "text": [
      "/usr/lib64/python3.6/site-packages/sklearn/metrics/scorer.py:137: DeprecationWarning: Scoring method log_loss was renamed to neg_log_loss in version 0.18 and will be removed in 0.20.\n",
      "  sample_weight=sample_weight)\n",
      "/usr/lib64/python3.6/site-packages/sklearn/metrics/scorer.py:137: DeprecationWarning: Scoring method log_loss was renamed to neg_log_loss in version 0.18 and will be removed in 0.20.\n",
      "  sample_weight=sample_weight)\n"
     ]
    },
    {
     "name": "stdout",
     "output_type": "stream",
     "text": [
      "[CV]  subsample=1, min_child_weight=1, max_depth=4, gamma=50, colsample_bytree=1.0, score=-0.5573614880778722, total= 8.6min\n",
      "[CV] subsample=1, min_child_weight=1, max_depth=4, gamma=50, colsample_bytree=1.0 \n"
     ]
    },
    {
     "name": "stderr",
     "output_type": "stream",
     "text": [
      "/usr/lib64/python3.6/site-packages/sklearn/metrics/scorer.py:137: DeprecationWarning: Scoring method log_loss was renamed to neg_log_loss in version 0.18 and will be removed in 0.20.\n",
      "  sample_weight=sample_weight)\n",
      "/usr/lib64/python3.6/site-packages/sklearn/metrics/scorer.py:137: DeprecationWarning: Scoring method log_loss was renamed to neg_log_loss in version 0.18 and will be removed in 0.20.\n",
      "  sample_weight=sample_weight)\n"
     ]
    },
    {
     "name": "stdout",
     "output_type": "stream",
     "text": [
      "[CV]  subsample=1, min_child_weight=10, max_depth=5, gamma=0.5, colsample_bytree=1.0, score=-0.510901805047626, total=10.5min\n",
      "[CV] subsample=1, min_child_weight=1, max_depth=4, gamma=50, colsample_bytree=1.0 \n"
     ]
    },
    {
     "name": "stderr",
     "output_type": "stream",
     "text": [
      "/usr/lib64/python3.6/site-packages/sklearn/metrics/scorer.py:137: DeprecationWarning: Scoring method log_loss was renamed to neg_log_loss in version 0.18 and will be removed in 0.20.\n",
      "  sample_weight=sample_weight)\n",
      "/usr/lib64/python3.6/site-packages/sklearn/metrics/scorer.py:137: DeprecationWarning: Scoring method log_loss was renamed to neg_log_loss in version 0.18 and will be removed in 0.20.\n",
      "  sample_weight=sample_weight)\n"
     ]
    },
    {
     "name": "stdout",
     "output_type": "stream",
     "text": [
      "[CV]  subsample=1, min_child_weight=1, max_depth=4, gamma=50, colsample_bytree=1.0, score=-0.5553082442448019, total= 8.3min\n"
     ]
    },
    {
     "name": "stderr",
     "output_type": "stream",
     "text": [
      "/usr/lib64/python3.6/site-packages/sklearn/metrics/scorer.py:137: DeprecationWarning: Scoring method log_loss was renamed to neg_log_loss in version 0.18 and will be removed in 0.20.\n",
      "  sample_weight=sample_weight)\n",
      "/usr/lib64/python3.6/site-packages/sklearn/metrics/scorer.py:137: DeprecationWarning: Scoring method log_loss was renamed to neg_log_loss in version 0.18 and will be removed in 0.20.\n",
      "  sample_weight=sample_weight)\n"
     ]
    },
    {
     "name": "stdout",
     "output_type": "stream",
     "text": [
      "[CV]  subsample=1, min_child_weight=1, max_depth=4, gamma=50, colsample_bytree=1.0, score=-0.5509382584357992, total= 8.3min\n"
     ]
    },
    {
     "name": "stderr",
     "output_type": "stream",
     "text": [
      "/usr/lib64/python3.6/site-packages/sklearn/metrics/scorer.py:137: DeprecationWarning: Scoring method log_loss was renamed to neg_log_loss in version 0.18 and will be removed in 0.20.\n",
      "  sample_weight=sample_weight)\n",
      "/usr/lib64/python3.6/site-packages/sklearn/metrics/scorer.py:137: DeprecationWarning: Scoring method log_loss was renamed to neg_log_loss in version 0.18 and will be removed in 0.20.\n",
      "  sample_weight=sample_weight)\n"
     ]
    },
    {
     "name": "stdout",
     "output_type": "stream",
     "text": [
      "[CV]  subsample=1, min_child_weight=1, max_depth=4, gamma=50, colsample_bytree=1.0, score=-0.5493377145875471, total= 8.3min\n"
     ]
    },
    {
     "name": "stderr",
     "output_type": "stream",
     "text": [
      "/usr/lib64/python3.6/site-packages/sklearn/metrics/scorer.py:137: DeprecationWarning: Scoring method log_loss was renamed to neg_log_loss in version 0.18 and will be removed in 0.20.\n",
      "  sample_weight=sample_weight)\n",
      "/usr/lib64/python3.6/site-packages/sklearn/metrics/scorer.py:137: DeprecationWarning: Scoring method log_loss was renamed to neg_log_loss in version 0.18 and will be removed in 0.20.\n",
      "  sample_weight=sample_weight)\n"
     ]
    },
    {
     "name": "stdout",
     "output_type": "stream",
     "text": [
      "[CV]  subsample=1, min_child_weight=1, max_depth=4, gamma=50, colsample_bytree=1.0, score=-0.5564494757191341, total= 8.3min\n"
     ]
    },
    {
     "name": "stderr",
     "output_type": "stream",
     "text": [
      "[Parallel(n_jobs=4)]: Done 240 out of 240 | elapsed: 608.5min finished\n"
     ]
    },
    {
     "name": "stdout",
     "output_type": "stream",
     "text": [
      "37381.35893654823\n"
     ]
    }
   ],
   "source": [
    "from sklearn.model_selection import RandomizedSearchCV, GridSearchCV\n",
    "from sklearn.metrics import log_loss\n",
    "from sklearn.model_selection import StratifiedKFold\n",
    "from xgboost import XGBClassifier\n",
    "t1 = time.time()\n",
    "folds = 5\n",
    "param_comb = 48\n",
    "\n",
    "skf = StratifiedKFold(n_splits=folds, shuffle = True, random_state = 1001)\n",
    "\n",
    "random_search = RandomizedSearchCV(xgb, param_distributions=params, n_iter=param_comb, scoring='log_loss', \n",
    "                                   n_jobs=4, cv=skf.split(X_train,y_train), verbose=3, random_state=1001 )\n",
    "random_search.fit(X_train, y_train)\n",
    "t2 = time.time()\n",
    "print(t2-t1)"
   ]
  },
  {
   "cell_type": "code",
   "execution_count": 57,
   "metadata": {},
   "outputs": [],
   "source": [
    "pred=random_search.predict_proba(X_valid)"
   ]
  },
  {
   "cell_type": "code",
   "execution_count": 60,
   "metadata": {},
   "outputs": [
    {
     "data": {
      "text/plain": [
       "0.4617411278490974"
      ]
     },
     "execution_count": 60,
     "metadata": {},
     "output_type": "execute_result"
    }
   ],
   "source": [
    "log_loss(y_valid,pred[:,1])"
   ]
  },
  {
   "cell_type": "code",
   "execution_count": 62,
   "metadata": {},
   "outputs": [],
   "source": [
    "pred=random_search.predict_proba(test)\n",
    "submit=pd.DataFrame()\n",
    "submit['INNOVATION_CHALLENGE_KEY'] = test_ids\n",
    "submit['RENEWAL_PROBABLIITY']=pred[:,1]\n",
    "submit=submit.sort_values('INNOVATION_CHALLENGE_KEY')\n",
    "submit.to_csv('Grid Search.csv',index=False)"
   ]
  },
  {
   "cell_type": "code",
   "execution_count": 63,
   "metadata": {},
   "outputs": [
    {
     "name": "stderr",
     "output_type": "stream",
     "text": [
      "/usr/lib64/python3.6/site-packages/sklearn/utils/deprecation.py:122: FutureWarning: You are accessing a training score ('mean_train_score'), which will not be available by default any more in 0.21. If you need training scores, please set return_train_score=True\n",
      "  warnings.warn(*warn_args, **warn_kwargs)\n",
      "/usr/lib64/python3.6/site-packages/sklearn/utils/deprecation.py:122: FutureWarning: You are accessing a training score ('split0_train_score'), which will not be available by default any more in 0.21. If you need training scores, please set return_train_score=True\n",
      "  warnings.warn(*warn_args, **warn_kwargs)\n",
      "/usr/lib64/python3.6/site-packages/sklearn/utils/deprecation.py:122: FutureWarning: You are accessing a training score ('split1_train_score'), which will not be available by default any more in 0.21. If you need training scores, please set return_train_score=True\n",
      "  warnings.warn(*warn_args, **warn_kwargs)\n",
      "/usr/lib64/python3.6/site-packages/sklearn/utils/deprecation.py:122: FutureWarning: You are accessing a training score ('split2_train_score'), which will not be available by default any more in 0.21. If you need training scores, please set return_train_score=True\n",
      "  warnings.warn(*warn_args, **warn_kwargs)\n",
      "/usr/lib64/python3.6/site-packages/sklearn/utils/deprecation.py:122: FutureWarning: You are accessing a training score ('split3_train_score'), which will not be available by default any more in 0.21. If you need training scores, please set return_train_score=True\n",
      "  warnings.warn(*warn_args, **warn_kwargs)\n",
      "/usr/lib64/python3.6/site-packages/sklearn/utils/deprecation.py:122: FutureWarning: You are accessing a training score ('split4_train_score'), which will not be available by default any more in 0.21. If you need training scores, please set return_train_score=True\n",
      "  warnings.warn(*warn_args, **warn_kwargs)\n",
      "/usr/lib64/python3.6/site-packages/sklearn/utils/deprecation.py:122: FutureWarning: You are accessing a training score ('std_train_score'), which will not be available by default any more in 0.21. If you need training scores, please set return_train_score=True\n",
      "  warnings.warn(*warn_args, **warn_kwargs)\n"
     ]
    },
    {
     "data": {
      "text/plain": [
       "{'mean_fit_time': array([ 311.92635932,  436.82635903,  602.85464277,  653.18809857,\n",
       "         412.23615918,  316.66656637,  317.52594929,  506.55027509,\n",
       "         382.40814905,  809.97918673,  531.90329709,  275.92137566,\n",
       "         701.73468118,  505.33192415,  835.21034122,  507.33179369,\n",
       "         356.19905243,  960.82396622,  907.73616023,  351.03285661,\n",
       "        1141.79867511,  660.50337672,  779.97828355,  316.94763155,\n",
       "         506.32481289,  908.66871333,  697.52709365,  734.14413619,\n",
       "         730.43130641, 1281.1035912 ,  543.57709599,  396.43530741,\n",
       "         857.90261121,  555.98360982,  839.41771393,  494.89345622,\n",
       "         415.2794837 ,  393.08209171, 1045.41535535,  382.42153683,\n",
       "         318.79163818,  908.56743641,  524.42543492,  407.33927479,\n",
       "         491.32956724,  490.94570913,  693.09625607,  499.69667439]),\n",
       " 'mean_score_time': array([1.26853242, 1.4601027 , 1.62278156, 1.1805512 , 1.10804505,\n",
       "        0.89735355, 0.90081263, 1.54912925, 1.59802852, 1.57820935,\n",
       "        1.19729376, 0.79757719, 2.5282155 , 1.35123067, 2.48298826,\n",
       "        1.35085468, 1.16666231, 2.32044158, 1.86965652, 0.92302709,\n",
       "        2.19330025, 1.48062916, 2.22913847, 0.89017944, 1.54408493,\n",
       "        2.19275093, 1.53662138, 1.52330728, 1.24400811, 2.72427201,\n",
       "        2.15630636, 1.19080997, 2.44144897, 1.47722068, 2.41492333,\n",
       "        1.38266206, 1.46784863, 1.37019477, 1.37545662, 1.54642639,\n",
       "        0.88463998, 2.17156858, 2.16928415, 0.92390251, 1.19871202,\n",
       "        1.92689109, 1.6180912 , 0.56736255]),\n",
       " 'mean_test_score': array([-0.52947879, -0.5202909 , -0.50858971, -0.52597412, -0.53189115,\n",
       "        -0.54590806, -0.54600463, -0.50765659, -0.51154919, -0.50792465,\n",
       "        -0.52657433, -0.55012775, -0.46247097, -0.52488901, -0.46925785,\n",
       "        -0.52540523, -0.5266673 , -0.46895956, -0.50771955, -0.54591697,\n",
       "        -0.50490942, -0.51607526, -0.47015283, -0.54593464, -0.50936849,\n",
       "        -0.47412371, -0.51712788, -0.52611147, -0.52583256, -0.46935456,\n",
       "        -0.47496389, -0.52915508, -0.50839019, -0.52710816, -0.46247097,\n",
       "        -0.53189115, -0.52825721, -0.5277058 , -0.5279993 , -0.50999282,\n",
       "        -0.54554637, -0.46579793, -0.47026005, -0.54517845, -0.52824063,\n",
       "        -0.50660628, -0.51086746, -0.55387905]),\n",
       " 'mean_train_score': array([-0.52604909, -0.5162455 , -0.50214399, -0.52205439, -0.52891202,\n",
       "        -0.5437959 , -0.54391917, -0.50136111, -0.50586223, -0.50201898,\n",
       "        -0.52278666, -0.54839953, -0.44678427, -0.52151337, -0.45460305,\n",
       "        -0.52203749, -0.52269466, -0.45543573, -0.50256919, -0.54364473,\n",
       "        -0.49954705, -0.5114708 , -0.45707388, -0.54379127, -0.50338244,\n",
       "        -0.4628776 , -0.51295407, -0.5224802 , -0.52192244, -0.4558556 ,\n",
       "        -0.46280798, -0.52541465, -0.50346914, -0.52350897, -0.44678427,\n",
       "        -0.52891202, -0.52466146, -0.52395916, -0.52497959, -0.50410356,\n",
       "        -0.54338711, -0.45146832, -0.45629942, -0.54291069, -0.52431603,\n",
       "        -0.50010492, -0.50500104, -0.55257945]),\n",
       " 'param_colsample_bytree': masked_array(data=[0.6, 0.6, 1.0, 1.0, 0.6, 0.6, 0.6, 0.6, 0.6, 1.0, 0.8,\n",
       "                    0.6, 0.6, 0.6, 1.0, 0.6, 0.6, 1.0, 0.8, 0.8, 1.0, 0.8,\n",
       "                    0.8, 0.6, 0.6, 0.8, 0.8, 1.0, 1.0, 1.0, 0.6, 0.8, 0.6,\n",
       "                    0.8, 0.6, 0.6, 0.6, 0.6, 0.8, 0.6, 0.6, 0.8, 0.6, 0.8,\n",
       "                    1.0, 0.6, 1.0, 1.0],\n",
       "              mask=[False, False, False, False, False, False, False, False,\n",
       "                    False, False, False, False, False, False, False, False,\n",
       "                    False, False, False, False, False, False, False, False,\n",
       "                    False, False, False, False, False, False, False, False,\n",
       "                    False, False, False, False, False, False, False, False,\n",
       "                    False, False, False, False, False, False, False, False],\n",
       "        fill_value='?',\n",
       "             dtype=object),\n",
       " 'param_gamma': masked_array(data=[10, 30, 1, 2, 20, 2, 1.5, 2, 1, 10, 0.5, 30, 0.5, 30,\n",
       "                    1, 30, 1, 1.5, 30, 1, 30, 20, 0.5, 0.5, 2, 10, 50, 15,\n",
       "                    0.5, 2, 1.5, 2, 30, 15, 0.5, 20, 10, 5, 50, 2, 1, 1.5,\n",
       "                    2, 0.5, 5, 5, 0.5, 50],\n",
       "              mask=[False, False, False, False, False, False, False, False,\n",
       "                    False, False, False, False, False, False, False, False,\n",
       "                    False, False, False, False, False, False, False, False,\n",
       "                    False, False, False, False, False, False, False, False,\n",
       "                    False, False, False, False, False, False, False, False,\n",
       "                    False, False, False, False, False, False, False, False],\n",
       "        fill_value='?',\n",
       "             dtype=object),\n",
       " 'param_max_depth': masked_array(data=[4, 5, 5, 4, 4, 3, 3, 5, 5, 5, 4, 3, 7, 5, 7, 5, 4, 7,\n",
       "                    7, 3, 7, 5, 7, 3, 5, 7, 7, 4, 4, 7, 7, 4, 7, 4, 7, 4,\n",
       "                    4, 4, 7, 5, 3, 7, 7, 3, 4, 5, 5, 4],\n",
       "              mask=[False, False, False, False, False, False, False, False,\n",
       "                    False, False, False, False, False, False, False, False,\n",
       "                    False, False, False, False, False, False, False, False,\n",
       "                    False, False, False, False, False, False, False, False,\n",
       "                    False, False, False, False, False, False, False, False,\n",
       "                    False, False, False, False, False, False, False, False],\n",
       "        fill_value='?',\n",
       "             dtype=object),\n",
       " 'param_min_child_weight': masked_array(data=[1, 1, 1, 10, 10, 5, 5, 5, 10, 10, 10, 5, 1, 1, 1, 5, 1,\n",
       "                    10, 10, 1, 1, 10, 10, 5, 10, 5, 1, 1, 10, 10, 10, 5, 1,\n",
       "                    1, 1, 10, 5, 5, 10, 5, 1, 5, 1, 1, 1, 1, 10, 1],\n",
       "              mask=[False, False, False, False, False, False, False, False,\n",
       "                    False, False, False, False, False, False, False, False,\n",
       "                    False, False, False, False, False, False, False, False,\n",
       "                    False, False, False, False, False, False, False, False,\n",
       "                    False, False, False, False, False, False, False, False,\n",
       "                    False, False, False, False, False, False, False, False],\n",
       "        fill_value='?',\n",
       "             dtype=object),\n",
       " 'param_subsample': masked_array(data=[1, 0.8, 1, 0.6, 0.6, 0.6, 0.6, 0.6, 1, 0.6, 0.6, 0.8,\n",
       "                    0.6, 0.6, 1.0, 0.6, 0.8, 0.8, 0.6, 0.8, 0.6, 0.6, 0.8,\n",
       "                    0.6, 0.6, 0.6, 1, 0.6, 0.6, 0.6, 1, 1, 0.6, 0.8, 0.6,\n",
       "                    0.6, 0.8, 0.8, 0.6, 1, 0.6, 0.6, 1, 0.6, 1.0, 0.8, 1,\n",
       "                    1],\n",
       "              mask=[False, False, False, False, False, False, False, False,\n",
       "                    False, False, False, False, False, False, False, False,\n",
       "                    False, False, False, False, False, False, False, False,\n",
       "                    False, False, False, False, False, False, False, False,\n",
       "                    False, False, False, False, False, False, False, False,\n",
       "                    False, False, False, False, False, False, False, False],\n",
       "        fill_value='?',\n",
       "             dtype=object),\n",
       " 'params': [{'colsample_bytree': 0.6,\n",
       "   'gamma': 10,\n",
       "   'max_depth': 4,\n",
       "   'min_child_weight': 1,\n",
       "   'subsample': 1},\n",
       "  {'colsample_bytree': 0.6,\n",
       "   'gamma': 30,\n",
       "   'max_depth': 5,\n",
       "   'min_child_weight': 1,\n",
       "   'subsample': 0.8},\n",
       "  {'colsample_bytree': 1.0,\n",
       "   'gamma': 1,\n",
       "   'max_depth': 5,\n",
       "   'min_child_weight': 1,\n",
       "   'subsample': 1},\n",
       "  {'colsample_bytree': 1.0,\n",
       "   'gamma': 2,\n",
       "   'max_depth': 4,\n",
       "   'min_child_weight': 10,\n",
       "   'subsample': 0.6},\n",
       "  {'colsample_bytree': 0.6,\n",
       "   'gamma': 20,\n",
       "   'max_depth': 4,\n",
       "   'min_child_weight': 10,\n",
       "   'subsample': 0.6},\n",
       "  {'colsample_bytree': 0.6,\n",
       "   'gamma': 2,\n",
       "   'max_depth': 3,\n",
       "   'min_child_weight': 5,\n",
       "   'subsample': 0.6},\n",
       "  {'colsample_bytree': 0.6,\n",
       "   'gamma': 1.5,\n",
       "   'max_depth': 3,\n",
       "   'min_child_weight': 5,\n",
       "   'subsample': 0.6},\n",
       "  {'colsample_bytree': 0.6,\n",
       "   'gamma': 2,\n",
       "   'max_depth': 5,\n",
       "   'min_child_weight': 5,\n",
       "   'subsample': 0.6},\n",
       "  {'colsample_bytree': 0.6,\n",
       "   'gamma': 1,\n",
       "   'max_depth': 5,\n",
       "   'min_child_weight': 10,\n",
       "   'subsample': 1},\n",
       "  {'colsample_bytree': 1.0,\n",
       "   'gamma': 10,\n",
       "   'max_depth': 5,\n",
       "   'min_child_weight': 10,\n",
       "   'subsample': 0.6},\n",
       "  {'colsample_bytree': 0.8,\n",
       "   'gamma': 0.5,\n",
       "   'max_depth': 4,\n",
       "   'min_child_weight': 10,\n",
       "   'subsample': 0.6},\n",
       "  {'colsample_bytree': 0.6,\n",
       "   'gamma': 30,\n",
       "   'max_depth': 3,\n",
       "   'min_child_weight': 5,\n",
       "   'subsample': 0.8},\n",
       "  {'colsample_bytree': 0.6,\n",
       "   'gamma': 0.5,\n",
       "   'max_depth': 7,\n",
       "   'min_child_weight': 1,\n",
       "   'subsample': 0.6},\n",
       "  {'colsample_bytree': 0.6,\n",
       "   'gamma': 30,\n",
       "   'max_depth': 5,\n",
       "   'min_child_weight': 1,\n",
       "   'subsample': 0.6},\n",
       "  {'colsample_bytree': 1.0,\n",
       "   'gamma': 1,\n",
       "   'max_depth': 7,\n",
       "   'min_child_weight': 1,\n",
       "   'subsample': 1.0},\n",
       "  {'colsample_bytree': 0.6,\n",
       "   'gamma': 30,\n",
       "   'max_depth': 5,\n",
       "   'min_child_weight': 5,\n",
       "   'subsample': 0.6},\n",
       "  {'colsample_bytree': 0.6,\n",
       "   'gamma': 1,\n",
       "   'max_depth': 4,\n",
       "   'min_child_weight': 1,\n",
       "   'subsample': 0.8},\n",
       "  {'colsample_bytree': 1.0,\n",
       "   'gamma': 1.5,\n",
       "   'max_depth': 7,\n",
       "   'min_child_weight': 10,\n",
       "   'subsample': 0.8},\n",
       "  {'colsample_bytree': 0.8,\n",
       "   'gamma': 30,\n",
       "   'max_depth': 7,\n",
       "   'min_child_weight': 10,\n",
       "   'subsample': 0.6},\n",
       "  {'colsample_bytree': 0.8,\n",
       "   'gamma': 1,\n",
       "   'max_depth': 3,\n",
       "   'min_child_weight': 1,\n",
       "   'subsample': 0.8},\n",
       "  {'colsample_bytree': 1.0,\n",
       "   'gamma': 30,\n",
       "   'max_depth': 7,\n",
       "   'min_child_weight': 1,\n",
       "   'subsample': 0.6},\n",
       "  {'colsample_bytree': 0.8,\n",
       "   'gamma': 20,\n",
       "   'max_depth': 5,\n",
       "   'min_child_weight': 10,\n",
       "   'subsample': 0.6},\n",
       "  {'colsample_bytree': 0.8,\n",
       "   'gamma': 0.5,\n",
       "   'max_depth': 7,\n",
       "   'min_child_weight': 10,\n",
       "   'subsample': 0.8},\n",
       "  {'colsample_bytree': 0.6,\n",
       "   'gamma': 0.5,\n",
       "   'max_depth': 3,\n",
       "   'min_child_weight': 5,\n",
       "   'subsample': 0.6},\n",
       "  {'colsample_bytree': 0.6,\n",
       "   'gamma': 2,\n",
       "   'max_depth': 5,\n",
       "   'min_child_weight': 10,\n",
       "   'subsample': 0.6},\n",
       "  {'colsample_bytree': 0.8,\n",
       "   'gamma': 10,\n",
       "   'max_depth': 7,\n",
       "   'min_child_weight': 5,\n",
       "   'subsample': 0.6},\n",
       "  {'colsample_bytree': 0.8,\n",
       "   'gamma': 50,\n",
       "   'max_depth': 7,\n",
       "   'min_child_weight': 1,\n",
       "   'subsample': 1},\n",
       "  {'colsample_bytree': 1.0,\n",
       "   'gamma': 15,\n",
       "   'max_depth': 4,\n",
       "   'min_child_weight': 1,\n",
       "   'subsample': 0.6},\n",
       "  {'colsample_bytree': 1.0,\n",
       "   'gamma': 0.5,\n",
       "   'max_depth': 4,\n",
       "   'min_child_weight': 10,\n",
       "   'subsample': 0.6},\n",
       "  {'colsample_bytree': 1.0,\n",
       "   'gamma': 2,\n",
       "   'max_depth': 7,\n",
       "   'min_child_weight': 10,\n",
       "   'subsample': 0.6},\n",
       "  {'colsample_bytree': 0.6,\n",
       "   'gamma': 1.5,\n",
       "   'max_depth': 7,\n",
       "   'min_child_weight': 10,\n",
       "   'subsample': 1},\n",
       "  {'colsample_bytree': 0.8,\n",
       "   'gamma': 2,\n",
       "   'max_depth': 4,\n",
       "   'min_child_weight': 5,\n",
       "   'subsample': 1},\n",
       "  {'colsample_bytree': 0.6,\n",
       "   'gamma': 30,\n",
       "   'max_depth': 7,\n",
       "   'min_child_weight': 1,\n",
       "   'subsample': 0.6},\n",
       "  {'colsample_bytree': 0.8,\n",
       "   'gamma': 15,\n",
       "   'max_depth': 4,\n",
       "   'min_child_weight': 1,\n",
       "   'subsample': 0.8},\n",
       "  {'colsample_bytree': 0.6,\n",
       "   'gamma': 0.5,\n",
       "   'max_depth': 7,\n",
       "   'min_child_weight': 1,\n",
       "   'subsample': 0.6},\n",
       "  {'colsample_bytree': 0.6,\n",
       "   'gamma': 20,\n",
       "   'max_depth': 4,\n",
       "   'min_child_weight': 10,\n",
       "   'subsample': 0.6},\n",
       "  {'colsample_bytree': 0.6,\n",
       "   'gamma': 10,\n",
       "   'max_depth': 4,\n",
       "   'min_child_weight': 5,\n",
       "   'subsample': 0.8},\n",
       "  {'colsample_bytree': 0.6,\n",
       "   'gamma': 5,\n",
       "   'max_depth': 4,\n",
       "   'min_child_weight': 5,\n",
       "   'subsample': 0.8},\n",
       "  {'colsample_bytree': 0.8,\n",
       "   'gamma': 50,\n",
       "   'max_depth': 7,\n",
       "   'min_child_weight': 10,\n",
       "   'subsample': 0.6},\n",
       "  {'colsample_bytree': 0.6,\n",
       "   'gamma': 2,\n",
       "   'max_depth': 5,\n",
       "   'min_child_weight': 5,\n",
       "   'subsample': 1},\n",
       "  {'colsample_bytree': 0.6,\n",
       "   'gamma': 1,\n",
       "   'max_depth': 3,\n",
       "   'min_child_weight': 1,\n",
       "   'subsample': 0.6},\n",
       "  {'colsample_bytree': 0.8,\n",
       "   'gamma': 1.5,\n",
       "   'max_depth': 7,\n",
       "   'min_child_weight': 5,\n",
       "   'subsample': 0.6},\n",
       "  {'colsample_bytree': 0.6,\n",
       "   'gamma': 2,\n",
       "   'max_depth': 7,\n",
       "   'min_child_weight': 1,\n",
       "   'subsample': 1},\n",
       "  {'colsample_bytree': 0.8,\n",
       "   'gamma': 0.5,\n",
       "   'max_depth': 3,\n",
       "   'min_child_weight': 1,\n",
       "   'subsample': 0.6},\n",
       "  {'colsample_bytree': 1.0,\n",
       "   'gamma': 5,\n",
       "   'max_depth': 4,\n",
       "   'min_child_weight': 1,\n",
       "   'subsample': 1.0},\n",
       "  {'colsample_bytree': 0.6,\n",
       "   'gamma': 5,\n",
       "   'max_depth': 5,\n",
       "   'min_child_weight': 1,\n",
       "   'subsample': 0.8},\n",
       "  {'colsample_bytree': 1.0,\n",
       "   'gamma': 0.5,\n",
       "   'max_depth': 5,\n",
       "   'min_child_weight': 10,\n",
       "   'subsample': 1},\n",
       "  {'colsample_bytree': 1.0,\n",
       "   'gamma': 50,\n",
       "   'max_depth': 4,\n",
       "   'min_child_weight': 1,\n",
       "   'subsample': 1}],\n",
       " 'rank_test_score': array([38, 24, 17, 28, 39, 43, 46, 13, 21, 15, 30, 47,  1, 25,  5, 26, 31,\n",
       "         4, 14, 44, 11, 22,  7, 45, 18,  9, 23, 29, 27,  6, 10, 37, 16, 32,\n",
       "         1, 39, 36, 33, 34, 19, 42,  3,  8, 41, 35, 12, 20, 48],\n",
       "       dtype=int32),\n",
       " 'split0_test_score': array([-0.52969793, -0.5206574 , -0.50785908, -0.52656211, -0.53242047,\n",
       "        -0.54628651, -0.54660045, -0.5072409 , -0.51075211, -0.50792998,\n",
       "        -0.52693825, -0.55116389, -0.46123766, -0.52544833, -0.46876312,\n",
       "        -0.52563354, -0.52713135, -0.46930898, -0.50820451, -0.54647376,\n",
       "        -0.50486902, -0.51674128, -0.46937061, -0.54633769, -0.50954578,\n",
       "        -0.47375565, -0.51642582, -0.52680206, -0.52649397, -0.46885739,\n",
       "        -0.47379645, -0.52919017, -0.50840005, -0.52711626, -0.46123766,\n",
       "        -0.53242047, -0.52863612, -0.528102  , -0.52832341, -0.5095053 ,\n",
       "        -0.54578293, -0.46470272, -0.46900731, -0.54537566, -0.5281405 ,\n",
       "        -0.50681906, -0.50953004, -0.55736149]),\n",
       " 'split0_train_score': array([-0.52499463, -0.51559068, -0.50021228, -0.52177262, -0.52856875,\n",
       "        -0.54341768, -0.5437811 , -0.50003518, -0.50397298, -0.50122986,\n",
       "        -0.52222834, -0.54860032, -0.44496479, -0.52111542, -0.45323316,\n",
       "        -0.52129705, -0.52206092, -0.45502626, -0.5026377 , -0.54339282,\n",
       "        -0.4989572 , -0.51128187, -0.45592501, -0.54347971, -0.50275774,\n",
       "        -0.46239444, -0.51148964, -0.52222007, -0.5216791 , -0.45515817,\n",
       "        -0.46062426, -0.52413724, -0.50292945, -0.52251949, -0.44496479,\n",
       "        -0.52856875, -0.52400893, -0.52330744, -0.52451385, -0.50264667,\n",
       "        -0.54282748, -0.44993881, -0.45438653, -0.54226542, -0.52278217,\n",
       "        -0.49919804, -0.50250341, -0.5554592 ]),\n",
       " 'split1_test_score': array([-0.52980826, -0.52070593, -0.50853369, -0.52586236, -0.53219801,\n",
       "        -0.54635519, -0.54627674, -0.50846272, -0.51232903, -0.50807634,\n",
       "        -0.52702106, -0.54993078, -0.4626483 , -0.52518575, -0.47016343,\n",
       "        -0.52586045, -0.52706667, -0.46910956, -0.5076767 , -0.54583802,\n",
       "        -0.5054962 , -0.51682969, -0.47051273, -0.54633527, -0.50936768,\n",
       "        -0.47447944, -0.5166351 , -0.52624083, -0.52614321, -0.46933487,\n",
       "        -0.47546258, -0.52996333, -0.50785994, -0.52746496, -0.4626483 ,\n",
       "        -0.53219801, -0.52849954, -0.52822708, -0.5277404 , -0.51075494,\n",
       "        -0.54586857, -0.46657887, -0.4709849 , -0.54534072, -0.52879317,\n",
       "        -0.50723837, -0.512159  , -0.55530824]),\n",
       " 'split1_train_score': array([-0.52565382, -0.51553367, -0.50070242, -0.52107337, -0.5284072 ,\n",
       "        -0.54380518, -0.54374864, -0.50089355, -0.50550237, -0.50089644,\n",
       "        -0.52229861, -0.54781325, -0.44581729, -0.52078684, -0.45419885,\n",
       "        -0.52145859, -0.52217943, -0.4538949 , -0.50120963, -0.543401  ,\n",
       "        -0.49880197, -0.51100327, -0.45589612, -0.54372455, -0.50206291,\n",
       "        -0.46159735, -0.51119642, -0.5217484 , -0.52128568, -0.45408869,\n",
       "        -0.46193553, -0.52546303, -0.50170452, -0.5230442 , -0.44581729,\n",
       "        -0.5284072 , -0.52393434, -0.52351342, -0.52398083, -0.50354185,\n",
       "        -0.54328684, -0.4510774 , -0.45520291, -0.54270049, -0.52401136,\n",
       "        -0.49956953, -0.50484226, -0.55398128]),\n",
       " 'split2_test_score': array([-0.52800143, -0.51914212, -0.50740029, -0.52486757, -0.53077738,\n",
       "        -0.54511291, -0.54498215, -0.50692867, -0.51099023, -0.50692701,\n",
       "        -0.52549359, -0.5492289 , -0.46168257, -0.52409853, -0.46785548,\n",
       "        -0.52462432, -0.52565553, -0.46747229, -0.50696609, -0.545199  ,\n",
       "        -0.50423954, -0.51479676, -0.46895808, -0.54498069, -0.50851217,\n",
       "        -0.47220052, -0.51615282, -0.5253178 , -0.52479897, -0.46796648,\n",
       "        -0.47416258, -0.52880244, -0.5082171 , -0.5259889 , -0.46168257,\n",
       "        -0.53077738, -0.52745715, -0.52688501, -0.52802531, -0.50930861,\n",
       "        -0.54464122, -0.46438453, -0.4697075 , -0.54424274, -0.52766009,\n",
       "        -0.50566491, -0.50924044, -0.55093826]),\n",
       " 'split2_train_score': array([-0.52602483, -0.51647866, -0.5023831 , -0.52199244, -0.52867572,\n",
       "        -0.5438808 , -0.54385013, -0.5017135 , -0.50672728, -0.50223631,\n",
       "        -0.52283575, -0.54859139, -0.44657173, -0.52183019, -0.45382399,\n",
       "        -0.52253315, -0.52300207, -0.45529179, -0.50307278, -0.5439416 ,\n",
       "        -0.50026327, -0.51157816, -0.45692815, -0.54384473, -0.50368835,\n",
       "        -0.46182845, -0.51322283, -0.52272535, -0.52196834, -0.45554899,\n",
       "        -0.46315004, -0.52637866, -0.50424073, -0.52381521, -0.44657173,\n",
       "        -0.52867572, -0.52521417, -0.52445796, -0.52612913, -0.5046189 ,\n",
       "        -0.54339118, -0.45080438, -0.45649137, -0.54297019, -0.52498171,\n",
       "        -0.50045641, -0.50486273, -0.55017405]),\n",
       " 'split3_test_score': array([-0.52950653, -0.51990002, -0.50974909, -0.52559012, -0.53152268,\n",
       "        -0.54547485, -0.54585618, -0.50697131, -0.51118194, -0.50751395,\n",
       "        -0.52616709, -0.54954939, -0.46297568, -0.524695  , -0.47011504,\n",
       "        -0.52499078, -0.52629112, -0.46906417, -0.50808399, -0.54536241,\n",
       "        -0.50501451, -0.51558014, -0.47152807, -0.54558443, -0.50915464,\n",
       "        -0.47529462, -0.51835564, -0.52559161, -0.5252718 , -0.46995236,\n",
       "        -0.47551169, -0.52887787, -0.50840976, -0.52668391, -0.46297568,\n",
       "        -0.53152268, -0.5279059 , -0.52708407, -0.52791205, -0.50962162,\n",
       "        -0.54518433, -0.46687546, -0.47166628, -0.54504169, -0.52802826,\n",
       "        -0.50646374, -0.51250605, -0.54933771]),\n",
       " 'split3_train_score': array([-0.52642498, -0.51611144, -0.50376735, -0.52229747, -0.52900377,\n",
       "        -0.54394396, -0.54428772, -0.50090218, -0.50572771, -0.50193385,\n",
       "        -0.52297242, -0.54830004, -0.44700419, -0.52165785, -0.4553955 ,\n",
       "        -0.52185303, -0.52264182, -0.45543063, -0.50309807, -0.54363476,\n",
       "        -0.49974032, -0.51132704, -0.45802978, -0.5440195 , -0.50333958,\n",
       "        -0.4639333 , -0.51480937, -0.52264394, -0.52205025, -0.4561283 ,\n",
       "        -0.46334802, -0.52577114, -0.50371783, -0.52355492, -0.44700419,\n",
       "        -0.52900377, -0.52467201, -0.52371773, -0.52532118, -0.50422302,\n",
       "        -0.54364334, -0.45223912, -0.45824469, -0.54326255, -0.52477334,\n",
       "        -0.50021851, -0.50725725, -0.54847451]),\n",
       " 'split4_test_score': array([-0.53037984, -0.52104907, -0.50940649, -0.52698848, -0.53253721,\n",
       "        -0.54631081, -0.54630763, -0.50867936, -0.51249267, -0.509176  ,\n",
       "        -0.5272517 , -0.55076579, -0.4638107 , -0.52501741, -0.46939219,\n",
       "        -0.52591705, -0.52719181, -0.4698428 , -0.50766648, -0.54671164,\n",
       "        -0.50492782, -0.51642843, -0.47039474, -0.5464351 , -0.51026222,\n",
       "        -0.47488836, -0.51807008, -0.52660504, -0.52645486, -0.47066175,\n",
       "        -0.47588623, -0.52894157, -0.50906414, -0.52828679, -0.4638107 ,\n",
       "        -0.53253721, -0.52878735, -0.52823082, -0.52799531, -0.51077363,\n",
       "        -0.54625481, -0.46644813, -0.4699343 , -0.54589144, -0.52858113,\n",
       "        -0.5068453 , -0.51090181, -0.55644948]),\n",
       " 'split4_train_score': array([-0.52714719, -0.51751307, -0.50365478, -0.52313604, -0.52990465,\n",
       "        -0.54393188, -0.54392826, -0.50326117, -0.50738079, -0.50379845,\n",
       "        -0.52359819, -0.54869265, -0.44956335, -0.52217653, -0.45636373,\n",
       "        -0.52304562, -0.52358907, -0.45753505, -0.50282779, -0.54385349,\n",
       "        -0.49997247, -0.51216365, -0.45859035, -0.54388785, -0.50506365,\n",
       "        -0.46463447, -0.51405211, -0.52306325, -0.52262882, -0.45835384,\n",
       "        -0.46498203, -0.52532315, -0.50475316, -0.524611  , -0.44956335,\n",
       "        -0.52990465, -0.52547783, -0.52479923, -0.52495296, -0.50548738,\n",
       "        -0.54378671, -0.45328189, -0.45717162, -0.5433548 , -0.52503159,\n",
       "        -0.5010821 , -0.50553955, -0.55480823]),\n",
       " 'std_fit_time': array([ 0.78290307,  1.50363713,  2.35824286,  3.05982075,  1.2005032 ,\n",
       "         1.18662966,  0.73088703,  2.20047949,  2.41905445,  2.30955702,\n",
       "         2.16428117,  1.41001454,  2.78583571,  0.69565841,  2.97511091,\n",
       "         3.03606885,  1.07995   ,  2.0464229 ,  1.46998405,  1.3734871 ,\n",
       "         6.46867048,  9.30640277,  2.68503475,  0.52014786,  1.62171173,\n",
       "         3.88515247, 25.04947916,  5.8457771 , 29.66296125, 45.51050319,\n",
       "        18.53585743,  1.20874651, 41.33021292,  7.30611724,  6.09828102,\n",
       "         7.44064849, 16.55884041, 14.20533194, 72.37225402,  2.29002845,\n",
       "         1.37690376,  2.68906152,  1.85708035,  2.48084776,  4.36274861,\n",
       "        45.27371611, 40.12587968,  7.78032517]),\n",
       " 'std_score_time': array([0.04273447, 0.05168134, 0.06757284, 0.01366271, 0.02306709,\n",
       "        0.01700791, 0.01404711, 0.04727696, 0.05552751, 0.04799048,\n",
       "        0.08511448, 0.04593415, 0.07385555, 0.03964465, 0.10049406,\n",
       "        0.04196653, 0.02586527, 0.09471973, 0.08442779, 0.02580598,\n",
       "        0.34152275, 0.04232944, 0.09313678, 0.02295763, 0.05524333,\n",
       "        0.12369621, 0.17859502, 0.27033008, 0.14707636, 0.32324039,\n",
       "        0.07535719, 0.00646888, 0.58331278, 0.20739789, 0.09706369,\n",
       "        0.14840514, 0.45543034, 0.24823881, 0.20478076, 0.08045232,\n",
       "        0.01115088, 0.09264394, 0.08915692, 0.01478798, 0.03129571,\n",
       "        0.20765025, 0.148067  , 0.06704039]),\n",
       " 'std_test_score': array([0.00079396, 0.00068613, 0.00089028, 0.00074284, 0.00065848,\n",
       "        0.00051484, 0.00056363, 0.00075738, 0.00071846, 0.000742  ,\n",
       "        0.00065187, 0.00072964, 0.00091909, 0.00046474, 0.00086998,\n",
       "        0.00051047, 0.00060252, 0.00079343, 0.00043367, 0.00059511,\n",
       "        0.00040152, 0.00077682, 0.00090759, 0.00056676, 0.00056731,\n",
       "        0.00108779, 0.0009035 , 0.00057227, 0.00067882, 0.00092092,\n",
       "        0.00082517, 0.00042457, 0.00039136, 0.00076802, 0.00091909,\n",
       "        0.00065848, 0.00049937, 0.00059407, 0.00018994, 0.00063782,\n",
       "        0.00056781, 0.00103836, 0.00094696, 0.00054182, 0.00040334,\n",
       "        0.00053075, 0.00132591, 0.00316382]),\n",
       " 'std_train_score': array([0.0007233 , 0.00072313, 0.00146864, 0.00067449, 0.00053334,\n",
       "        0.00019533, 0.00019433, 0.00108828, 0.00116372, 0.00101033,\n",
       "        0.00049908, 0.00032146, 0.00155321, 0.00049945, 0.00112915,\n",
       "        0.00066021, 0.00055935, 0.00118065, 0.00070047, 0.00022569,\n",
       "        0.00057173, 0.00039154, 0.00109011, 0.0001821 , 0.00100531,\n",
       "        0.00119785, 0.00141095, 0.00045389, 0.00044319, 0.00141548,\n",
       "        0.00146047, 0.0007347 , 0.00106874, 0.00070788, 0.00155321,\n",
       "        0.00053334, 0.00062073, 0.00057205, 0.00072846, 0.00096259,\n",
       "        0.00033123, 0.00116758, 0.00137427, 0.00039627, 0.00084969,\n",
       "        0.00066338, 0.00152728, 0.0027518 ])}"
      ]
     },
     "execution_count": 63,
     "metadata": {},
     "output_type": "execute_result"
    }
   ],
   "source": [
    "random_search.cv_results_"
   ]
  },
  {
   "cell_type": "code",
   "execution_count": 64,
   "metadata": {},
   "outputs": [
    {
     "data": {
      "text/plain": [
       "XGBClassifier(base_score=0.5, booster='gbtree', colsample_bylevel=1,\n",
       "       colsample_bytree=0.6, gamma=0.5, learning_rate=0.02,\n",
       "       max_delta_step=0, max_depth=7, min_child_weight=1, missing=None,\n",
       "       n_estimators=600, n_jobs=1, nthread=1, objective='binary:logistic',\n",
       "       random_state=0, reg_alpha=0, reg_lambda=1, scale_pos_weight=1,\n",
       "       seed=None, silent=True, subsample=0.6, verbose=1)"
      ]
     },
     "execution_count": 64,
     "metadata": {},
     "output_type": "execute_result"
    }
   ],
   "source": [
    "random_search.best_estimator_"
   ]
  },
  {
   "cell_type": "code",
   "execution_count": 65,
   "metadata": {},
   "outputs": [
    {
     "data": {
      "text/plain": [
       "-0.46247096946477495"
      ]
     },
     "execution_count": 65,
     "metadata": {},
     "output_type": "execute_result"
    }
   ],
   "source": [
    "random_search.best_score_"
   ]
  },
  {
   "cell_type": "code",
   "execution_count": 66,
   "metadata": {},
   "outputs": [
    {
     "data": {
      "text/plain": [
       "{'colsample_bytree': 0.6,\n",
       " 'gamma': 0.5,\n",
       " 'max_depth': 7,\n",
       " 'min_child_weight': 1,\n",
       " 'subsample': 0.6}"
      ]
     },
     "execution_count": 66,
     "metadata": {},
     "output_type": "execute_result"
    }
   ],
   "source": [
    "random_search.best_params_"
   ]
  },
  {
   "cell_type": "code",
   "execution_count": 69,
   "metadata": {},
   "outputs": [],
   "source": [
    "xgb = XGBClassifier(base_score=0.5, booster='gbtree', colsample_bylevel=1,\n",
    "       colsample_bytree=0.6, gamma=150, learning_rate=0.02,\n",
    "       max_delta_step=0, max_depth=4, min_child_weight=1, missing=None,\n",
    "       n_estimators=600, n_jobs=1, nthread=1, objective='binary:logistic',\n",
    "       random_state=0, reg_alpha=0, reg_lambda=2, scale_pos_weight=1,\n",
    "       seed=None, silent=True, subsample=0.6, verbose=1)\n",
    "xgb1 = xgb.fit(X_train, y_train)"
   ]
  },
  {
   "cell_type": "code",
   "execution_count": 70,
   "metadata": {},
   "outputs": [
    {
     "data": {
      "text/plain": [
       "0.4617411278490974"
      ]
     },
     "execution_count": 70,
     "metadata": {},
     "output_type": "execute_result"
    }
   ],
   "source": [
    "pred=random_search.predict_proba(X_valid)\n",
    "log_loss(y_valid,pred[:,1])"
   ]
  },
  {
   "cell_type": "code",
   "execution_count": null,
   "metadata": {},
   "outputs": [],
   "source": []
  }
 ],
 "metadata": {
  "kernelspec": {
   "display_name": "Python 3",
   "language": "python",
   "name": "python3"
  },
  "language_info": {
   "codemirror_mode": {
    "name": "ipython",
    "version": 3
   },
   "file_extension": ".py",
   "mimetype": "text/x-python",
   "name": "python",
   "nbconvert_exporter": "python",
   "pygments_lexer": "ipython3",
   "version": "3.6.4"
  }
 },
 "nbformat": 4,
 "nbformat_minor": 2
}
