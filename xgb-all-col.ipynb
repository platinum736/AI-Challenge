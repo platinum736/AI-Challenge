{
 "cells": [
  {
   "cell_type": "code",
   "execution_count": 1,
   "metadata": {},
   "outputs": [],
   "source": [
    "import os\n",
    "import pandas as pd\n",
    "import numpy as np\n",
    "import time\n",
    "from sklearn.metrics import log_loss"
   ]
  },
  {
   "cell_type": "code",
   "execution_count": 2,
   "metadata": {},
   "outputs": [],
   "source": [
    "os.chdir('/aichallenge')"
   ]
  },
  {
   "cell_type": "code",
   "execution_count": 3,
   "metadata": {},
   "outputs": [
    {
     "name": "stderr",
     "output_type": "stream",
     "text": [
      "/usr/lib/python3.6/site-packages/IPython/core/interactiveshell.py:2728: DtypeWarning: Columns (6,16,17,26,40,41,49,53,54,55,100,104,107,109,112,127,128,129,130,133,153,171,220,221,222,225,226,227) have mixed types. Specify dtype option on import or set low_memory=False.\n",
      "  interactivity=interactivity, compiler=compiler, result=result)\n",
      "/usr/lib/python3.6/site-packages/IPython/core/interactiveshell.py:2728: DtypeWarning: Columns (6,16,17,26,40,41,49,53,54,55,100,104,107,109,112,127,128,129,130,153,171,220,221,222,225,226,227) have mixed types. Specify dtype option on import or set low_memory=False.\n",
      "  interactivity=interactivity, compiler=compiler, result=result)\n"
     ]
    },
    {
     "name": "stdout",
     "output_type": "stream",
     "text": [
      "577.0972235202789\n"
     ]
    }
   ],
   "source": [
    "import time\n",
    "t1=time.time()\n",
    "train = pd.read_table('training_set.tsv')\n",
    "test = pd.read_table('scoring_set.tsv')\n",
    "t2=time.time()\n",
    "print(t2-t1)"
   ]
  },
  {
   "cell_type": "code",
   "execution_count": 4,
   "metadata": {},
   "outputs": [
    {
     "data": {
      "text/plain": [
       "Index(['training_data.innovation_challenge_key', 'training_data.renewed_yorn',\n",
       "       'training_data.instance_id', 'training_data.contract_line_id',\n",
       "       'training_data.minor_line_yorn', 'training_data.major_line_instance_id',\n",
       "       'training_data.installation_date',\n",
       "       'training_data.product_sales_order_type',\n",
       "       'training_data.product_purchase_order_type',\n",
       "       'training_data.instance_status',\n",
       "       ...\n",
       "       'training_data.service_distributor_base_theater_name',\n",
       "       'training_data.service_distributor_base_distributor_normalized_name',\n",
       "       'training_data.contract_line_net_usd_amount',\n",
       "       'training_data.product_net_price',\n",
       "       'training_data.sales_node_renewal_rate',\n",
       "       'training_data.customer_renewal_rate',\n",
       "       'training_data.partner_renewal_rate',\n",
       "       'training_data.product_renewal_rate',\n",
       "       'training_data.service_sales_node_installed_base_sales_node_renewal_rate',\n",
       "       'training_data.service_partner_installed_base_partner_renewal_rate'],\n",
       "      dtype='object', length=237)"
      ]
     },
     "execution_count": 4,
     "metadata": {},
     "output_type": "execute_result"
    }
   ],
   "source": [
    "train.columns"
   ]
  },
  {
   "cell_type": "code",
   "execution_count": 5,
   "metadata": {},
   "outputs": [
    {
     "name": "stdout",
     "output_type": "stream",
     "text": [
      "0.0014040470123291016\n"
     ]
    }
   ],
   "source": [
    "#remove data set name from columns names to make it uniform\n",
    "t1=time.time()\n",
    "columns=[]\n",
    "for col in train.columns:\n",
    "    columns.append(col.replace('training_data.',''))\n",
    "train.columns=columns\n",
    "columns=[]\n",
    "for col in test.columns:\n",
    "    columns.append(col.replace('scoring_set.',''))\n",
    "test.columns=columns\n",
    "t2=time.time()\n",
    "print(t2-t1)"
   ]
  },
  {
   "cell_type": "code",
   "execution_count": 6,
   "metadata": {},
   "outputs": [
    {
     "name": "stdout",
     "output_type": "stream",
     "text": [
      "12.534909963607788\n"
     ]
    }
   ],
   "source": [
    "#remove the rows where 'challenge_data.renewed_yorn' is null in training data\n",
    "t1=time.time()\n",
    "train=train[train['renewed_yorn'].notnull()]\n",
    "t2=time.time()\n",
    "print(t2-t1)"
   ]
  },
  {
   "cell_type": "code",
   "execution_count": 7,
   "metadata": {},
   "outputs": [
    {
     "name": "stdout",
     "output_type": "stream",
     "text": [
      "12.023839473724365\n"
     ]
    }
   ],
   "source": [
    "#remove the 'challenge_data.renewed_yorn' from training and test data and move it to a seperate variable\n",
    "t1=time.time()\n",
    "train_y=train['renewed_yorn']\n",
    "train = train.drop('renewed_yorn',axis=1)\n",
    "test_y=test['renewed_yorn']\n",
    "test = test.drop('renewed_yorn',axis=1)\n",
    "t2=time.time()\n",
    "print(t2-t1)"
   ]
  },
  {
   "cell_type": "code",
   "execution_count": 8,
   "metadata": {},
   "outputs": [
    {
     "name": "stdout",
     "output_type": "stream",
     "text": [
      "56.62276220321655\n"
     ]
    }
   ],
   "source": [
    "#remove columns which have many null values\n",
    "t1=time.time()\n",
    "percent = (test.isnull().sum()/test.isnull().count())\n",
    "test.columns[percent>0.5]\n",
    "#We would ignore all these 102 columns so we are left with 135 columns\n",
    "len(test.columns[percent>0.5])\n",
    "#all_clean_columns=train.columns[percent==0]\n",
    "#train_clean=train[all_clean_columns]\n",
    "unclean_columns=test.columns[percent>0.5]\n",
    "train = train.drop(unclean_columns,axis=1)\n",
    "test = test.drop(unclean_columns,axis=1)\n",
    "t2=time.time()\n",
    "print(t2-t1)"
   ]
  },
  {
   "cell_type": "code",
   "execution_count": 9,
   "metadata": {},
   "outputs": [
    {
     "data": {
      "text/plain": [
       "36"
      ]
     },
     "execution_count": 9,
     "metadata": {},
     "output_type": "execute_result"
    }
   ],
   "source": [
    "len(unclean_columns)"
   ]
  },
  {
   "cell_type": "code",
   "execution_count": 10,
   "metadata": {},
   "outputs": [
    {
     "data": {
      "text/plain": [
       "Index(['installation_date', 'service_contract_last_renewal_date',\n",
       "       'service_contract_classification', 'contract_line_duration_in_days',\n",
       "       'marketing_program_name', 'service_contract_discount_percentage',\n",
       "       'pos_bookings_measure_transaction_type', 'pos_adjustment_type',\n",
       "       'cisco_one_opportunity_type', 'ios_software_version',\n",
       "       'service_offering', 'service_program', 'service_fee_amount',\n",
       "       'last_date_of_support', 'end_new_service_attachment_date',\n",
       "       'end_of_service_contract_renewal_date', 'end_software_maintenance_date',\n",
       "       'service_level_group', 'mapped_service_list_price',\n",
       "       'mapped_service_level', 'service_group', 'service_brand_code',\n",
       "       'service_product_base_service_fee_amount',\n",
       "       'service_product_base_last_date_of_support',\n",
       "       'service_product_base_end_new_service_attachment_date',\n",
       "       'service_product_base_end_of_service_contract_renewal_date',\n",
       "       'service_product_base_end_software_maintenance_date',\n",
       "       'service_product_base_mapped_service_list_price',\n",
       "       'service_product_base_mapped_service_level', 'distributor_type',\n",
       "       'pos_distributor_base_country_name', 'theater_name',\n",
       "       'service_distributor_base_distributor_type',\n",
       "       'service_distributor_base_country_name',\n",
       "       'service_distributor_base_theater_name', 'customer_renewal_rate'],\n",
       "      dtype='object')"
      ]
     },
     "execution_count": 10,
     "metadata": {},
     "output_type": "execute_result"
    }
   ],
   "source": [
    "unclean_columns"
   ]
  },
  {
   "cell_type": "code",
   "execution_count": 11,
   "metadata": {},
   "outputs": [
    {
     "name": "stdout",
     "output_type": "stream",
     "text": [
      "64.0497841835022\n"
     ]
    }
   ],
   "source": [
    "#Remove columns which have too many categories and is string type\n",
    "t1=time.time()\n",
    "messy_columns = []\n",
    "for col in train.columns:\n",
    "    if(train[col].dtype=='O' and len(train[col].unique())>20):\n",
    "        messy_columns.append(col)\n",
    "t2=time.time()\n",
    "print(t2-t1)"
   ]
  },
  {
   "cell_type": "code",
   "execution_count": 12,
   "metadata": {},
   "outputs": [
    {
     "data": {
      "text/plain": [
       "77"
      ]
     },
     "execution_count": 12,
     "metadata": {},
     "output_type": "execute_result"
    }
   ],
   "source": [
    "# 56 messy columns are removed\n",
    "len(messy_columns)"
   ]
  },
  {
   "cell_type": "code",
   "execution_count": 13,
   "metadata": {},
   "outputs": [
    {
     "name": "stdout",
     "output_type": "stream",
     "text": [
      "9.606790542602539\n"
     ]
    }
   ],
   "source": [
    "t1=time.time()\n",
    "train=train.drop(messy_columns,axis=1)\n",
    "test=test.drop(messy_columns,axis=1)\n",
    "t2=time.time()\n",
    "print(t2-t1)"
   ]
  },
  {
   "cell_type": "code",
   "execution_count": 14,
   "metadata": {},
   "outputs": [
    {
     "data": {
      "text/plain": [
       "(6010041, 123)"
      ]
     },
     "execution_count": 14,
     "metadata": {},
     "output_type": "execute_result"
    }
   ],
   "source": [
    "train.shape"
   ]
  },
  {
   "cell_type": "code",
   "execution_count": 15,
   "metadata": {},
   "outputs": [
    {
     "name": "stdout",
     "output_type": "stream",
     "text": [
      "7.979274272918701\n"
     ]
    }
   ],
   "source": [
    "#Remove the primary key column for data fitting\n",
    "t1=time.time()\n",
    "train = train.drop('innovation_challenge_key',axis=1)\n",
    "test_ids=test['innovation_challenge_key']\n",
    "test = test.drop('innovation_challenge_key',axis=1)\n",
    "t2=time.time()\n",
    "print(t2-t1)"
   ]
  },
  {
   "cell_type": "code",
   "execution_count": 16,
   "metadata": {},
   "outputs": [
    {
     "name": "stdout",
     "output_type": "stream",
     "text": [
      "0.3302736282348633\n"
     ]
    }
   ],
   "source": [
    "#Number of unique values in each columns\n",
    "t1=time.time()\n",
    "catcols=[]\n",
    "scalcols=[]\n",
    "for col in train.columns:\n",
    "    if (train[col].dtype !='object'):\n",
    "        if(len(train[col].unique())<20):\n",
    "            catcols.append(col)\n",
    "        else:\n",
    "            scalcols.append(col)\n",
    "t2=time.time()\n",
    "print(t2-t1)"
   ]
  },
  {
   "cell_type": "code",
   "execution_count": 17,
   "metadata": {},
   "outputs": [
    {
     "name": "stdout",
     "output_type": "stream",
     "text": [
      "0.603743314743042\n"
     ]
    }
   ],
   "source": [
    "#handle catcols\n",
    "t1=time.time()\n",
    "for col in catcols:\n",
    "    train[col]=train[col].astype('category')\n",
    "    test[col]=test[col].astype('category')\n",
    "t2=time.time()\n",
    "print(t2-t1)"
   ]
  },
  {
   "cell_type": "code",
   "execution_count": 18,
   "metadata": {},
   "outputs": [],
   "source": [
    "train[scalcols]=train[scalcols].fillna(train[scalcols].median())\n",
    "test[scalcols]=test[scalcols].fillna(test[scalcols].median())"
   ]
  },
  {
   "cell_type": "code",
   "execution_count": 19,
   "metadata": {},
   "outputs": [
    {
     "name": "stdout",
     "output_type": "stream",
     "text": [
      "8.32162094116211\n"
     ]
    }
   ],
   "source": [
    "#Normalize integer data\n",
    "t1=time.time()\n",
    "from sklearn.preprocessing import StandardScaler\n",
    "scaler = StandardScaler()\n",
    "scaler = scaler.fit(train[scalcols])\n",
    "train[scalcols] = scaler.transform(train[scalcols])\n",
    "scaler = scaler.fit(test[scalcols])\n",
    "test[scalcols] = scaler.transform(test[scalcols])\n",
    "t2=time.time()\n",
    "print(t2-t1)"
   ]
  },
  {
   "cell_type": "code",
   "execution_count": 20,
   "metadata": {},
   "outputs": [
    {
     "data": {
      "text/html": [
       "<div>\n",
       "<style scoped>\n",
       "    .dataframe tbody tr th:only-of-type {\n",
       "        vertical-align: middle;\n",
       "    }\n",
       "\n",
       "    .dataframe tbody tr th {\n",
       "        vertical-align: top;\n",
       "    }\n",
       "\n",
       "    .dataframe thead th {\n",
       "        text-align: right;\n",
       "    }\n",
       "</style>\n",
       "<table border=\"1\" class=\"dataframe\">\n",
       "  <thead>\n",
       "    <tr style=\"text-align: right;\">\n",
       "      <th></th>\n",
       "      <th>contract_line_net_usd_amount</th>\n",
       "      <th>product_net_price</th>\n",
       "      <th>sales_node_renewal_rate</th>\n",
       "      <th>partner_renewal_rate</th>\n",
       "      <th>product_renewal_rate</th>\n",
       "      <th>service_sales_node_installed_base_sales_node_renewal_rate</th>\n",
       "      <th>service_partner_installed_base_partner_renewal_rate</th>\n",
       "    </tr>\n",
       "  </thead>\n",
       "  <tbody>\n",
       "    <tr>\n",
       "      <th>count</th>\n",
       "      <td>6.010041e+06</td>\n",
       "      <td>6.010041e+06</td>\n",
       "      <td>6.010041e+06</td>\n",
       "      <td>6.010041e+06</td>\n",
       "      <td>6.010041e+06</td>\n",
       "      <td>6.010041e+06</td>\n",
       "      <td>6.010041e+06</td>\n",
       "    </tr>\n",
       "    <tr>\n",
       "      <th>mean</th>\n",
       "      <td>-3.177913e-17</td>\n",
       "      <td>5.735377e-17</td>\n",
       "      <td>5.787455e-18</td>\n",
       "      <td>-1.343047e-17</td>\n",
       "      <td>2.407080e-18</td>\n",
       "      <td>-9.765462e-19</td>\n",
       "      <td>-3.816333e-18</td>\n",
       "    </tr>\n",
       "    <tr>\n",
       "      <th>std</th>\n",
       "      <td>1.000000e+00</td>\n",
       "      <td>1.000000e+00</td>\n",
       "      <td>1.000000e+00</td>\n",
       "      <td>1.000000e+00</td>\n",
       "      <td>1.000000e+00</td>\n",
       "      <td>1.000000e+00</td>\n",
       "      <td>1.000000e+00</td>\n",
       "    </tr>\n",
       "    <tr>\n",
       "      <th>min</th>\n",
       "      <td>-1.164629e-01</td>\n",
       "      <td>-2.451377e-01</td>\n",
       "      <td>-9.088766e-02</td>\n",
       "      <td>-2.189823e-01</td>\n",
       "      <td>-4.566387e-02</td>\n",
       "      <td>-6.938574e-02</td>\n",
       "      <td>-4.881693e-02</td>\n",
       "    </tr>\n",
       "    <tr>\n",
       "      <th>25%</th>\n",
       "      <td>-1.146668e-01</td>\n",
       "      <td>-2.451377e-01</td>\n",
       "      <td>-2.424868e-03</td>\n",
       "      <td>-3.552587e-02</td>\n",
       "      <td>-3.341360e-02</td>\n",
       "      <td>-6.327430e-03</td>\n",
       "      <td>-7.704820e-03</td>\n",
       "    </tr>\n",
       "    <tr>\n",
       "      <th>50%</th>\n",
       "      <td>-1.146668e-01</td>\n",
       "      <td>-2.451377e-01</td>\n",
       "      <td>-2.424868e-03</td>\n",
       "      <td>-3.552587e-02</td>\n",
       "      <td>-3.341360e-02</td>\n",
       "      <td>-6.327430e-03</td>\n",
       "      <td>-7.704820e-03</td>\n",
       "    </tr>\n",
       "    <tr>\n",
       "      <th>75%</th>\n",
       "      <td>-1.146668e-01</td>\n",
       "      <td>-1.634183e-01</td>\n",
       "      <td>-2.424868e-03</td>\n",
       "      <td>-3.552587e-02</td>\n",
       "      <td>-3.341360e-02</td>\n",
       "      <td>-6.327430e-03</td>\n",
       "      <td>-7.704820e-03</td>\n",
       "    </tr>\n",
       "    <tr>\n",
       "      <th>max</th>\n",
       "      <td>2.899812e+02</td>\n",
       "      <td>7.503942e+01</td>\n",
       "      <td>9.262241e+02</td>\n",
       "      <td>4.831607e+02</td>\n",
       "      <td>2.205357e+02</td>\n",
       "      <td>1.934189e+02</td>\n",
       "      <td>7.311580e+02</td>\n",
       "    </tr>\n",
       "  </tbody>\n",
       "</table>\n",
       "</div>"
      ],
      "text/plain": [
       "       contract_line_net_usd_amount  product_net_price  \\\n",
       "count                  6.010041e+06       6.010041e+06   \n",
       "mean                  -3.177913e-17       5.735377e-17   \n",
       "std                    1.000000e+00       1.000000e+00   \n",
       "min                   -1.164629e-01      -2.451377e-01   \n",
       "25%                   -1.146668e-01      -2.451377e-01   \n",
       "50%                   -1.146668e-01      -2.451377e-01   \n",
       "75%                   -1.146668e-01      -1.634183e-01   \n",
       "max                    2.899812e+02       7.503942e+01   \n",
       "\n",
       "       sales_node_renewal_rate  partner_renewal_rate  product_renewal_rate  \\\n",
       "count             6.010041e+06          6.010041e+06          6.010041e+06   \n",
       "mean              5.787455e-18         -1.343047e-17          2.407080e-18   \n",
       "std               1.000000e+00          1.000000e+00          1.000000e+00   \n",
       "min              -9.088766e-02         -2.189823e-01         -4.566387e-02   \n",
       "25%              -2.424868e-03         -3.552587e-02         -3.341360e-02   \n",
       "50%              -2.424868e-03         -3.552587e-02         -3.341360e-02   \n",
       "75%              -2.424868e-03         -3.552587e-02         -3.341360e-02   \n",
       "max               9.262241e+02          4.831607e+02          2.205357e+02   \n",
       "\n",
       "       service_sales_node_installed_base_sales_node_renewal_rate  \\\n",
       "count                                       6.010041e+06           \n",
       "mean                                       -9.765462e-19           \n",
       "std                                         1.000000e+00           \n",
       "min                                        -6.938574e-02           \n",
       "25%                                        -6.327430e-03           \n",
       "50%                                        -6.327430e-03           \n",
       "75%                                        -6.327430e-03           \n",
       "max                                         1.934189e+02           \n",
       "\n",
       "       service_partner_installed_base_partner_renewal_rate  \n",
       "count                                       6.010041e+06    \n",
       "mean                                       -3.816333e-18    \n",
       "std                                         1.000000e+00    \n",
       "min                                        -4.881693e-02    \n",
       "25%                                        -7.704820e-03    \n",
       "50%                                        -7.704820e-03    \n",
       "75%                                        -7.704820e-03    \n",
       "max                                         7.311580e+02    "
      ]
     },
     "execution_count": 20,
     "metadata": {},
     "output_type": "execute_result"
    }
   ],
   "source": [
    "train[scalcols].describe()"
   ]
  },
  {
   "cell_type": "code",
   "execution_count": 21,
   "metadata": {},
   "outputs": [
    {
     "data": {
      "text/html": [
       "<div>\n",
       "<style scoped>\n",
       "    .dataframe tbody tr th:only-of-type {\n",
       "        vertical-align: middle;\n",
       "    }\n",
       "\n",
       "    .dataframe tbody tr th {\n",
       "        vertical-align: top;\n",
       "    }\n",
       "\n",
       "    .dataframe thead th {\n",
       "        text-align: right;\n",
       "    }\n",
       "</style>\n",
       "<table border=\"1\" class=\"dataframe\">\n",
       "  <thead>\n",
       "    <tr style=\"text-align: right;\">\n",
       "      <th></th>\n",
       "      <th>product_transaction_type</th>\n",
       "      <th>contract_line_reaction_time_code</th>\n",
       "      <th>sales_hierarchy_level</th>\n",
       "      <th>service_sales_node_base_sales_hierarchy_level</th>\n",
       "    </tr>\n",
       "  </thead>\n",
       "  <tbody>\n",
       "    <tr>\n",
       "      <th>count</th>\n",
       "      <td>6010041</td>\n",
       "      <td>6010041</td>\n",
       "      <td>6010041</td>\n",
       "      <td>6010041</td>\n",
       "    </tr>\n",
       "    <tr>\n",
       "      <th>unique</th>\n",
       "      <td>3</td>\n",
       "      <td>4</td>\n",
       "      <td>6</td>\n",
       "      <td>6</td>\n",
       "    </tr>\n",
       "    <tr>\n",
       "      <th>top</th>\n",
       "      <td>10002</td>\n",
       "      <td>-1</td>\n",
       "      <td>6</td>\n",
       "      <td>6</td>\n",
       "    </tr>\n",
       "    <tr>\n",
       "      <th>freq</th>\n",
       "      <td>5316273</td>\n",
       "      <td>5985929</td>\n",
       "      <td>5248934</td>\n",
       "      <td>5945627</td>\n",
       "    </tr>\n",
       "  </tbody>\n",
       "</table>\n",
       "</div>"
      ],
      "text/plain": [
       "        product_transaction_type  contract_line_reaction_time_code  \\\n",
       "count                    6010041                           6010041   \n",
       "unique                         3                                 4   \n",
       "top                        10002                                -1   \n",
       "freq                     5316273                           5985929   \n",
       "\n",
       "        sales_hierarchy_level  service_sales_node_base_sales_hierarchy_level  \n",
       "count                 6010041                                        6010041  \n",
       "unique                      6                                              6  \n",
       "top                         6                                              6  \n",
       "freq                  5248934                                        5945627  "
      ]
     },
     "execution_count": 21,
     "metadata": {},
     "output_type": "execute_result"
    }
   ],
   "source": [
    "train[catcols].describe()"
   ]
  },
  {
   "cell_type": "code",
   "execution_count": 22,
   "metadata": {},
   "outputs": [
    {
     "name": "stdout",
     "output_type": "stream",
     "text": [
      "86.13638377189636\n"
     ]
    }
   ],
   "source": [
    "#convert data to one hot encoding to handle categorical values\n",
    "t1=time.time()\n",
    "train_objs_num = len(train)\n",
    "dataset = pd.concat(objs=[train, test], axis=0)\n",
    "dataset = pd.get_dummies(dataset)\n",
    "train = dataset[:train_objs_num]\n",
    "test = dataset[train_objs_num:]\n",
    "t2=time.time()\n",
    "print(t2-t1)"
   ]
  },
  {
   "cell_type": "code",
   "execution_count": 23,
   "metadata": {},
   "outputs": [
    {
     "data": {
      "text/plain": [
       "(6010041, 422)"
      ]
     },
     "execution_count": 23,
     "metadata": {},
     "output_type": "execute_result"
    }
   ],
   "source": [
    "train.shape"
   ]
  },
  {
   "cell_type": "code",
   "execution_count": 24,
   "metadata": {},
   "outputs": [
    {
     "data": {
      "text/plain": [
       "(1888195, 422)"
      ]
     },
     "execution_count": 24,
     "metadata": {},
     "output_type": "execute_result"
    }
   ],
   "source": [
    "test.shape"
   ]
  },
  {
   "cell_type": "code",
   "execution_count": 25,
   "metadata": {},
   "outputs": [
    {
     "data": {
      "text/plain": [
       "False"
      ]
     },
     "execution_count": 25,
     "metadata": {},
     "output_type": "execute_result"
    }
   ],
   "source": [
    "train.isnull().any().any()"
   ]
  },
  {
   "cell_type": "code",
   "execution_count": 26,
   "metadata": {},
   "outputs": [
    {
     "data": {
      "text/plain": [
       "False"
      ]
     },
     "execution_count": 26,
     "metadata": {},
     "output_type": "execute_result"
    }
   ],
   "source": [
    "test.isnull().any().any()"
   ]
  },
  {
   "cell_type": "code",
   "execution_count": 27,
   "metadata": {},
   "outputs": [
    {
     "name": "stdout",
     "output_type": "stream",
     "text": [
      "20.897080898284912\n"
     ]
    }
   ],
   "source": [
    "#split the data between train and validation set\n",
    "t1=time.time()\n",
    "from sklearn.model_selection import train_test_split\n",
    "X_train, X_valid, y_train, y_valid = train_test_split(train,train_y,test_size=0.33, random_state=42)\n",
    "t2=time.time()\n",
    "print(t2-t1)"
   ]
  },
  {
   "cell_type": "code",
   "execution_count": 28,
   "metadata": {},
   "outputs": [
    {
     "data": {
      "text/plain": [
       "(4026727, 422)"
      ]
     },
     "execution_count": 28,
     "metadata": {},
     "output_type": "execute_result"
    }
   ],
   "source": [
    "X_train.shape"
   ]
  },
  {
   "cell_type": "code",
   "execution_count": 29,
   "metadata": {},
   "outputs": [],
   "source": [
    "clean_col_name=[]\n",
    "for col in X_train.columns:\n",
    "    col = col.replace('<','X')\n",
    "    col = col.replace('>','Y')\n",
    "    col = col.replace('[','A')\n",
    "    col = col.replace(']','B')\n",
    "    clean_col_name.append(col)\n",
    "X_train.columns = clean_col_name\n",
    "clean_col_name=[]\n",
    "for col in X_valid.columns:\n",
    "    col = col.replace('<','X')\n",
    "    col = col.replace('>','Y')\n",
    "    col = col.replace('[','A')\n",
    "    col = col.replace(']','B')\n",
    "    clean_col_name.append(col)\n",
    "X_valid.columns = clean_col_name"
   ]
  },
  {
   "cell_type": "code",
   "execution_count": 30,
   "metadata": {},
   "outputs": [
    {
     "ename": "NameError",
     "evalue": "name 'train_X' is not defined",
     "output_type": "error",
     "traceback": [
      "\u001b[0;31m---------------------------------------------------------------------------\u001b[0m",
      "\u001b[0;31mNameError\u001b[0m                                 Traceback (most recent call last)",
      "\u001b[0;32m<ipython-input-30-79d7d2912a85>\u001b[0m in \u001b[0;36m<module>\u001b[0;34m()\u001b[0m\n\u001b[1;32m      1\u001b[0m \u001b[0;32mimport\u001b[0m \u001b[0mgc\u001b[0m\u001b[0;34m\u001b[0m\u001b[0m\n\u001b[1;32m      2\u001b[0m \u001b[0;32mdel\u001b[0m \u001b[0mdataset\u001b[0m\u001b[0;34m\u001b[0m\u001b[0m\n\u001b[0;32m----> 3\u001b[0;31m \u001b[0;32mdel\u001b[0m \u001b[0mtrain_X\u001b[0m\u001b[0;34m\u001b[0m\u001b[0m\n\u001b[0m\u001b[1;32m      4\u001b[0m \u001b[0;32mdel\u001b[0m \u001b[0mtest_X\u001b[0m\u001b[0;34m\u001b[0m\u001b[0m\n\u001b[1;32m      5\u001b[0m \u001b[0mgc\u001b[0m\u001b[0;34m.\u001b[0m\u001b[0mcollect\u001b[0m\u001b[0;34m(\u001b[0m\u001b[0;34m)\u001b[0m\u001b[0;34m\u001b[0m\u001b[0m\n",
      "\u001b[0;31mNameError\u001b[0m: name 'train_X' is not defined"
     ]
    }
   ],
   "source": [
    "import gc\n",
    "del dataset\n",
    "del train_X\n",
    "del test_X\n",
    "gc.collect()"
   ]
  },
  {
   "cell_type": "code",
   "execution_count": 31,
   "metadata": {},
   "outputs": [
    {
     "data": {
      "text/plain": [
       "4415.33873295784"
      ]
     },
     "execution_count": 31,
     "metadata": {},
     "output_type": "execute_result"
    }
   ],
   "source": [
    "#Time for xgboost\n",
    "import xgboost as xgb\n",
    "import time\n",
    "t1 = time.time()\n",
    "model1 = xgb.XGBClassifier(verbose=True)\n",
    "#model2 = xgb.XGBClassifier(n_estimators=100, max_depth=8, learning_rate=0.1, subsample=0.5)\n",
    "xgb1 = model1.fit(X_train, y_train)\n",
    "#xgb2 = model2.fit(X_train.iloc[0:10,], y_train[0:10])\n",
    "t2 = time.time()\n",
    "t2-t1"
   ]
  },
  {
   "cell_type": "code",
   "execution_count": 32,
   "metadata": {},
   "outputs": [
    {
     "name": "stdout",
     "output_type": "stream",
     "text": [
      "0.5322713105133697\n"
     ]
    }
   ],
   "source": [
    "pred = xgb1.predict_proba(X_valid)\n",
    "print(log_loss(y_valid,pred[:,1]))"
   ]
  },
  {
   "cell_type": "code",
   "execution_count": 33,
   "metadata": {},
   "outputs": [],
   "source": [
    "clean_col_name=[]\n",
    "for col in test.columns:\n",
    "    col = col.replace('<','X')\n",
    "    col = col.replace('>','Y')\n",
    "    col = col.replace('[','A')\n",
    "    col = col.replace(']','B')\n",
    "    clean_col_name.append(col)\n",
    "test.columns = clean_col_name\n",
    "clean_col_name=[]"
   ]
  },
  {
   "cell_type": "code",
   "execution_count": 34,
   "metadata": {},
   "outputs": [],
   "source": [
    "pred=xgb1.predict_proba(test)\n",
    "submit=pd.DataFrame()\n",
    "submit['INNOVATION_CHALLENGE_KEY'] = test_ids\n",
    "submit['RENEWAL_PROBABLIITY']=pred[:,1]\n",
    "submit=submit.sort_values('INNOVATION_CHALLENGE_KEY')\n",
    "submit.to_csv('xgb_all_col_train.csv',index=False)"
   ]
  },
  {
   "cell_type": "code",
   "execution_count": 35,
   "metadata": {},
   "outputs": [
    {
     "data": {
      "text/plain": [
       "(1888195, 2)"
      ]
     },
     "execution_count": 35,
     "metadata": {},
     "output_type": "execute_result"
    }
   ],
   "source": [
    "submit.shape"
   ]
  },
  {
   "cell_type": "code",
   "execution_count": 37,
   "metadata": {},
   "outputs": [
    {
     "data": {
      "text/plain": [
       "INNOVATION_CHALLENGE_KEY    6.000000\n",
       "RENEWAL_PROBABLIITY         0.756801\n",
       "Name: 139748, dtype: float64"
      ]
     },
     "execution_count": 37,
     "metadata": {},
     "output_type": "execute_result"
    }
   ],
   "source": [
    "submit.iloc[1]"
   ]
  },
  {
   "cell_type": "code",
   "execution_count": null,
   "metadata": {},
   "outputs": [],
   "source": []
  }
 ],
 "metadata": {
  "kernelspec": {
   "display_name": "Python 3",
   "language": "python",
   "name": "python3"
  },
  "language_info": {
   "codemirror_mode": {
    "name": "ipython",
    "version": 3
   },
   "file_extension": ".py",
   "mimetype": "text/x-python",
   "name": "python",
   "nbconvert_exporter": "python",
   "pygments_lexer": "ipython3",
   "version": "3.6.4"
  }
 },
 "nbformat": 4,
 "nbformat_minor": 2
}
