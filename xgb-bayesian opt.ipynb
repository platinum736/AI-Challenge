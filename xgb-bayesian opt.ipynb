{
 "cells": [
  {
   "cell_type": "code",
   "execution_count": 1,
   "metadata": {},
   "outputs": [
    {
     "name": "stderr",
     "output_type": "stream",
     "text": [
      "/usr/lib64/python3.6/site-packages/sklearn/cross_validation.py:41: DeprecationWarning: This module was deprecated in version 0.18 in favor of the model_selection module into which all the refactored classes and functions are moved. Also note that the interface of the new CV iterators are different from that of this module. This module will be removed in 0.20.\n",
      "  \"This module will be removed in 0.20.\", DeprecationWarning)\n"
     ]
    }
   ],
   "source": [
    "import os\n",
    "import pandas as pd\n",
    "import numpy as np\n",
    "from sklearn.model_selection import RandomizedSearchCV, GridSearchCV\n",
    "from sklearn.metrics import log_loss\n",
    "from sklearn.model_selection import StratifiedKFold\n",
    "from xgboost import XGBClassifier\n",
    "from bayes_opt import BayesianOptimization\n",
    "from sklearn.cross_validation import cross_val_score, StratifiedKFold, StratifiedShuffleSplit\n",
    "from sklearn.metrics import log_loss, matthews_corrcoef, roc_auc_score"
   ]
  },
  {
   "cell_type": "code",
   "execution_count": 2,
   "metadata": {},
   "outputs": [],
   "source": [
    "os.chdir('/aichallenge')"
   ]
  },
  {
   "cell_type": "code",
   "execution_count": 3,
   "metadata": {},
   "outputs": [
    {
     "name": "stderr",
     "output_type": "stream",
     "text": [
      "/usr/lib/python3.6/site-packages/IPython/core/interactiveshell.py:2728: DtypeWarning: Columns (6,16,17,26,40,41,49,53,97,98,99,100,104,107,109,112,127,128,129,130,220,221,222) have mixed types. Specify dtype option on import or set low_memory=False.\n",
      "  interactivity=interactivity, compiler=compiler, result=result)\n",
      "/usr/lib/python3.6/site-packages/IPython/core/interactiveshell.py:2728: DtypeWarning: Columns (6,16,17,26,40,41,49,53,54,55,100,104,107,109,112,127,128,129,130,153,171,220,221,222,225,226,227) have mixed types. Specify dtype option on import or set low_memory=False.\n",
      "  interactivity=interactivity, compiler=compiler, result=result)\n"
     ]
    },
    {
     "name": "stdout",
     "output_type": "stream",
     "text": [
      "164.77874541282654\n"
     ]
    }
   ],
   "source": [
    "import time\n",
    "t1=time.time()\n",
    "train = pd.read_table('challengeData.tsv')\n",
    "test = pd.read_table('scoring_set.tsv')\n",
    "t2=time.time()\n",
    "print(t2-t1)"
   ]
  },
  {
   "cell_type": "code",
   "execution_count": 4,
   "metadata": {},
   "outputs": [
    {
     "name": "stdout",
     "output_type": "stream",
     "text": [
      "0.001943826675415039\n"
     ]
    }
   ],
   "source": [
    "#remove data set name from columns names to make it uniform\n",
    "t1=time.time()\n",
    "columns=[]\n",
    "for col in train.columns:\n",
    "    columns.append(col.replace('challenge_data.',''))\n",
    "train.columns=columns\n",
    "columns=[]\n",
    "for col in test.columns:\n",
    "    columns.append(col.replace('scoring_set.',''))\n",
    "test.columns=columns\n",
    "t2=time.time()\n",
    "print(t2-t1)"
   ]
  },
  {
   "cell_type": "code",
   "execution_count": 5,
   "metadata": {},
   "outputs": [
    {
     "name": "stdout",
     "output_type": "stream",
     "text": [
      "0.5698015689849854\n"
     ]
    }
   ],
   "source": [
    "#remove the rows where 'challenge_data.renewed_yorn' is null in training data\n",
    "t1=time.time()\n",
    "train=train[train['renewed_yorn'].notnull()]\n",
    "t2=time.time()\n",
    "print(t2-t1)"
   ]
  },
  {
   "cell_type": "code",
   "execution_count": 6,
   "metadata": {},
   "outputs": [
    {
     "name": "stdout",
     "output_type": "stream",
     "text": [
      "3.9291863441467285\n"
     ]
    }
   ],
   "source": [
    "#remove the 'challenge_data.renewed_yorn' from training and test data and move it to a seperate variable\n",
    "t1=time.time()\n",
    "train_y=train['renewed_yorn']\n",
    "train = train.drop('renewed_yorn',axis=1)\n",
    "test_y=test['renewed_yorn']\n",
    "test = test.drop('renewed_yorn',axis=1)\n",
    "t2=time.time()\n",
    "print(t2-t1)"
   ]
  },
  {
   "cell_type": "code",
   "execution_count": 7,
   "metadata": {},
   "outputs": [
    {
     "name": "stdout",
     "output_type": "stream",
     "text": [
      "50.37196207046509\n"
     ]
    }
   ],
   "source": [
    "#remove columns which have any null values\n",
    "t1=time.time()\n",
    "percent = (test.isnull().sum()/test.isnull().count())\n",
    "test.columns[percent>.5]\n",
    "#We would ignore all these 102 columns so we are left with 135 columns\n",
    "len(test.columns[percent>.5])\n",
    "#all_clean_columns=train.columns[percent==0]\n",
    "#train_clean=train[all_clean_columns]\n",
    "unclean_columns=test.columns[percent>0.5]\n",
    "train = train.drop(unclean_columns,axis=1)\n",
    "test = test.drop(unclean_columns,axis=1)\n",
    "t2=time.time()\n",
    "print(t2-t1)"
   ]
  },
  {
   "cell_type": "code",
   "execution_count": 8,
   "metadata": {},
   "outputs": [
    {
     "data": {
      "text/plain": [
       "36"
      ]
     },
     "execution_count": 8,
     "metadata": {},
     "output_type": "execute_result"
    }
   ],
   "source": [
    "len(unclean_columns)"
   ]
  },
  {
   "cell_type": "code",
   "execution_count": 9,
   "metadata": {},
   "outputs": [
    {
     "data": {
      "text/plain": [
       "Index(['installation_date', 'service_contract_last_renewal_date',\n",
       "       'service_contract_classification', 'contract_line_duration_in_days',\n",
       "       'marketing_program_name', 'service_contract_discount_percentage',\n",
       "       'pos_bookings_measure_transaction_type', 'pos_adjustment_type',\n",
       "       'cisco_one_opportunity_type', 'ios_software_version',\n",
       "       'service_offering', 'service_program', 'service_fee_amount',\n",
       "       'last_date_of_support', 'end_new_service_attachment_date',\n",
       "       'end_of_service_contract_renewal_date', 'end_software_maintenance_date',\n",
       "       'service_level_group', 'mapped_service_list_price',\n",
       "       'mapped_service_level', 'service_group', 'service_brand_code',\n",
       "       'service_product_base_service_fee_amount',\n",
       "       'service_product_base_last_date_of_support',\n",
       "       'service_product_base_end_new_service_attachment_date',\n",
       "       'service_product_base_end_of_service_contract_renewal_date',\n",
       "       'service_product_base_end_software_maintenance_date',\n",
       "       'service_product_base_mapped_service_list_price',\n",
       "       'service_product_base_mapped_service_level', 'distributor_type',\n",
       "       'pos_distributor_base_country_name', 'theater_name',\n",
       "       'service_distributor_base_distributor_type',\n",
       "       'service_distributor_base_country_name',\n",
       "       'service_distributor_base_theater_name', 'customer_renewal_rate'],\n",
       "      dtype='object')"
      ]
     },
     "execution_count": 9,
     "metadata": {},
     "output_type": "execute_result"
    }
   ],
   "source": [
    "unclean_columns"
   ]
  },
  {
   "cell_type": "code",
   "execution_count": 10,
   "metadata": {},
   "outputs": [
    {
     "name": "stdout",
     "output_type": "stream",
     "text": [
      "2.4787235260009766\n"
     ]
    }
   ],
   "source": [
    "#Remove columns which have too many categories and is string type\n",
    "t1=time.time()\n",
    "messy_columns = []\n",
    "for col in train.columns:\n",
    "    if(train[col].dtype=='O' and len(train[col].unique())>=5):\n",
    "        messy_columns.append(col)\n",
    "t2=time.time()\n",
    "print(t2-t1)"
   ]
  },
  {
   "cell_type": "code",
   "execution_count": 236,
   "metadata": {},
   "outputs": [
    {
     "data": {
      "text/plain": [
       "103"
      ]
     },
     "execution_count": 236,
     "metadata": {},
     "output_type": "execute_result"
    }
   ],
   "source": [
    "# 56 messy columns are removed\n",
    "len(messy_columns)"
   ]
  },
  {
   "cell_type": "code",
   "execution_count": 237,
   "metadata": {},
   "outputs": [
    {
     "name": "stdout",
     "output_type": "stream",
     "text": [
      "2.6776607036590576\n"
     ]
    }
   ],
   "source": [
    "t1=time.time()\n",
    "train=train.drop(messy_columns,axis=1)\n",
    "test=test.drop(messy_columns,axis=1)\n",
    "t2=time.time()\n",
    "print(t2-t1)"
   ]
  },
  {
   "cell_type": "code",
   "execution_count": 238,
   "metadata": {},
   "outputs": [
    {
     "data": {
      "text/plain": [
       "(226140, 97)"
      ]
     },
     "execution_count": 238,
     "metadata": {},
     "output_type": "execute_result"
    }
   ],
   "source": [
    "train.shape"
   ]
  },
  {
   "cell_type": "code",
   "execution_count": 239,
   "metadata": {},
   "outputs": [
    {
     "name": "stdout",
     "output_type": "stream",
     "text": [
      "1.6395678520202637\n"
     ]
    }
   ],
   "source": [
    "#Remove the primary key column for data fitting\n",
    "t1=time.time()\n",
    "test_ids=test['innovation_challenge_key']\n",
    "train = train.drop('innovation_challenge_key',axis=1)\n",
    "test = test.drop('innovation_challenge_key',axis=1)\n",
    "t2=time.time()\n",
    "print(t2-t1)"
   ]
  },
  {
   "cell_type": "code",
   "execution_count": 240,
   "metadata": {},
   "outputs": [
    {
     "name": "stdout",
     "output_type": "stream",
     "text": [
      "0.024494647979736328\n"
     ]
    }
   ],
   "source": [
    "#Number of unique values in each columns\n",
    "t1=time.time()\n",
    "catcols=[]\n",
    "scalcols=[]\n",
    "for col in train.columns:\n",
    "    if (train[col].dtype !='object'):\n",
    "        if(len(train[col].unique())<=5):\n",
    "            catcols.append(col)\n",
    "        else:\n",
    "            scalcols.append(col)\n",
    "t2=time.time()\n",
    "print(t2-t1)"
   ]
  },
  {
   "cell_type": "code",
   "execution_count": 241,
   "metadata": {},
   "outputs": [
    {
     "name": "stdout",
     "output_type": "stream",
     "text": [
      "0.1072225570678711\n"
     ]
    }
   ],
   "source": [
    "#handle catcols\n",
    "t1=time.time()\n",
    "for col in catcols:\n",
    "    train[col]=train[col].astype('category')\n",
    "    test[col]=test[col].astype('category')\n",
    "t2=time.time()\n",
    "print(t2-t1)"
   ]
  },
  {
   "cell_type": "code",
   "execution_count": 242,
   "metadata": {},
   "outputs": [
    {
     "data": {
      "text/plain": [
       "False"
      ]
     },
     "execution_count": 242,
     "metadata": {},
     "output_type": "execute_result"
    }
   ],
   "source": [
    "'zipcode' in test.columns"
   ]
  },
  {
   "cell_type": "code",
   "execution_count": 187,
   "metadata": {},
   "outputs": [],
   "source": [
    "train=train.drop('zip_code',axis=1)\n",
    "test=test.drop('zip_code',axis=1)"
   ]
  },
  {
   "cell_type": "code",
   "execution_count": 243,
   "metadata": {},
   "outputs": [
    {
     "data": {
      "text/plain": [
       "['product_transaction_type', 'contract_line_reaction_time_code']"
      ]
     },
     "execution_count": 243,
     "metadata": {},
     "output_type": "execute_result"
    }
   ],
   "source": [
    "catcols"
   ]
  },
  {
   "cell_type": "code",
   "execution_count": 244,
   "metadata": {},
   "outputs": [],
   "source": [
    "catcols.extend(['sales_hierarchy_level','service_sales_node_base_sales_hierarchy_level'])"
   ]
  },
  {
   "cell_type": "code",
   "execution_count": 245,
   "metadata": {},
   "outputs": [
    {
     "data": {
      "text/plain": [
       "['sales_hierarchy_level',\n",
       " 'service_sales_node_base_sales_hierarchy_level',\n",
       " 'zip_code',\n",
       " 'contract_line_net_usd_amount',\n",
       " 'product_net_price',\n",
       " 'sales_node_renewal_rate',\n",
       " 'partner_renewal_rate',\n",
       " 'product_renewal_rate',\n",
       " 'service_sales_node_installed_base_sales_node_renewal_rate',\n",
       " 'service_partner_installed_base_partner_renewal_rate']"
      ]
     },
     "execution_count": 245,
     "metadata": {},
     "output_type": "execute_result"
    }
   ],
   "source": [
    "scalcols"
   ]
  },
  {
   "cell_type": "code",
   "execution_count": 246,
   "metadata": {},
   "outputs": [],
   "source": [
    "#scalcols.remove('sales_hierarchy_level')\n",
    "#scalcols.remove('service_sales_node_base_sales_hierarchy_level')\n",
    "scalcols.remove('zip_code')"
   ]
  },
  {
   "cell_type": "code",
   "execution_count": 247,
   "metadata": {},
   "outputs": [],
   "source": [
    "train[scalcols]=train[scalcols].fillna(train[scalcols].mean())\n",
    "test[scalcols]=test[scalcols].fillna(test[scalcols].mean())"
   ]
  },
  {
   "cell_type": "code",
   "execution_count": 248,
   "metadata": {},
   "outputs": [],
   "source": [
    "train[catcols]=train[catcols].fillna(train[catcols].mode())\n",
    "test[catcols]=test[catcols].fillna(test[catcols].mode())"
   ]
  },
  {
   "cell_type": "code",
   "execution_count": 249,
   "metadata": {},
   "outputs": [
    {
     "data": {
      "text/plain": [
       "['sales_hierarchy_level',\n",
       " 'service_sales_node_base_sales_hierarchy_level',\n",
       " 'contract_line_net_usd_amount',\n",
       " 'product_net_price',\n",
       " 'sales_node_renewal_rate',\n",
       " 'partner_renewal_rate',\n",
       " 'product_renewal_rate',\n",
       " 'service_sales_node_installed_base_sales_node_renewal_rate',\n",
       " 'service_partner_installed_base_partner_renewal_rate']"
      ]
     },
     "execution_count": 249,
     "metadata": {},
     "output_type": "execute_result"
    }
   ],
   "source": [
    "scalcols"
   ]
  },
  {
   "cell_type": "code",
   "execution_count": 250,
   "metadata": {},
   "outputs": [
    {
     "name": "stdout",
     "output_type": "stream",
     "text": [
      "2.9868226051330566\n"
     ]
    }
   ],
   "source": [
    "#Normalize integer data\n",
    "t1=time.time()\n",
    "from sklearn.preprocessing import StandardScaler\n",
    "scaler = StandardScaler()\n",
    "scaler = scaler.fit(train[scalcols])\n",
    "train[scalcols] = scaler.transform(train[scalcols])\n",
    "scaler = scaler.fit(test[scalcols])\n",
    "test[scalcols] = scaler.transform(test[scalcols])\n",
    "t2=time.time()\n",
    "print(t2-t1)"
   ]
  },
  {
   "cell_type": "code",
   "execution_count": 251,
   "metadata": {},
   "outputs": [
    {
     "data": {
      "text/html": [
       "<div>\n",
       "<style scoped>\n",
       "    .dataframe tbody tr th:only-of-type {\n",
       "        vertical-align: middle;\n",
       "    }\n",
       "\n",
       "    .dataframe tbody tr th {\n",
       "        vertical-align: top;\n",
       "    }\n",
       "\n",
       "    .dataframe thead th {\n",
       "        text-align: right;\n",
       "    }\n",
       "</style>\n",
       "<table border=\"1\" class=\"dataframe\">\n",
       "  <thead>\n",
       "    <tr style=\"text-align: right;\">\n",
       "      <th></th>\n",
       "      <th>sales_hierarchy_level</th>\n",
       "      <th>service_sales_node_base_sales_hierarchy_level</th>\n",
       "      <th>contract_line_net_usd_amount</th>\n",
       "      <th>product_net_price</th>\n",
       "      <th>sales_node_renewal_rate</th>\n",
       "      <th>partner_renewal_rate</th>\n",
       "      <th>product_renewal_rate</th>\n",
       "      <th>service_sales_node_installed_base_sales_node_renewal_rate</th>\n",
       "      <th>service_partner_installed_base_partner_renewal_rate</th>\n",
       "    </tr>\n",
       "  </thead>\n",
       "  <tbody>\n",
       "    <tr>\n",
       "      <th>count</th>\n",
       "      <td>2.261400e+05</td>\n",
       "      <td>2.261400e+05</td>\n",
       "      <td>2.261400e+05</td>\n",
       "      <td>2.261400e+05</td>\n",
       "      <td>2.261400e+05</td>\n",
       "      <td>2.261400e+05</td>\n",
       "      <td>226140.000000</td>\n",
       "      <td>2.261400e+05</td>\n",
       "      <td>2.261400e+05</td>\n",
       "    </tr>\n",
       "    <tr>\n",
       "      <th>mean</th>\n",
       "      <td>-1.829929e-16</td>\n",
       "      <td>4.524549e-18</td>\n",
       "      <td>1.005455e-17</td>\n",
       "      <td>1.206546e-17</td>\n",
       "      <td>-8.524376e-17</td>\n",
       "      <td>-4.411435e-17</td>\n",
       "      <td>0.000000</td>\n",
       "      <td>5.031204e-17</td>\n",
       "      <td>-8.124158e-18</td>\n",
       "    </tr>\n",
       "    <tr>\n",
       "      <th>std</th>\n",
       "      <td>1.000002e+00</td>\n",
       "      <td>1.000002e+00</td>\n",
       "      <td>1.000002e+00</td>\n",
       "      <td>1.000002e+00</td>\n",
       "      <td>1.000002e+00</td>\n",
       "      <td>1.000002e+00</td>\n",
       "      <td>1.000002</td>\n",
       "      <td>1.000002e+00</td>\n",
       "      <td>1.000002e+00</td>\n",
       "    </tr>\n",
       "    <tr>\n",
       "      <th>min</th>\n",
       "      <td>-2.933243e+00</td>\n",
       "      <td>-2.137117e+01</td>\n",
       "      <td>-1.252316e-01</td>\n",
       "      <td>-2.321716e-01</td>\n",
       "      <td>-5.724046e+00</td>\n",
       "      <td>-3.235729e-01</td>\n",
       "      <td>-0.171298</td>\n",
       "      <td>-2.311610e+00</td>\n",
       "      <td>-6.788500e-02</td>\n",
       "    </tr>\n",
       "    <tr>\n",
       "      <th>25%</th>\n",
       "      <td>3.463599e-01</td>\n",
       "      <td>8.693692e-02</td>\n",
       "      <td>-1.252316e-01</td>\n",
       "      <td>-2.321716e-01</td>\n",
       "      <td>0.000000e+00</td>\n",
       "      <td>-6.406592e-03</td>\n",
       "      <td>0.000000</td>\n",
       "      <td>0.000000e+00</td>\n",
       "      <td>-1.663313e-02</td>\n",
       "    </tr>\n",
       "    <tr>\n",
       "      <th>50%</th>\n",
       "      <td>3.463599e-01</td>\n",
       "      <td>8.693692e-02</td>\n",
       "      <td>-1.252316e-01</td>\n",
       "      <td>-2.321716e-01</td>\n",
       "      <td>0.000000e+00</td>\n",
       "      <td>-5.496591e-17</td>\n",
       "      <td>0.000000</td>\n",
       "      <td>0.000000e+00</td>\n",
       "      <td>-8.882108e-18</td>\n",
       "    </tr>\n",
       "    <tr>\n",
       "      <th>75%</th>\n",
       "      <td>3.463599e-01</td>\n",
       "      <td>8.693692e-02</td>\n",
       "      <td>-1.252316e-01</td>\n",
       "      <td>-1.584198e-01</td>\n",
       "      <td>0.000000e+00</td>\n",
       "      <td>-5.496591e-17</td>\n",
       "      <td>0.000000</td>\n",
       "      <td>0.000000e+00</td>\n",
       "      <td>-8.882108e-18</td>\n",
       "    </tr>\n",
       "    <tr>\n",
       "      <th>max</th>\n",
       "      <td>3.463599e-01</td>\n",
       "      <td>8.693692e-02</td>\n",
       "      <td>7.774224e+01</td>\n",
       "      <td>6.648806e+01</td>\n",
       "      <td>7.628503e+01</td>\n",
       "      <td>1.612224e+02</td>\n",
       "      <td>196.387833</td>\n",
       "      <td>9.051475e+01</td>\n",
       "      <td>1.676407e+02</td>\n",
       "    </tr>\n",
       "  </tbody>\n",
       "</table>\n",
       "</div>"
      ],
      "text/plain": [
       "       sales_hierarchy_level  service_sales_node_base_sales_hierarchy_level  \\\n",
       "count           2.261400e+05                                   2.261400e+05   \n",
       "mean           -1.829929e-16                                   4.524549e-18   \n",
       "std             1.000002e+00                                   1.000002e+00   \n",
       "min            -2.933243e+00                                  -2.137117e+01   \n",
       "25%             3.463599e-01                                   8.693692e-02   \n",
       "50%             3.463599e-01                                   8.693692e-02   \n",
       "75%             3.463599e-01                                   8.693692e-02   \n",
       "max             3.463599e-01                                   8.693692e-02   \n",
       "\n",
       "       contract_line_net_usd_amount  product_net_price  \\\n",
       "count                  2.261400e+05       2.261400e+05   \n",
       "mean                   1.005455e-17       1.206546e-17   \n",
       "std                    1.000002e+00       1.000002e+00   \n",
       "min                   -1.252316e-01      -2.321716e-01   \n",
       "25%                   -1.252316e-01      -2.321716e-01   \n",
       "50%                   -1.252316e-01      -2.321716e-01   \n",
       "75%                   -1.252316e-01      -1.584198e-01   \n",
       "max                    7.774224e+01       6.648806e+01   \n",
       "\n",
       "       sales_node_renewal_rate  partner_renewal_rate  product_renewal_rate  \\\n",
       "count             2.261400e+05          2.261400e+05         226140.000000   \n",
       "mean             -8.524376e-17         -4.411435e-17              0.000000   \n",
       "std               1.000002e+00          1.000002e+00              1.000002   \n",
       "min              -5.724046e+00         -3.235729e-01             -0.171298   \n",
       "25%               0.000000e+00         -6.406592e-03              0.000000   \n",
       "50%               0.000000e+00         -5.496591e-17              0.000000   \n",
       "75%               0.000000e+00         -5.496591e-17              0.000000   \n",
       "max               7.628503e+01          1.612224e+02            196.387833   \n",
       "\n",
       "       service_sales_node_installed_base_sales_node_renewal_rate  \\\n",
       "count                                       2.261400e+05           \n",
       "mean                                        5.031204e-17           \n",
       "std                                         1.000002e+00           \n",
       "min                                        -2.311610e+00           \n",
       "25%                                         0.000000e+00           \n",
       "50%                                         0.000000e+00           \n",
       "75%                                         0.000000e+00           \n",
       "max                                         9.051475e+01           \n",
       "\n",
       "       service_partner_installed_base_partner_renewal_rate  \n",
       "count                                       2.261400e+05    \n",
       "mean                                       -8.124158e-18    \n",
       "std                                         1.000002e+00    \n",
       "min                                        -6.788500e-02    \n",
       "25%                                        -1.663313e-02    \n",
       "50%                                        -8.882108e-18    \n",
       "75%                                        -8.882108e-18    \n",
       "max                                         1.676407e+02    "
      ]
     },
     "execution_count": 251,
     "metadata": {},
     "output_type": "execute_result"
    }
   ],
   "source": [
    "train[scalcols].describe()"
   ]
  },
  {
   "cell_type": "code",
   "execution_count": 252,
   "metadata": {},
   "outputs": [
    {
     "name": "stdout",
     "output_type": "stream",
     "text": [
      "1007.4587190151215\n"
     ]
    }
   ],
   "source": [
    "#convert data to one hot encoding to handle categorical values\n",
    "t1=time.time()\n",
    "train_objs_num = len(train)\n",
    "dataset = pd.concat(objs=[train, test], axis=0)\n",
    "dataset = pd.get_dummies(dataset)\n",
    "train = dataset[:train_objs_num]\n",
    "test = dataset[train_objs_num:]\n",
    "t2=time.time()\n",
    "print(t2-t1)"
   ]
  },
  {
   "cell_type": "code",
   "execution_count": 253,
   "metadata": {},
   "outputs": [
    {
     "data": {
      "text/plain": [
       "Index(['contract_line_reaction_time_code', 'sales_hierarchy_level',\n",
       "       'service_sales_node_base_sales_hierarchy_level',\n",
       "       'contract_line_net_usd_amount', 'product_net_price',\n",
       "       'sales_node_renewal_rate', 'partner_renewal_rate',\n",
       "       'product_renewal_rate',\n",
       "       'service_sales_node_installed_base_sales_node_renewal_rate',\n",
       "       'service_partner_installed_base_partner_renewal_rate',\n",
       "       ...\n",
       "       'service_partner_base_minority_owned_business_yorn_N',\n",
       "       'service_partner_base_minority_owned_business_yorn_Y',\n",
       "       'service_partner_base_woman_owned_business_yorn_N',\n",
       "       'service_partner_base_woman_owned_business_yorn_Y',\n",
       "       'service_partner_base_hubzone_small_business_yorn_N',\n",
       "       'service_partner_base_hubzone_small_business_yorn_Y',\n",
       "       'service_partner_base_disabled_veteran_owned_business_yorn_N',\n",
       "       'service_partner_base_disabled_veteran_owned_business_yorn_Y',\n",
       "       'distributor_normalized_name_1D5361239B4297AF9198AAEF769C2A4191997D651AF3FFF31DF9476F9F602ED6',\n",
       "       'service_distributor_base_distributor_normalized_name_A096DD969881554D12B5297CD9DF3CB0C6632E882AA28126C8FC410923A74EDF'],\n",
       "      dtype='object', length=10288)"
      ]
     },
     "execution_count": 253,
     "metadata": {},
     "output_type": "execute_result"
    }
   ],
   "source": [
    "train.columns"
   ]
  },
  {
   "cell_type": "code",
   "execution_count": 254,
   "metadata": {},
   "outputs": [
    {
     "data": {
      "text/plain": [
       "(226140, 10288)"
      ]
     },
     "execution_count": 254,
     "metadata": {},
     "output_type": "execute_result"
    }
   ],
   "source": [
    "#print the new columns we got\n",
    "train.shape"
   ]
  },
  {
   "cell_type": "code",
   "execution_count": 255,
   "metadata": {},
   "outputs": [
    {
     "data": {
      "text/plain": [
       "(1888195, 10288)"
      ]
     },
     "execution_count": 255,
     "metadata": {},
     "output_type": "execute_result"
    }
   ],
   "source": [
    "test.shape"
   ]
  },
  {
   "cell_type": "code",
   "execution_count": 204,
   "metadata": {},
   "outputs": [
    {
     "data": {
      "text/plain": [
       "False"
      ]
     },
     "execution_count": 204,
     "metadata": {},
     "output_type": "execute_result"
    }
   ],
   "source": [
    "#check data quality now\n",
    "train.isnull().any().any()"
   ]
  },
  {
   "cell_type": "code",
   "execution_count": 205,
   "metadata": {},
   "outputs": [
    {
     "data": {
      "text/plain": [
       "False"
      ]
     },
     "execution_count": 205,
     "metadata": {},
     "output_type": "execute_result"
    }
   ],
   "source": [
    "#check data quality now\n",
    "test.isnull().any().any()"
   ]
  },
  {
   "cell_type": "code",
   "execution_count": 206,
   "metadata": {},
   "outputs": [
    {
     "name": "stdout",
     "output_type": "stream",
     "text": [
      "contract_line_reaction_time_code\n",
      "sales_hierarchy_level\n",
      "service_sales_node_base_sales_hierarchy_level\n",
      "contract_line_net_usd_amount\n",
      "product_net_price\n",
      "sales_node_renewal_rate\n",
      "partner_renewal_rate\n",
      "product_renewal_rate\n",
      "service_sales_node_installed_base_sales_node_renewal_rate\n",
      "service_partner_installed_base_partner_renewal_rate\n",
      "minor_line_yorn_N\n",
      "minor_line_yorn_Y\n",
      "instance_status_Latest-INSTALLED\n",
      "product_transaction_type_-9999\n",
      "product_transaction_type_10000\n",
      "product_transaction_type_10002\n",
      "installed_product_type_NONSERIALIZED\n",
      "installed_product_type_SERIALIZED\n",
      "installed_product_component_yorn_N\n",
      "installed_product_component_yorn_Y\n",
      "component_type_CHILD\n",
      "component_type_PARENT\n",
      "component_type_PARENT-CHILD\n",
      "component_type_STANDALONE\n",
      "scdc_product_yorn_Y\n",
      "service_classification_ADVANCED SERVICES\n",
      "service_classification_TECHNICAL SERVICES\n",
      "contract_line_multi_year_discount_yorn_N\n",
      "contract_line_multi_year_discount_yorn_Y\n",
      "contract_line_route_to_market_code_1-TIER\n",
      "contract_line_route_to_market_code_2-TIER\n",
      "contract_line_route_to_market_code_DIRECT\n",
      "contract_line_sales_motion_code_NEW\n",
      "contract_line_sales_motion_code_RENEW\n",
      "default_multi_year_discount_yorn_N\n",
      "default_multi_year_discount_yorn_Y\n",
      "low_dollar_contract_yorn_=\n",
      "low_dollar_contract_yorn_N\n",
      "contract_line_source_business_process_name_Onsite Labor and Replace Parts\n",
      "contract_line_source_business_process_name_UNKNOWN\n",
      "contract_line_repair_service_order_level_PREMPL\n",
      "contract_line_repair_service_order_level_UNKNOWN\n",
      "product_bookings_measure_transaction_type_AR\n",
      "product_bookings_measure_transaction_type_ERP\n",
      "product_adjustment_type_BOOKING\n",
      "product_adjustment_type_UNKNOWN\n",
      "product_channel_bookings_yorn_N\n",
      "product_channel_bookings_yorn_Y\n",
      "service_channel_bookings_yorn_N\n",
      "service_channel_bookings_yorn_Y\n",
      "service_bookings_measure_transaction_type_AR\n",
      "service_bookings_measure_transaction_type_ERP\n",
      "auto_quote_yorn_N\n",
      "auto_quote_yorn_Y\n",
      "hardware_yorn_N\n",
      "hardware_yorn_Y\n",
      "software_yorn_N\n",
      "software_yorn_Y\n",
      "acw_yorn_N\n",
      "acw_yorn_Y\n",
      "enterprise_license_agreement_yorn_N\n",
      "enterprise_license_agreement_yorn_Y\n",
      "software_opportunity_type_EXPIRED\n",
      "software_opportunity_type_UNKNOWN\n",
      "software_opportunity_type_UPDATE SERVICE LEVEL\n",
      "united_states_yorn_N\n",
      "united_states_yorn_Y\n",
      "country_type_DC-10\n",
      "country_type_EC-10\n",
      "country_type_Standard\n",
      "service_sales_node_base_united_states_yorn_N\n",
      "service_sales_node_base_united_states_yorn_Y\n",
      "service_sales_node_base_country_type_DC-10\n",
      "service_sales_node_base_country_type_EC-10\n",
      "service_sales_node_base_country_type_Standard\n",
      "manufacturing_plant_SERVICE\n",
      "manufacturing_plant_UNKNOWN\n",
      "software_stack_Application\n",
      "software_stack_Infrastructure\n",
      "software_stack_Platform\n",
      "software_stack_UNKNOWN\n",
      "monetization_type_Perpetual\n",
      "monetization_type_Term\n",
      "monetization_type_UNKNOWN\n",
      "product_category_HW Embedded with SW\n",
      "product_category_Hardware\n",
      "product_category_Software\n",
      "product_category_UNKNOWN\n",
      "product_setup_classification_Hardware\n",
      "product_setup_classification_Software\n",
      "product_setup_classification_UNKNOWN\n",
      "product_family_owner_SCIENTIFIC ATLANTA\n",
      "product_family_owner_UNKNOWN\n",
      "warranty_category_Others\n",
      "software_support_services_eligible_yorn_N\n",
      "software_support_services_eligible_yorn_Y\n",
      "discount_category_COMPUTE\n",
      "discount_category_CORE\n",
      "discount_category_MARKET\n",
      "product_classification_Hardware\n",
      "product_classification_Software\n",
      "service_product_base_business_unit_ADVANCED SERVICES\n",
      "service_product_base_business_unit_SERVICE\n",
      "service_product_base_business_unit_TECHNICAL SUPPORT SERVICES\n",
      "service_product_base_technology_group_SERVICE\n",
      "service_product_base_product_type_CONTRACT\n",
      "service_product_base_item_type_SOFTWARE\n",
      "service_product_base_manufacturing_plant_SERVICE\n",
      "service_product_base_manufacturing_plant_UNKNOWN\n",
      "service_product_base_software_stack_SW Service\n",
      "service_product_base_software_stack_UNKNOWN\n",
      "service_product_base_monetization_type_Term\n",
      "service_product_base_monetization_type_UNKNOWN\n",
      "service_product_base_product_category_Software Service\n",
      "service_product_base_product_category_UNKNOWN\n",
      "service_product_base_product_setup_classification_Service\n",
      "service_product_base_product_setup_classification_Software\n",
      "service_product_base_software_usage_type_On-Premise\n",
      "service_product_base_software_usage_type_UNKNOWN\n",
      "service_product_base_erp_item_type_SERVICE TYPE\n",
      "service_product_base_item_status_ENABLE-NON\n",
      "service_product_base_item_status_OBSOLETE\n",
      "service_product_base_product_family_owner_UNKNOWN\n",
      "service_product_base_warranty_category_Others\n",
      "service_product_base_software_support_services_eligible_yorn_N\n",
      "service_product_base_discount_category_CORE\n",
      "service_product_base_discount_category_UNKNOWN\n",
      "service_product_base_product_classification_Service\n",
      "service_product_base_product_classification_Software\n",
      "service_product_base_service_brand_code_CISCOBRANDED\n",
      "service_product_base_service_brand_code_CO-BRANDED\n",
      "service_product_base_service_brand_code_PARTNERBRANDED\n",
      "global_customer_market_segment_name_Commercial\n",
      "global_customer_market_segment_name_Enterprise\n",
      "global_customer_market_segment_name_Service Provider\n",
      "country_UNITED STATES\n",
      "site_type_BR\n",
      "site_type_HQ\n",
      "customer_market_segment_name_Commercial\n",
      "customer_market_segment_name_Enterprise\n",
      "customer_market_segment_name_Service Provider\n",
      "customer_market_segment_name_Unknown Customer Market Segment\n",
      "hq_customer_market_segment_name_Commercial\n",
      "hq_customer_market_segment_name_Enterprise\n",
      "hq_customer_market_segment_name_Service Provider\n",
      "hq_customer_market_segment_name_Unknown Customer Market Segment\n",
      "gu_site_type_HQ\n",
      "gu_customer_market_segment_name_Commercial\n",
      "gu_customer_market_segment_name_Enterprise\n",
      "gu_customer_market_segment_name_Service Provider\n",
      "status_code_A\n",
      "status_code_I\n",
      "partner_country_registered_type_R\n",
      "partner_country_registered_type_U\n",
      "partner_tier_1-TIER\n",
      "partner_tier_2-TIER\n",
      "qualification_type_description_CERTIFICATION\n",
      "disadvantaged_business_yorn_N\n",
      "disadvantaged_business_yorn_Y\n",
      "minority_owned_business_yorn_N\n",
      "minority_owned_business_yorn_Y\n",
      "woman_owned_business_yorn_N\n",
      "woman_owned_business_yorn_Y\n",
      "hubzone_small_business_yorn_N\n",
      "hubzone_small_business_yorn_Y\n",
      "disabled_veteran_owned_business_yorn_N\n",
      "disabled_veteran_owned_business_yorn_Y\n",
      "service_partner_base_status_code_A\n",
      "service_partner_base_status_code_I\n",
      "service_partner_base_partner_country_registered_type_R\n",
      "service_partner_base_partner_country_registered_type_U\n",
      "service_partner_base_partner_tier_1-TIER\n",
      "service_partner_base_partner_tier_2-TIER\n",
      "service_partner_base_qualification_type_description_CERTIFICATION\n",
      "service_partner_base_disadvantaged_business_yorn_N\n",
      "service_partner_base_disadvantaged_business_yorn_Y\n",
      "service_partner_base_minority_owned_business_yorn_N\n",
      "service_partner_base_minority_owned_business_yorn_Y\n",
      "service_partner_base_woman_owned_business_yorn_N\n",
      "service_partner_base_woman_owned_business_yorn_Y\n",
      "service_partner_base_hubzone_small_business_yorn_N\n",
      "service_partner_base_hubzone_small_business_yorn_Y\n",
      "service_partner_base_disabled_veteran_owned_business_yorn_N\n",
      "service_partner_base_disabled_veteran_owned_business_yorn_Y\n",
      "distributor_normalized_name_1D5361239B4297AF9198AAEF769C2A4191997D651AF3FFF31DF9476F9F602ED6\n",
      "service_distributor_base_distributor_normalized_name_A096DD969881554D12B5297CD9DF3CB0C6632E882AA28126C8FC410923A74EDF\n"
     ]
    }
   ],
   "source": [
    "for col in train.columns:\n",
    "    print(col)"
   ]
  },
  {
   "cell_type": "code",
   "execution_count": 207,
   "metadata": {},
   "outputs": [
    {
     "name": "stdout",
     "output_type": "stream",
     "text": [
      "0.24495673179626465\n"
     ]
    }
   ],
   "source": [
    "#split the data between train and validation set\n",
    "t1=time.time()\n",
    "from sklearn.model_selection import train_test_split\n",
    "X_train, X_valid, y_train, y_valid = train_test_split(train,train_y,test_size=0.33, random_state=42)\n",
    "t2=time.time()\n",
    "print(t2-t1)"
   ]
  },
  {
   "cell_type": "code",
   "execution_count": 208,
   "metadata": {},
   "outputs": [
    {
     "data": {
      "text/plain": [
       "(151513, 186)"
      ]
     },
     "execution_count": 208,
     "metadata": {},
     "output_type": "execute_result"
    }
   ],
   "source": [
    "#Dimensions of training data\n",
    "X_train.shape"
   ]
  },
  {
   "cell_type": "code",
   "execution_count": 209,
   "metadata": {},
   "outputs": [],
   "source": [
    "clean_col_name=[]\n",
    "for col in X_train.columns:\n",
    "    col = col.replace('<','X')\n",
    "    col = col.replace('>','Y')\n",
    "    col = col.replace('[','A')\n",
    "    col = col.replace(']','B')\n",
    "    clean_col_name.append(col)\n",
    "X_train.columns = clean_col_name\n",
    "clean_col_name=[]\n",
    "for col in X_valid.columns:\n",
    "    col = col.replace('<','X')\n",
    "    col = col.replace('>','Y')\n",
    "    col = col.replace('[','A')\n",
    "    col = col.replace(']','B')\n",
    "    clean_col_name.append(col)\n",
    "X_valid.columns = clean_col_name\n",
    "clean_col_name=[]\n",
    "for col in test.columns:\n",
    "    col = col.replace('<','X')\n",
    "    col = col.replace('>','Y')\n",
    "    col = col.replace('[','A')\n",
    "    col = col.replace(']','B')\n",
    "    clean_col_name.append(col)\n",
    "test.columns = clean_col_name"
   ]
  },
  {
   "cell_type": "code",
   "execution_count": 215,
   "metadata": {},
   "outputs": [],
   "source": [
    "def XGB_CV(\n",
    "          max_depth,\n",
    "          gamma,\n",
    "          min_child_weight,\n",
    "          max_delta_step,\n",
    "          subsample,\n",
    "          colsample_bytree\n",
    "         ):\n",
    "    global AUCbest\n",
    "    global ITERbest\n",
    "\n",
    "#\n",
    "# Define all XGboost parameters\n",
    "#\n",
    "\n",
    "    paramt = {\n",
    "        'booster' : 'gbtree',\n",
    "        'max_depth' : int(max_depth),\n",
    "        'gamma' : gamma,\n",
    "        'eta' : 0.1,\n",
    "        'objective' : 'binary:logistic',\n",
    "        'nthread' : 4,\n",
    "        'silent' : True,\n",
    "        'eval_metric': 'logloss',\n",
    "        'subsample' : max(min(subsample, 1), 0),\n",
    "        'colsample_bytree' : max(min(colsample_bytree, 1), 0),\n",
    "        'min_child_weight' : min_child_weight,\n",
    "        'max_delta_step' : int(max_delta_step),\n",
    "        'seed' : 1001\n",
    "        }\n",
    "\n",
    "    folds = 5\n",
    "    cv_score = 0\n",
    "\n",
    "    xgbc = xgb.cv(\n",
    "                    paramt,\n",
    "                    dtrain,\n",
    "                    num_boost_round = 500,\n",
    "                    stratified = True,\n",
    "                    nfold = folds,\n",
    "#                    verbose_eval = 10,\n",
    "                    early_stopping_rounds = 20,\n",
    "                    metrics = 'logloss',\n",
    "                    show_stdv = True\n",
    "               )\n",
    "\n",
    "    val_score = xgbc['test-logloss-mean'].iloc[-1]\n",
    "    train_score = xgbc['train-logloss-mean'].iloc[-1]\n",
    "    print(' Stopped after %d iterations with train-auc = %f val-auc = %f ( diff = %f ) train-gini = %f val-gini = %f' % ( len(xgbc), train_score, val_score, (train_score - val_score), (train_score*2-1),\n",
    "    (val_score*2-1)) )\n",
    "    if ( val_score > AUCbest ):\n",
    "        AUCbest = val_score\n",
    "        ITERbest = len(xgbc)\n",
    "    return (val_score*2) - 1"
   ]
  },
  {
   "cell_type": "code",
   "execution_count": 216,
   "metadata": {},
   "outputs": [],
   "source": [
    "import xgboost as xgb\n",
    "log_file = open('Porto-AUC-5fold-XGB-run-01-v1-full1.log', 'a')\n",
    "AUCbest = -1.\n",
    "ITERbest = 0\n",
    "y_dtrain=pd.get_dummies(y_train)\n",
    "dtrain = xgb.DMatrix(X_train, label = y_dtrain['Y'])\n"
   ]
  },
  {
   "cell_type": "code",
   "execution_count": 217,
   "metadata": {},
   "outputs": [],
   "source": [
    "XGB_BO = BayesianOptimization(XGB_CV, {\n",
    "                                     'max_depth': (2, 12),\n",
    "                                     'gamma': (0.001, 50.0),\n",
    "                                     'min_child_weight': (0, 20),\n",
    "                                     'max_delta_step': (0, 10),\n",
    "                                     'subsample': (0.4, 1.0),\n",
    "                                     'colsample_bytree' :(0.4, 1.0)\n",
    "                                    })"
   ]
  },
  {
   "cell_type": "code",
   "execution_count": 218,
   "metadata": {},
   "outputs": [],
   "source": [
    "XGB_BO.explore({\n",
    "              'max_depth':            [3, 8, 3, 8, 8, 3, 8, 3],\n",
    "              'gamma':                [0.5, 8, 0.2, 9, 0.5, 8, 0.2, 9],\n",
    "              'min_child_weight':     [0.2, 0.2, 0.2, 0.2, 12, 12, 12, 12],\n",
    "              'max_delta_step':       [1, 2, 2, 1, 2, 1, 1, 2],\n",
    "              'subsample':            [0.6, 0.8, 0.6, 0.8, 0.6, 0.8, 0.6, 0.8],\n",
    "              'colsample_bytree':     [0.6, 0.8, 0.6, 0.8, 0.6, 0.8, 0.6, 0.8],\n",
    "              })"
   ]
  },
  {
   "cell_type": "code",
   "execution_count": 219,
   "metadata": {},
   "outputs": [
    {
     "name": "stdout",
     "output_type": "stream",
     "text": [
      "----------------------------------------------------------------------------------------------------------------------------------\n",
      "\u001b[31mInitialization\u001b[0m\n",
      "\u001b[94m----------------------------------------------------------------------------------------------------------------------------------\u001b[0m\n",
      " Step |   Time |      Value |   colsample_bytree |     gamma |   max_delta_step |   max_depth |   min_child_weight |   subsample | \n",
      " Stopped after 500 iterations with train-auc = 0.495608 val-auc = 0.501026 ( diff = -0.005419 ) train-gini = -0.008785 val-gini = 0.002053\n",
      "    1 | 04m21s | \u001b[35m   0.00205\u001b[0m | \u001b[32m            0.6000\u001b[0m | \u001b[32m   0.5000\u001b[0m | \u001b[32m          1.0000\u001b[0m | \u001b[32m     3.0000\u001b[0m | \u001b[32m            0.2000\u001b[0m | \u001b[32m     0.6000\u001b[0m | \n",
      " Stopped after 500 iterations with train-auc = 0.363188 val-auc = 0.382806 ( diff = -0.019618 ) train-gini = -0.273624 val-gini = -0.234389\n",
      "    2 | 11m21s |   -0.23439 |             0.8000 |    8.0000 |           2.0000 |      8.0000 |             0.2000 |      0.8000 | \n",
      " Stopped after 500 iterations with train-auc = 0.492298 val-auc = 0.498019 ( diff = -0.005721 ) train-gini = -0.015404 val-gini = -0.003962\n",
      "    3 | 04m20s |   -0.00396 |             0.6000 |    0.2000 |           2.0000 |      3.0000 |             0.2000 |      0.6000 | \n",
      " Stopped after 500 iterations with train-auc = 0.376458 val-auc = 0.394289 ( diff = -0.017831 ) train-gini = -0.247084 val-gini = -0.211422\n",
      "    4 | 11m17s |   -0.21142 |             0.8000 |    9.0000 |           1.0000 |      8.0000 |             0.2000 |      0.8000 | \n",
      " Stopped after 500 iterations with train-auc = 0.353191 val-auc = 0.380699 ( diff = -0.027507 ) train-gini = -0.293617 val-gini = -0.238602\n",
      "    5 | 10m03s |   -0.23860 |             0.6000 |    0.5000 |           2.0000 |      8.0000 |            12.0000 |      0.6000 | \n",
      " Stopped after 500 iterations with train-auc = 0.497603 val-auc = 0.502509 ( diff = -0.004906 ) train-gini = -0.004794 val-gini = 0.005019\n",
      "    6 | 04m48s | \u001b[35m   0.00502\u001b[0m | \u001b[32m            0.8000\u001b[0m | \u001b[32m   8.0000\u001b[0m | \u001b[32m          1.0000\u001b[0m | \u001b[32m     3.0000\u001b[0m | \u001b[32m           12.0000\u001b[0m | \u001b[32m     0.8000\u001b[0m | \n",
      " Stopped after 500 iterations with train-auc = 0.355855 val-auc = 0.382925 ( diff = -0.027070 ) train-gini = -0.288290 val-gini = -0.234151\n",
      "    7 | 10m06s |   -0.23415 |             0.6000 |    0.2000 |           1.0000 |      8.0000 |            12.0000 |      0.6000 | \n",
      " Stopped after 500 iterations with train-auc = 0.495941 val-auc = 0.500771 ( diff = -0.004830 ) train-gini = -0.008117 val-gini = 0.001542\n",
      "    8 | 04m41s |    0.00154 |             0.8000 |    9.0000 |           2.0000 |      3.0000 |            12.0000 |      0.8000 | \n",
      " Stopped after 500 iterations with train-auc = 0.450357 val-auc = 0.458476 ( diff = -0.008119 ) train-gini = -0.099285 val-gini = -0.083048\n",
      "    9 | 15m14s |   -0.08305 |             0.9978 |   19.2291 |           1.8093 |      8.1930 |             4.9114 |      0.4222 | \n",
      " Stopped after 500 iterations with train-auc = 0.478178 val-auc = 0.483727 ( diff = -0.005549 ) train-gini = -0.043644 val-gini = -0.032546\n",
      "   10 | 12m03s |   -0.03255 |             0.9159 |   35.0269 |           0.9302 |      7.4091 |            19.7512 |      0.6632 | \n",
      "\u001b[31mBayesian Optimization\u001b[0m\n",
      "\u001b[94m----------------------------------------------------------------------------------------------------------------------------------\u001b[0m\n",
      " Step |   Time |      Value |   colsample_bytree |     gamma |   max_delta_step |   max_depth |   min_child_weight |   subsample | \n",
      " Stopped after 326 iterations with train-auc = 0.563719 val-auc = 0.564269 ( diff = -0.000551 ) train-gini = 0.127437 val-gini = 0.128539\n",
      "   11 | 02m03s | \u001b[35m   0.12854\u001b[0m | \u001b[32m            0.4000\u001b[0m | \u001b[32m  50.0000\u001b[0m | \u001b[32m          0.0000\u001b[0m | \u001b[32m     2.0000\u001b[0m | \u001b[32m            0.0000\u001b[0m | \u001b[32m     0.4000\u001b[0m | \n",
      " Stopped after 500 iterations with train-auc = 0.553190 val-auc = 0.554179 ( diff = -0.000990 ) train-gini = 0.106380 val-gini = 0.108359\n",
      "   12 | 02m55s |    0.10836 |             0.4000 |   31.5019 |           0.0000 |      2.0000 |             0.0000 |      0.4000 | \n",
      " Stopped after 500 iterations with train-auc = 0.561655 val-auc = 0.562226 ( diff = -0.000572 ) train-gini = 0.123309 val-gini = 0.124452\n",
      "   13 | 04m46s |    0.12445 |             1.0000 |   50.0000 |          10.0000 |      2.0000 |            20.0000 |      0.4000 | \n",
      " Stopped after 500 iterations with train-auc = 0.561383 val-auc = 0.561916 ( diff = -0.000534 ) train-gini = 0.122765 val-gini = 0.123832\n",
      "   14 | 04m47s |    0.12383 |             1.0000 |   50.0000 |           0.0000 |      2.0000 |            15.8940 |      0.4000 | \n",
      " Stopped after 500 iterations with train-auc = 0.558038 val-auc = 0.558845 ( diff = -0.000807 ) train-gini = 0.116076 val-gini = 0.117690\n",
      "   15 | 04m25s |    0.11769 |             0.9511 |   50.0000 |          10.0000 |      2.0000 |             5.2371 |      0.6764 | \n",
      "6448.923290967941\n"
     ]
    }
   ],
   "source": [
    "t1=time.time()\n",
    "import warnings\n",
    "print('-'*130)\n",
    "print('-'*130, file=log_file)\n",
    "log_file.flush()\n",
    "\n",
    "with warnings.catch_warnings():\n",
    "    warnings.filterwarnings('ignore')\n",
    "    XGB_BO.maximize(init_points=2, n_iter=5, acq='ei', xi=0.0)\n",
    "t2=time.time()\n",
    "print(t2-t1)"
   ]
  },
  {
   "cell_type": "code",
   "execution_count": 141,
   "metadata": {},
   "outputs": [
    {
     "data": {
      "text/plain": [
       "0.15759800000000013"
      ]
     },
     "execution_count": 141,
     "metadata": {},
     "output_type": "execute_result"
    }
   ],
   "source": [
    "XGB_BO.res['max']['max_val']"
   ]
  },
  {
   "cell_type": "code",
   "execution_count": 142,
   "metadata": {},
   "outputs": [
    {
     "data": {
      "text/plain": [
       "{'colsample_bytree': 0.5051029001397185,\n",
       " 'max_delta_step': 9.995219695530977,\n",
       " 'max_depth': 2.0605381776650993,\n",
       " 'min_child_weight': 0.10031720021157042,\n",
       " 'subsample': 0.5179594185471563}"
      ]
     },
     "execution_count": 142,
     "metadata": {},
     "output_type": "execute_result"
    }
   ],
   "source": [
    "XGB_BO.res['max']['max_params']"
   ]
  },
  {
   "cell_type": "code",
   "execution_count": 223,
   "metadata": {},
   "outputs": [
    {
     "data": {
      "text/plain": [
       "24.614728927612305"
      ]
     },
     "execution_count": 223,
     "metadata": {},
     "output_type": "execute_result"
    }
   ],
   "source": [
    "t1=time.time()\n",
    "xgb1=xgb.XGBClassifier(max_depth=2,gamma=50.0000,colsample_bytree=0.4,\n",
    "                       eval_metric='logloss',max_delta_step= 0.0,min_child_weight= 0.0,\n",
    "                      subsample= 0.4000)\n",
    "pred=xgb1.fit(X_train,y_train).predict_proba(X_valid)\n",
    "log_loss(y_valid,pred[:,1])\n",
    "t2=time.time()\n",
    "t2-t1"
   ]
  },
  {
   "cell_type": "code",
   "execution_count": 224,
   "metadata": {},
   "outputs": [
    {
     "data": {
      "text/plain": [
       "0.5675290197593071"
      ]
     },
     "execution_count": 224,
     "metadata": {},
     "output_type": "execute_result"
    }
   ],
   "source": [
    "log_loss(y_valid,pred[:,1])"
   ]
  },
  {
   "cell_type": "code",
   "execution_count": 225,
   "metadata": {},
   "outputs": [],
   "source": [
    "#submit the prediction score\n",
    "submit = pd.DataFrame()\n",
    "submit['INNOVATION_CHALLENGE_KEY'] = test_ids\n",
    "#RENEWAL_PROBABLIITY\n",
    "submit['RENEWAL_PROBABLIITY']=xgb1.predict_proba(test)[:,1]\n",
    "submit=submit.sort_values('INNOVATION_CHALLENGE_KEY')\n",
    "submit.to_csv('XGB-mincolBO.csv',index=False)"
   ]
  },
  {
   "cell_type": "code",
   "execution_count": null,
   "metadata": {},
   "outputs": [],
   "source": [
    "0.5521,0.5627,0.5533"
   ]
  }
 ],
 "metadata": {
  "kernelspec": {
   "display_name": "Python 3",
   "language": "python",
   "name": "python3"
  },
  "language_info": {
   "codemirror_mode": {
    "name": "ipython",
    "version": 3
   },
   "file_extension": ".py",
   "mimetype": "text/x-python",
   "name": "python",
   "nbconvert_exporter": "python",
   "pygments_lexer": "ipython3",
   "version": "3.6.4"
  }
 },
 "nbformat": 4,
 "nbformat_minor": 2
}
